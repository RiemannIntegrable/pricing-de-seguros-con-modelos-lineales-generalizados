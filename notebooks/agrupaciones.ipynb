{
 "cells": [
  {
   "cell_type": "markdown",
   "metadata": {},
   "source": [
    "<div align = \"center\">\n",
    "\n",
    "# **Agrupaciones**\n",
    "\n",
    "</div>"
   ]
  },
  {
   "cell_type": "markdown",
   "metadata": {},
   "source": [
    "# Librerias"
   ]
  },
  {
   "cell_type": "code",
   "execution_count": 69,
   "metadata": {
    "vscode": {
     "languageId": "r"
    }
   },
   "outputs": [],
   "source": [
    "source(\"../src/data/agrupaciones.R\")"
   ]
  },
  {
   "cell_type": "markdown",
   "metadata": {},
   "source": [
    "## Data"
   ]
  },
  {
   "cell_type": "code",
   "execution_count": 70,
   "metadata": {
    "vscode": {
     "languageId": "r"
    }
   },
   "outputs": [],
   "source": [
    "data <- read.csv(\"../data/input/Muestra_Siniestros_4.csv\")"
   ]
  },
  {
   "cell_type": "code",
   "execution_count": 71,
   "metadata": {
    "vscode": {
     "languageId": "r"
    }
   },
   "outputs": [
    {
     "data": {
      "text/html": [
       "'HYUNDAI'"
      ],
      "text/latex": [
       "'HYUNDAI'"
      ],
      "text/markdown": [
       "'HYUNDAI'"
      ],
      "text/plain": [
       "[1] \"HYUNDAI\""
      ]
     },
     "metadata": {},
     "output_type": "display_data"
    }
   ],
   "source": [
    "unique(data$MARCA)"
   ]
  },
  {
   "cell_type": "code",
   "execution_count": 72,
   "metadata": {
    "vscode": {
     "languageId": "r"
    }
   },
   "outputs": [
    {
     "data": {
      "text/html": [
       "<table class=\"dataframe\">\n",
       "<caption>A data.frame: 6 × 18</caption>\n",
       "<thead>\n",
       "\t<tr><th></th><th scope=col>Amparo</th><th scope=col>Amp</th><th scope=col>SumaDePagos</th><th scope=col>Modelo</th><th scope=col>Color</th><th scope=col>Carroceria</th><th scope=col>MARCA</th><th scope=col>Referencia1</th><th scope=col>Referencia2</th><th scope=col>CLASE_FASECOLDA</th><th scope=col>TIPO_VEHICULO</th><th scope=col>SERVICIO</th><th scope=col>Sexo_Aseg</th><th scope=col>Edad</th><th scope=col>Desde</th><th scope=col>Hasta</th><th scope=col>Vr_Comercial</th><th scope=col>Pago</th></tr>\n",
       "\t<tr><th></th><th scope=col>&lt;chr&gt;</th><th scope=col>&lt;chr&gt;</th><th scope=col>&lt;dbl&gt;</th><th scope=col>&lt;int&gt;</th><th scope=col>&lt;chr&gt;</th><th scope=col>&lt;chr&gt;</th><th scope=col>&lt;chr&gt;</th><th scope=col>&lt;chr&gt;</th><th scope=col>&lt;chr&gt;</th><th scope=col>&lt;chr&gt;</th><th scope=col>&lt;chr&gt;</th><th scope=col>&lt;chr&gt;</th><th scope=col>&lt;chr&gt;</th><th scope=col>&lt;int&gt;</th><th scope=col>&lt;chr&gt;</th><th scope=col>&lt;chr&gt;</th><th scope=col>&lt;dbl&gt;</th><th scope=col>&lt;chr&gt;</th></tr>\n",
       "</thead>\n",
       "<tbody>\n",
       "\t<tr><th scope=row>1</th><td>NA</td><td>NA</td><td>NA</td><td>2013</td><td>ROJO      </td><td>SEDAN    </td><td>HYUNDAI</td><td>VELOSTER     </td><td>COUPE </td><td>AUTOMOVIL     </td><td>Livianos</td><td>Particular</td><td>F</td><td>34</td><td>2011-09-29</td><td>2012-11-14</td><td>56490000</td><td>No</td></tr>\n",
       "\t<tr><th scope=row>2</th><td>NA</td><td>NA</td><td>NA</td><td>2010</td><td>PLATA     </td><td>HATCHBACK</td><td>HYUNDAI</td><td>ATOS [2]     </td><td>PRIME </td><td>AUTOMOVIL     </td><td>Livianos</td><td>Particular</td><td>M</td><td>67</td><td>2011-10-01</td><td>2012-10-01</td><td>16400000</td><td>No</td></tr>\n",
       "\t<tr><th scope=row>3</th><td>NA</td><td>NA</td><td>NA</td><td>2012</td><td>PLATA     </td><td>SEDAN    </td><td>HYUNDAI</td><td>ACCENT i25   </td><td>1.4L  </td><td>AUTOMOVIL     </td><td>Livianos</td><td>Particular</td><td>F</td><td>32</td><td>2012-02-14</td><td>2013-02-14</td><td>34700000</td><td>No</td></tr>\n",
       "\t<tr><th scope=row>4</th><td>NA</td><td>NA</td><td>NA</td><td>2008</td><td>BLANCO    </td><td>SEDAN    </td><td>HYUNDAI</td><td>ATOS [2]     </td><td>PRIME </td><td>AUTOMOVIL TAXI</td><td>Livianos</td><td>Particular</td><td>M</td><td> 0</td><td>2012-05-30</td><td>2013-05-30</td><td>12300000</td><td>No</td></tr>\n",
       "\t<tr><th scope=row>5</th><td>NA</td><td>NA</td><td>NA</td><td>2008</td><td>VINO TINTO</td><td>SEDAN    </td><td>HYUNDAI</td><td>ACCENT VISION</td><td>GLS   </td><td>AUTOMOVIL     </td><td>Livianos</td><td>Particular</td><td>F</td><td>53</td><td>2011-06-06</td><td>2012-06-06</td><td>23400000</td><td>No</td></tr>\n",
       "\t<tr><th scope=row>6</th><td>NA</td><td>NA</td><td>NA</td><td>2007</td><td>PLATA     </td><td>HATCHBACK</td><td>HYUNDAI</td><td>ATOS [2]     </td><td>SANTRO</td><td>AUTOMOVIL     </td><td>Livianos</td><td>Particular</td><td>F</td><td>35</td><td>2012-06-23</td><td>2013-06-23</td><td>16000000</td><td>No</td></tr>\n",
       "</tbody>\n",
       "</table>\n"
      ],
      "text/latex": [
       "A data.frame: 6 × 18\n",
       "\\begin{tabular}{r|llllllllllllllllll}\n",
       "  & Amparo & Amp & SumaDePagos & Modelo & Color & Carroceria & MARCA & Referencia1 & Referencia2 & CLASE\\_FASECOLDA & TIPO\\_VEHICULO & SERVICIO & Sexo\\_Aseg & Edad & Desde & Hasta & Vr\\_Comercial & Pago\\\\\n",
       "  & <chr> & <chr> & <dbl> & <int> & <chr> & <chr> & <chr> & <chr> & <chr> & <chr> & <chr> & <chr> & <chr> & <int> & <chr> & <chr> & <dbl> & <chr>\\\\\n",
       "\\hline\n",
       "\t1 & NA & NA & NA & 2013 & ROJO       & SEDAN     & HYUNDAI & VELOSTER      & COUPE  & AUTOMOVIL      & Livianos & Particular & F & 34 & 2011-09-29 & 2012-11-14 & 56490000 & No\\\\\n",
       "\t2 & NA & NA & NA & 2010 & PLATA      & HATCHBACK & HYUNDAI & ATOS {[}2{]}      & PRIME  & AUTOMOVIL      & Livianos & Particular & M & 67 & 2011-10-01 & 2012-10-01 & 16400000 & No\\\\\n",
       "\t3 & NA & NA & NA & 2012 & PLATA      & SEDAN     & HYUNDAI & ACCENT i25    & 1.4L   & AUTOMOVIL      & Livianos & Particular & F & 32 & 2012-02-14 & 2013-02-14 & 34700000 & No\\\\\n",
       "\t4 & NA & NA & NA & 2008 & BLANCO     & SEDAN     & HYUNDAI & ATOS {[}2{]}      & PRIME  & AUTOMOVIL TAXI & Livianos & Particular & M &  0 & 2012-05-30 & 2013-05-30 & 12300000 & No\\\\\n",
       "\t5 & NA & NA & NA & 2008 & VINO TINTO & SEDAN     & HYUNDAI & ACCENT VISION & GLS    & AUTOMOVIL      & Livianos & Particular & F & 53 & 2011-06-06 & 2012-06-06 & 23400000 & No\\\\\n",
       "\t6 & NA & NA & NA & 2007 & PLATA      & HATCHBACK & HYUNDAI & ATOS {[}2{]}      & SANTRO & AUTOMOVIL      & Livianos & Particular & F & 35 & 2012-06-23 & 2013-06-23 & 16000000 & No\\\\\n",
       "\\end{tabular}\n"
      ],
      "text/markdown": [
       "\n",
       "A data.frame: 6 × 18\n",
       "\n",
       "| <!--/--> | Amparo &lt;chr&gt; | Amp &lt;chr&gt; | SumaDePagos &lt;dbl&gt; | Modelo &lt;int&gt; | Color &lt;chr&gt; | Carroceria &lt;chr&gt; | MARCA &lt;chr&gt; | Referencia1 &lt;chr&gt; | Referencia2 &lt;chr&gt; | CLASE_FASECOLDA &lt;chr&gt; | TIPO_VEHICULO &lt;chr&gt; | SERVICIO &lt;chr&gt; | Sexo_Aseg &lt;chr&gt; | Edad &lt;int&gt; | Desde &lt;chr&gt; | Hasta &lt;chr&gt; | Vr_Comercial &lt;dbl&gt; | Pago &lt;chr&gt; |\n",
       "|---|---|---|---|---|---|---|---|---|---|---|---|---|---|---|---|---|---|---|\n",
       "| 1 | NA | NA | NA | 2013 | ROJO       | SEDAN     | HYUNDAI | VELOSTER      | COUPE  | AUTOMOVIL      | Livianos | Particular | F | 34 | 2011-09-29 | 2012-11-14 | 56490000 | No |\n",
       "| 2 | NA | NA | NA | 2010 | PLATA      | HATCHBACK | HYUNDAI | ATOS [2]      | PRIME  | AUTOMOVIL      | Livianos | Particular | M | 67 | 2011-10-01 | 2012-10-01 | 16400000 | No |\n",
       "| 3 | NA | NA | NA | 2012 | PLATA      | SEDAN     | HYUNDAI | ACCENT i25    | 1.4L   | AUTOMOVIL      | Livianos | Particular | F | 32 | 2012-02-14 | 2013-02-14 | 34700000 | No |\n",
       "| 4 | NA | NA | NA | 2008 | BLANCO     | SEDAN     | HYUNDAI | ATOS [2]      | PRIME  | AUTOMOVIL TAXI | Livianos | Particular | M |  0 | 2012-05-30 | 2013-05-30 | 12300000 | No |\n",
       "| 5 | NA | NA | NA | 2008 | VINO TINTO | SEDAN     | HYUNDAI | ACCENT VISION | GLS    | AUTOMOVIL      | Livianos | Particular | F | 53 | 2011-06-06 | 2012-06-06 | 23400000 | No |\n",
       "| 6 | NA | NA | NA | 2007 | PLATA      | HATCHBACK | HYUNDAI | ATOS [2]      | SANTRO | AUTOMOVIL      | Livianos | Particular | F | 35 | 2012-06-23 | 2013-06-23 | 16000000 | No |\n",
       "\n"
      ],
      "text/plain": [
       "  Amparo Amp SumaDePagos Modelo Color      Carroceria MARCA   Referencia1  \n",
       "1 NA     NA  NA          2013   ROJO       SEDAN      HYUNDAI VELOSTER     \n",
       "2 NA     NA  NA          2010   PLATA      HATCHBACK  HYUNDAI ATOS [2]     \n",
       "3 NA     NA  NA          2012   PLATA      SEDAN      HYUNDAI ACCENT i25   \n",
       "4 NA     NA  NA          2008   BLANCO     SEDAN      HYUNDAI ATOS [2]     \n",
       "5 NA     NA  NA          2008   VINO TINTO SEDAN      HYUNDAI ACCENT VISION\n",
       "6 NA     NA  NA          2007   PLATA      HATCHBACK  HYUNDAI ATOS [2]     \n",
       "  Referencia2 CLASE_FASECOLDA TIPO_VEHICULO SERVICIO   Sexo_Aseg Edad\n",
       "1 COUPE       AUTOMOVIL       Livianos      Particular F         34  \n",
       "2 PRIME       AUTOMOVIL       Livianos      Particular M         67  \n",
       "3 1.4L        AUTOMOVIL       Livianos      Particular F         32  \n",
       "4 PRIME       AUTOMOVIL TAXI  Livianos      Particular M          0  \n",
       "5 GLS         AUTOMOVIL       Livianos      Particular F         53  \n",
       "6 SANTRO      AUTOMOVIL       Livianos      Particular F         35  \n",
       "  Desde      Hasta      Vr_Comercial Pago\n",
       "1 2011-09-29 2012-11-14 56490000     No  \n",
       "2 2011-10-01 2012-10-01 16400000     No  \n",
       "3 2012-02-14 2013-02-14 34700000     No  \n",
       "4 2012-05-30 2013-05-30 12300000     No  \n",
       "5 2011-06-06 2012-06-06 23400000     No  \n",
       "6 2012-06-23 2013-06-23 16000000     No  "
      ]
     },
     "metadata": {},
     "output_type": "display_data"
    }
   ],
   "source": [
    "head(data)"
   ]
  },
  {
   "cell_type": "code",
   "execution_count": 73,
   "metadata": {
    "vscode": {
     "languageId": "r"
    }
   },
   "outputs": [],
   "source": [
    "data$Amp <- NULL\n",
    "data$Desde <- as.Date(data$Desde)\n",
    "data$Hasta <- as.Date(data$Hasta)"
   ]
  },
  {
   "cell_type": "code",
   "execution_count": 74,
   "metadata": {
    "vscode": {
     "languageId": "r"
    }
   },
   "outputs": [
    {
     "name": "stdout",
     "output_type": "stream",
     "text": [
      "'data.frame':\t5000 obs. of  17 variables:\n",
      " $ Amparo         : chr  NA NA NA NA ...\n",
      " $ SumaDePagos    : num  NA NA NA NA NA NA NA NA NA NA ...\n",
      " $ Modelo         : int  2013 2010 2012 2008 2008 2007 2012 2007 2010 2011 ...\n",
      " $ Color          : chr  \"ROJO\" \"PLATA\" \"PLATA\" \"BLANCO\" ...\n",
      " $ Carroceria     : chr  \"SEDAN\" \"HATCHBACK\" \"SEDAN\" \"SEDAN\" ...\n",
      " $ MARCA          : chr  \"HYUNDAI\" \"HYUNDAI\" \"HYUNDAI\" \"HYUNDAI\" ...\n",
      " $ Referencia1    : chr  \"VELOSTER\" \"ATOS [2]\" \"ACCENT i25\" \"ATOS [2]\" ...\n",
      " $ Referencia2    : chr  \"COUPE\" \"PRIME\" \"1.4L\" \"PRIME\" ...\n",
      " $ CLASE_FASECOLDA: chr  \"AUTOMOVIL\" \"AUTOMOVIL\" \"AUTOMOVIL\" \"AUTOMOVIL TAXI\" ...\n",
      " $ TIPO_VEHICULO  : chr  \"Livianos\" \"Livianos\" \"Livianos\" \"Livianos\" ...\n",
      " $ SERVICIO       : chr  \"Particular\" \"Particular\" \"Particular\" \"Particular\" ...\n",
      " $ Sexo_Aseg      : chr  \"F\" \"M\" \"F\" \"M\" ...\n",
      " $ Edad           : int  34 67 32 0 53 35 65 0 44 0 ...\n",
      " $ Desde          : Date, format: \"2011-09-29\" \"2011-10-01\" ...\n",
      " $ Hasta          : Date, format: \"2012-11-14\" \"2012-10-01\" ...\n",
      " $ Vr_Comercial   : num  56490000 16400000 34700000 12300000 23400000 ...\n",
      " $ Pago           : chr  \"No\" \"No\" \"No\" \"No\" ...\n"
     ]
    }
   ],
   "source": [
    "str(data)"
   ]
  },
  {
   "cell_type": "code",
   "execution_count": 75,
   "metadata": {
    "vscode": {
     "languageId": "r"
    }
   },
   "outputs": [
    {
     "name": "stdout",
     "output_type": "stream",
     "text": [
      "'data.frame':\t5000 obs. of  17 variables:\n",
      " $ Amparo         : chr  NA NA NA NA ...\n",
      " $ SumaDePagos    : num  NA NA NA NA NA NA NA NA NA NA ...\n",
      " $ Modelo         : Factor w/ 3 levels \"1993_1999\",\"2000_2006\",..: 3 3 3 3 3 3 3 3 3 3 ...\n",
      " $ Color          : Factor w/ 4 levels \"AMARILLO\",\"BLANCO\",..: 3 4 4 2 3 4 3 2 2 2 ...\n",
      " $ Carroceria     : Factor w/ 4 levels \"CABINADO\",\"HATCHBACK\",..: 4 2 4 4 4 2 2 3 2 4 ...\n",
      " $ MARCA          : chr  \"HYUNDAI\" \"HYUNDAI\" \"HYUNDAI\" \"HYUNDAI\" ...\n",
      " $ Referencia1    : Factor w/ 4 levels \"ACCENT VISION\",..: 4 2 4 2 1 2 3 4 3 3 ...\n",
      " $ Referencia2    : Factor w/ 4 levels \"GL\",\"GLS\",\"Otros\",..: 3 4 3 4 2 3 1 3 1 1 ...\n",
      " $ CLASE_FASECOLDA: Factor w/ 4 levels \"AUTOMOVIL\",\"AUTOMOVIL TAXI\",..: 1 1 1 2 1 1 1 4 1 1 ...\n",
      " $ TIPO_VEHICULO  : chr  \"Livianos\" \"Livianos\" \"Livianos\" \"Livianos\" ...\n",
      " $ SERVICIO       : chr  \"Particular\" \"Particular\" \"Particular\" \"Particular\" ...\n",
      " $ Sexo_Aseg      : chr  \"F\" \"M\" \"F\" \"M\" ...\n",
      " $ Edad           : Factor w/ 4 levels \"19_41\",\"41_63\",..: 1 3 1 4 2 1 3 4 2 4 ...\n",
      " $ Desde          : Date, format: \"2011-09-29\" \"2011-10-01\" ...\n",
      " $ Hasta          : Date, format: \"2012-11-14\" \"2012-10-01\" ...\n",
      " $ Vr_Comercial   : num  56490000 16400000 34700000 12300000 23400000 ...\n",
      " $ Pago           : chr  \"No\" \"No\" \"No\" \"No\" ...\n"
     ]
    }
   ],
   "source": [
    "  # Aplicar las agrupaciones a tu dataset\n",
    "  data_agrupado <- agrupaciones(data)\n",
    "  str(data_agrupado)"
   ]
  },
  {
   "cell_type": "code",
   "execution_count": 76,
   "metadata": {
    "vscode": {
     "languageId": "r"
    }
   },
   "outputs": [
    {
     "data": {
      "text/html": [
       "<table class=\"dataframe\">\n",
       "<caption>A data.frame: 6 × 17</caption>\n",
       "<thead>\n",
       "\t<tr><th></th><th scope=col>Amparo</th><th scope=col>SumaDePagos</th><th scope=col>Modelo</th><th scope=col>Color</th><th scope=col>Carroceria</th><th scope=col>MARCA</th><th scope=col>Referencia1</th><th scope=col>Referencia2</th><th scope=col>CLASE_FASECOLDA</th><th scope=col>TIPO_VEHICULO</th><th scope=col>SERVICIO</th><th scope=col>Sexo_Aseg</th><th scope=col>Edad</th><th scope=col>Desde</th><th scope=col>Hasta</th><th scope=col>Vr_Comercial</th><th scope=col>Pago</th></tr>\n",
       "\t<tr><th></th><th scope=col>&lt;chr&gt;</th><th scope=col>&lt;dbl&gt;</th><th scope=col>&lt;fct&gt;</th><th scope=col>&lt;fct&gt;</th><th scope=col>&lt;fct&gt;</th><th scope=col>&lt;chr&gt;</th><th scope=col>&lt;fct&gt;</th><th scope=col>&lt;fct&gt;</th><th scope=col>&lt;fct&gt;</th><th scope=col>&lt;chr&gt;</th><th scope=col>&lt;chr&gt;</th><th scope=col>&lt;chr&gt;</th><th scope=col>&lt;fct&gt;</th><th scope=col>&lt;date&gt;</th><th scope=col>&lt;date&gt;</th><th scope=col>&lt;dbl&gt;</th><th scope=col>&lt;chr&gt;</th></tr>\n",
       "</thead>\n",
       "<tbody>\n",
       "\t<tr><th scope=row>1</th><td>NA</td><td>NA</td><td>2007_2013</td><td>Otros </td><td>SEDAN    </td><td>HYUNDAI</td><td>Otros        </td><td>Otros</td><td>AUTOMOVIL     </td><td>Livianos</td><td>Particular</td><td>F</td><td>19_41</td><td>2011-09-29</td><td>2012-11-14</td><td>56490000</td><td>No</td></tr>\n",
       "\t<tr><th scope=row>2</th><td>NA</td><td>NA</td><td>2007_2013</td><td>PLATA </td><td>HATCHBACK</td><td>HYUNDAI</td><td>ATOS [2]     </td><td>PRIME</td><td>AUTOMOVIL     </td><td>Livianos</td><td>Particular</td><td>M</td><td>63_85</td><td>2011-10-01</td><td>2012-10-01</td><td>16400000</td><td>No</td></tr>\n",
       "\t<tr><th scope=row>3</th><td>NA</td><td>NA</td><td>2007_2013</td><td>PLATA </td><td>SEDAN    </td><td>HYUNDAI</td><td>Otros        </td><td>Otros</td><td>AUTOMOVIL     </td><td>Livianos</td><td>Particular</td><td>F</td><td>19_41</td><td>2012-02-14</td><td>2013-02-14</td><td>34700000</td><td>No</td></tr>\n",
       "\t<tr><th scope=row>4</th><td>NA</td><td>NA</td><td>2007_2013</td><td>BLANCO</td><td>SEDAN    </td><td>HYUNDAI</td><td>ATOS [2]     </td><td>PRIME</td><td>AUTOMOVIL TAXI</td><td>Livianos</td><td>Particular</td><td>M</td><td>Otros</td><td>2012-05-30</td><td>2013-05-30</td><td>12300000</td><td>No</td></tr>\n",
       "\t<tr><th scope=row>5</th><td>NA</td><td>NA</td><td>2007_2013</td><td>Otros </td><td>SEDAN    </td><td>HYUNDAI</td><td>ACCENT VISION</td><td>GLS  </td><td>AUTOMOVIL     </td><td>Livianos</td><td>Particular</td><td>F</td><td>41_63</td><td>2011-06-06</td><td>2012-06-06</td><td>23400000</td><td>No</td></tr>\n",
       "\t<tr><th scope=row>6</th><td>NA</td><td>NA</td><td>2007_2013</td><td>PLATA </td><td>HATCHBACK</td><td>HYUNDAI</td><td>ATOS [2]     </td><td>Otros</td><td>AUTOMOVIL     </td><td>Livianos</td><td>Particular</td><td>F</td><td>19_41</td><td>2012-06-23</td><td>2013-06-23</td><td>16000000</td><td>No</td></tr>\n",
       "</tbody>\n",
       "</table>\n"
      ],
      "text/latex": [
       "A data.frame: 6 × 17\n",
       "\\begin{tabular}{r|lllllllllllllllll}\n",
       "  & Amparo & SumaDePagos & Modelo & Color & Carroceria & MARCA & Referencia1 & Referencia2 & CLASE\\_FASECOLDA & TIPO\\_VEHICULO & SERVICIO & Sexo\\_Aseg & Edad & Desde & Hasta & Vr\\_Comercial & Pago\\\\\n",
       "  & <chr> & <dbl> & <fct> & <fct> & <fct> & <chr> & <fct> & <fct> & <fct> & <chr> & <chr> & <chr> & <fct> & <date> & <date> & <dbl> & <chr>\\\\\n",
       "\\hline\n",
       "\t1 & NA & NA & 2007\\_2013 & Otros  & SEDAN     & HYUNDAI & Otros         & Otros & AUTOMOVIL      & Livianos & Particular & F & 19\\_41 & 2011-09-29 & 2012-11-14 & 56490000 & No\\\\\n",
       "\t2 & NA & NA & 2007\\_2013 & PLATA  & HATCHBACK & HYUNDAI & ATOS {[}2{]}      & PRIME & AUTOMOVIL      & Livianos & Particular & M & 63\\_85 & 2011-10-01 & 2012-10-01 & 16400000 & No\\\\\n",
       "\t3 & NA & NA & 2007\\_2013 & PLATA  & SEDAN     & HYUNDAI & Otros         & Otros & AUTOMOVIL      & Livianos & Particular & F & 19\\_41 & 2012-02-14 & 2013-02-14 & 34700000 & No\\\\\n",
       "\t4 & NA & NA & 2007\\_2013 & BLANCO & SEDAN     & HYUNDAI & ATOS {[}2{]}      & PRIME & AUTOMOVIL TAXI & Livianos & Particular & M & Otros & 2012-05-30 & 2013-05-30 & 12300000 & No\\\\\n",
       "\t5 & NA & NA & 2007\\_2013 & Otros  & SEDAN     & HYUNDAI & ACCENT VISION & GLS   & AUTOMOVIL      & Livianos & Particular & F & 41\\_63 & 2011-06-06 & 2012-06-06 & 23400000 & No\\\\\n",
       "\t6 & NA & NA & 2007\\_2013 & PLATA  & HATCHBACK & HYUNDAI & ATOS {[}2{]}      & Otros & AUTOMOVIL      & Livianos & Particular & F & 19\\_41 & 2012-06-23 & 2013-06-23 & 16000000 & No\\\\\n",
       "\\end{tabular}\n"
      ],
      "text/markdown": [
       "\n",
       "A data.frame: 6 × 17\n",
       "\n",
       "| <!--/--> | Amparo &lt;chr&gt; | SumaDePagos &lt;dbl&gt; | Modelo &lt;fct&gt; | Color &lt;fct&gt; | Carroceria &lt;fct&gt; | MARCA &lt;chr&gt; | Referencia1 &lt;fct&gt; | Referencia2 &lt;fct&gt; | CLASE_FASECOLDA &lt;fct&gt; | TIPO_VEHICULO &lt;chr&gt; | SERVICIO &lt;chr&gt; | Sexo_Aseg &lt;chr&gt; | Edad &lt;fct&gt; | Desde &lt;date&gt; | Hasta &lt;date&gt; | Vr_Comercial &lt;dbl&gt; | Pago &lt;chr&gt; |\n",
       "|---|---|---|---|---|---|---|---|---|---|---|---|---|---|---|---|---|---|\n",
       "| 1 | NA | NA | 2007_2013 | Otros  | SEDAN     | HYUNDAI | Otros         | Otros | AUTOMOVIL      | Livianos | Particular | F | 19_41 | 2011-09-29 | 2012-11-14 | 56490000 | No |\n",
       "| 2 | NA | NA | 2007_2013 | PLATA  | HATCHBACK | HYUNDAI | ATOS [2]      | PRIME | AUTOMOVIL      | Livianos | Particular | M | 63_85 | 2011-10-01 | 2012-10-01 | 16400000 | No |\n",
       "| 3 | NA | NA | 2007_2013 | PLATA  | SEDAN     | HYUNDAI | Otros         | Otros | AUTOMOVIL      | Livianos | Particular | F | 19_41 | 2012-02-14 | 2013-02-14 | 34700000 | No |\n",
       "| 4 | NA | NA | 2007_2013 | BLANCO | SEDAN     | HYUNDAI | ATOS [2]      | PRIME | AUTOMOVIL TAXI | Livianos | Particular | M | Otros | 2012-05-30 | 2013-05-30 | 12300000 | No |\n",
       "| 5 | NA | NA | 2007_2013 | Otros  | SEDAN     | HYUNDAI | ACCENT VISION | GLS   | AUTOMOVIL      | Livianos | Particular | F | 41_63 | 2011-06-06 | 2012-06-06 | 23400000 | No |\n",
       "| 6 | NA | NA | 2007_2013 | PLATA  | HATCHBACK | HYUNDAI | ATOS [2]      | Otros | AUTOMOVIL      | Livianos | Particular | F | 19_41 | 2012-06-23 | 2013-06-23 | 16000000 | No |\n",
       "\n"
      ],
      "text/plain": [
       "  Amparo SumaDePagos Modelo    Color  Carroceria MARCA   Referencia1  \n",
       "1 NA     NA          2007_2013 Otros  SEDAN      HYUNDAI Otros        \n",
       "2 NA     NA          2007_2013 PLATA  HATCHBACK  HYUNDAI ATOS [2]     \n",
       "3 NA     NA          2007_2013 PLATA  SEDAN      HYUNDAI Otros        \n",
       "4 NA     NA          2007_2013 BLANCO SEDAN      HYUNDAI ATOS [2]     \n",
       "5 NA     NA          2007_2013 Otros  SEDAN      HYUNDAI ACCENT VISION\n",
       "6 NA     NA          2007_2013 PLATA  HATCHBACK  HYUNDAI ATOS [2]     \n",
       "  Referencia2 CLASE_FASECOLDA TIPO_VEHICULO SERVICIO   Sexo_Aseg Edad \n",
       "1 Otros       AUTOMOVIL       Livianos      Particular F         19_41\n",
       "2 PRIME       AUTOMOVIL       Livianos      Particular M         63_85\n",
       "3 Otros       AUTOMOVIL       Livianos      Particular F         19_41\n",
       "4 PRIME       AUTOMOVIL TAXI  Livianos      Particular M         Otros\n",
       "5 GLS         AUTOMOVIL       Livianos      Particular F         41_63\n",
       "6 Otros       AUTOMOVIL       Livianos      Particular F         19_41\n",
       "  Desde      Hasta      Vr_Comercial Pago\n",
       "1 2011-09-29 2012-11-14 56490000     No  \n",
       "2 2011-10-01 2012-10-01 16400000     No  \n",
       "3 2012-02-14 2013-02-14 34700000     No  \n",
       "4 2012-05-30 2013-05-30 12300000     No  \n",
       "5 2011-06-06 2012-06-06 23400000     No  \n",
       "6 2012-06-23 2013-06-23 16000000     No  "
      ]
     },
     "metadata": {},
     "output_type": "display_data"
    }
   ],
   "source": [
    "head(data_agrupado)"
   ]
  },
  {
   "cell_type": "code",
   "execution_count": 79,
   "metadata": {
    "vscode": {
     "languageId": "r"
    }
   },
   "outputs": [],
   "source": [
    "write.csv(data_agrupado, \"../data/processed/datos_agrupados.csv\")"
   ]
  }
 ],
 "metadata": {
  "kernelspec": {
   "display_name": "R",
   "language": "R",
   "name": "ir"
  },
  "language_info": {
   "codemirror_mode": "r",
   "file_extension": ".r",
   "mimetype": "text/x-r-source",
   "name": "R",
   "pygments_lexer": "r",
   "version": "4.2.3"
  }
 },
 "nbformat": 4,
 "nbformat_minor": 4
}
