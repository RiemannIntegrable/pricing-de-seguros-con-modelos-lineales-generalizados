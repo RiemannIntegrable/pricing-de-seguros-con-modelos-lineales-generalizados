{
 "cells": [
  {
   "cell_type": "markdown",
   "metadata": {},
   "source": [
    "<div align=\"center\">\n",
    "\n",
    "# **Predicciones de Modelos GLM**\n",
    "\n",
    "</div>\n",
    "\n",
    "Este notebook calcula las predicciones para todas las combinaciones posibles de variables explicativas en los modelos de frecuencia y severidad."
   ]
  },
  {
   "cell_type": "markdown",
   "metadata": {},
   "source": [
    "## Librerías y Carga de Modelos"
   ]
  },
  {
   "cell_type": "code",
   "execution_count": 1,
   "metadata": {
    "execution": {
     "iopub.execute_input": "2025-07-25T23:38:52.347892Z",
     "iopub.status.busy": "2025-07-25T23:38:52.345869Z",
     "iopub.status.idle": "2025-07-25T23:38:52.646123Z",
     "shell.execute_reply": "2025-07-25T23:38:52.645254Z"
    },
    "vscode": {
     "languageId": "r"
    }
   },
   "outputs": [
    {
     "name": "stderr",
     "output_type": "stream",
     "text": [
      "\n",
      "Attaching package: ‘dplyr’\n",
      "\n",
      "\n",
      "The following objects are masked from ‘package:stats’:\n",
      "\n",
      "    filter, lag\n",
      "\n",
      "\n",
      "The following objects are masked from ‘package:base’:\n",
      "\n",
      "    intersect, setdiff, setequal, union\n",
      "\n",
      "\n",
      "\n",
      "Attaching package: ‘kableExtra’\n",
      "\n",
      "\n",
      "The following object is masked from ‘package:dplyr’:\n",
      "\n",
      "    group_rows\n",
      "\n",
      "\n"
     ]
    }
   ],
   "source": [
    "library(dplyr)\n",
    "library(tidyr)\n",
    "library(knitr)\n",
    "library(kableExtra)\n",
    "\n",
    "# Cargar modelos entrenados\n",
    "modelo_frecuencia <- readRDS(\"../models/modelo_frecuencia_quasipoisson.rds\")\n",
    "modelo_severidad <- readRDS(\"../models/modelo_severidad_lognormal.rds\")\n",
    "\n",
    "# Cargar datos procesados\n",
    "datos <- read.csv(\"../data/processed/tabla_severidad.csv\")\n",
    "datos$X <- NULL"
   ]
  },
  {
   "cell_type": "markdown",
   "metadata": {},
   "source": [
    "## Establecer Categorías de Referencia"
   ]
  },
  {
   "cell_type": "code",
   "execution_count": 2,
   "metadata": {
    "execution": {
     "iopub.execute_input": "2025-07-25T23:38:52.664238Z",
     "iopub.status.busy": "2025-07-25T23:38:52.648365Z",
     "iopub.status.idle": "2025-07-25T23:38:52.695647Z",
     "shell.execute_reply": "2025-07-25T23:38:52.694803Z"
    },
    "vscode": {
     "languageId": "r"
    }
   },
   "outputs": [
    {
     "name": "stdout",
     "output_type": "stream",
     "text": [
      "Niveles de variables:\n",
      "Modelo: 2007_2013 1993_1999 2000_2006 \n",
      "Edad: 41_63 19_41 63_85 Otros \n",
      "Color: Otros AMARILLO BLANCO PLATA \n",
      "Carroceria: SEDAN CABINADO HATCHBACK Otros \n",
      "SERVICIO: Particular Oficial Publico Transporte Personal \n"
     ]
    }
   ],
   "source": [
    "establecer_categorias_referencia <- function(df, vars_categoricas, var_exposicion = \"exposicion_total\") {\n",
    "  df_copy <- df\n",
    "  \n",
    "  for (var in vars_categoricas) {\n",
    "    if (var %in% colnames(df_copy)) {\n",
    "      exposicion_por_categoria <- aggregate(df_copy[[var_exposicion]], \n",
    "                                          by = list(df_copy[[var]]), \n",
    "                                          FUN = sum, na.rm = TRUE)\n",
    "      names(exposicion_por_categoria) <- c(\"categoria\", \"exposicion_total\")\n",
    "      \n",
    "      categoria_referencia <- exposicion_por_categoria$categoria[which.max(exposicion_por_categoria$exposicion_total)]\n",
    "      \n",
    "      df_copy[[var]] <- factor(df_copy[[var]])\n",
    "      df_copy[[var]] <- relevel(df_copy[[var]], ref = as.character(categoria_referencia))\n",
    "    }\n",
    "  }\n",
    "  \n",
    "  return(df_copy)\n",
    "}\n",
    "\n",
    "vars_categoricas <- c(\"Modelo\", \"Color\", \"Carroceria\", \"SERVICIO\", \"Sexo_Aseg\", \"Edad\", \"Gama\")\n",
    "datos <- establecer_categorias_referencia(datos, vars_categoricas)\n",
    "\n",
    "# Verificar niveles de factores\n",
    "cat(\"Niveles de variables:\\n\")\n",
    "cat(\"Modelo:\", levels(datos$Modelo), \"\\n\")\n",
    "cat(\"Edad:\", levels(datos$Edad), \"\\n\")\n",
    "cat(\"Color:\", levels(datos$Color), \"\\n\")\n",
    "cat(\"Carroceria:\", levels(datos$Carroceria), \"\\n\")\n",
    "cat(\"SERVICIO:\", levels(datos$SERVICIO), \"\\n\")"
   ]
  },
  {
   "cell_type": "markdown",
   "metadata": {},
   "source": [
    "## Predicciones del Modelo de Frecuencia\n",
    "\n",
    "Variables del modelo: **Modelo + Edad**"
   ]
  },
  {
   "cell_type": "code",
   "execution_count": 3,
   "metadata": {
    "execution": {
     "iopub.execute_input": "2025-07-25T23:38:52.698582Z",
     "iopub.status.busy": "2025-07-25T23:38:52.697944Z",
     "iopub.status.idle": "2025-07-25T23:38:52.709669Z",
     "shell.execute_reply": "2025-07-25T23:38:52.708793Z"
    },
    "vscode": {
     "languageId": "r"
    }
   },
   "outputs": [
    {
     "name": "stdout",
     "output_type": "stream",
     "text": [
      "Combinaciones para modelo de frecuencia: 12 \n",
      "      Modelo  Edad exposicion_total\n",
      "1  2007_2013 41_63                1\n",
      "2  1993_1999 41_63                1\n",
      "3  2000_2006 41_63                1\n",
      "4  2007_2013 19_41                1\n",
      "5  1993_1999 19_41                1\n",
      "6  2000_2006 19_41                1\n",
      "7  2007_2013 63_85                1\n",
      "8  1993_1999 63_85                1\n",
      "9  2000_2006 63_85                1\n",
      "10 2007_2013 Otros                1\n",
      "11 1993_1999 Otros                1\n",
      "12 2000_2006 Otros                1\n"
     ]
    }
   ],
   "source": [
    "# Crear todas las combinaciones posibles para frecuencia\n",
    "combinaciones_freq <- expand.grid(\n",
    "  Modelo = levels(datos$Modelo),\n",
    "  Edad = levels(datos$Edad),\n",
    "  stringsAsFactors = FALSE\n",
    ")\n",
    "\n",
    "# Añadir exposición estándar de 1 año\n",
    "combinaciones_freq$exposicion_total <- 1\n",
    "\n",
    "cat(\"Combinaciones para modelo de frecuencia:\", nrow(combinaciones_freq), \"\\n\")\n",
    "print(combinaciones_freq)"
   ]
  },
  {
   "cell_type": "code",
   "execution_count": 4,
   "metadata": {
    "execution": {
     "iopub.execute_input": "2025-07-25T23:38:52.712718Z",
     "iopub.status.busy": "2025-07-25T23:38:52.712021Z",
     "iopub.status.idle": "2025-07-25T23:38:52.734579Z",
     "shell.execute_reply": "2025-07-25T23:38:52.733702Z"
    },
    "vscode": {
     "languageId": "r"
    }
   },
   "outputs": [
    {
     "name": "stdout",
     "output_type": "stream",
     "text": [
      "\n",
      "═══════════════════════════════════════════════════════════════════\n",
      "                    PREDICCIONES DE FRECUENCIA                     \n",
      "═══════════════════════════════════════════════════════════════════\n",
      "    Modelo  Edad Exposicion Frecuencia_Esperada Tasa_Frecuencia\n",
      " 2007_2013 41_63          1            0.207627        0.207627\n",
      " 1993_1999 41_63          1            0.224196        0.224196\n",
      " 2000_2006 41_63          1            0.269351        0.269351\n",
      " 2007_2013 19_41          1            0.242110        0.242110\n",
      " 1993_1999 19_41          1            0.261431        0.261431\n",
      " 2000_2006 19_41          1            0.314085        0.314085\n",
      " 2007_2013 63_85          1            0.237058        0.237058\n",
      " 1993_1999 63_85          1            0.255976        0.255976\n",
      " 2000_2006 63_85          1            0.307532        0.307532\n",
      " 2007_2013 Otros          1            0.247011        0.247011\n",
      " 1993_1999 Otros          1            0.266723        0.266723\n",
      " 2000_2006 Otros          1            0.320443        0.320443\n"
     ]
    }
   ],
   "source": [
    "# Convertir a factores con los mismos niveles que los datos originales\n",
    "combinaciones_freq$Modelo <- factor(combinaciones_freq$Modelo, levels = levels(datos$Modelo))\n",
    "combinaciones_freq$Edad <- factor(combinaciones_freq$Edad, levels = levels(datos$Edad))\n",
    "\n",
    "# Calcular predicciones de frecuencia\n",
    "predicciones_freq <- predict(modelo_frecuencia, newdata = combinaciones_freq, type = \"response\")\n",
    "\n",
    "# Crear tabla de resultados\n",
    "resultados_frecuencia <- data.frame(\n",
    "  Modelo = combinaciones_freq$Modelo,\n",
    "  Edad = combinaciones_freq$Edad,\n",
    "  Exposicion = combinaciones_freq$exposicion_total,\n",
    "  Frecuencia_Esperada = round(predicciones_freq, 6),\n",
    "  Tasa_Frecuencia = round(predicciones_freq / combinaciones_freq$exposicion_total, 6)\n",
    ")\n",
    "\n",
    "cat(\"\\n═══════════════════════════════════════════════════════════════════\\n\")\n",
    "cat(\"                    PREDICCIONES DE FRECUENCIA                     \\n\")\n",
    "cat(\"═══════════════════════════════════════════════════════════════════\\n\")\n",
    "print(resultados_frecuencia, row.names = FALSE)"
   ]
  },
  {
   "cell_type": "markdown",
   "metadata": {},
   "source": [
    "## Predicciones del Modelo de Severidad\n",
    "\n",
    "Variables del modelo: **Modelo + Color + Carroceria + SERVICIO + Edad**"
   ]
  },
  {
   "cell_type": "code",
   "execution_count": 5,
   "metadata": {
    "execution": {
     "iopub.execute_input": "2025-07-25T23:38:52.737405Z",
     "iopub.status.busy": "2025-07-25T23:38:52.736720Z",
     "iopub.status.idle": "2025-07-25T23:38:52.748625Z",
     "shell.execute_reply": "2025-07-25T23:38:52.747787Z"
    },
    "vscode": {
     "languageId": "r"
    }
   },
   "outputs": [
    {
     "name": "stdout",
     "output_type": "stream",
     "text": [
      "Combinaciones para modelo de severidad: 768 \n",
      "Primeras 10 combinaciones:\n",
      "      Modelo    Color Carroceria   SERVICIO  Edad\n",
      "1  2007_2013    Otros      SEDAN Particular 41_63\n",
      "2  1993_1999    Otros      SEDAN Particular 41_63\n",
      "3  2000_2006    Otros      SEDAN Particular 41_63\n",
      "4  2007_2013 AMARILLO      SEDAN Particular 41_63\n",
      "5  1993_1999 AMARILLO      SEDAN Particular 41_63\n",
      "6  2000_2006 AMARILLO      SEDAN Particular 41_63\n",
      "7  2007_2013   BLANCO      SEDAN Particular 41_63\n",
      "8  1993_1999   BLANCO      SEDAN Particular 41_63\n",
      "9  2000_2006   BLANCO      SEDAN Particular 41_63\n",
      "10 2007_2013    PLATA      SEDAN Particular 41_63\n"
     ]
    }
   ],
   "source": [
    "# Crear todas las combinaciones posibles para severidad\n",
    "combinaciones_sev <- expand.grid(\n",
    "  Modelo = levels(datos$Modelo),\n",
    "  Color = levels(datos$Color),\n",
    "  Carroceria = levels(datos$Carroceria),\n",
    "  SERVICIO = levels(datos$SERVICIO),\n",
    "  Edad = levels(datos$Edad),\n",
    "  stringsAsFactors = FALSE\n",
    ")\n",
    "\n",
    "cat(\"Combinaciones para modelo de severidad:\", nrow(combinaciones_sev), \"\\n\")\n",
    "cat(\"Primeras 10 combinaciones:\\n\")\n",
    "print(head(combinaciones_sev, 10))"
   ]
  },
  {
   "cell_type": "code",
   "execution_count": 6,
   "metadata": {
    "execution": {
     "iopub.execute_input": "2025-07-25T23:38:52.751661Z",
     "iopub.status.busy": "2025-07-25T23:38:52.750967Z",
     "iopub.status.idle": "2025-07-25T23:38:52.778205Z",
     "shell.execute_reply": "2025-07-25T23:38:52.776994Z"
    },
    "vscode": {
     "languageId": "r"
    }
   },
   "outputs": [
    {
     "name": "stdout",
     "output_type": "stream",
     "text": [
      "\n",
      "═══════════════════════════════════════════════════════════════════\n",
      "                    PREDICCIONES DE SEVERIDAD                      \n",
      "═══════════════════════════════════════════════════════════════════\n",
      "Total de predicciones: 768 \n",
      "\n",
      "Primeras 20 predicciones:\n",
      "    Modelo    Color Carroceria   SERVICIO  Edad Log_Severidad\n",
      " 2007_2013    Otros      SEDAN Particular 41_63      16.86328\n",
      " 1993_1999    Otros      SEDAN Particular 41_63      16.01421\n",
      " 2000_2006    Otros      SEDAN Particular 41_63      16.18586\n",
      " 2007_2013 AMARILLO      SEDAN Particular 41_63      14.59473\n",
      " 1993_1999 AMARILLO      SEDAN Particular 41_63      13.74566\n",
      " 2000_2006 AMARILLO      SEDAN Particular 41_63      13.91731\n",
      " 2007_2013   BLANCO      SEDAN Particular 41_63      16.15380\n",
      " 1993_1999   BLANCO      SEDAN Particular 41_63      15.30473\n",
      " 2000_2006   BLANCO      SEDAN Particular 41_63      15.47638\n",
      " 2007_2013    PLATA      SEDAN Particular 41_63      16.28028\n",
      " 1993_1999    PLATA      SEDAN Particular 41_63      15.43121\n",
      " 2000_2006    PLATA      SEDAN Particular 41_63      15.60286\n",
      " 2007_2013    Otros   CABINADO Particular 41_63      16.05916\n",
      " 1993_1999    Otros   CABINADO Particular 41_63      15.21009\n",
      " 2000_2006    Otros   CABINADO Particular 41_63      15.38174\n",
      " 2007_2013 AMARILLO   CABINADO Particular 41_63      13.79060\n",
      " 1993_1999 AMARILLO   CABINADO Particular 41_63      12.94154\n",
      " 2000_2006 AMARILLO   CABINADO Particular 41_63      13.11318\n",
      " 2007_2013   BLANCO   CABINADO Particular 41_63      15.34968\n",
      " 1993_1999   BLANCO   CABINADO Particular 41_63      14.50061\n",
      " Severidad_Esperada\n",
      "           21068271\n",
      "            9013307\n",
      "           10701129\n",
      "            2179764\n",
      "             932534\n",
      "            1107159\n",
      "           10363497\n",
      "            4433652\n",
      "            5263893\n",
      "           11760739\n",
      "            5031412\n",
      "            5973589\n",
      "            9427630\n",
      "            4033275\n",
      "            4788541\n",
      "             975401\n",
      "             417290\n",
      "             495432\n",
      "            4637458\n",
      "            1983971\n"
     ]
    }
   ],
   "source": [
    "# Convertir a factores con los mismos niveles que los datos originales\n",
    "combinaciones_sev$Modelo <- factor(combinaciones_sev$Modelo, levels = levels(datos$Modelo))\n",
    "combinaciones_sev$Color <- factor(combinaciones_sev$Color, levels = levels(datos$Color))\n",
    "combinaciones_sev$Carroceria <- factor(combinaciones_sev$Carroceria, levels = levels(datos$Carroceria))\n",
    "combinaciones_sev$SERVICIO <- factor(combinaciones_sev$SERVICIO, levels = levels(datos$SERVICIO))\n",
    "combinaciones_sev$Edad <- factor(combinaciones_sev$Edad, levels = levels(datos$Edad))\n",
    "\n",
    "# Calcular predicciones de severidad (en escala logarítmica)\n",
    "predicciones_sev_log <- predict(modelo_severidad, newdata = combinaciones_sev, type = \"response\")\n",
    "\n",
    "# Convertir de logaritmo a escala original\n",
    "predicciones_sev <- exp(predicciones_sev_log)\n",
    "\n",
    "# Crear tabla de resultados\n",
    "resultados_severidad <- data.frame(\n",
    "  Modelo = combinaciones_sev$Modelo,\n",
    "  Color = combinaciones_sev$Color,\n",
    "  Carroceria = combinaciones_sev$Carroceria,\n",
    "  SERVICIO = combinaciones_sev$SERVICIO,\n",
    "  Edad = combinaciones_sev$Edad,\n",
    "  Log_Severidad = round(predicciones_sev_log, 6),\n",
    "  Severidad_Esperada = round(predicciones_sev, 0)\n",
    ")\n",
    "\n",
    "cat(\"\\n═══════════════════════════════════════════════════════════════════\\n\")\n",
    "cat(\"                    PREDICCIONES DE SEVERIDAD                      \\n\")\n",
    "cat(\"═══════════════════════════════════════════════════════════════════\\n\")\n",
    "cat(\"Total de predicciones:\", nrow(resultados_severidad), \"\\n\\n\")\n",
    "cat(\"Primeras 20 predicciones:\\n\")\n",
    "print(head(resultados_severidad, 20), row.names = FALSE)"
   ]
  },
  {
   "cell_type": "markdown",
   "metadata": {},
   "source": [
    "## Tabla Pivot de Frecuencia por Modelo y Edad"
   ]
  },
  {
   "cell_type": "code",
   "execution_count": 7,
   "metadata": {
    "execution": {
     "iopub.execute_input": "2025-07-25T23:38:52.781228Z",
     "iopub.status.busy": "2025-07-25T23:38:52.780290Z",
     "iopub.status.idle": "2025-07-25T23:38:52.859542Z",
     "shell.execute_reply": "2025-07-25T23:38:52.858614Z"
    },
    "vscode": {
     "languageId": "r"
    }
   },
   "outputs": [
    {
     "name": "stdout",
     "output_type": "stream",
     "text": [
      "\n",
      "═══════════════════════════════════════════════════════════════════\n",
      "                  TABLA PIVOT - FRECUENCIAS                        \n",
      "═══════════════════════════════════════════════════════════════════\n",
      "\u001b[90m# A tibble: 3 × 5\u001b[39m\n",
      "  Modelo    `41_63` `19_41` `63_85` Otros\n",
      "  \u001b[3m\u001b[90m<fct>\u001b[39m\u001b[23m       \u001b[3m\u001b[90m<dbl>\u001b[39m\u001b[23m   \u001b[3m\u001b[90m<dbl>\u001b[39m\u001b[23m   \u001b[3m\u001b[90m<dbl>\u001b[39m\u001b[23m \u001b[3m\u001b[90m<dbl>\u001b[39m\u001b[23m\n",
      "\u001b[90m1\u001b[39m 2007_2013   0.208   0.242   0.237 0.247\n",
      "\u001b[90m2\u001b[39m 1993_1999   0.224   0.261   0.256 0.267\n",
      "\u001b[90m3\u001b[39m 2000_2006   0.269   0.314   0.308 0.320\n"
     ]
    }
   ],
   "source": [
    "# Crear tabla pivot para frecuencia\n",
    "tabla_pivot_frecuencia <- resultados_frecuencia %>%\n",
    "  select(Modelo, Edad, Tasa_Frecuencia) %>%\n",
    "  pivot_wider(names_from = Edad, values_from = Tasa_Frecuencia) %>%\n",
    "  mutate_if(is.numeric, ~ round(.x, 6))\n",
    "\n",
    "cat(\"\\n═══════════════════════════════════════════════════════════════════\\n\")\n",
    "cat(\"                  TABLA PIVOT - FRECUENCIAS                        \\n\")\n",
    "cat(\"═══════════════════════════════════════════════════════════════════\\n\")\n",
    "print(tabla_pivot_frecuencia, row.names = FALSE)"
   ]
  },
  {
   "cell_type": "markdown",
   "metadata": {},
   "source": [
    "## Resumen de Severidad por Combinación de Variables"
   ]
  },
  {
   "cell_type": "code",
   "execution_count": 8,
   "metadata": {
    "execution": {
     "iopub.execute_input": "2025-07-25T23:38:52.862137Z",
     "iopub.status.busy": "2025-07-25T23:38:52.861444Z",
     "iopub.status.idle": "2025-07-25T23:38:52.898249Z",
     "shell.execute_reply": "2025-07-25T23:38:52.897287Z"
    },
    "vscode": {
     "languageId": "r"
    }
   },
   "outputs": [
    {
     "name": "stdout",
     "output_type": "stream",
     "text": [
      "\n",
      "═══════════════════════════════════════════════════════════════════\n"
     ]
    },
    {
     "name": "stdout",
     "output_type": "stream",
     "text": [
      "                 ESTADÍSTICAS DE SEVERIDAD                         \n",
      "═══════════════════════════════════════════════════════════════════\n",
      "Severidad mínima: 36,772 COP\n",
      "Severidad máxima: 168,558,185 COP\n",
      "Severidad promedio: 10,518,147 COP\n",
      "Factor de variación: 4583.87 veces\n",
      "\n",
      "TOP 10 SEVERIDADES MÁS ALTAS:\n",
      "    Modelo  Color Carroceria SERVICIO  Edad Log_Severidad Severidad_Esperada\n",
      " 2007_2013  Otros  HATCHBACK  Publico 19_41      18.94279          168558185\n",
      " 2007_2013  Otros  HATCHBACK  Publico 41_63      18.90057          161588960\n",
      " 2007_2013  Otros      SEDAN  Publico 19_41      18.77242          142153897\n",
      " 2007_2013  Otros      SEDAN  Publico 41_63      18.73020          136276387\n",
      " 2007_2013  Otros  HATCHBACK  Publico 63_85      18.38167           96173907\n",
      " 2007_2013  Otros  HATCHBACK  Publico Otros      18.37334           95376310\n",
      " 2007_2013  PLATA  HATCHBACK  Publico 19_41      18.35979           94092616\n",
      " 2007_2013  PLATA  HATCHBACK  Publico 41_63      18.31756           90202253\n",
      " 2000_2006  Otros  HATCHBACK  Publico 19_41      18.26537           85615135\n",
      " 2007_2013 BLANCO  HATCHBACK  Publico 19_41      18.23331           82913885\n",
      "\n",
      "TOP 10 SEVERIDADES MÁS BAJAS:\n",
      "    Modelo    Color Carroceria            SERVICIO  Edad Log_Severidad\n",
      " 1993_1999 AMARILLO      Otros Transporte Personal Otros      10.51250\n",
      " 1993_1999 AMARILLO      Otros Transporte Personal 63_85      10.52083\n",
      " 2000_2006 AMARILLO      Otros Transporte Personal Otros      10.68415\n",
      " 2000_2006 AMARILLO      Otros Transporte Personal 63_85      10.69248\n",
      " 1993_1999 AMARILLO   CABINADO Transporte Personal Otros      10.76742\n",
      " 1993_1999 AMARILLO   CABINADO Transporte Personal 63_85      10.77575\n",
      " 2000_2006 AMARILLO   CABINADO Transporte Personal Otros      10.93907\n",
      " 2000_2006 AMARILLO   CABINADO Transporte Personal 63_85      10.94740\n",
      " 1993_1999 AMARILLO      Otros Transporte Personal 41_63      11.03973\n",
      " 1993_1999 AMARILLO      Otros Transporte Personal 19_41      11.08195\n",
      " Severidad_Esperada\n",
      "              36772\n",
      "              37080\n",
      "              43658\n",
      "              44023\n",
      "              47450\n",
      "              47846\n",
      "              56335\n",
      "              56806\n",
      "              62301\n",
      "              64988\n"
     ]
    }
   ],
   "source": [
    "# Estadísticas descriptivas de severidad\n",
    "cat(\"\\n═══════════════════════════════════════════════════════════════════\\n\")\n",
    "cat(\"                 ESTADÍSTICAS DE SEVERIDAD                         \\n\")\n",
    "cat(\"═══════════════════════════════════════════════════════════════════\\n\")\n",
    "cat(\"Severidad mínima:\", format(min(resultados_severidad$Severidad_Esperada), big.mark = \",\"), \"COP\\n\")\n",
    "cat(\"Severidad máxima:\", format(max(resultados_severidad$Severidad_Esperada), big.mark = \",\"), \"COP\\n\")\n",
    "cat(\"Severidad promedio:\", format(round(mean(resultados_severidad$Severidad_Esperada)), big.mark = \",\"), \"COP\\n\")\n",
    "cat(\"Factor de variación:\", round(max(resultados_severidad$Severidad_Esperada) / min(resultados_severidad$Severidad_Esperada), 2), \"veces\\n\")\n",
    "\n",
    "# Top 10 severidades más altas\n",
    "cat(\"\\nTOP 10 SEVERIDADES MÁS ALTAS:\\n\")\n",
    "top_severidad <- resultados_severidad %>%\n",
    "  arrange(desc(Severidad_Esperada)) %>%\n",
    "  head(10)\n",
    "print(top_severidad, row.names = FALSE)\n",
    "\n",
    "# Top 10 severidades más bajas\n",
    "cat(\"\\nTOP 10 SEVERIDADES MÁS BAJAS:\\n\")\n",
    "bottom_severidad <- resultados_severidad %>%\n",
    "  arrange(Severidad_Esperada) %>%\n",
    "  head(10)\n",
    "print(bottom_severidad, row.names = FALSE)"
   ]
  },
  {
   "cell_type": "markdown",
   "metadata": {},
   "source": [
    "## Cálculo de Primas Puras\n",
    "\n",
    "Prima Pura = Frecuencia × Severidad (para combinaciones compatibles)"
   ]
  },
  {
   "cell_type": "code",
   "execution_count": 9,
   "metadata": {
    "execution": {
     "iopub.execute_input": "2025-07-25T23:38:52.900901Z",
     "iopub.status.busy": "2025-07-25T23:38:52.900156Z",
     "iopub.status.idle": "2025-07-25T23:38:52.938481Z",
     "shell.execute_reply": "2025-07-25T23:38:52.937426Z"
    },
    "vscode": {
     "languageId": "r"
    }
   },
   "outputs": [
    {
     "name": "stdout",
     "output_type": "stream",
     "text": [
      "\n",
      "═══════════════════════════════════════════════════════════════════\n",
      "                    CÁLCULO DE PRIMAS PURAS                        \n",
      "═══════════════════════════════════════════════════════════════════\n",
      "Total de combinaciones: 768 \n",
      "Prima pura mínima: 9,492 COP\n",
      "Prima pura máxima: 40,809,622 COP\n",
      "Factor de variación: 4299.56 veces\n",
      "\n",
      "Ejemplos de primas puras:\n",
      "    Modelo  Color Carroceria SERVICIO  Edad Tasa_Frecuencia Severidad_Esperada\n",
      " 2007_2013  Otros  HATCHBACK  Publico 19_41        0.242110          168558185\n",
      " 2007_2013  Otros      SEDAN  Publico 19_41        0.242110          142153897\n",
      " 2007_2013  Otros  HATCHBACK  Publico 41_63        0.207627          161588960\n",
      " 2007_2013  Otros      SEDAN  Publico 41_63        0.207627          136276387\n",
      " 2000_2006  Otros  HATCHBACK  Publico 19_41        0.314085           85615135\n",
      " 2007_2013  Otros  HATCHBACK  Publico Otros        0.247011           95376310\n",
      " 2007_2013  Otros  HATCHBACK  Publico 63_85        0.237058           96173907\n",
      " 2007_2013  PLATA  HATCHBACK  Publico 19_41        0.242110           94092616\n",
      " 2000_2006  Otros      SEDAN  Publico 19_41        0.314085           72203702\n",
      " 2000_2006  Otros  HATCHBACK  Publico 41_63        0.269351           82075282\n",
      " 2007_2013 BLANCO  HATCHBACK  Publico 19_41        0.242110           82913885\n",
      " 2007_2013  Otros      SEDAN  Publico Otros        0.247011           80435810\n",
      " 2007_2013  Otros      SEDAN  Publico 63_85        0.237058           81108465\n",
      " 2007_2013  PLATA      SEDAN  Publico 19_41        0.242110           79353204\n",
      " 1993_1999  Otros  HATCHBACK  Publico 19_41        0.261431           72111597\n",
      " Prima_Pura\n",
      "   40809622\n",
      "   34416880\n",
      "   33550231\n",
      "   28294657\n",
      "   26890430\n",
      "   23558998\n",
      "   22798794\n",
      "   22780763\n",
      "   22678100\n",
      "   22107059\n",
      "   20074281\n",
      "   19868530\n",
      "   19227410\n",
      "   19212204\n",
      "   18852207\n"
     ]
    }
   ],
   "source": [
    "# Para calcular primas puras, necesitamos combinar frecuencia y severidad\n",
    "# pero solo para las combinaciones donde coincidan Modelo y Edad\n",
    "\n",
    "# Crear combinaciones completas para prima pura\n",
    "combinaciones_prima <- expand.grid(\n",
    "  Modelo = levels(datos$Modelo),\n",
    "  Color = levels(datos$Color),\n",
    "  Carroceria = levels(datos$Carroceria),\n",
    "  SERVICIO = levels(datos$SERVICIO),\n",
    "  Edad = levels(datos$Edad),\n",
    "  stringsAsFactors = FALSE\n",
    ")\n",
    "\n",
    "# Obtener frecuencia para cada combinación (basada en Modelo y Edad)\n",
    "combinaciones_prima <- combinaciones_prima %>%\n",
    "  left_join(resultados_frecuencia %>% select(Modelo, Edad, Tasa_Frecuencia), \n",
    "            by = c(\"Modelo\", \"Edad\"))\n",
    "\n",
    "# Obtener severidad para cada combinación completa\n",
    "combinaciones_prima <- combinaciones_prima %>%\n",
    "  left_join(resultados_severidad %>% select(Modelo, Color, Carroceria, SERVICIO, Edad, Severidad_Esperada), \n",
    "            by = c(\"Modelo\", \"Color\", \"Carroceria\", \"SERVICIO\", \"Edad\"))\n",
    "\n",
    "# Calcular prima pura\n",
    "combinaciones_prima$Prima_Pura <- combinaciones_prima$Tasa_Frecuencia * combinaciones_prima$Severidad_Esperada\n",
    "\n",
    "cat(\"\\n═══════════════════════════════════════════════════════════════════\\n\")\n",
    "cat(\"                    CÁLCULO DE PRIMAS PURAS                        \\n\")\n",
    "cat(\"═══════════════════════════════════════════════════════════════════\\n\")\n",
    "cat(\"Total de combinaciones:\", nrow(combinaciones_prima), \"\\n\")\n",
    "cat(\"Prima pura mínima:\", format(round(min(combinaciones_prima$Prima_Pura, na.rm = TRUE)), big.mark = \",\"), \"COP\\n\")\n",
    "cat(\"Prima pura máxima:\", format(round(max(combinaciones_prima$Prima_Pura, na.rm = TRUE)), big.mark = \",\"), \"COP\\n\")\n",
    "cat(\"Factor de variación:\", round(max(combinaciones_prima$Prima_Pura, na.rm = TRUE) / min(combinaciones_prima$Prima_Pura, na.rm = TRUE), 2), \"veces\\n\")\n",
    "\n",
    "# Mostrar algunas combinaciones ejemplo\n",
    "cat(\"\\nEjemplos de primas puras:\\n\")\n",
    "ejemplos_prima <- combinaciones_prima %>%\n",
    "  arrange(desc(Prima_Pura)) %>%\n",
    "  select(Modelo, Color, Carroceria, SERVICIO, Edad, Tasa_Frecuencia, Severidad_Esperada, Prima_Pura) %>%\n",
    "  mutate(\n",
    "    Tasa_Frecuencia = round(Tasa_Frecuencia, 6),\n",
    "    Severidad_Esperada = round(Severidad_Esperada, 0),\n",
    "    Prima_Pura = round(Prima_Pura, 0)\n",
    "  ) %>%\n",
    "  head(15)\n",
    "\n",
    "print(ejemplos_prima, row.names = FALSE)"
   ]
  },
  {
   "cell_type": "markdown",
   "metadata": {},
   "source": [
    "## Exportar Resultados"
   ]
  },
  {
   "cell_type": "code",
   "execution_count": 10,
   "metadata": {
    "execution": {
     "iopub.execute_input": "2025-07-25T23:38:52.941231Z",
     "iopub.status.busy": "2025-07-25T23:38:52.940515Z",
     "iopub.status.idle": "2025-07-25T23:38:52.967463Z",
     "shell.execute_reply": "2025-07-25T23:38:52.966608Z"
    },
    "vscode": {
     "languageId": "r"
    }
   },
   "outputs": [
    {
     "name": "stdout",
     "output_type": "stream",
     "text": [
      "\n",
      "✅ Resultados exportados exitosamente\n",
      "📁 Archivos generados:\n"
     ]
    },
    {
     "name": "stdout",
     "output_type": "stream",
     "text": [
      "   - predicciones_frecuencia.csv\n",
      "   - predicciones_severidad.csv\n",
      "   - predicciones_prima_pura.csv\n",
      "   - resultados_predicciones_completas.rds\n"
     ]
    }
   ],
   "source": [
    "# Exportar tablas para uso posterior\n",
    "write.csv(resultados_frecuencia, \"../data/output/predicciones_frecuencia.csv\", row.names = FALSE)\n",
    "write.csv(resultados_severidad, \"../data/output/predicciones_severidad.csv\", row.names = FALSE)\n",
    "write.csv(combinaciones_prima, \"../data/output/predicciones_prima_pura.csv\", row.names = FALSE)\n",
    "\n",
    "# Crear lista con todos los resultados para LaTeX\n",
    "resultados_exportar <- list(\n",
    "  frecuencia = resultados_frecuencia,\n",
    "  severidad = resultados_severidad,\n",
    "  prima_pura = combinaciones_prima,\n",
    "  tabla_pivot_frecuencia = tabla_pivot_frecuencia,\n",
    "  fecha_calculo = Sys.Date()\n",
    ")\n",
    "\n",
    "saveRDS(resultados_exportar, \"../data/output/resultados_predicciones_completas.rds\")\n",
    "\n",
    "cat(\"\\n✅ Resultados exportados exitosamente\\n\")\n",
    "cat(\"📁 Archivos generados:\\n\")\n",
    "cat(\"   - predicciones_frecuencia.csv\\n\")\n",
    "cat(\"   - predicciones_severidad.csv\\n\")\n",
    "cat(\"   - predicciones_prima_pura.csv\\n\")\n",
    "cat(\"   - resultados_predicciones_completas.rds\\n\")"
   ]
  },
  {
   "cell_type": "code",
   "execution_count": 11,
   "metadata": {
    "execution": {
     "iopub.execute_input": "2025-07-25T23:38:52.970041Z",
     "iopub.status.busy": "2025-07-25T23:38:52.969374Z",
     "iopub.status.idle": "2025-07-25T23:38:53.010177Z",
     "shell.execute_reply": "2025-07-25T23:38:53.009308Z"
    },
    "vscode": {
     "languageId": "r"
    }
   },
   "outputs": [
    {
     "name": "stdout",
     "output_type": "stream",
     "text": [
      "\n",
      "═══════════════════════════════════════════════════════════════════\n",
      "           TABLA COMPLETA DE SEVERIDAD (768 COMBINACIONES)         \n",
      "═══════════════════════════════════════════════════════════════════\n",
      "Ordenada de mayor a menor severidad esperada\n",
      "\n",
      "Primeras 30 combinaciones (mayor severidad):\n",
      "    Modelo  Color Carroceria SERVICIO  Edad Severidad_Esperada\n",
      " 2007_2013  Otros  HATCHBACK  Publico 19_41          168558185\n",
      " 2007_2013  Otros  HATCHBACK  Publico 41_63          161588960\n",
      " 2007_2013  Otros      SEDAN  Publico 19_41          142153897\n",
      " 2007_2013  Otros      SEDAN  Publico 41_63          136276387\n",
      " 2007_2013  Otros  HATCHBACK  Publico 63_85           96173907\n",
      " 2007_2013  Otros  HATCHBACK  Publico Otros           95376310\n",
      " 2007_2013  PLATA  HATCHBACK  Publico 19_41           94092616\n",
      " 2007_2013  PLATA  HATCHBACK  Publico 41_63           90202253\n",
      " 2000_2006  Otros  HATCHBACK  Publico 19_41           85615135\n",
      " 2007_2013 BLANCO  HATCHBACK  Publico 19_41           82913885\n",
      " 2000_2006  Otros  HATCHBACK  Publico 41_63           82075282\n",
      " 2007_2013  Otros      SEDAN  Publico 63_85           81108465\n",
      " 2007_2013  Otros      SEDAN  Publico Otros           80435810\n",
      " 2007_2013 BLANCO  HATCHBACK  Publico 41_63           79485719\n",
      " 2007_2013  PLATA      SEDAN  Publico 19_41           79353204\n",
      " 2007_2013  PLATA      SEDAN  Publico 41_63           76072258\n",
      " 2000_2006  Otros      SEDAN  Publico 19_41           72203702\n",
      " 1993_1999  Otros  HATCHBACK  Publico 19_41           72111597\n",
      " 2007_2013 BLANCO      SEDAN  Publico 19_41           69925598\n",
      " 2000_2006  Otros      SEDAN  Publico 41_63           69218361\n",
      " 1993_1999  Otros  HATCHBACK  Publico 41_63           69130064\n",
      " 2007_2013 BLANCO      SEDAN  Publico 41_63           67034447\n",
      " 2007_2013  Otros   CABINADO  Publico 19_41           63611024\n",
      " 2007_2013  Otros   CABINADO  Publico 41_63           60980956\n",
      " 1993_1999  Otros      SEDAN  Publico 19_41           60815466\n",
      " 1993_1999  Otros      SEDAN  Publico 41_63           58300984\n",
      " 2007_2013  PLATA  HATCHBACK  Publico 63_85           53686236\n",
      " 2007_2013  PLATA  HATCHBACK  Publico Otros           53241001\n",
      " 2007_2013  Otros  HATCHBACK  Oficial 19_41           49475338\n",
      " 2007_2013  Otros      Otros  Publico 19_41           49297177\n",
      " Severidad_Formateada\n",
      "       \\\\$168,558,185\n",
      "       \\\\$161,588,960\n",
      "       \\\\$142,153,897\n",
      "       \\\\$136,276,387\n",
      "       \\\\$ 96,173,907\n",
      "       \\\\$ 95,376,310\n",
      "       \\\\$ 94,092,616\n",
      "       \\\\$ 90,202,253\n",
      "       \\\\$ 85,615,135\n",
      "       \\\\$ 82,913,885\n",
      "       \\\\$ 82,075,282\n",
      "       \\\\$ 81,108,465\n",
      "       \\\\$ 80,435,810\n",
      "       \\\\$ 79,485,719\n",
      "       \\\\$ 79,353,204\n",
      "       \\\\$ 76,072,258\n",
      "       \\\\$ 72,203,702\n",
      "       \\\\$ 72,111,597\n",
      "       \\\\$ 69,925,598\n",
      "       \\\\$ 69,218,361\n",
      "       \\\\$ 69,130,064\n",
      "       \\\\$ 67,034,447\n",
      "       \\\\$ 63,611,024\n",
      "       \\\\$ 60,980,956\n",
      "       \\\\$ 60,815,466\n",
      "       \\\\$ 58,300,984\n",
      "       \\\\$ 53,686,236\n",
      "       \\\\$ 53,241,001\n",
      "       \\\\$ 49,475,338\n",
      "       \\\\$ 49,297,177\n",
      "\n",
      "...\n",
      "Últimas 10 combinaciones (menor severidad):\n",
      "    Modelo    Color Carroceria            SERVICIO  Edad Severidad_Esperada\n",
      " 1993_1999 AMARILLO      Otros Transporte Personal 19_41              64988\n",
      " 1993_1999 AMARILLO      Otros Transporte Personal 41_63              62301\n",
      " 2000_2006 AMARILLO   CABINADO Transporte Personal 63_85              56806\n",
      " 2000_2006 AMARILLO   CABINADO Transporte Personal Otros              56335\n",
      " 1993_1999 AMARILLO   CABINADO Transporte Personal 63_85              47846\n",
      " 1993_1999 AMARILLO   CABINADO Transporte Personal Otros              47450\n",
      " 2000_2006 AMARILLO      Otros Transporte Personal 63_85              44023\n",
      " 2000_2006 AMARILLO      Otros Transporte Personal Otros              43658\n",
      " 1993_1999 AMARILLO      Otros Transporte Personal 63_85              37080\n",
      " 1993_1999 AMARILLO      Otros Transporte Personal Otros              36772\n",
      " Severidad_Formateada\n",
      "       \\\\$     64,988\n",
      "       \\\\$     62,301\n",
      "       \\\\$     56,806\n",
      "       \\\\$     56,335\n",
      "       \\\\$     47,846\n",
      "       \\\\$     47,450\n",
      "       \\\\$     44,023\n",
      "       \\\\$     43,658\n",
      "       \\\\$     37,080\n",
      "       \\\\$     36,772\n",
      "\n",
      "✅ Tabla completa de severidad exportada: tabla_severidad_completa_latex.csv\n",
      "📊 Total de combinaciones: 768 \n"
     ]
    }
   ],
   "source": [
    "# Generar tabla completa de severidad ordenada por severidad esperada\n",
    "tabla_severidad_completa <- resultados_severidad %>%\n",
    "  arrange(desc(Severidad_Esperada)) %>%\n",
    "  select(Modelo, Color, Carroceria, SERVICIO, Edad, Severidad_Esperada) %>%\n",
    "  mutate(\n",
    "    Severidad_Formateada = paste0(\"\\\\$\", format(Severidad_Esperada, big.mark = \",\"))\n",
    "  )\n",
    "\n",
    "cat(\"\\n═══════════════════════════════════════════════════════════════════\\n\")\n",
    "cat(\"           TABLA COMPLETA DE SEVERIDAD (768 COMBINACIONES)         \\n\")\n",
    "cat(\"═══════════════════════════════════════════════════════════════════\\n\")\n",
    "cat(\"Ordenada de mayor a menor severidad esperada\\n\\n\")\n",
    "\n",
    "# Mostrar primeras 30 filas como ejemplo\n",
    "cat(\"Primeras 30 combinaciones (mayor severidad):\\n\")\n",
    "print(head(tabla_severidad_completa, 30), row.names = FALSE)\n",
    "\n",
    "cat(\"\\n...\\n\")\n",
    "cat(\"Últimas 10 combinaciones (menor severidad):\\n\")\n",
    "print(tail(tabla_severidad_completa, 10), row.names = FALSE)\n",
    "\n",
    "# Exportar tabla completa para LaTeX\n",
    "write.csv(tabla_severidad_completa, \"../data/output/tabla_severidad_completa_latex.csv\", row.names = FALSE)\n",
    "\n",
    "cat(\"\\n✅ Tabla completa de severidad exportada: tabla_severidad_completa_latex.csv\\n\")\n",
    "cat(\"📊 Total de combinaciones:\", nrow(tabla_severidad_completa), \"\\n\")"
   ]
  },
  {
   "cell_type": "code",
   "execution_count": 12,
   "metadata": {
    "execution": {
     "iopub.execute_input": "2025-07-25T23:38:53.012683Z",
     "iopub.status.busy": "2025-07-25T23:38:53.011947Z",
     "iopub.status.idle": "2025-07-25T23:38:53.068270Z",
     "shell.execute_reply": "2025-07-25T23:38:53.067314Z"
    },
    "vscode": {
     "languageId": "r"
    }
   },
   "outputs": [
    {
     "name": "stdout",
     "output_type": "stream",
     "text": [
      "\n",
      "═══════════════════════════════════════════════════════════════════\n",
      "           DISTRIBUCIÓN DE SEVERIDAD POR RANGOS                    \n",
      "═══════════════════════════════════════════════════════════════════\n",
      "\u001b[90m# A tibble: 6 × 8\u001b[39m\n",
      "  Rango_Severidad      Cantidad_Combinaciones Severidad_Min Severidad_Max\n",
      "  \u001b[3m\u001b[90m<chr>\u001b[39m\u001b[23m                                 \u001b[3m\u001b[90m<int>\u001b[39m\u001b[23m         \u001b[3m\u001b[90m<dbl>\u001b[39m\u001b[23m         \u001b[3m\u001b[90m<dbl>\u001b[39m\u001b[23m\n",
      "\u001b[90m1\u001b[39m Alta (20M-50M)                           91      20\u001b[4m0\u001b[24m\u001b[4m7\u001b[24m\u001b[4m1\u001b[24m194      49\u001b[4m4\u001b[24m\u001b[4m7\u001b[24m\u001b[4m5\u001b[24m338\n",
      "\u001b[90m2\u001b[39m Baja (<0.5M)                            110         \u001b[4m3\u001b[24m\u001b[4m6\u001b[24m772        \u001b[4m4\u001b[24m\u001b[4m9\u001b[24m\u001b[4m7\u001b[24m926\n",
      "\u001b[90m3\u001b[39m Media (1M-5M)                           252       1\u001b[4m0\u001b[24m\u001b[4m1\u001b[24m\u001b[4m1\u001b[24m097       4\u001b[4m9\u001b[24m\u001b[4m9\u001b[24m\u001b[4m5\u001b[24m068\n",
      "\u001b[90m4\u001b[39m Media-Alta (5M-20M)                     213       5\u001b[4m0\u001b[24m\u001b[4m1\u001b[24m\u001b[4m0\u001b[24m001      19\u001b[4m6\u001b[24m\u001b[4m7\u001b[24m\u001b[4m6\u001b[24m007\n",
      "\u001b[90m5\u001b[39m Media-Baja (0.5M-1M)                     74        \u001b[4m5\u001b[24m\u001b[4m0\u001b[24m\u001b[4m4\u001b[24m145        \u001b[4m9\u001b[24m\u001b[4m8\u001b[24m\u001b[4m1\u001b[24m189\n",
      "\u001b[90m6\u001b[39m Muy Alta (≥50M)                          28      53\u001b[4m2\u001b[24m\u001b[4m4\u001b[24m\u001b[4m1\u001b[24m001     168\u001b[4m5\u001b[24m\u001b[4m5\u001b[24m\u001b[4m8\u001b[24m185\n",
      "\u001b[90m# ℹ 4 more variables: Severidad_Promedio <dbl>, Severidad_Min_Format <chr>,\u001b[39m\n",
      "\u001b[90m#   Severidad_Max_Format <chr>, Severidad_Promedio_Format <chr>\u001b[39m\n",
      "\n",
      "═══════════════════════════════════════════════════════════════════\n",
      "           TOP 50 COMBINACIONES DE MAYOR SEVERIDAD                 \n",
      "═══════════════════════════════════════════════════════════════════\n",
      " Ranking    Modelo  Color Carroceria SERVICIO  Edad Severidad_LaTeX\n",
      "       1 2007_2013  Otros  HATCHBACK  Publico 19_41  \\\\$168,558,185\n",
      "       2 2007_2013  Otros  HATCHBACK  Publico 41_63  \\\\$161,588,960\n",
      "       3 2007_2013  Otros      SEDAN  Publico 19_41  \\\\$142,153,897\n",
      "       4 2007_2013  Otros      SEDAN  Publico 41_63  \\\\$136,276,387\n",
      "       5 2007_2013  Otros  HATCHBACK  Publico 63_85  \\\\$ 96,173,907\n",
      "       6 2007_2013  Otros  HATCHBACK  Publico Otros  \\\\$ 95,376,310\n",
      "       7 2007_2013  PLATA  HATCHBACK  Publico 19_41  \\\\$ 94,092,616\n",
      "       8 2007_2013  PLATA  HATCHBACK  Publico 41_63  \\\\$ 90,202,253\n",
      "       9 2000_2006  Otros  HATCHBACK  Publico 19_41  \\\\$ 85,615,135\n",
      "      10 2007_2013 BLANCO  HATCHBACK  Publico 19_41  \\\\$ 82,913,885\n",
      "      11 2000_2006  Otros  HATCHBACK  Publico 41_63  \\\\$ 82,075,282\n",
      "      12 2007_2013  Otros      SEDAN  Publico 63_85  \\\\$ 81,108,465\n",
      "      13 2007_2013  Otros      SEDAN  Publico Otros  \\\\$ 80,435,810\n",
      "      14 2007_2013 BLANCO  HATCHBACK  Publico 41_63  \\\\$ 79,485,719\n",
      "      15 2007_2013  PLATA      SEDAN  Publico 19_41  \\\\$ 79,353,204\n",
      "      16 2007_2013  PLATA      SEDAN  Publico 41_63  \\\\$ 76,072,258\n",
      "      17 2000_2006  Otros      SEDAN  Publico 19_41  \\\\$ 72,203,702\n",
      "      18 1993_1999  Otros  HATCHBACK  Publico 19_41  \\\\$ 72,111,597\n",
      "      19 2007_2013 BLANCO      SEDAN  Publico 19_41  \\\\$ 69,925,598\n",
      "      20 2000_2006  Otros      SEDAN  Publico 41_63  \\\\$ 69,218,361\n",
      "      21 1993_1999  Otros  HATCHBACK  Publico 41_63  \\\\$ 69,130,064\n",
      "      22 2007_2013 BLANCO      SEDAN  Publico 41_63  \\\\$ 67,034,447\n",
      "      23 2007_2013  Otros   CABINADO  Publico 19_41  \\\\$ 63,611,024\n",
      "      24 2007_2013  Otros   CABINADO  Publico 41_63  \\\\$ 60,980,956\n",
      "      25 1993_1999  Otros      SEDAN  Publico 19_41  \\\\$ 60,815,466\n",
      "      26 1993_1999  Otros      SEDAN  Publico 41_63  \\\\$ 58,300,984\n",
      "      27 2007_2013  PLATA  HATCHBACK  Publico 63_85  \\\\$ 53,686,236\n",
      "      28 2007_2013  PLATA  HATCHBACK  Publico Otros  \\\\$ 53,241,001\n",
      "      29 2007_2013  Otros  HATCHBACK  Oficial 19_41  \\\\$ 49,475,338\n",
      "      30 2007_2013  Otros      Otros  Publico 19_41  \\\\$ 49,297,177\n",
      "      31 2000_2006  Otros  HATCHBACK  Publico 63_85  \\\\$ 48,849,256\n",
      "      32 2000_2006  Otros  HATCHBACK  Publico Otros  \\\\$ 48,444,136\n",
      "      33 2000_2006  PLATA  HATCHBACK  Publico 19_41  \\\\$ 47,792,114\n",
      "      34 2007_2013  Otros  HATCHBACK  Oficial 41_63  \\\\$ 47,429,726\n",
      "      35 2007_2013 BLANCO  HATCHBACK  Publico 63_85  \\\\$ 47,308,010\n",
      "      36 2007_2013  Otros      Otros  Publico 41_63  \\\\$ 47,258,930\n",
      "      37 2007_2013 BLANCO  HATCHBACK  Publico Otros  \\\\$ 46,915,671\n",
      "      38 2000_2006  PLATA  HATCHBACK  Publico 41_63  \\\\$ 45,816,096\n",
      "      39 2007_2013  PLATA      SEDAN  Publico 63_85  \\\\$ 45,276,399\n",
      "      40 2007_2013  PLATA      SEDAN  Publico Otros  \\\\$ 44,900,910\n",
      "      41 2000_2006 BLANCO  HATCHBACK  Publico 19_41  \\\\$ 42,114,143\n",
      "      42 2007_2013  Otros      SEDAN  Oficial 19_41  \\\\$ 41,725,130\n",
      "      43 2000_2006  Otros      SEDAN  Publico 63_85  \\\\$ 41,197,122\n",
      "      44 1993_1999  Otros  HATCHBACK  Publico 63_85  \\\\$ 41,144,570\n",
      "      45 2000_2006  Otros      SEDAN  Publico Otros  \\\\$ 40,855,463\n",
      "      46 1993_1999  Otros  HATCHBACK  Publico Otros  \\\\$ 40,803,347\n",
      "      47 2000_2006 BLANCO  HATCHBACK  Publico 41_63  \\\\$ 40,372,887\n",
      "      48 2000_2006  PLATA      SEDAN  Publico 19_41  \\\\$ 40,305,579\n",
      "      49 1993_1999  PLATA  HATCHBACK  Publico 19_41  \\\\$ 40,254,164\n",
      "      50 2007_2013  Otros      SEDAN  Oficial 41_63  \\\\$ 39,999,958\n",
      "\n",
      "✅ Tablas exportadas para documentación LaTeX:\n",
      "   - tabla_rangos_severidad_latex.csv\n",
      "   - tabla_top_50_severidad_latex.csv\n"
     ]
    }
   ],
   "source": [
    "# Crear tabla resumida por rangos de severidad para LaTeX\n",
    "tabla_severidad_documentacion <- tabla_severidad_completa %>%\n",
    "  mutate(\n",
    "    Rango_Severidad = case_when(\n",
    "      Severidad_Esperada >= 50000000 ~ \"Muy Alta (≥50M)\",\n",
    "      Severidad_Esperada >= 20000000 ~ \"Alta (20M-50M)\",\n",
    "      Severidad_Esperada >= 5000000 ~ \"Media-Alta (5M-20M)\",\n",
    "      Severidad_Esperada >= 1000000 ~ \"Media (1M-5M)\",\n",
    "      Severidad_Esperada >= 500000 ~ \"Media-Baja (0.5M-1M)\",\n",
    "      TRUE ~ \"Baja (<0.5M)\"\n",
    "    )\n",
    "  ) %>%\n",
    "  group_by(Rango_Severidad) %>%\n",
    "  summarise(\n",
    "    Cantidad_Combinaciones = n(),\n",
    "    Severidad_Min = min(Severidad_Esperada),\n",
    "    Severidad_Max = max(Severidad_Esperada),\n",
    "    Severidad_Promedio = mean(Severidad_Esperada),\n",
    "    .groups = \"drop\"\n",
    "  ) %>%\n",
    "  mutate(\n",
    "    Severidad_Min_Format = paste0(\"$\", format(Severidad_Min, big.mark = \",\")),\n",
    "    Severidad_Max_Format = paste0(\"$\", format(Severidad_Max, big.mark = \",\")),\n",
    "    Severidad_Promedio_Format = paste0(\"$\", format(round(Severidad_Promedio), big.mark = \",\"))\n",
    "  )\n",
    "\n",
    "cat(\"\\n═══════════════════════════════════════════════════════════════════\\n\")\n",
    "cat(\"           DISTRIBUCIÓN DE SEVERIDAD POR RANGOS                    \\n\")\n",
    "cat(\"═══════════════════════════════════════════════════════════════════\\n\")\n",
    "print(tabla_severidad_documentacion, row.names = FALSE)\n",
    "\n",
    "# Crear tabla detallada con las primeras 50 combinaciones para LaTeX\n",
    "tabla_top_50_severidad <- tabla_severidad_completa %>%\n",
    "  head(50) %>%\n",
    "  mutate(\n",
    "    Ranking = 1:50,\n",
    "    Severidad_LaTeX = paste0(\"\\\\$\", format(Severidad_Esperada, big.mark = \",\"))\n",
    "  ) %>%\n",
    "  select(Ranking, Modelo, Color, Carroceria, SERVICIO, Edad, Severidad_LaTeX)\n",
    "\n",
    "cat(\"\\n═══════════════════════════════════════════════════════════════════\\n\")\n",
    "cat(\"           TOP 50 COMBINACIONES DE MAYOR SEVERIDAD                 \\n\")\n",
    "cat(\"═══════════════════════════════════════════════════════════════════\\n\")\n",
    "print(tabla_top_50_severidad, row.names = FALSE)\n",
    "\n",
    "# Exportar tablas para LaTeX\n",
    "write.csv(tabla_severidad_documentacion, \"../data/output/tabla_rangos_severidad_latex.csv\", row.names = FALSE)\n",
    "write.csv(tabla_top_50_severidad, \"../data/output/tabla_top_50_severidad_latex.csv\", row.names = FALSE)\n",
    "\n",
    "cat(\"\\n✅ Tablas exportadas para documentación LaTeX:\\n\")\n",
    "cat(\"   - tabla_rangos_severidad_latex.csv\\n\")\n",
    "cat(\"   - tabla_top_50_severidad_latex.csv\\n\")"
   ]
  },
  {
   "cell_type": "markdown",
   "metadata": {},
   "source": [
    "## Tabla de Severidad para Documentación LaTeX\n",
    "\n",
    "Crear una tabla más manejable con las 768 combinaciones organizadas para insertar en la documentación."
   ]
  },
  {
   "cell_type": "markdown",
   "metadata": {},
   "source": [
    "## Tabla Completa de Severidad para LaTeX\n",
    "\n",
    "Generar tabla completa con todas las 768 combinaciones de severidad para insertar en documentación."
   ]
  }
 ],
 "metadata": {
  "kernelspec": {
   "display_name": "R",
   "language": "R",
   "name": "ir"
  },
  "language_info": {
   "codemirror_mode": "r",
   "file_extension": ".r",
   "mimetype": "text/x-r-source",
   "name": "R",
   "pygments_lexer": "r",
   "version": "4.2.3"
  }
 },
 "nbformat": 4,
 "nbformat_minor": 4
}
