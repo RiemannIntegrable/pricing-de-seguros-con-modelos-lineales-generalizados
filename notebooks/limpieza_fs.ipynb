{
 "cells": [
  {
   "cell_type": "markdown",
   "id": "2067efff",
   "metadata": {},
   "source": [
    "<div align = \"center\">\n",
    "\n",
    "# **Limpieza extra para Frecuencia-Severidad**\n",
    "\n",
    "</div>"
   ]
  },
  {
   "cell_type": "markdown",
   "id": "28175316",
   "metadata": {},
   "source": [
    "## Librerias"
   ]
  },
  {
   "cell_type": "code",
   "execution_count": 14,
   "id": "666032fb",
   "metadata": {
    "vscode": {
     "languageId": "r"
    }
   },
   "outputs": [],
   "source": [
    "library(dplyr)\n",
    "library(tidyr)"
   ]
  },
  {
   "cell_type": "markdown",
   "id": "95660e50",
   "metadata": {},
   "source": [
    "## Data"
   ]
  },
  {
   "cell_type": "code",
   "execution_count": 15,
   "id": "bb0a13a0",
   "metadata": {
    "vscode": {
     "languageId": "r"
    }
   },
   "outputs": [],
   "source": [
    "datos_limpios <- read.csv(\"../data/processed/datos_limpios.csv\")"
   ]
  },
  {
   "cell_type": "markdown",
   "id": "791dea10",
   "metadata": {},
   "source": [
    "## Agrupando"
   ]
  },
  {
   "cell_type": "code",
   "execution_count": 16,
   "id": "7c7ff6af",
   "metadata": {
    "vscode": {
     "languageId": "r"
    }
   },
   "outputs": [],
   "source": [
    "# Variables categóricas relevantes para el modelo\n",
    "variables_tarifa <- c(\"Modelo\", \"Color\", \"Carroceria\", \"CLASE_FASECOLDA\", \n",
    "                      \"TIPO_VEHICULO\", \"SERVICIO\", \"Sexo_Aseg\")\n",
    "\n",
    "# Crear variables de edad categóricas basadas en las dummies\n",
    "datos_limpios <- datos_limpios %>%\n",
    "  mutate(\n",
    "    Grupo_Edad = case_when(\n",
    "      Edad_19_41 == 1 ~ \"19-41\",\n",
    "      Edad_41_63 == 1 ~ \"41-63\", \n",
    "      Edad_63_85 == 1 ~ \"63-85\",\n",
    "      TRUE ~ \"Otro\"  # Por si hay casos fuera de estos rangos\n",
    "    )\n",
    "  )\n",
    "\n",
    "# Agregar datos por celda tarifaria\n",
    "tabla_agregada <- datos_limpios %>%\n",
    "  group_by(across(all_of(c(variables_tarifa, \"Grupo_Edad\")))) %>%\n",
    "  summarize(\n",
    "    # Para el modelo de frecuencia\n",
    "    n_siniestros = sum(Accidentado),\n",
    "    exposicion_total = sum(exposicion),\n",
    "    \n",
    "    # Para el modelo de severidad\n",
    "    suma_pagos = sum(SumaDePagos),\n",
    "    n_observaciones = n(),\n",
    "    \n",
    "    .groups = 'drop'\n",
    "  )\n",
    "\n",
    "# Convertir variables categóricas a factores en tabla_agregada\n",
    "tabla_agregada <- tabla_agregada %>%\n",
    "  mutate(\n",
    "    Color = as.factor(Color),\n",
    "    Carroceria = as.factor(Carroceria),\n",
    "    CLASE_FASECOLDA = as.factor(CLASE_FASECOLDA),\n",
    "    TIPO_VEHICULO = as.factor(TIPO_VEHICULO),\n",
    "    SERVICIO = as.factor(SERVICIO),\n",
    "    Sexo_Aseg = as.factor(Sexo_Aseg),\n",
    "    Grupo_Edad = as.factor(Grupo_Edad)\n",
    "  )\n",
    "\n",
    "# Crear subset para severidad (solo celdas con siniestros)\n",
    "tabla_severidad <- tabla_agregada %>%\n",
    "  filter(n_siniestros > 0) %>%\n",
    "  mutate(\n",
    "    severidad_media = suma_pagos / n_siniestros,\n",
    "    # Mantener todos los niveles de los factores aunque no aparezcan en los datos filtrados\n",
    "    across(where(is.factor), ~factor(., levels = levels(.)))\n",
    "  )"
   ]
  },
  {
   "cell_type": "code",
   "execution_count": 17,
   "id": "f8e4bf9b",
   "metadata": {
    "vscode": {
     "languageId": "r"
    }
   },
   "outputs": [
    {
     "data": {
      "text/html": [
       "<table class=\"dataframe\">\n",
       "<caption>A tibble: 6 × 12</caption>\n",
       "<thead>\n",
       "\t<tr><th scope=col>Modelo</th><th scope=col>Color</th><th scope=col>Carroceria</th><th scope=col>CLASE_FASECOLDA</th><th scope=col>TIPO_VEHICULO</th><th scope=col>SERVICIO</th><th scope=col>Sexo_Aseg</th><th scope=col>Grupo_Edad</th><th scope=col>n_siniestros</th><th scope=col>exposicion_total</th><th scope=col>suma_pagos</th><th scope=col>n_observaciones</th></tr>\n",
       "\t<tr><th scope=col>&lt;int&gt;</th><th scope=col>&lt;fct&gt;</th><th scope=col>&lt;fct&gt;</th><th scope=col>&lt;fct&gt;</th><th scope=col>&lt;fct&gt;</th><th scope=col>&lt;fct&gt;</th><th scope=col>&lt;fct&gt;</th><th scope=col>&lt;fct&gt;</th><th scope=col>&lt;int&gt;</th><th scope=col>&lt;int&gt;</th><th scope=col>&lt;dbl&gt;</th><th scope=col>&lt;int&gt;</th></tr>\n",
       "</thead>\n",
       "<tbody>\n",
       "\t<tr><td>1993</td><td>ROJO   </td><td>SEDAN</td><td>AUTOMOVIL</td><td>Livianos</td><td>Particular</td><td>F</td><td>41-63</td><td>2</td><td>1834</td><td>2558114</td><td>10</td></tr>\n",
       "\t<tr><td>1993</td><td>ROJO   </td><td>SEDAN</td><td>AUTOMOVIL</td><td>Livianos</td><td>Particular</td><td>M</td><td>19-41</td><td>2</td><td>1203</td><td>4883644</td><td> 7</td></tr>\n",
       "\t<tr><td>1995</td><td>VIOLETA</td><td>SEDAN</td><td>AUTOMOVIL</td><td>Livianos</td><td>Particular</td><td>F</td><td>19-41</td><td>0</td><td>3341</td><td>      0</td><td>19</td></tr>\n",
       "\t<tr><td>1997</td><td>BLANCO </td><td>SEDAN</td><td>AUTOMOVIL</td><td>Livianos</td><td>Particular</td><td>M</td><td>41-63</td><td>2</td><td>3077</td><td>4238816</td><td>16</td></tr>\n",
       "\t<tr><td>1998</td><td>AZUL   </td><td>SEDAN</td><td>AUTOMOVIL</td><td>Livianos</td><td>Particular</td><td>F</td><td>19-41</td><td>2</td><td>2791</td><td>8213167</td><td>16</td></tr>\n",
       "\t<tr><td>1998</td><td>AZUL   </td><td>SEDAN</td><td>AUTOMOVIL</td><td>Livianos</td><td>Particular</td><td>F</td><td>41-63</td><td>0</td><td>1466</td><td>      0</td><td> 8</td></tr>\n",
       "</tbody>\n",
       "</table>\n"
      ],
      "text/latex": [
       "A tibble: 6 × 12\n",
       "\\begin{tabular}{llllllllllll}\n",
       " Modelo & Color & Carroceria & CLASE\\_FASECOLDA & TIPO\\_VEHICULO & SERVICIO & Sexo\\_Aseg & Grupo\\_Edad & n\\_siniestros & exposicion\\_total & suma\\_pagos & n\\_observaciones\\\\\n",
       " <int> & <fct> & <fct> & <fct> & <fct> & <fct> & <fct> & <fct> & <int> & <int> & <dbl> & <int>\\\\\n",
       "\\hline\n",
       "\t 1993 & ROJO    & SEDAN & AUTOMOVIL & Livianos & Particular & F & 41-63 & 2 & 1834 & 2558114 & 10\\\\\n",
       "\t 1993 & ROJO    & SEDAN & AUTOMOVIL & Livianos & Particular & M & 19-41 & 2 & 1203 & 4883644 &  7\\\\\n",
       "\t 1995 & VIOLETA & SEDAN & AUTOMOVIL & Livianos & Particular & F & 19-41 & 0 & 3341 &       0 & 19\\\\\n",
       "\t 1997 & BLANCO  & SEDAN & AUTOMOVIL & Livianos & Particular & M & 41-63 & 2 & 3077 & 4238816 & 16\\\\\n",
       "\t 1998 & AZUL    & SEDAN & AUTOMOVIL & Livianos & Particular & F & 19-41 & 2 & 2791 & 8213167 & 16\\\\\n",
       "\t 1998 & AZUL    & SEDAN & AUTOMOVIL & Livianos & Particular & F & 41-63 & 0 & 1466 &       0 &  8\\\\\n",
       "\\end{tabular}\n"
      ],
      "text/markdown": [
       "\n",
       "A tibble: 6 × 12\n",
       "\n",
       "| Modelo &lt;int&gt; | Color &lt;fct&gt; | Carroceria &lt;fct&gt; | CLASE_FASECOLDA &lt;fct&gt; | TIPO_VEHICULO &lt;fct&gt; | SERVICIO &lt;fct&gt; | Sexo_Aseg &lt;fct&gt; | Grupo_Edad &lt;fct&gt; | n_siniestros &lt;int&gt; | exposicion_total &lt;int&gt; | suma_pagos &lt;dbl&gt; | n_observaciones &lt;int&gt; |\n",
       "|---|---|---|---|---|---|---|---|---|---|---|---|\n",
       "| 1993 | ROJO    | SEDAN | AUTOMOVIL | Livianos | Particular | F | 41-63 | 2 | 1834 | 2558114 | 10 |\n",
       "| 1993 | ROJO    | SEDAN | AUTOMOVIL | Livianos | Particular | M | 19-41 | 2 | 1203 | 4883644 |  7 |\n",
       "| 1995 | VIOLETA | SEDAN | AUTOMOVIL | Livianos | Particular | F | 19-41 | 0 | 3341 |       0 | 19 |\n",
       "| 1997 | BLANCO  | SEDAN | AUTOMOVIL | Livianos | Particular | M | 41-63 | 2 | 3077 | 4238816 | 16 |\n",
       "| 1998 | AZUL    | SEDAN | AUTOMOVIL | Livianos | Particular | F | 19-41 | 2 | 2791 | 8213167 | 16 |\n",
       "| 1998 | AZUL    | SEDAN | AUTOMOVIL | Livianos | Particular | F | 41-63 | 0 | 1466 |       0 |  8 |\n",
       "\n"
      ],
      "text/plain": [
       "  Modelo Color   Carroceria CLASE_FASECOLDA TIPO_VEHICULO SERVICIO   Sexo_Aseg\n",
       "1 1993   ROJO    SEDAN      AUTOMOVIL       Livianos      Particular F        \n",
       "2 1993   ROJO    SEDAN      AUTOMOVIL       Livianos      Particular M        \n",
       "3 1995   VIOLETA SEDAN      AUTOMOVIL       Livianos      Particular F        \n",
       "4 1997   BLANCO  SEDAN      AUTOMOVIL       Livianos      Particular M        \n",
       "5 1998   AZUL    SEDAN      AUTOMOVIL       Livianos      Particular F        \n",
       "6 1998   AZUL    SEDAN      AUTOMOVIL       Livianos      Particular F        \n",
       "  Grupo_Edad n_siniestros exposicion_total suma_pagos n_observaciones\n",
       "1 41-63      2            1834             2558114    10             \n",
       "2 19-41      2            1203             4883644     7             \n",
       "3 19-41      0            3341                   0    19             \n",
       "4 41-63      2            3077             4238816    16             \n",
       "5 19-41      2            2791             8213167    16             \n",
       "6 41-63      0            1466                   0     8             "
      ]
     },
     "metadata": {},
     "output_type": "display_data"
    }
   ],
   "source": [
    "head(tabla_agregada)"
   ]
  },
  {
   "cell_type": "code",
   "execution_count": 18,
   "id": "f59173da",
   "metadata": {
    "vscode": {
     "languageId": "r"
    }
   },
   "outputs": [
    {
     "data": {
      "text/html": [
       "<table class=\"dataframe\">\n",
       "<caption>A tibble: 6 × 13</caption>\n",
       "<thead>\n",
       "\t<tr><th scope=col>Modelo</th><th scope=col>Color</th><th scope=col>Carroceria</th><th scope=col>CLASE_FASECOLDA</th><th scope=col>TIPO_VEHICULO</th><th scope=col>SERVICIO</th><th scope=col>Sexo_Aseg</th><th scope=col>Grupo_Edad</th><th scope=col>n_siniestros</th><th scope=col>exposicion_total</th><th scope=col>suma_pagos</th><th scope=col>n_observaciones</th><th scope=col>severidad_media</th></tr>\n",
       "\t<tr><th scope=col>&lt;int&gt;</th><th scope=col>&lt;fct&gt;</th><th scope=col>&lt;fct&gt;</th><th scope=col>&lt;fct&gt;</th><th scope=col>&lt;fct&gt;</th><th scope=col>&lt;fct&gt;</th><th scope=col>&lt;fct&gt;</th><th scope=col>&lt;fct&gt;</th><th scope=col>&lt;int&gt;</th><th scope=col>&lt;int&gt;</th><th scope=col>&lt;dbl&gt;</th><th scope=col>&lt;int&gt;</th><th scope=col>&lt;dbl&gt;</th></tr>\n",
       "</thead>\n",
       "<tbody>\n",
       "\t<tr><td>1993</td><td>ROJO  </td><td>SEDAN</td><td>AUTOMOVIL</td><td>Livianos</td><td>Particular</td><td>F</td><td>41-63</td><td>2</td><td>1834</td><td>2558114</td><td>10</td><td>1279057</td></tr>\n",
       "\t<tr><td>1993</td><td>ROJO  </td><td>SEDAN</td><td>AUTOMOVIL</td><td>Livianos</td><td>Particular</td><td>M</td><td>19-41</td><td>2</td><td>1203</td><td>4883644</td><td> 7</td><td>2441822</td></tr>\n",
       "\t<tr><td>1997</td><td>BLANCO</td><td>SEDAN</td><td>AUTOMOVIL</td><td>Livianos</td><td>Particular</td><td>M</td><td>41-63</td><td>2</td><td>3077</td><td>4238816</td><td>16</td><td>2119408</td></tr>\n",
       "\t<tr><td>1998</td><td>AZUL  </td><td>SEDAN</td><td>AUTOMOVIL</td><td>Livianos</td><td>Particular</td><td>F</td><td>19-41</td><td>2</td><td>2791</td><td>8213167</td><td>16</td><td>4106584</td></tr>\n",
       "\t<tr><td>1998</td><td>BLANCO</td><td>SEDAN</td><td>AUTOMOVIL</td><td>Livianos</td><td>Particular</td><td>F</td><td>19-41</td><td>2</td><td>2410</td><td>8014069</td><td>13</td><td>4007035</td></tr>\n",
       "\t<tr><td>1998</td><td>BLANCO</td><td>SEDAN</td><td>AUTOMOVIL</td><td>Livianos</td><td>Particular</td><td>M</td><td>19-41</td><td>4</td><td>4223</td><td>6450375</td><td>23</td><td>1612594</td></tr>\n",
       "</tbody>\n",
       "</table>\n"
      ],
      "text/latex": [
       "A tibble: 6 × 13\n",
       "\\begin{tabular}{lllllllllllll}\n",
       " Modelo & Color & Carroceria & CLASE\\_FASECOLDA & TIPO\\_VEHICULO & SERVICIO & Sexo\\_Aseg & Grupo\\_Edad & n\\_siniestros & exposicion\\_total & suma\\_pagos & n\\_observaciones & severidad\\_media\\\\\n",
       " <int> & <fct> & <fct> & <fct> & <fct> & <fct> & <fct> & <fct> & <int> & <int> & <dbl> & <int> & <dbl>\\\\\n",
       "\\hline\n",
       "\t 1993 & ROJO   & SEDAN & AUTOMOVIL & Livianos & Particular & F & 41-63 & 2 & 1834 & 2558114 & 10 & 1279057\\\\\n",
       "\t 1993 & ROJO   & SEDAN & AUTOMOVIL & Livianos & Particular & M & 19-41 & 2 & 1203 & 4883644 &  7 & 2441822\\\\\n",
       "\t 1997 & BLANCO & SEDAN & AUTOMOVIL & Livianos & Particular & M & 41-63 & 2 & 3077 & 4238816 & 16 & 2119408\\\\\n",
       "\t 1998 & AZUL   & SEDAN & AUTOMOVIL & Livianos & Particular & F & 19-41 & 2 & 2791 & 8213167 & 16 & 4106584\\\\\n",
       "\t 1998 & BLANCO & SEDAN & AUTOMOVIL & Livianos & Particular & F & 19-41 & 2 & 2410 & 8014069 & 13 & 4007035\\\\\n",
       "\t 1998 & BLANCO & SEDAN & AUTOMOVIL & Livianos & Particular & M & 19-41 & 4 & 4223 & 6450375 & 23 & 1612594\\\\\n",
       "\\end{tabular}\n"
      ],
      "text/markdown": [
       "\n",
       "A tibble: 6 × 13\n",
       "\n",
       "| Modelo &lt;int&gt; | Color &lt;fct&gt; | Carroceria &lt;fct&gt; | CLASE_FASECOLDA &lt;fct&gt; | TIPO_VEHICULO &lt;fct&gt; | SERVICIO &lt;fct&gt; | Sexo_Aseg &lt;fct&gt; | Grupo_Edad &lt;fct&gt; | n_siniestros &lt;int&gt; | exposicion_total &lt;int&gt; | suma_pagos &lt;dbl&gt; | n_observaciones &lt;int&gt; | severidad_media &lt;dbl&gt; |\n",
       "|---|---|---|---|---|---|---|---|---|---|---|---|---|\n",
       "| 1993 | ROJO   | SEDAN | AUTOMOVIL | Livianos | Particular | F | 41-63 | 2 | 1834 | 2558114 | 10 | 1279057 |\n",
       "| 1993 | ROJO   | SEDAN | AUTOMOVIL | Livianos | Particular | M | 19-41 | 2 | 1203 | 4883644 |  7 | 2441822 |\n",
       "| 1997 | BLANCO | SEDAN | AUTOMOVIL | Livianos | Particular | M | 41-63 | 2 | 3077 | 4238816 | 16 | 2119408 |\n",
       "| 1998 | AZUL   | SEDAN | AUTOMOVIL | Livianos | Particular | F | 19-41 | 2 | 2791 | 8213167 | 16 | 4106584 |\n",
       "| 1998 | BLANCO | SEDAN | AUTOMOVIL | Livianos | Particular | F | 19-41 | 2 | 2410 | 8014069 | 13 | 4007035 |\n",
       "| 1998 | BLANCO | SEDAN | AUTOMOVIL | Livianos | Particular | M | 19-41 | 4 | 4223 | 6450375 | 23 | 1612594 |\n",
       "\n"
      ],
      "text/plain": [
       "  Modelo Color  Carroceria CLASE_FASECOLDA TIPO_VEHICULO SERVICIO   Sexo_Aseg\n",
       "1 1993   ROJO   SEDAN      AUTOMOVIL       Livianos      Particular F        \n",
       "2 1993   ROJO   SEDAN      AUTOMOVIL       Livianos      Particular M        \n",
       "3 1997   BLANCO SEDAN      AUTOMOVIL       Livianos      Particular M        \n",
       "4 1998   AZUL   SEDAN      AUTOMOVIL       Livianos      Particular F        \n",
       "5 1998   BLANCO SEDAN      AUTOMOVIL       Livianos      Particular F        \n",
       "6 1998   BLANCO SEDAN      AUTOMOVIL       Livianos      Particular M        \n",
       "  Grupo_Edad n_siniestros exposicion_total suma_pagos n_observaciones\n",
       "1 41-63      2            1834             2558114    10             \n",
       "2 19-41      2            1203             4883644     7             \n",
       "3 41-63      2            3077             4238816    16             \n",
       "4 19-41      2            2791             8213167    16             \n",
       "5 19-41      2            2410             8014069    13             \n",
       "6 19-41      4            4223             6450375    23             \n",
       "  severidad_media\n",
       "1 1279057        \n",
       "2 2441822        \n",
       "3 2119408        \n",
       "4 4106584        \n",
       "5 4007035        \n",
       "6 1612594        "
      ]
     },
     "metadata": {},
     "output_type": "display_data"
    }
   ],
   "source": [
    "head(tabla_severidad)"
   ]
  },
  {
   "cell_type": "code",
   "execution_count": 19,
   "id": "c38a84b7",
   "metadata": {
    "vscode": {
     "languageId": "r"
    }
   },
   "outputs": [
    {
     "name": "stdout",
     "output_type": "stream",
     "text": [
      "tibble [449 × 12] (S3: tbl_df/tbl/data.frame)\n",
      " $ Modelo          : int [1:449] 1993 1993 1995 1997 1998 1998 1998 1998 1998 1998 ...\n",
      " $ Color           : Factor w/ 25 levels \"AMARILLO\",\"ARENA FINA\",..: 19 19 25 5 3 3 5 5 5 11 ...\n",
      " $ Carroceria      : Factor w/ 11 levels \"BUS-BUSETA\",\"CABINADO\",..: 9 9 9 9 9 9 9 9 9 9 ...\n",
      " $ CLASE_FASECOLDA : Factor w/ 8 levels \"AUTOMOVIL\",\"AUTOMOVIL TAXI\",..: 1 1 1 1 1 1 1 1 1 1 ...\n",
      " $ TIPO_VEHICULO   : Factor w/ 2 levels \"Livianos\",\"Pesados\": 1 1 1 1 1 1 1 1 1 1 ...\n",
      " $ SERVICIO        : Factor w/ 3 levels \"Particular\",\"Publico\",..: 1 1 1 1 1 1 1 1 1 1 ...\n",
      " $ Sexo_Aseg       : Factor w/ 2 levels \"F\",\"M\": 1 2 1 2 1 1 1 1 2 2 ...\n",
      " $ Grupo_Edad      : Factor w/ 3 levels \"19-41\",\"41-63\",..: 2 1 1 2 1 2 1 2 1 1 ...\n",
      " $ n_siniestros    : int [1:449] 2 2 0 2 2 0 2 0 4 0 ...\n",
      " $ exposicion_total: int [1:449] 1834 1203 3341 3077 2791 1466 2410 1467 4223 2934 ...\n",
      " $ suma_pagos      : num [1:449] 2558114 4883644 0 4238816 8213167 ...\n",
      " $ n_observaciones : int [1:449] 10 7 19 16 16 8 13 8 23 16 ...\n"
     ]
    }
   ],
   "source": [
    "# Primero, veamos qué tipo de variables tienes\n",
    "str(tabla_agregada)"
   ]
  },
  {
   "cell_type": "code",
   "execution_count": 20,
   "id": "b4b88998",
   "metadata": {
    "vscode": {
     "languageId": "r"
    }
   },
   "outputs": [],
   "source": [
    "write.csv(tabla_severidad, \"../data/processed/tabla_severidad.csv\")"
   ]
  }
 ],
 "metadata": {
  "kernelspec": {
   "display_name": "R",
   "language": "R",
   "name": "ir"
  },
  "language_info": {
   "codemirror_mode": "r",
   "file_extension": ".r",
   "mimetype": "text/x-r-source",
   "name": "R",
   "pygments_lexer": "r",
   "version": "4.2.3"
  }
 },
 "nbformat": 4,
 "nbformat_minor": 5
}
