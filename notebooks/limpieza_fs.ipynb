{
 "cells": [
  {
   "cell_type": "markdown",
   "id": "2067efff",
   "metadata": {},
   "source": [
    "<div align = \"center\">\n",
    "\n",
    "# **Limpieza extra para Frecuencia-Severidad**\n",
    "\n",
    "</div>"
   ]
  },
  {
   "cell_type": "markdown",
   "id": "28175316",
   "metadata": {},
   "source": [
    "## Librerias"
   ]
  },
  {
   "cell_type": "code",
   "execution_count": 38,
   "id": "666032fb",
   "metadata": {
    "vscode": {
     "languageId": "r"
    }
   },
   "outputs": [],
   "source": [
    "library(dplyr)\n",
    "library(tidyr)"
   ]
  },
  {
   "cell_type": "markdown",
   "id": "95660e50",
   "metadata": {},
   "source": [
    "## Data"
   ]
  },
  {
   "cell_type": "code",
   "execution_count": 39,
   "id": "bb0a13a0",
   "metadata": {
    "vscode": {
     "languageId": "r"
    }
   },
   "outputs": [],
   "source": [
    "datos_limpios <- read.csv(\"../data/processed/datos_limpios.csv\")"
   ]
  },
  {
   "cell_type": "code",
   "execution_count": 40,
   "id": "29cf964f",
   "metadata": {
    "vscode": {
     "languageId": "r"
    }
   },
   "outputs": [
    {
     "data": {
      "text/html": [
       "<table class=\"dataframe\">\n",
       "<caption>A data.frame: 6 × 18</caption>\n",
       "<thead>\n",
       "\t<tr><th></th><th scope=col>Amparo</th><th scope=col>SumaDePagos</th><th scope=col>Modelo</th><th scope=col>Color</th><th scope=col>Carroceria</th><th scope=col>Referencia1</th><th scope=col>Referencia2</th><th scope=col>CLASE_FASECOLDA</th><th scope=col>TIPO_VEHICULO</th><th scope=col>SERVICIO</th><th scope=col>Sexo_Aseg</th><th scope=col>Edad</th><th scope=col>Desde</th><th scope=col>Hasta</th><th scope=col>Vr_Comercial</th><th scope=col>Pago</th><th scope=col>Accidentado</th><th scope=col>exposicion</th></tr>\n",
       "\t<tr><th></th><th scope=col>&lt;chr&gt;</th><th scope=col>&lt;dbl&gt;</th><th scope=col>&lt;chr&gt;</th><th scope=col>&lt;chr&gt;</th><th scope=col>&lt;chr&gt;</th><th scope=col>&lt;chr&gt;</th><th scope=col>&lt;chr&gt;</th><th scope=col>&lt;chr&gt;</th><th scope=col>&lt;chr&gt;</th><th scope=col>&lt;chr&gt;</th><th scope=col>&lt;chr&gt;</th><th scope=col>&lt;chr&gt;</th><th scope=col>&lt;chr&gt;</th><th scope=col>&lt;chr&gt;</th><th scope=col>&lt;dbl&gt;</th><th scope=col>&lt;chr&gt;</th><th scope=col>&lt;int&gt;</th><th scope=col>&lt;int&gt;</th></tr>\n",
       "</thead>\n",
       "<tbody>\n",
       "\t<tr><th scope=row>1</th><td>No aplica</td><td>0</td><td>2007_2013</td><td>Otros</td><td>SEDAN    </td><td>Otros   </td><td>Otros</td><td>AUTOMOVIL</td><td>Livianos</td><td>Particular</td><td>F</td><td>19_41</td><td>2011-09-29</td><td>2011-12-31</td><td>63430970</td><td>No</td><td>0</td><td> 94</td></tr>\n",
       "\t<tr><th scope=row>2</th><td>No aplica</td><td>0</td><td>2007_2013</td><td>Otros</td><td>SEDAN    </td><td>Otros   </td><td>Otros</td><td>AUTOMOVIL</td><td>Livianos</td><td>Particular</td><td>F</td><td>19_41</td><td>2012-01-01</td><td>2012-11-14</td><td>61150073</td><td>No</td><td>0</td><td>319</td></tr>\n",
       "\t<tr><th scope=row>3</th><td>No aplica</td><td>0</td><td>2007_2013</td><td>PLATA</td><td>HATCHBACK</td><td>ATOS [2]</td><td>PRIME</td><td>AUTOMOVIL</td><td>Livianos</td><td>Particular</td><td>M</td><td>63_85</td><td>2011-10-01</td><td>2011-12-31</td><td>18415081</td><td>No</td><td>0</td><td> 92</td></tr>\n",
       "\t<tr><th scope=row>4</th><td>No aplica</td><td>0</td><td>2007_2013</td><td>PLATA</td><td>HATCHBACK</td><td>ATOS [2]</td><td>PRIME</td><td>AUTOMOVIL</td><td>Livianos</td><td>Particular</td><td>M</td><td>63_85</td><td>2012-01-01</td><td>2012-10-01</td><td>17752898</td><td>No</td><td>0</td><td>275</td></tr>\n",
       "\t<tr><th scope=row>5</th><td>No aplica</td><td>0</td><td>2007_2013</td><td>PLATA</td><td>SEDAN    </td><td>Otros   </td><td>Otros</td><td>AUTOMOVIL</td><td>Livianos</td><td>Particular</td><td>F</td><td>19_41</td><td>2012-02-14</td><td>2012-12-31</td><td>37562534</td><td>No</td><td>0</td><td>322</td></tr>\n",
       "\t<tr><th scope=row>6</th><td>No aplica</td><td>0</td><td>2007_2013</td><td>PLATA</td><td>SEDAN    </td><td>Otros   </td><td>Otros</td><td>AUTOMOVIL</td><td>Livianos</td><td>Particular</td><td>F</td><td>19_41</td><td>2013-01-01</td><td>2013-02-14</td><td>36667838</td><td>No</td><td>0</td><td> 45</td></tr>\n",
       "</tbody>\n",
       "</table>\n"
      ],
      "text/latex": [
       "A data.frame: 6 × 18\n",
       "\\begin{tabular}{r|llllllllllllllllll}\n",
       "  & Amparo & SumaDePagos & Modelo & Color & Carroceria & Referencia1 & Referencia2 & CLASE\\_FASECOLDA & TIPO\\_VEHICULO & SERVICIO & Sexo\\_Aseg & Edad & Desde & Hasta & Vr\\_Comercial & Pago & Accidentado & exposicion\\\\\n",
       "  & <chr> & <dbl> & <chr> & <chr> & <chr> & <chr> & <chr> & <chr> & <chr> & <chr> & <chr> & <chr> & <chr> & <chr> & <dbl> & <chr> & <int> & <int>\\\\\n",
       "\\hline\n",
       "\t1 & No aplica & 0 & 2007\\_2013 & Otros & SEDAN     & Otros    & Otros & AUTOMOVIL & Livianos & Particular & F & 19\\_41 & 2011-09-29 & 2011-12-31 & 63430970 & No & 0 &  94\\\\\n",
       "\t2 & No aplica & 0 & 2007\\_2013 & Otros & SEDAN     & Otros    & Otros & AUTOMOVIL & Livianos & Particular & F & 19\\_41 & 2012-01-01 & 2012-11-14 & 61150073 & No & 0 & 319\\\\\n",
       "\t3 & No aplica & 0 & 2007\\_2013 & PLATA & HATCHBACK & ATOS {[}2{]} & PRIME & AUTOMOVIL & Livianos & Particular & M & 63\\_85 & 2011-10-01 & 2011-12-31 & 18415081 & No & 0 &  92\\\\\n",
       "\t4 & No aplica & 0 & 2007\\_2013 & PLATA & HATCHBACK & ATOS {[}2{]} & PRIME & AUTOMOVIL & Livianos & Particular & M & 63\\_85 & 2012-01-01 & 2012-10-01 & 17752898 & No & 0 & 275\\\\\n",
       "\t5 & No aplica & 0 & 2007\\_2013 & PLATA & SEDAN     & Otros    & Otros & AUTOMOVIL & Livianos & Particular & F & 19\\_41 & 2012-02-14 & 2012-12-31 & 37562534 & No & 0 & 322\\\\\n",
       "\t6 & No aplica & 0 & 2007\\_2013 & PLATA & SEDAN     & Otros    & Otros & AUTOMOVIL & Livianos & Particular & F & 19\\_41 & 2013-01-01 & 2013-02-14 & 36667838 & No & 0 &  45\\\\\n",
       "\\end{tabular}\n"
      ],
      "text/markdown": [
       "\n",
       "A data.frame: 6 × 18\n",
       "\n",
       "| <!--/--> | Amparo &lt;chr&gt; | SumaDePagos &lt;dbl&gt; | Modelo &lt;chr&gt; | Color &lt;chr&gt; | Carroceria &lt;chr&gt; | Referencia1 &lt;chr&gt; | Referencia2 &lt;chr&gt; | CLASE_FASECOLDA &lt;chr&gt; | TIPO_VEHICULO &lt;chr&gt; | SERVICIO &lt;chr&gt; | Sexo_Aseg &lt;chr&gt; | Edad &lt;chr&gt; | Desde &lt;chr&gt; | Hasta &lt;chr&gt; | Vr_Comercial &lt;dbl&gt; | Pago &lt;chr&gt; | Accidentado &lt;int&gt; | exposicion &lt;int&gt; |\n",
       "|---|---|---|---|---|---|---|---|---|---|---|---|---|---|---|---|---|---|---|\n",
       "| 1 | No aplica | 0 | 2007_2013 | Otros | SEDAN     | Otros    | Otros | AUTOMOVIL | Livianos | Particular | F | 19_41 | 2011-09-29 | 2011-12-31 | 63430970 | No | 0 |  94 |\n",
       "| 2 | No aplica | 0 | 2007_2013 | Otros | SEDAN     | Otros    | Otros | AUTOMOVIL | Livianos | Particular | F | 19_41 | 2012-01-01 | 2012-11-14 | 61150073 | No | 0 | 319 |\n",
       "| 3 | No aplica | 0 | 2007_2013 | PLATA | HATCHBACK | ATOS [2] | PRIME | AUTOMOVIL | Livianos | Particular | M | 63_85 | 2011-10-01 | 2011-12-31 | 18415081 | No | 0 |  92 |\n",
       "| 4 | No aplica | 0 | 2007_2013 | PLATA | HATCHBACK | ATOS [2] | PRIME | AUTOMOVIL | Livianos | Particular | M | 63_85 | 2012-01-01 | 2012-10-01 | 17752898 | No | 0 | 275 |\n",
       "| 5 | No aplica | 0 | 2007_2013 | PLATA | SEDAN     | Otros    | Otros | AUTOMOVIL | Livianos | Particular | F | 19_41 | 2012-02-14 | 2012-12-31 | 37562534 | No | 0 | 322 |\n",
       "| 6 | No aplica | 0 | 2007_2013 | PLATA | SEDAN     | Otros    | Otros | AUTOMOVIL | Livianos | Particular | F | 19_41 | 2013-01-01 | 2013-02-14 | 36667838 | No | 0 |  45 |\n",
       "\n"
      ],
      "text/plain": [
       "  Amparo    SumaDePagos Modelo    Color Carroceria Referencia1 Referencia2\n",
       "1 No aplica 0           2007_2013 Otros SEDAN      Otros       Otros      \n",
       "2 No aplica 0           2007_2013 Otros SEDAN      Otros       Otros      \n",
       "3 No aplica 0           2007_2013 PLATA HATCHBACK  ATOS [2]    PRIME      \n",
       "4 No aplica 0           2007_2013 PLATA HATCHBACK  ATOS [2]    PRIME      \n",
       "5 No aplica 0           2007_2013 PLATA SEDAN      Otros       Otros      \n",
       "6 No aplica 0           2007_2013 PLATA SEDAN      Otros       Otros      \n",
       "  CLASE_FASECOLDA TIPO_VEHICULO SERVICIO   Sexo_Aseg Edad  Desde     \n",
       "1 AUTOMOVIL       Livianos      Particular F         19_41 2011-09-29\n",
       "2 AUTOMOVIL       Livianos      Particular F         19_41 2012-01-01\n",
       "3 AUTOMOVIL       Livianos      Particular M         63_85 2011-10-01\n",
       "4 AUTOMOVIL       Livianos      Particular M         63_85 2012-01-01\n",
       "5 AUTOMOVIL       Livianos      Particular F         19_41 2012-02-14\n",
       "6 AUTOMOVIL       Livianos      Particular F         19_41 2013-01-01\n",
       "  Hasta      Vr_Comercial Pago Accidentado exposicion\n",
       "1 2011-12-31 63430970     No   0            94       \n",
       "2 2012-11-14 61150073     No   0           319       \n",
       "3 2011-12-31 18415081     No   0            92       \n",
       "4 2012-10-01 17752898     No   0           275       \n",
       "5 2012-12-31 37562534     No   0           322       \n",
       "6 2013-02-14 36667838     No   0            45       "
      ]
     },
     "metadata": {},
     "output_type": "display_data"
    }
   ],
   "source": [
    "head(datos_limpios)"
   ]
  },
  {
   "cell_type": "markdown",
   "id": "791dea10",
   "metadata": {},
   "source": [
    "## Agrupando"
   ]
  },
  {
   "cell_type": "code",
   "execution_count": 41,
   "id": "7c7ff6af",
   "metadata": {
    "vscode": {
     "languageId": "r"
    }
   },
   "outputs": [],
   "source": [
    "# Variables categóricas relevantes para el modelo\n",
    "variables_tarifa <- c(\"Modelo\", \"Color\", \"Carroceria\", \"CLASE_FASECOLDA\", \n",
    "                      \"TIPO_VEHICULO\", \"SERVICIO\", \"Sexo_Aseg\", \"Edad\")\n",
    "\n",
    "# Agregar datos por celda tarifaria\n",
    "tabla_agregada <- datos_limpios %>%\n",
    "  group_by(across(all_of(c(variables_tarifa)))) %>%\n",
    "  summarize(\n",
    "    valor = sum(Vr_Comercial),\n",
    "\n",
    "    # Para el modelo de frecuencia\n",
    "    n_siniestros = sum(Accidentado),\n",
    "    exposicion_total = sum(exposicion),\n",
    "    \n",
    "    # Para el modelo de severidad\n",
    "    suma_pagos = sum(SumaDePagos),\n",
    "    n_observaciones = n(),\n",
    "    \n",
    "    .groups = 'drop'\n",
    "  )\n",
    "\n",
    "# Convertir variables categóricas a factores en tabla_agregada\n",
    "tabla_agregada <- tabla_agregada %>%\n",
    "  mutate(\n",
    "    Color = as.factor(Color),\n",
    "    Carroceria = as.factor(Carroceria),\n",
    "    CLASE_FASECOLDA = as.factor(CLASE_FASECOLDA),\n",
    "    TIPO_VEHICULO = as.factor(TIPO_VEHICULO),\n",
    "    SERVICIO = as.factor(SERVICIO),\n",
    "    Sexo_Aseg = as.factor(Sexo_Aseg),\n",
    "    Edad = as.factor(Edad)\n",
    "  )\n",
    "\n",
    "# Crear subset para severidad (solo celdas con siniestros)\n",
    "tabla_severidad <- tabla_agregada %>%\n",
    "  filter(n_siniestros > 0) %>%\n",
    "  mutate(\n",
    "    severidad_media = suma_pagos / n_siniestros,\n",
    "    # Mantener todos los niveles de los factores aunque no aparezcan en los datos filtrados\n",
    "    across(where(is.factor), ~factor(., levels = levels(.)))\n",
    "  )"
   ]
  },
  {
   "cell_type": "code",
   "execution_count": 42,
   "id": "f8e4bf9b",
   "metadata": {
    "vscode": {
     "languageId": "r"
    }
   },
   "outputs": [
    {
     "data": {
      "text/html": [
       "<table class=\"dataframe\">\n",
       "<caption>A tibble: 6 × 13</caption>\n",
       "<thead>\n",
       "\t<tr><th scope=col>Modelo</th><th scope=col>Color</th><th scope=col>Carroceria</th><th scope=col>CLASE_FASECOLDA</th><th scope=col>TIPO_VEHICULO</th><th scope=col>SERVICIO</th><th scope=col>Sexo_Aseg</th><th scope=col>Edad</th><th scope=col>valor</th><th scope=col>n_siniestros</th><th scope=col>exposicion_total</th><th scope=col>suma_pagos</th><th scope=col>n_observaciones</th></tr>\n",
       "\t<tr><th scope=col>&lt;chr&gt;</th><th scope=col>&lt;fct&gt;</th><th scope=col>&lt;fct&gt;</th><th scope=col>&lt;fct&gt;</th><th scope=col>&lt;fct&gt;</th><th scope=col>&lt;fct&gt;</th><th scope=col>&lt;fct&gt;</th><th scope=col>&lt;fct&gt;</th><th scope=col>&lt;dbl&gt;</th><th scope=col>&lt;int&gt;</th><th scope=col>&lt;int&gt;</th><th scope=col>&lt;dbl&gt;</th><th scope=col>&lt;int&gt;</th></tr>\n",
       "</thead>\n",
       "<tbody>\n",
       "\t<tr><td>1993_1999</td><td>BLANCO</td><td>SEDAN</td><td>AUTOMOVIL</td><td>Livianos</td><td>Particular</td><td>F</td><td>19_41</td><td>101517338</td><td>2</td><td>2410</td><td>8014069</td><td>13</td></tr>\n",
       "\t<tr><td>1993_1999</td><td>BLANCO</td><td>SEDAN</td><td>AUTOMOVIL</td><td>Livianos</td><td>Particular</td><td>F</td><td>41_63</td><td>197695502</td><td>2</td><td>3862</td><td>2204046</td><td>22</td></tr>\n",
       "\t<tr><td>1993_1999</td><td>BLANCO</td><td>SEDAN</td><td>AUTOMOVIL</td><td>Livianos</td><td>Particular</td><td>M</td><td>19_41</td><td>180459141</td><td>4</td><td>4223</td><td>6450375</td><td>23</td></tr>\n",
       "\t<tr><td>1993_1999</td><td>BLANCO</td><td>SEDAN</td><td>AUTOMOVIL</td><td>Livianos</td><td>Particular</td><td>M</td><td>41_63</td><td>121930553</td><td>2</td><td>3077</td><td>4238816</td><td>16</td></tr>\n",
       "\t<tr><td>1993_1999</td><td>BLANCO</td><td>SEDAN</td><td>AUTOMOVIL</td><td>Livianos</td><td>Particular</td><td>M</td><td>63_85</td><td>115968579</td><td>0</td><td>2565</td><td>      0</td><td>14</td></tr>\n",
       "\t<tr><td>1993_1999</td><td>Otros </td><td>Otros</td><td>Otros    </td><td>Livianos</td><td>Particular</td><td>F</td><td>41_63</td><td> 79750398</td><td>2</td><td>1099</td><td>1208679</td><td> 6</td></tr>\n",
       "</tbody>\n",
       "</table>\n"
      ],
      "text/latex": [
       "A tibble: 6 × 13\n",
       "\\begin{tabular}{lllllllllllll}\n",
       " Modelo & Color & Carroceria & CLASE\\_FASECOLDA & TIPO\\_VEHICULO & SERVICIO & Sexo\\_Aseg & Edad & valor & n\\_siniestros & exposicion\\_total & suma\\_pagos & n\\_observaciones\\\\\n",
       " <chr> & <fct> & <fct> & <fct> & <fct> & <fct> & <fct> & <fct> & <dbl> & <int> & <int> & <dbl> & <int>\\\\\n",
       "\\hline\n",
       "\t 1993\\_1999 & BLANCO & SEDAN & AUTOMOVIL & Livianos & Particular & F & 19\\_41 & 101517338 & 2 & 2410 & 8014069 & 13\\\\\n",
       "\t 1993\\_1999 & BLANCO & SEDAN & AUTOMOVIL & Livianos & Particular & F & 41\\_63 & 197695502 & 2 & 3862 & 2204046 & 22\\\\\n",
       "\t 1993\\_1999 & BLANCO & SEDAN & AUTOMOVIL & Livianos & Particular & M & 19\\_41 & 180459141 & 4 & 4223 & 6450375 & 23\\\\\n",
       "\t 1993\\_1999 & BLANCO & SEDAN & AUTOMOVIL & Livianos & Particular & M & 41\\_63 & 121930553 & 2 & 3077 & 4238816 & 16\\\\\n",
       "\t 1993\\_1999 & BLANCO & SEDAN & AUTOMOVIL & Livianos & Particular & M & 63\\_85 & 115968579 & 0 & 2565 &       0 & 14\\\\\n",
       "\t 1993\\_1999 & Otros  & Otros & Otros     & Livianos & Particular & F & 41\\_63 &  79750398 & 2 & 1099 & 1208679 &  6\\\\\n",
       "\\end{tabular}\n"
      ],
      "text/markdown": [
       "\n",
       "A tibble: 6 × 13\n",
       "\n",
       "| Modelo &lt;chr&gt; | Color &lt;fct&gt; | Carroceria &lt;fct&gt; | CLASE_FASECOLDA &lt;fct&gt; | TIPO_VEHICULO &lt;fct&gt; | SERVICIO &lt;fct&gt; | Sexo_Aseg &lt;fct&gt; | Edad &lt;fct&gt; | valor &lt;dbl&gt; | n_siniestros &lt;int&gt; | exposicion_total &lt;int&gt; | suma_pagos &lt;dbl&gt; | n_observaciones &lt;int&gt; |\n",
       "|---|---|---|---|---|---|---|---|---|---|---|---|---|\n",
       "| 1993_1999 | BLANCO | SEDAN | AUTOMOVIL | Livianos | Particular | F | 19_41 | 101517338 | 2 | 2410 | 8014069 | 13 |\n",
       "| 1993_1999 | BLANCO | SEDAN | AUTOMOVIL | Livianos | Particular | F | 41_63 | 197695502 | 2 | 3862 | 2204046 | 22 |\n",
       "| 1993_1999 | BLANCO | SEDAN | AUTOMOVIL | Livianos | Particular | M | 19_41 | 180459141 | 4 | 4223 | 6450375 | 23 |\n",
       "| 1993_1999 | BLANCO | SEDAN | AUTOMOVIL | Livianos | Particular | M | 41_63 | 121930553 | 2 | 3077 | 4238816 | 16 |\n",
       "| 1993_1999 | BLANCO | SEDAN | AUTOMOVIL | Livianos | Particular | M | 63_85 | 115968579 | 0 | 2565 |       0 | 14 |\n",
       "| 1993_1999 | Otros  | Otros | Otros     | Livianos | Particular | F | 41_63 |  79750398 | 2 | 1099 | 1208679 |  6 |\n",
       "\n"
      ],
      "text/plain": [
       "  Modelo    Color  Carroceria CLASE_FASECOLDA TIPO_VEHICULO SERVICIO  \n",
       "1 1993_1999 BLANCO SEDAN      AUTOMOVIL       Livianos      Particular\n",
       "2 1993_1999 BLANCO SEDAN      AUTOMOVIL       Livianos      Particular\n",
       "3 1993_1999 BLANCO SEDAN      AUTOMOVIL       Livianos      Particular\n",
       "4 1993_1999 BLANCO SEDAN      AUTOMOVIL       Livianos      Particular\n",
       "5 1993_1999 BLANCO SEDAN      AUTOMOVIL       Livianos      Particular\n",
       "6 1993_1999 Otros  Otros      Otros           Livianos      Particular\n",
       "  Sexo_Aseg Edad  valor     n_siniestros exposicion_total suma_pagos\n",
       "1 F         19_41 101517338 2            2410             8014069   \n",
       "2 F         41_63 197695502 2            3862             2204046   \n",
       "3 M         19_41 180459141 4            4223             6450375   \n",
       "4 M         41_63 121930553 2            3077             4238816   \n",
       "5 M         63_85 115968579 0            2565                   0   \n",
       "6 F         41_63  79750398 2            1099             1208679   \n",
       "  n_observaciones\n",
       "1 13             \n",
       "2 22             \n",
       "3 23             \n",
       "4 16             \n",
       "5 14             \n",
       "6  6             "
      ]
     },
     "metadata": {},
     "output_type": "display_data"
    }
   ],
   "source": [
    "head(tabla_agregada)"
   ]
  },
  {
   "cell_type": "code",
   "execution_count": 43,
   "id": "f59173da",
   "metadata": {
    "vscode": {
     "languageId": "r"
    }
   },
   "outputs": [
    {
     "data": {
      "text/html": [
       "<table class=\"dataframe\">\n",
       "<caption>A tibble: 6 × 14</caption>\n",
       "<thead>\n",
       "\t<tr><th scope=col>Modelo</th><th scope=col>Color</th><th scope=col>Carroceria</th><th scope=col>CLASE_FASECOLDA</th><th scope=col>TIPO_VEHICULO</th><th scope=col>SERVICIO</th><th scope=col>Sexo_Aseg</th><th scope=col>Edad</th><th scope=col>valor</th><th scope=col>n_siniestros</th><th scope=col>exposicion_total</th><th scope=col>suma_pagos</th><th scope=col>n_observaciones</th><th scope=col>severidad_media</th></tr>\n",
       "\t<tr><th scope=col>&lt;chr&gt;</th><th scope=col>&lt;fct&gt;</th><th scope=col>&lt;fct&gt;</th><th scope=col>&lt;fct&gt;</th><th scope=col>&lt;fct&gt;</th><th scope=col>&lt;fct&gt;</th><th scope=col>&lt;fct&gt;</th><th scope=col>&lt;fct&gt;</th><th scope=col>&lt;dbl&gt;</th><th scope=col>&lt;int&gt;</th><th scope=col>&lt;int&gt;</th><th scope=col>&lt;dbl&gt;</th><th scope=col>&lt;int&gt;</th><th scope=col>&lt;dbl&gt;</th></tr>\n",
       "</thead>\n",
       "<tbody>\n",
       "\t<tr><td>1993_1999</td><td>BLANCO</td><td>SEDAN</td><td>AUTOMOVIL</td><td>Livianos</td><td>Particular</td><td>F</td><td>19_41</td><td>101517338</td><td>2</td><td>2410</td><td>8014069</td><td>13</td><td>4007034.6</td></tr>\n",
       "\t<tr><td>1993_1999</td><td>BLANCO</td><td>SEDAN</td><td>AUTOMOVIL</td><td>Livianos</td><td>Particular</td><td>F</td><td>41_63</td><td>197695502</td><td>2</td><td>3862</td><td>2204046</td><td>22</td><td>1102023.2</td></tr>\n",
       "\t<tr><td>1993_1999</td><td>BLANCO</td><td>SEDAN</td><td>AUTOMOVIL</td><td>Livianos</td><td>Particular</td><td>M</td><td>19_41</td><td>180459141</td><td>4</td><td>4223</td><td>6450375</td><td>23</td><td>1612593.7</td></tr>\n",
       "\t<tr><td>1993_1999</td><td>BLANCO</td><td>SEDAN</td><td>AUTOMOVIL</td><td>Livianos</td><td>Particular</td><td>M</td><td>41_63</td><td>121930553</td><td>2</td><td>3077</td><td>4238816</td><td>16</td><td>2119408.0</td></tr>\n",
       "\t<tr><td>1993_1999</td><td>Otros </td><td>Otros</td><td>Otros    </td><td>Livianos</td><td>Particular</td><td>F</td><td>41_63</td><td> 79750398</td><td>2</td><td>1099</td><td>1208679</td><td> 6</td><td> 604339.6</td></tr>\n",
       "\t<tr><td>1993_1999</td><td>Otros </td><td>SEDAN</td><td>AUTOMOVIL</td><td>Livianos</td><td>Particular</td><td>F</td><td>19_41</td><td>338559951</td><td>2</td><td>6132</td><td>8213167</td><td>35</td><td>4106583.6</td></tr>\n",
       "</tbody>\n",
       "</table>\n"
      ],
      "text/latex": [
       "A tibble: 6 × 14\n",
       "\\begin{tabular}{llllllllllllll}\n",
       " Modelo & Color & Carroceria & CLASE\\_FASECOLDA & TIPO\\_VEHICULO & SERVICIO & Sexo\\_Aseg & Edad & valor & n\\_siniestros & exposicion\\_total & suma\\_pagos & n\\_observaciones & severidad\\_media\\\\\n",
       " <chr> & <fct> & <fct> & <fct> & <fct> & <fct> & <fct> & <fct> & <dbl> & <int> & <int> & <dbl> & <int> & <dbl>\\\\\n",
       "\\hline\n",
       "\t 1993\\_1999 & BLANCO & SEDAN & AUTOMOVIL & Livianos & Particular & F & 19\\_41 & 101517338 & 2 & 2410 & 8014069 & 13 & 4007034.6\\\\\n",
       "\t 1993\\_1999 & BLANCO & SEDAN & AUTOMOVIL & Livianos & Particular & F & 41\\_63 & 197695502 & 2 & 3862 & 2204046 & 22 & 1102023.2\\\\\n",
       "\t 1993\\_1999 & BLANCO & SEDAN & AUTOMOVIL & Livianos & Particular & M & 19\\_41 & 180459141 & 4 & 4223 & 6450375 & 23 & 1612593.7\\\\\n",
       "\t 1993\\_1999 & BLANCO & SEDAN & AUTOMOVIL & Livianos & Particular & M & 41\\_63 & 121930553 & 2 & 3077 & 4238816 & 16 & 2119408.0\\\\\n",
       "\t 1993\\_1999 & Otros  & Otros & Otros     & Livianos & Particular & F & 41\\_63 &  79750398 & 2 & 1099 & 1208679 &  6 &  604339.6\\\\\n",
       "\t 1993\\_1999 & Otros  & SEDAN & AUTOMOVIL & Livianos & Particular & F & 19\\_41 & 338559951 & 2 & 6132 & 8213167 & 35 & 4106583.6\\\\\n",
       "\\end{tabular}\n"
      ],
      "text/markdown": [
       "\n",
       "A tibble: 6 × 14\n",
       "\n",
       "| Modelo &lt;chr&gt; | Color &lt;fct&gt; | Carroceria &lt;fct&gt; | CLASE_FASECOLDA &lt;fct&gt; | TIPO_VEHICULO &lt;fct&gt; | SERVICIO &lt;fct&gt; | Sexo_Aseg &lt;fct&gt; | Edad &lt;fct&gt; | valor &lt;dbl&gt; | n_siniestros &lt;int&gt; | exposicion_total &lt;int&gt; | suma_pagos &lt;dbl&gt; | n_observaciones &lt;int&gt; | severidad_media &lt;dbl&gt; |\n",
       "|---|---|---|---|---|---|---|---|---|---|---|---|---|---|\n",
       "| 1993_1999 | BLANCO | SEDAN | AUTOMOVIL | Livianos | Particular | F | 19_41 | 101517338 | 2 | 2410 | 8014069 | 13 | 4007034.6 |\n",
       "| 1993_1999 | BLANCO | SEDAN | AUTOMOVIL | Livianos | Particular | F | 41_63 | 197695502 | 2 | 3862 | 2204046 | 22 | 1102023.2 |\n",
       "| 1993_1999 | BLANCO | SEDAN | AUTOMOVIL | Livianos | Particular | M | 19_41 | 180459141 | 4 | 4223 | 6450375 | 23 | 1612593.7 |\n",
       "| 1993_1999 | BLANCO | SEDAN | AUTOMOVIL | Livianos | Particular | M | 41_63 | 121930553 | 2 | 3077 | 4238816 | 16 | 2119408.0 |\n",
       "| 1993_1999 | Otros  | Otros | Otros     | Livianos | Particular | F | 41_63 |  79750398 | 2 | 1099 | 1208679 |  6 |  604339.6 |\n",
       "| 1993_1999 | Otros  | SEDAN | AUTOMOVIL | Livianos | Particular | F | 19_41 | 338559951 | 2 | 6132 | 8213167 | 35 | 4106583.6 |\n",
       "\n"
      ],
      "text/plain": [
       "  Modelo    Color  Carroceria CLASE_FASECOLDA TIPO_VEHICULO SERVICIO  \n",
       "1 1993_1999 BLANCO SEDAN      AUTOMOVIL       Livianos      Particular\n",
       "2 1993_1999 BLANCO SEDAN      AUTOMOVIL       Livianos      Particular\n",
       "3 1993_1999 BLANCO SEDAN      AUTOMOVIL       Livianos      Particular\n",
       "4 1993_1999 BLANCO SEDAN      AUTOMOVIL       Livianos      Particular\n",
       "5 1993_1999 Otros  Otros      Otros           Livianos      Particular\n",
       "6 1993_1999 Otros  SEDAN      AUTOMOVIL       Livianos      Particular\n",
       "  Sexo_Aseg Edad  valor     n_siniestros exposicion_total suma_pagos\n",
       "1 F         19_41 101517338 2            2410             8014069   \n",
       "2 F         41_63 197695502 2            3862             2204046   \n",
       "3 M         19_41 180459141 4            4223             6450375   \n",
       "4 M         41_63 121930553 2            3077             4238816   \n",
       "5 F         41_63  79750398 2            1099             1208679   \n",
       "6 F         19_41 338559951 2            6132             8213167   \n",
       "  n_observaciones severidad_media\n",
       "1 13              4007034.6      \n",
       "2 22              1102023.2      \n",
       "3 23              1612593.7      \n",
       "4 16              2119408.0      \n",
       "5  6               604339.6      \n",
       "6 35              4106583.6      "
      ]
     },
     "metadata": {},
     "output_type": "display_data"
    }
   ],
   "source": [
    "head(tabla_severidad)"
   ]
  },
  {
   "cell_type": "code",
   "execution_count": 44,
   "id": "c38a84b7",
   "metadata": {
    "vscode": {
     "languageId": "r"
    }
   },
   "outputs": [
    {
     "name": "stdout",
     "output_type": "stream",
     "text": [
      "tibble [247 × 13] (S3: tbl_df/tbl/data.frame)\n",
      " $ Modelo          : chr [1:247] \"1993_1999\" \"1993_1999\" \"1993_1999\" \"1993_1999\" ...\n",
      " $ Color           : Factor w/ 4 levels \"AMARILLO\",\"BLANCO\",..: 2 2 2 2 2 3 3 3 3 3 ...\n",
      " $ Carroceria      : Factor w/ 4 levels \"CABINADO\",\"HATCHBACK\",..: 4 4 4 4 4 3 4 4 4 4 ...\n",
      " $ CLASE_FASECOLDA : Factor w/ 4 levels \"AUTOMOVIL\",\"AUTOMOVIL TAXI\",..: 1 1 1 1 1 4 1 1 1 1 ...\n",
      " $ TIPO_VEHICULO   : Factor w/ 2 levels \"Livianos\",\"Pesados\": 1 1 1 1 1 1 1 1 1 1 ...\n",
      " $ SERVICIO        : Factor w/ 4 levels \"Oficial\",\"Particular\",..: 2 2 2 2 2 2 2 2 2 2 ...\n",
      " $ Sexo_Aseg       : Factor w/ 3 levels \"F\",\"M\",\"No Binarie\": 1 1 2 2 2 1 1 1 1 2 ...\n",
      " $ Edad            : Factor w/ 4 levels \"19_41\",\"41_63\",..: 1 2 1 2 3 2 1 2 4 1 ...\n",
      " $ valor           : num [1:247] 1.02e+08 1.98e+08 1.80e+08 1.22e+08 1.16e+08 ...\n",
      " $ n_siniestros    : int [1:247] 2 2 4 2 0 2 2 6 4 4 ...\n",
      " $ exposicion_total: int [1:247] 2410 3862 4223 3077 2565 1099 6132 8985 3664 6334 ...\n",
      " $ suma_pagos      : num [1:247] 8014069 2204046 6450375 4238816 0 ...\n",
      " $ n_observaciones : int [1:247] 13 22 23 16 14 6 35 49 20 35 ...\n"
     ]
    }
   ],
   "source": [
    "# Primero, veamos qué tipo de variables tienes\n",
    "str(tabla_agregada)"
   ]
  },
  {
   "cell_type": "code",
   "execution_count": 46,
   "id": "b4b88998",
   "metadata": {
    "vscode": {
     "languageId": "r"
    }
   },
   "outputs": [],
   "source": [
    "write.csv(tabla_severidad, \"../data/processed/tabla_severidad.csv\")"
   ]
  }
 ],
 "metadata": {
  "kernelspec": {
   "display_name": "R",
   "language": "R",
   "name": "ir"
  },
  "language_info": {
   "codemirror_mode": "r",
   "file_extension": ".r",
   "mimetype": "text/x-r-source",
   "name": "R",
   "pygments_lexer": "r",
   "version": "4.2.3"
  }
 },
 "nbformat": 4,
 "nbformat_minor": 5
}
