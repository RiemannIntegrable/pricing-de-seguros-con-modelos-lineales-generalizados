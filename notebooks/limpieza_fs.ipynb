{
 "cells": [
  {
   "cell_type": "markdown",
   "id": "2067efff",
   "metadata": {},
   "source": [
    "# **Limpieza para Frecuencia-Severidad**"
   ]
  },
  {
   "cell_type": "markdown",
   "id": "28175316",
   "metadata": {},
   "source": [
    "## Librerias"
   ]
  },
  {
   "cell_type": "code",
<<<<<<< HEAD
<<<<<<< HEAD
   "execution_count": 2,
=======
   "execution_count": 47,
>>>>>>> 4669d88f9706549ed2d2df0aade81afc6c41f85d
=======
   "execution_count": 55,
>>>>>>> b1d5a0f9a0d72690ae832caa1aaa2b8672f64672
   "id": "666032fb",
   "metadata": {
    "vscode": {
     "languageId": "r"
    }
   },
   "outputs": [],
   "source": [
    "library(dplyr)\n",
    "library(tidyr)"
   ]
  },
  {
   "cell_type": "markdown",
   "id": "95660e50",
   "metadata": {},
   "source": [
    "## Data"
   ]
  },
  {
   "cell_type": "code",
<<<<<<< HEAD
<<<<<<< HEAD
   "execution_count": 3,
=======
   "execution_count": 48,
>>>>>>> 4669d88f9706549ed2d2df0aade81afc6c41f85d
=======
   "execution_count": 56,
>>>>>>> b1d5a0f9a0d72690ae832caa1aaa2b8672f64672
   "id": "bb0a13a0",
   "metadata": {
    "vscode": {
     "languageId": "r"
    }
   },
   "outputs": [],
   "source": [
    "datos_limpios <- read.csv(\"../data/processed/datos_limpios.csv\")"
   ]
  },
  {
   "cell_type": "code",
<<<<<<< HEAD
<<<<<<< HEAD
   "execution_count": 4,
=======
   "execution_count": 49,
>>>>>>> 4669d88f9706549ed2d2df0aade81afc6c41f85d
=======
   "execution_count": 57,
>>>>>>> b1d5a0f9a0d72690ae832caa1aaa2b8672f64672
   "id": "29cf964f",
   "metadata": {
    "vscode": {
     "languageId": "r"
    }
   },
   "outputs": [
    {
     "data": {
      "text/html": [
       "<table class=\"dataframe\">\n",
       "<caption>A data.frame: 6 × 20</caption>\n",
       "<thead>\n",
<<<<<<< HEAD
       "\t<tr><th></th><th scope=col>X</th><th scope=col>Amparo</th><th scope=col>SumaDePagos</th><th scope=col>Modelo</th><th scope=col>Color</th><th scope=col>Carroceria</th><th scope=col>MARCA</th><th scope=col>Referencia1</th><th scope=col>Referencia2</th><th scope=col>CLASE_FASECOLDA</th><th scope=col>TIPO_VEHICULO</th><th scope=col>SERVICIO</th><th scope=col>Sexo_Aseg</th><th scope=col>Edad</th><th scope=col>Desde</th><th scope=col>Hasta</th><th scope=col>Pago</th><th scope=col>Gama</th><th scope=col>Accidentado</th><th scope=col>exposicion</th></tr>\n",
       "\t<tr><th></th><th scope=col>&lt;int&gt;</th><th scope=col>&lt;chr&gt;</th><th scope=col>&lt;dbl&gt;</th><th scope=col>&lt;chr&gt;</th><th scope=col>&lt;chr&gt;</th><th scope=col>&lt;chr&gt;</th><th scope=col>&lt;chr&gt;</th><th scope=col>&lt;chr&gt;</th><th scope=col>&lt;chr&gt;</th><th scope=col>&lt;chr&gt;</th><th scope=col>&lt;chr&gt;</th><th scope=col>&lt;chr&gt;</th><th scope=col>&lt;chr&gt;</th><th scope=col>&lt;chr&gt;</th><th scope=col>&lt;chr&gt;</th><th scope=col>&lt;chr&gt;</th><th scope=col>&lt;chr&gt;</th><th scope=col>&lt;chr&gt;</th><th scope=col>&lt;int&gt;</th><th scope=col>&lt;int&gt;</th></tr>\n",
       "</thead>\n",
       "<tbody>\n",
       "\t<tr><th scope=row>1</th><td>1</td><td>No aplica</td><td>0</td><td>2007_2013</td><td>Otros</td><td>SEDAN    </td><td>HYUNDAI</td><td>Otros   </td><td>Otros</td><td>AUTOMOVIL</td><td>Livianos</td><td>Particular</td><td>F</td><td>19_41</td><td>2011-09-29</td><td>2011-12-31</td><td>No</td><td>Media_Alta</td><td>0</td><td> 94</td></tr>\n",
       "\t<tr><th scope=row>2</th><td>1</td><td>No aplica</td><td>0</td><td>2007_2013</td><td>Otros</td><td>SEDAN    </td><td>HYUNDAI</td><td>Otros   </td><td>Otros</td><td>AUTOMOVIL</td><td>Livianos</td><td>Particular</td><td>F</td><td>19_41</td><td>2012-01-01</td><td>2012-11-14</td><td>No</td><td>Media_Alta</td><td>0</td><td>319</td></tr>\n",
       "\t<tr><th scope=row>3</th><td>2</td><td>No aplica</td><td>0</td><td>2007_2013</td><td>PLATA</td><td>HATCHBACK</td><td>HYUNDAI</td><td>ATOS [2]</td><td>PRIME</td><td>AUTOMOVIL</td><td>Livianos</td><td>Particular</td><td>M</td><td>63_85</td><td>2011-10-01</td><td>2011-12-31</td><td>No</td><td>Baja      </td><td>0</td><td> 92</td></tr>\n",
       "\t<tr><th scope=row>4</th><td>2</td><td>No aplica</td><td>0</td><td>2007_2013</td><td>PLATA</td><td>HATCHBACK</td><td>HYUNDAI</td><td>ATOS [2]</td><td>PRIME</td><td>AUTOMOVIL</td><td>Livianos</td><td>Particular</td><td>M</td><td>63_85</td><td>2012-01-01</td><td>2012-10-01</td><td>No</td><td>Baja      </td><td>0</td><td>275</td></tr>\n",
       "\t<tr><th scope=row>5</th><td>3</td><td>No aplica</td><td>0</td><td>2007_2013</td><td>PLATA</td><td>SEDAN    </td><td>HYUNDAI</td><td>Otros   </td><td>Otros</td><td>AUTOMOVIL</td><td>Livianos</td><td>Particular</td><td>F</td><td>19_41</td><td>2012-02-14</td><td>2012-12-31</td><td>No</td><td>Media_Alta</td><td>0</td><td>322</td></tr>\n",
       "\t<tr><th scope=row>6</th><td>3</td><td>No aplica</td><td>0</td><td>2007_2013</td><td>PLATA</td><td>SEDAN    </td><td>HYUNDAI</td><td>Otros   </td><td>Otros</td><td>AUTOMOVIL</td><td>Livianos</td><td>Particular</td><td>F</td><td>19_41</td><td>2013-01-01</td><td>2013-02-14</td><td>No</td><td>Media_Alta</td><td>0</td><td> 45</td></tr>\n",
=======
       "\t<tr><th></th><th scope=col>X</th><th scope=col>Amparo</th><th scope=col>SumaDePagos</th><th scope=col>Modelo</th><th scope=col>Color</th><th scope=col>Carroceria</th><th scope=col>MARCA</th><th scope=col>Referencia1</th><th scope=col>Referencia2</th><th scope=col>CLASE_FASECOLDA</th><th scope=col>TIPO_VEHICULO</th><th scope=col>SERVICIO</th><th scope=col>Sexo_Aseg</th><th scope=col>Edad</th><th scope=col>Desde</th><th scope=col>Hasta</th><th scope=col>Vr_Comercial</th><th scope=col>Pago</th><th scope=col>Accidentado</th><th scope=col>exposicion</th></tr>\n",
       "\t<tr><th></th><th scope=col>&lt;int&gt;</th><th scope=col>&lt;chr&gt;</th><th scope=col>&lt;dbl&gt;</th><th scope=col>&lt;chr&gt;</th><th scope=col>&lt;chr&gt;</th><th scope=col>&lt;chr&gt;</th><th scope=col>&lt;chr&gt;</th><th scope=col>&lt;chr&gt;</th><th scope=col>&lt;chr&gt;</th><th scope=col>&lt;chr&gt;</th><th scope=col>&lt;chr&gt;</th><th scope=col>&lt;chr&gt;</th><th scope=col>&lt;chr&gt;</th><th scope=col>&lt;chr&gt;</th><th scope=col>&lt;chr&gt;</th><th scope=col>&lt;chr&gt;</th><th scope=col>&lt;dbl&gt;</th><th scope=col>&lt;chr&gt;</th><th scope=col>&lt;int&gt;</th><th scope=col>&lt;int&gt;</th></tr>\n",
       "</thead>\n",
       "<tbody>\n",
       "\t<tr><th scope=row>1</th><td>1</td><td>No aplica</td><td>0</td><td>2007_2013</td><td>Otros</td><td>SEDAN    </td><td>HYUNDAI</td><td>Otros   </td><td>Otros</td><td>AUTOMOVIL</td><td>Livianos</td><td>Particular</td><td>F</td><td>19_41</td><td>2011-09-29</td><td>2011-12-31</td><td>63430970</td><td>No</td><td>0</td><td> 94</td></tr>\n",
       "\t<tr><th scope=row>2</th><td>1</td><td>No aplica</td><td>0</td><td>2007_2013</td><td>Otros</td><td>SEDAN    </td><td>HYUNDAI</td><td>Otros   </td><td>Otros</td><td>AUTOMOVIL</td><td>Livianos</td><td>Particular</td><td>F</td><td>19_41</td><td>2012-01-01</td><td>2012-11-14</td><td>61150073</td><td>No</td><td>0</td><td>319</td></tr>\n",
       "\t<tr><th scope=row>3</th><td>2</td><td>No aplica</td><td>0</td><td>2007_2013</td><td>PLATA</td><td>HATCHBACK</td><td>HYUNDAI</td><td>ATOS [2]</td><td>PRIME</td><td>AUTOMOVIL</td><td>Livianos</td><td>Particular</td><td>M</td><td>63_85</td><td>2011-10-01</td><td>2011-12-31</td><td>18415081</td><td>No</td><td>0</td><td> 92</td></tr>\n",
       "\t<tr><th scope=row>4</th><td>2</td><td>No aplica</td><td>0</td><td>2007_2013</td><td>PLATA</td><td>HATCHBACK</td><td>HYUNDAI</td><td>ATOS [2]</td><td>PRIME</td><td>AUTOMOVIL</td><td>Livianos</td><td>Particular</td><td>M</td><td>63_85</td><td>2012-01-01</td><td>2012-10-01</td><td>17752898</td><td>No</td><td>0</td><td>275</td></tr>\n",
       "\t<tr><th scope=row>5</th><td>3</td><td>No aplica</td><td>0</td><td>2007_2013</td><td>PLATA</td><td>SEDAN    </td><td>HYUNDAI</td><td>Otros   </td><td>Otros</td><td>AUTOMOVIL</td><td>Livianos</td><td>Particular</td><td>F</td><td>19_41</td><td>2012-02-14</td><td>2012-12-31</td><td>37562534</td><td>No</td><td>0</td><td>322</td></tr>\n",
       "\t<tr><th scope=row>6</th><td>3</td><td>No aplica</td><td>0</td><td>2007_2013</td><td>PLATA</td><td>SEDAN    </td><td>HYUNDAI</td><td>Otros   </td><td>Otros</td><td>AUTOMOVIL</td><td>Livianos</td><td>Particular</td><td>F</td><td>19_41</td><td>2013-01-01</td><td>2013-02-14</td><td>36667838</td><td>No</td><td>0</td><td> 45</td></tr>\n",
>>>>>>> 4669d88f9706549ed2d2df0aade81afc6c41f85d
       "</tbody>\n",
       "</table>\n"
      ],
      "text/latex": [
       "A data.frame: 6 × 20\n",
       "\\begin{tabular}{r|llllllllllllllllllll}\n",
<<<<<<< HEAD
       "  & X & Amparo & SumaDePagos & Modelo & Color & Carroceria & MARCA & Referencia1 & Referencia2 & CLASE\\_FASECOLDA & TIPO\\_VEHICULO & SERVICIO & Sexo\\_Aseg & Edad & Desde & Hasta & Pago & Gama & Accidentado & exposicion\\\\\n",
       "  & <int> & <chr> & <dbl> & <chr> & <chr> & <chr> & <chr> & <chr> & <chr> & <chr> & <chr> & <chr> & <chr> & <chr> & <chr> & <chr> & <chr> & <chr> & <int> & <int>\\\\\n",
       "\\hline\n",
       "\t1 & 1 & No aplica & 0 & 2007\\_2013 & Otros & SEDAN     & HYUNDAI & Otros    & Otros & AUTOMOVIL & Livianos & Particular & F & 19\\_41 & 2011-09-29 & 2011-12-31 & No & Media\\_Alta & 0 &  94\\\\\n",
       "\t2 & 1 & No aplica & 0 & 2007\\_2013 & Otros & SEDAN     & HYUNDAI & Otros    & Otros & AUTOMOVIL & Livianos & Particular & F & 19\\_41 & 2012-01-01 & 2012-11-14 & No & Media\\_Alta & 0 & 319\\\\\n",
       "\t3 & 2 & No aplica & 0 & 2007\\_2013 & PLATA & HATCHBACK & HYUNDAI & ATOS {[}2{]} & PRIME & AUTOMOVIL & Livianos & Particular & M & 63\\_85 & 2011-10-01 & 2011-12-31 & No & Baja       & 0 &  92\\\\\n",
       "\t4 & 2 & No aplica & 0 & 2007\\_2013 & PLATA & HATCHBACK & HYUNDAI & ATOS {[}2{]} & PRIME & AUTOMOVIL & Livianos & Particular & M & 63\\_85 & 2012-01-01 & 2012-10-01 & No & Baja       & 0 & 275\\\\\n",
       "\t5 & 3 & No aplica & 0 & 2007\\_2013 & PLATA & SEDAN     & HYUNDAI & Otros    & Otros & AUTOMOVIL & Livianos & Particular & F & 19\\_41 & 2012-02-14 & 2012-12-31 & No & Media\\_Alta & 0 & 322\\\\\n",
       "\t6 & 3 & No aplica & 0 & 2007\\_2013 & PLATA & SEDAN     & HYUNDAI & Otros    & Otros & AUTOMOVIL & Livianos & Particular & F & 19\\_41 & 2013-01-01 & 2013-02-14 & No & Media\\_Alta & 0 &  45\\\\\n",
=======
       "  & X & Amparo & SumaDePagos & Modelo & Color & Carroceria & MARCA & Referencia1 & Referencia2 & CLASE\\_FASECOLDA & TIPO\\_VEHICULO & SERVICIO & Sexo\\_Aseg & Edad & Desde & Hasta & Vr\\_Comercial & Pago & Accidentado & exposicion\\\\\n",
       "  & <int> & <chr> & <dbl> & <chr> & <chr> & <chr> & <chr> & <chr> & <chr> & <chr> & <chr> & <chr> & <chr> & <chr> & <chr> & <chr> & <dbl> & <chr> & <int> & <int>\\\\\n",
       "\\hline\n",
       "\t1 & 1 & No aplica & 0 & 2007\\_2013 & Otros & SEDAN     & HYUNDAI & Otros    & Otros & AUTOMOVIL & Livianos & Particular & F & 19\\_41 & 2011-09-29 & 2011-12-31 & 63430970 & No & 0 &  94\\\\\n",
       "\t2 & 1 & No aplica & 0 & 2007\\_2013 & Otros & SEDAN     & HYUNDAI & Otros    & Otros & AUTOMOVIL & Livianos & Particular & F & 19\\_41 & 2012-01-01 & 2012-11-14 & 61150073 & No & 0 & 319\\\\\n",
       "\t3 & 2 & No aplica & 0 & 2007\\_2013 & PLATA & HATCHBACK & HYUNDAI & ATOS {[}2{]} & PRIME & AUTOMOVIL & Livianos & Particular & M & 63\\_85 & 2011-10-01 & 2011-12-31 & 18415081 & No & 0 &  92\\\\\n",
       "\t4 & 2 & No aplica & 0 & 2007\\_2013 & PLATA & HATCHBACK & HYUNDAI & ATOS {[}2{]} & PRIME & AUTOMOVIL & Livianos & Particular & M & 63\\_85 & 2012-01-01 & 2012-10-01 & 17752898 & No & 0 & 275\\\\\n",
       "\t5 & 3 & No aplica & 0 & 2007\\_2013 & PLATA & SEDAN     & HYUNDAI & Otros    & Otros & AUTOMOVIL & Livianos & Particular & F & 19\\_41 & 2012-02-14 & 2012-12-31 & 37562534 & No & 0 & 322\\\\\n",
       "\t6 & 3 & No aplica & 0 & 2007\\_2013 & PLATA & SEDAN     & HYUNDAI & Otros    & Otros & AUTOMOVIL & Livianos & Particular & F & 19\\_41 & 2013-01-01 & 2013-02-14 & 36667838 & No & 0 &  45\\\\\n",
>>>>>>> 4669d88f9706549ed2d2df0aade81afc6c41f85d
       "\\end{tabular}\n"
      ],
      "text/markdown": [
       "\n",
       "A data.frame: 6 × 20\n",
       "\n",
<<<<<<< HEAD
       "| <!--/--> | X &lt;int&gt; | Amparo &lt;chr&gt; | SumaDePagos &lt;dbl&gt; | Modelo &lt;chr&gt; | Color &lt;chr&gt; | Carroceria &lt;chr&gt; | MARCA &lt;chr&gt; | Referencia1 &lt;chr&gt; | Referencia2 &lt;chr&gt; | CLASE_FASECOLDA &lt;chr&gt; | TIPO_VEHICULO &lt;chr&gt; | SERVICIO &lt;chr&gt; | Sexo_Aseg &lt;chr&gt; | Edad &lt;chr&gt; | Desde &lt;chr&gt; | Hasta &lt;chr&gt; | Pago &lt;chr&gt; | Gama &lt;chr&gt; | Accidentado &lt;int&gt; | exposicion &lt;int&gt; |\n",
       "|---|---|---|---|---|---|---|---|---|---|---|---|---|---|---|---|---|---|---|---|---|\n",
       "| 1 | 1 | No aplica | 0 | 2007_2013 | Otros | SEDAN     | HYUNDAI | Otros    | Otros | AUTOMOVIL | Livianos | Particular | F | 19_41 | 2011-09-29 | 2011-12-31 | No | Media_Alta | 0 |  94 |\n",
       "| 2 | 1 | No aplica | 0 | 2007_2013 | Otros | SEDAN     | HYUNDAI | Otros    | Otros | AUTOMOVIL | Livianos | Particular | F | 19_41 | 2012-01-01 | 2012-11-14 | No | Media_Alta | 0 | 319 |\n",
       "| 3 | 2 | No aplica | 0 | 2007_2013 | PLATA | HATCHBACK | HYUNDAI | ATOS [2] | PRIME | AUTOMOVIL | Livianos | Particular | M | 63_85 | 2011-10-01 | 2011-12-31 | No | Baja       | 0 |  92 |\n",
       "| 4 | 2 | No aplica | 0 | 2007_2013 | PLATA | HATCHBACK | HYUNDAI | ATOS [2] | PRIME | AUTOMOVIL | Livianos | Particular | M | 63_85 | 2012-01-01 | 2012-10-01 | No | Baja       | 0 | 275 |\n",
       "| 5 | 3 | No aplica | 0 | 2007_2013 | PLATA | SEDAN     | HYUNDAI | Otros    | Otros | AUTOMOVIL | Livianos | Particular | F | 19_41 | 2012-02-14 | 2012-12-31 | No | Media_Alta | 0 | 322 |\n",
       "| 6 | 3 | No aplica | 0 | 2007_2013 | PLATA | SEDAN     | HYUNDAI | Otros    | Otros | AUTOMOVIL | Livianos | Particular | F | 19_41 | 2013-01-01 | 2013-02-14 | No | Media_Alta | 0 |  45 |\n",
=======
       "| <!--/--> | X &lt;int&gt; | Amparo &lt;chr&gt; | SumaDePagos &lt;dbl&gt; | Modelo &lt;chr&gt; | Color &lt;chr&gt; | Carroceria &lt;chr&gt; | MARCA &lt;chr&gt; | Referencia1 &lt;chr&gt; | Referencia2 &lt;chr&gt; | CLASE_FASECOLDA &lt;chr&gt; | TIPO_VEHICULO &lt;chr&gt; | SERVICIO &lt;chr&gt; | Sexo_Aseg &lt;chr&gt; | Edad &lt;chr&gt; | Desde &lt;chr&gt; | Hasta &lt;chr&gt; | Vr_Comercial &lt;dbl&gt; | Pago &lt;chr&gt; | Accidentado &lt;int&gt; | exposicion &lt;int&gt; |\n",
       "|---|---|---|---|---|---|---|---|---|---|---|---|---|---|---|---|---|---|---|---|---|\n",
       "| 1 | 1 | No aplica | 0 | 2007_2013 | Otros | SEDAN     | HYUNDAI | Otros    | Otros | AUTOMOVIL | Livianos | Particular | F | 19_41 | 2011-09-29 | 2011-12-31 | 63430970 | No | 0 |  94 |\n",
       "| 2 | 1 | No aplica | 0 | 2007_2013 | Otros | SEDAN     | HYUNDAI | Otros    | Otros | AUTOMOVIL | Livianos | Particular | F | 19_41 | 2012-01-01 | 2012-11-14 | 61150073 | No | 0 | 319 |\n",
       "| 3 | 2 | No aplica | 0 | 2007_2013 | PLATA | HATCHBACK | HYUNDAI | ATOS [2] | PRIME | AUTOMOVIL | Livianos | Particular | M | 63_85 | 2011-10-01 | 2011-12-31 | 18415081 | No | 0 |  92 |\n",
       "| 4 | 2 | No aplica | 0 | 2007_2013 | PLATA | HATCHBACK | HYUNDAI | ATOS [2] | PRIME | AUTOMOVIL | Livianos | Particular | M | 63_85 | 2012-01-01 | 2012-10-01 | 17752898 | No | 0 | 275 |\n",
       "| 5 | 3 | No aplica | 0 | 2007_2013 | PLATA | SEDAN     | HYUNDAI | Otros    | Otros | AUTOMOVIL | Livianos | Particular | F | 19_41 | 2012-02-14 | 2012-12-31 | 37562534 | No | 0 | 322 |\n",
       "| 6 | 3 | No aplica | 0 | 2007_2013 | PLATA | SEDAN     | HYUNDAI | Otros    | Otros | AUTOMOVIL | Livianos | Particular | F | 19_41 | 2013-01-01 | 2013-02-14 | 36667838 | No | 0 |  45 |\n",
>>>>>>> 4669d88f9706549ed2d2df0aade81afc6c41f85d
       "\n"
      ],
      "text/plain": [
       "  X Amparo    SumaDePagos Modelo    Color Carroceria MARCA   Referencia1\n",
       "1 1 No aplica 0           2007_2013 Otros SEDAN      HYUNDAI Otros      \n",
       "2 1 No aplica 0           2007_2013 Otros SEDAN      HYUNDAI Otros      \n",
       "3 2 No aplica 0           2007_2013 PLATA HATCHBACK  HYUNDAI ATOS [2]   \n",
       "4 2 No aplica 0           2007_2013 PLATA HATCHBACK  HYUNDAI ATOS [2]   \n",
       "5 3 No aplica 0           2007_2013 PLATA SEDAN      HYUNDAI Otros      \n",
       "6 3 No aplica 0           2007_2013 PLATA SEDAN      HYUNDAI Otros      \n",
       "  Referencia2 CLASE_FASECOLDA TIPO_VEHICULO SERVICIO   Sexo_Aseg Edad \n",
       "1 Otros       AUTOMOVIL       Livianos      Particular F         19_41\n",
       "2 Otros       AUTOMOVIL       Livianos      Particular F         19_41\n",
       "3 PRIME       AUTOMOVIL       Livianos      Particular M         63_85\n",
       "4 PRIME       AUTOMOVIL       Livianos      Particular M         63_85\n",
       "5 Otros       AUTOMOVIL       Livianos      Particular F         19_41\n",
       "6 Otros       AUTOMOVIL       Livianos      Particular F         19_41\n",
<<<<<<< HEAD
       "  Desde      Hasta      Pago Gama       Accidentado exposicion\n",
       "1 2011-09-29 2011-12-31 No   Media_Alta 0            94       \n",
       "2 2012-01-01 2012-11-14 No   Media_Alta 0           319       \n",
       "3 2011-10-01 2011-12-31 No   Baja       0            92       \n",
       "4 2012-01-01 2012-10-01 No   Baja       0           275       \n",
       "5 2012-02-14 2012-12-31 No   Media_Alta 0           322       \n",
       "6 2013-01-01 2013-02-14 No   Media_Alta 0            45       "
=======
       "  Desde      Hasta      Vr_Comercial Pago Accidentado exposicion\n",
       "1 2011-09-29 2011-12-31 63430970     No   0            94       \n",
       "2 2012-01-01 2012-11-14 61150073     No   0           319       \n",
       "3 2011-10-01 2011-12-31 18415081     No   0            92       \n",
       "4 2012-01-01 2012-10-01 17752898     No   0           275       \n",
       "5 2012-02-14 2012-12-31 37562534     No   0           322       \n",
       "6 2013-01-01 2013-02-14 36667838     No   0            45       "
>>>>>>> 4669d88f9706549ed2d2df0aade81afc6c41f85d
      ]
     },
     "metadata": {},
     "output_type": "display_data"
    }
   ],
   "source": [
    "head(datos_limpios)"
   ]
  },
  {
   "cell_type": "markdown",
   "id": "791dea10",
   "metadata": {},
   "source": [
    "## Agrupando"
   ]
  },
  {
   "cell_type": "code",
<<<<<<< HEAD
<<<<<<< HEAD
   "execution_count": 5,
=======
   "execution_count": 50,
>>>>>>> 4669d88f9706549ed2d2df0aade81afc6c41f85d
=======
   "execution_count": 58,
>>>>>>> b1d5a0f9a0d72690ae832caa1aaa2b8672f64672
   "id": "7c7ff6af",
   "metadata": {
    "vscode": {
     "languageId": "r"
    }
   },
   "outputs": [],
   "source": [
    "variables_tarifa <- c(\"Modelo\", \"Color\", \"Carroceria\", \"CLASE_FASECOLDA\", \n",
    "                      \"TIPO_VEHICULO\", \"SERVICIO\", \"Sexo_Aseg\", \"Edad\", \"Gama\")\n",
    "\n",
    "tabla_agregada <- datos_limpios %>%\n",
    "  group_by(across(all_of(c(variables_tarifa)))) %>%\n",
    "  summarize(\n",
    "    n_siniestros = sum(Accidentado),\n",
    "    exposicion_total = sum(exposicion)/365,\n",
    "    suma_pagos = sum(SumaDePagos),\n",
    "    n_observaciones = n(),\n",
    "    .groups = 'drop'\n",
    "  )\n",
    "\n",
    "tabla_agregada <- tabla_agregada %>%\n",
    "  mutate(\n",
    "    Color = as.factor(Color),\n",
    "    Carroceria = as.factor(Carroceria),\n",
    "    CLASE_FASECOLDA = as.factor(CLASE_FASECOLDA),\n",
    "    TIPO_VEHICULO = as.factor(TIPO_VEHICULO),\n",
    "    SERVICIO = as.factor(SERVICIO),\n",
    "    Sexo_Aseg = as.factor(Sexo_Aseg),\n",
    "    Edad = as.factor(Edad),\n",
    "    Gama = as.factor(Gama)\n",
    "  )\n",
    "\n",
    "tabla_severidad <- tabla_agregada %>%\n",
    "  filter(n_siniestros > 0) %>%\n",
    "  mutate(\n",
    "    severidad_media = suma_pagos / n_siniestros,\n",
    "    across(where(is.factor), ~factor(., levels = levels(.)))\n",
    "  )"
   ]
  },
  {
   "cell_type": "code",
<<<<<<< HEAD
<<<<<<< HEAD
   "execution_count": 6,
=======
   "execution_count": 51,
>>>>>>> 4669d88f9706549ed2d2df0aade81afc6c41f85d
=======
   "execution_count": 59,
>>>>>>> b1d5a0f9a0d72690ae832caa1aaa2b8672f64672
   "id": "f8e4bf9b",
   "metadata": {
    "vscode": {
     "languageId": "r"
    }
   },
   "outputs": [
    {
     "data": {
      "text/html": [
       "<table class=\"dataframe\">\n",
       "<caption>A tibble: 6 × 13</caption>\n",
       "<thead>\n",
       "\t<tr><th scope=col>Modelo</th><th scope=col>Color</th><th scope=col>Carroceria</th><th scope=col>CLASE_FASECOLDA</th><th scope=col>TIPO_VEHICULO</th><th scope=col>SERVICIO</th><th scope=col>Sexo_Aseg</th><th scope=col>Edad</th><th scope=col>Gama</th><th scope=col>n_siniestros</th><th scope=col>exposicion_total</th><th scope=col>suma_pagos</th><th scope=col>n_observaciones</th></tr>\n",
       "\t<tr><th scope=col>&lt;chr&gt;</th><th scope=col>&lt;fct&gt;</th><th scope=col>&lt;fct&gt;</th><th scope=col>&lt;fct&gt;</th><th scope=col>&lt;fct&gt;</th><th scope=col>&lt;fct&gt;</th><th scope=col>&lt;fct&gt;</th><th scope=col>&lt;fct&gt;</th><th scope=col>&lt;fct&gt;</th><th scope=col>&lt;int&gt;</th><th scope=col>&lt;dbl&gt;</th><th scope=col>&lt;dbl&gt;</th><th scope=col>&lt;int&gt;</th></tr>\n",
       "</thead>\n",
       "<tbody>\n",
       "\t<tr><td>1993_1999</td><td>BLANCO</td><td>SEDAN</td><td>AUTOMOVIL</td><td>Livianos</td><td>Particular</td><td>F</td><td>19_41</td><td>Baja</td><td>2</td><td> 6.602740</td><td>8014069</td><td>13</td></tr>\n",
       "\t<tr><td>1993_1999</td><td>BLANCO</td><td>SEDAN</td><td>AUTOMOVIL</td><td>Livianos</td><td>Particular</td><td>F</td><td>41_63</td><td>Baja</td><td>2</td><td>10.580822</td><td>2204046</td><td>22</td></tr>\n",
       "\t<tr><td>1993_1999</td><td>BLANCO</td><td>SEDAN</td><td>AUTOMOVIL</td><td>Livianos</td><td>Particular</td><td>M</td><td>19_41</td><td>Baja</td><td>4</td><td>11.569863</td><td>6450375</td><td>23</td></tr>\n",
       "\t<tr><td>1993_1999</td><td>BLANCO</td><td>SEDAN</td><td>AUTOMOVIL</td><td>Livianos</td><td>Particular</td><td>M</td><td>41_63</td><td>Baja</td><td>2</td><td> 8.430137</td><td>4238816</td><td>16</td></tr>\n",
       "\t<tr><td>1993_1999</td><td>BLANCO</td><td>SEDAN</td><td>AUTOMOVIL</td><td>Livianos</td><td>Particular</td><td>M</td><td>63_85</td><td>Baja</td><td>0</td><td> 7.027397</td><td>      0</td><td>14</td></tr>\n",
       "\t<tr><td>1993_1999</td><td>Otros </td><td>Otros</td><td>CAMIONETA</td><td>Livianos</td><td>Particular</td><td>F</td><td>41_63</td><td>Baja</td><td>2</td><td> 3.010959</td><td>1208679</td><td> 6</td></tr>\n",
       "</tbody>\n",
       "</table>\n"
      ],
      "text/latex": [
       "A tibble: 6 × 13\n",
       "\\begin{tabular}{lllllllllllll}\n",
       " Modelo & Color & Carroceria & CLASE\\_FASECOLDA & TIPO\\_VEHICULO & SERVICIO & Sexo\\_Aseg & Edad & Gama & n\\_siniestros & exposicion\\_total & suma\\_pagos & n\\_observaciones\\\\\n",
       " <chr> & <fct> & <fct> & <fct> & <fct> & <fct> & <fct> & <fct> & <fct> & <int> & <dbl> & <dbl> & <int>\\\\\n",
       "\\hline\n",
       "\t 1993\\_1999 & BLANCO & SEDAN & AUTOMOVIL & Livianos & Particular & F & 19\\_41 & Baja & 2 &  6.602740 & 8014069 & 13\\\\\n",
       "\t 1993\\_1999 & BLANCO & SEDAN & AUTOMOVIL & Livianos & Particular & F & 41\\_63 & Baja & 2 & 10.580822 & 2204046 & 22\\\\\n",
       "\t 1993\\_1999 & BLANCO & SEDAN & AUTOMOVIL & Livianos & Particular & M & 19\\_41 & Baja & 4 & 11.569863 & 6450375 & 23\\\\\n",
       "\t 1993\\_1999 & BLANCO & SEDAN & AUTOMOVIL & Livianos & Particular & M & 41\\_63 & Baja & 2 &  8.430137 & 4238816 & 16\\\\\n",
       "\t 1993\\_1999 & BLANCO & SEDAN & AUTOMOVIL & Livianos & Particular & M & 63\\_85 & Baja & 0 &  7.027397 &       0 & 14\\\\\n",
       "\t 1993\\_1999 & Otros  & Otros & CAMIONETA & Livianos & Particular & F & 41\\_63 & Baja & 2 &  3.010959 & 1208679 &  6\\\\\n",
       "\\end{tabular}\n"
      ],
      "text/markdown": [
       "\n",
       "A tibble: 6 × 13\n",
       "\n",
       "| Modelo &lt;chr&gt; | Color &lt;fct&gt; | Carroceria &lt;fct&gt; | CLASE_FASECOLDA &lt;fct&gt; | TIPO_VEHICULO &lt;fct&gt; | SERVICIO &lt;fct&gt; | Sexo_Aseg &lt;fct&gt; | Edad &lt;fct&gt; | Gama &lt;fct&gt; | n_siniestros &lt;int&gt; | exposicion_total &lt;dbl&gt; | suma_pagos &lt;dbl&gt; | n_observaciones &lt;int&gt; |\n",
       "|---|---|---|---|---|---|---|---|---|---|---|---|---|\n",
       "| 1993_1999 | BLANCO | SEDAN | AUTOMOVIL | Livianos | Particular | F | 19_41 | Baja | 2 |  6.602740 | 8014069 | 13 |\n",
       "| 1993_1999 | BLANCO | SEDAN | AUTOMOVIL | Livianos | Particular | F | 41_63 | Baja | 2 | 10.580822 | 2204046 | 22 |\n",
       "| 1993_1999 | BLANCO | SEDAN | AUTOMOVIL | Livianos | Particular | M | 19_41 | Baja | 4 | 11.569863 | 6450375 | 23 |\n",
       "| 1993_1999 | BLANCO | SEDAN | AUTOMOVIL | Livianos | Particular | M | 41_63 | Baja | 2 |  8.430137 | 4238816 | 16 |\n",
       "| 1993_1999 | BLANCO | SEDAN | AUTOMOVIL | Livianos | Particular | M | 63_85 | Baja | 0 |  7.027397 |       0 | 14 |\n",
       "| 1993_1999 | Otros  | Otros | CAMIONETA | Livianos | Particular | F | 41_63 | Baja | 2 |  3.010959 | 1208679 |  6 |\n",
       "\n"
      ],
      "text/plain": [
       "  Modelo    Color  Carroceria CLASE_FASECOLDA TIPO_VEHICULO SERVICIO  \n",
       "1 1993_1999 BLANCO SEDAN      AUTOMOVIL       Livianos      Particular\n",
       "2 1993_1999 BLANCO SEDAN      AUTOMOVIL       Livianos      Particular\n",
       "3 1993_1999 BLANCO SEDAN      AUTOMOVIL       Livianos      Particular\n",
       "4 1993_1999 BLANCO SEDAN      AUTOMOVIL       Livianos      Particular\n",
       "5 1993_1999 BLANCO SEDAN      AUTOMOVIL       Livianos      Particular\n",
       "6 1993_1999 Otros  Otros      CAMIONETA       Livianos      Particular\n",
       "  Sexo_Aseg Edad  Gama n_siniestros exposicion_total suma_pagos n_observaciones\n",
       "1 F         19_41 Baja 2             6.602740        8014069    13             \n",
       "2 F         41_63 Baja 2            10.580822        2204046    22             \n",
       "3 M         19_41 Baja 4            11.569863        6450375    23             \n",
       "4 M         41_63 Baja 2             8.430137        4238816    16             \n",
       "5 M         63_85 Baja 0             7.027397              0    14             \n",
       "6 F         41_63 Baja 2             3.010959        1208679     6             "
      ]
     },
     "metadata": {},
     "output_type": "display_data"
    }
   ],
   "source": [
    "head(tabla_agregada)"
   ]
  },
  {
   "cell_type": "code",
<<<<<<< HEAD
<<<<<<< HEAD
   "execution_count": 7,
=======
   "execution_count": 52,
>>>>>>> 4669d88f9706549ed2d2df0aade81afc6c41f85d
=======
   "execution_count": 60,
>>>>>>> b1d5a0f9a0d72690ae832caa1aaa2b8672f64672
   "id": "f59173da",
   "metadata": {
    "vscode": {
     "languageId": "r"
    }
   },
   "outputs": [
    {
     "data": {
      "text/html": [
       "<table class=\"dataframe\">\n",
       "<caption>A tibble: 6 × 14</caption>\n",
       "<thead>\n",
       "\t<tr><th scope=col>Modelo</th><th scope=col>Color</th><th scope=col>Carroceria</th><th scope=col>CLASE_FASECOLDA</th><th scope=col>TIPO_VEHICULO</th><th scope=col>SERVICIO</th><th scope=col>Sexo_Aseg</th><th scope=col>Edad</th><th scope=col>Gama</th><th scope=col>n_siniestros</th><th scope=col>exposicion_total</th><th scope=col>suma_pagos</th><th scope=col>n_observaciones</th><th scope=col>severidad_media</th></tr>\n",
       "\t<tr><th scope=col>&lt;chr&gt;</th><th scope=col>&lt;fct&gt;</th><th scope=col>&lt;fct&gt;</th><th scope=col>&lt;fct&gt;</th><th scope=col>&lt;fct&gt;</th><th scope=col>&lt;fct&gt;</th><th scope=col>&lt;fct&gt;</th><th scope=col>&lt;fct&gt;</th><th scope=col>&lt;fct&gt;</th><th scope=col>&lt;int&gt;</th><th scope=col>&lt;dbl&gt;</th><th scope=col>&lt;dbl&gt;</th><th scope=col>&lt;int&gt;</th><th scope=col>&lt;dbl&gt;</th></tr>\n",
       "</thead>\n",
       "<tbody>\n",
       "\t<tr><td>1993_1999</td><td>BLANCO</td><td>SEDAN</td><td>AUTOMOVIL</td><td>Livianos</td><td>Particular</td><td>F</td><td>19_41</td><td>Baja</td><td>2</td><td> 6.602740</td><td>8014069</td><td>13</td><td>4007034.6</td></tr>\n",
       "\t<tr><td>1993_1999</td><td>BLANCO</td><td>SEDAN</td><td>AUTOMOVIL</td><td>Livianos</td><td>Particular</td><td>F</td><td>41_63</td><td>Baja</td><td>2</td><td>10.580822</td><td>2204046</td><td>22</td><td>1102023.2</td></tr>\n",
       "\t<tr><td>1993_1999</td><td>BLANCO</td><td>SEDAN</td><td>AUTOMOVIL</td><td>Livianos</td><td>Particular</td><td>M</td><td>19_41</td><td>Baja</td><td>4</td><td>11.569863</td><td>6450375</td><td>23</td><td>1612593.7</td></tr>\n",
       "\t<tr><td>1993_1999</td><td>BLANCO</td><td>SEDAN</td><td>AUTOMOVIL</td><td>Livianos</td><td>Particular</td><td>M</td><td>41_63</td><td>Baja</td><td>2</td><td> 8.430137</td><td>4238816</td><td>16</td><td>2119408.0</td></tr>\n",
       "\t<tr><td>1993_1999</td><td>Otros </td><td>Otros</td><td>CAMIONETA</td><td>Livianos</td><td>Particular</td><td>F</td><td>41_63</td><td>Baja</td><td>2</td><td> 3.010959</td><td>1208679</td><td> 6</td><td> 604339.6</td></tr>\n",
       "\t<tr><td>1993_1999</td><td>Otros </td><td>SEDAN</td><td>AUTOMOVIL</td><td>Livianos</td><td>Particular</td><td>F</td><td>19_41</td><td>Baja</td><td>2</td><td>16.800000</td><td>8213167</td><td>35</td><td>4106583.6</td></tr>\n",
       "</tbody>\n",
       "</table>\n"
      ],
      "text/latex": [
       "A tibble: 6 × 14\n",
       "\\begin{tabular}{llllllllllllll}\n",
       " Modelo & Color & Carroceria & CLASE\\_FASECOLDA & TIPO\\_VEHICULO & SERVICIO & Sexo\\_Aseg & Edad & Gama & n\\_siniestros & exposicion\\_total & suma\\_pagos & n\\_observaciones & severidad\\_media\\\\\n",
       " <chr> & <fct> & <fct> & <fct> & <fct> & <fct> & <fct> & <fct> & <fct> & <int> & <dbl> & <dbl> & <int> & <dbl>\\\\\n",
       "\\hline\n",
       "\t 1993\\_1999 & BLANCO & SEDAN & AUTOMOVIL & Livianos & Particular & F & 19\\_41 & Baja & 2 &  6.602740 & 8014069 & 13 & 4007034.6\\\\\n",
       "\t 1993\\_1999 & BLANCO & SEDAN & AUTOMOVIL & Livianos & Particular & F & 41\\_63 & Baja & 2 & 10.580822 & 2204046 & 22 & 1102023.2\\\\\n",
       "\t 1993\\_1999 & BLANCO & SEDAN & AUTOMOVIL & Livianos & Particular & M & 19\\_41 & Baja & 4 & 11.569863 & 6450375 & 23 & 1612593.7\\\\\n",
       "\t 1993\\_1999 & BLANCO & SEDAN & AUTOMOVIL & Livianos & Particular & M & 41\\_63 & Baja & 2 &  8.430137 & 4238816 & 16 & 2119408.0\\\\\n",
       "\t 1993\\_1999 & Otros  & Otros & CAMIONETA & Livianos & Particular & F & 41\\_63 & Baja & 2 &  3.010959 & 1208679 &  6 &  604339.6\\\\\n",
       "\t 1993\\_1999 & Otros  & SEDAN & AUTOMOVIL & Livianos & Particular & F & 19\\_41 & Baja & 2 & 16.800000 & 8213167 & 35 & 4106583.6\\\\\n",
       "\\end{tabular}\n"
      ],
      "text/markdown": [
       "\n",
       "A tibble: 6 × 14\n",
       "\n",
       "| Modelo &lt;chr&gt; | Color &lt;fct&gt; | Carroceria &lt;fct&gt; | CLASE_FASECOLDA &lt;fct&gt; | TIPO_VEHICULO &lt;fct&gt; | SERVICIO &lt;fct&gt; | Sexo_Aseg &lt;fct&gt; | Edad &lt;fct&gt; | Gama &lt;fct&gt; | n_siniestros &lt;int&gt; | exposicion_total &lt;dbl&gt; | suma_pagos &lt;dbl&gt; | n_observaciones &lt;int&gt; | severidad_media &lt;dbl&gt; |\n",
       "|---|---|---|---|---|---|---|---|---|---|---|---|---|---|\n",
       "| 1993_1999 | BLANCO | SEDAN | AUTOMOVIL | Livianos | Particular | F | 19_41 | Baja | 2 |  6.602740 | 8014069 | 13 | 4007034.6 |\n",
       "| 1993_1999 | BLANCO | SEDAN | AUTOMOVIL | Livianos | Particular | F | 41_63 | Baja | 2 | 10.580822 | 2204046 | 22 | 1102023.2 |\n",
       "| 1993_1999 | BLANCO | SEDAN | AUTOMOVIL | Livianos | Particular | M | 19_41 | Baja | 4 | 11.569863 | 6450375 | 23 | 1612593.7 |\n",
       "| 1993_1999 | BLANCO | SEDAN | AUTOMOVIL | Livianos | Particular | M | 41_63 | Baja | 2 |  8.430137 | 4238816 | 16 | 2119408.0 |\n",
       "| 1993_1999 | Otros  | Otros | CAMIONETA | Livianos | Particular | F | 41_63 | Baja | 2 |  3.010959 | 1208679 |  6 |  604339.6 |\n",
       "| 1993_1999 | Otros  | SEDAN | AUTOMOVIL | Livianos | Particular | F | 19_41 | Baja | 2 | 16.800000 | 8213167 | 35 | 4106583.6 |\n",
       "\n"
      ],
      "text/plain": [
       "  Modelo    Color  Carroceria CLASE_FASECOLDA TIPO_VEHICULO SERVICIO  \n",
       "1 1993_1999 BLANCO SEDAN      AUTOMOVIL       Livianos      Particular\n",
       "2 1993_1999 BLANCO SEDAN      AUTOMOVIL       Livianos      Particular\n",
       "3 1993_1999 BLANCO SEDAN      AUTOMOVIL       Livianos      Particular\n",
       "4 1993_1999 BLANCO SEDAN      AUTOMOVIL       Livianos      Particular\n",
       "5 1993_1999 Otros  Otros      CAMIONETA       Livianos      Particular\n",
       "6 1993_1999 Otros  SEDAN      AUTOMOVIL       Livianos      Particular\n",
       "  Sexo_Aseg Edad  Gama n_siniestros exposicion_total suma_pagos n_observaciones\n",
       "1 F         19_41 Baja 2             6.602740        8014069    13             \n",
       "2 F         41_63 Baja 2            10.580822        2204046    22             \n",
       "3 M         19_41 Baja 4            11.569863        6450375    23             \n",
       "4 M         41_63 Baja 2             8.430137        4238816    16             \n",
       "5 F         41_63 Baja 2             3.010959        1208679     6             \n",
       "6 F         19_41 Baja 2            16.800000        8213167    35             \n",
       "  severidad_media\n",
       "1 4007034.6      \n",
       "2 1102023.2      \n",
       "3 1612593.7      \n",
       "4 2119408.0      \n",
       "5  604339.6      \n",
       "6 4106583.6      "
      ]
     },
     "metadata": {},
     "output_type": "display_data"
    }
   ],
   "source": [
    "head(tabla_severidad)"
   ]
  },
  {
   "cell_type": "code",
<<<<<<< HEAD
<<<<<<< HEAD
   "execution_count": 8,
=======
   "execution_count": 53,
>>>>>>> 4669d88f9706549ed2d2df0aade81afc6c41f85d
=======
   "execution_count": 61,
>>>>>>> b1d5a0f9a0d72690ae832caa1aaa2b8672f64672
   "id": "c38a84b7",
   "metadata": {
    "vscode": {
     "languageId": "r"
    }
   },
   "outputs": [
    {
     "name": "stdout",
     "output_type": "stream",
     "text": [
      "tibble [333 × 13] (S3: tbl_df/tbl/data.frame)\n",
      " $ Modelo          : chr [1:333] \"1993_1999\" \"1993_1999\" \"1993_1999\" \"1993_1999\" ...\n",
      " $ Color           : Factor w/ 4 levels \"AMARILLO\",\"BLANCO\",..: 2 2 2 2 2 3 3 3 3 3 ...\n",
      " $ Carroceria      : Factor w/ 4 levels \"CABINADO\",\"HATCHBACK\",..: 4 4 4 4 4 3 4 4 4 4 ...\n",
      " $ CLASE_FASECOLDA : Factor w/ 4 levels \"AUTOMOVIL\",\"AUTOMOVIL TAXI\",..: 1 1 1 1 1 3 1 1 1 1 ...\n",
      " $ TIPO_VEHICULO   : Factor w/ 2 levels \"Livianos\",\"Pesados\": 1 1 1 1 1 1 1 1 1 1 ...\n",
      " $ SERVICIO        : Factor w/ 4 levels \"Oficial\",\"Particular\",..: 2 2 2 2 2 2 2 2 2 2 ...\n",
      " $ Sexo_Aseg       : Factor w/ 3 levels \"F\",\"M\",\"No_Binarie\": 1 1 2 2 2 1 1 1 1 2 ...\n",
      " $ Edad            : Factor w/ 4 levels \"19_41\",\"41_63\",..: 1 2 1 2 3 2 1 2 4 1 ...\n",
      " $ Gama            : Factor w/ 3 levels \"Baja\",\"Media\",..: 1 1 1 1 1 1 1 1 1 1 ...\n",
      " $ n_siniestros    : int [1:333] 2 2 4 2 0 2 2 6 4 4 ...\n",
      " $ exposicion_total: num [1:333] 6.6 10.58 11.57 8.43 7.03 ...\n",
      " $ suma_pagos      : num [1:333] 8014069 2204046 6450375 4238816 0 ...\n",
      " $ n_observaciones : int [1:333] 13 22 23 16 14 6 35 49 20 35 ...\n"
     ]
    }
   ],
   "source": [
    "# Primero, veamos qué tipo de variables tienes\n",
    "str(tabla_agregada)"
   ]
  },
  {
   "cell_type": "code",
<<<<<<< HEAD
<<<<<<< HEAD
   "execution_count": 9,
=======
   "execution_count": 54,
>>>>>>> 4669d88f9706549ed2d2df0aade81afc6c41f85d
=======
   "execution_count": 62,
>>>>>>> b1d5a0f9a0d72690ae832caa1aaa2b8672f64672
   "id": "b4b88998",
   "metadata": {
    "vscode": {
     "languageId": "r"
    }
   },
   "outputs": [],
   "source": [
    "write.csv(tabla_severidad, \"../data/processed/tabla_severidad.csv\")"
   ]
  }
 ],
 "metadata": {
  "kernelspec": {
   "display_name": "R",
   "language": "R",
   "name": "ir"
  },
  "language_info": {
   "codemirror_mode": "r",
   "file_extension": ".r",
   "mimetype": "text/x-r-source",
   "name": "R",
   "pygments_lexer": "r",
   "version": "4.2.3"
  }
 },
 "nbformat": 4,
 "nbformat_minor": 5
}
