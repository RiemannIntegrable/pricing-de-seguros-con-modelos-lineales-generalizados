{
 "cells": [
  {
   "cell_type": "markdown",
   "id": "2067efff",
   "metadata": {},
   "source": [
    "<div align = \"center\">\n",
    "\n",
    "# **Limpieza extra para Frecuencia-Severidad**\n",
    "\n",
    "</div>"
   ]
  },
  {
   "cell_type": "markdown",
   "id": "28175316",
   "metadata": {},
   "source": [
    "## Librerias"
   ]
  },
  {
   "cell_type": "code",
   "execution_count": 14,
   "id": "666032fb",
   "metadata": {
    "vscode": {
     "languageId": "r"
    }
   },
   "outputs": [],
   "source": [
    "library(dplyr)\n",
    "library(tidyr)"
   ]
  },
  {
   "cell_type": "markdown",
   "id": "95660e50",
   "metadata": {},
   "source": [
    "## Data"
   ]
  },
  {
   "cell_type": "code",
   "execution_count": 15,
   "id": "bb0a13a0",
   "metadata": {
    "vscode": {
     "languageId": "r"
    }
   },
   "outputs": [],
   "source": [
    "datos_limpios <- read.csv(\"../data/processed/datos_limpios.csv\")"
   ]
  },
  {
   "cell_type": "code",
   "execution_count": 16,
   "id": "29cf964f",
   "metadata": {
    "vscode": {
     "languageId": "r"
    }
   },
   "outputs": [
    {
     "data": {
      "text/html": [
       "<table class=\"dataframe\">\n",
       "<caption>A data.frame: 6 × 19</caption>\n",
       "<thead>\n",
       "\t<tr><th></th><th scope=col>Amparo</th><th scope=col>SumaDePagos</th><th scope=col>Modelo</th><th scope=col>Color</th><th scope=col>Carroceria</th><th scope=col>Referencia1</th><th scope=col>Referencia2</th><th scope=col>CLASE_FASECOLDA</th><th scope=col>TIPO_VEHICULO</th><th scope=col>SERVICIO</th><th scope=col>Sexo_Aseg</th><th scope=col>Vr_Comercial</th><th scope=col>Pago</th><th scope=col>Accidentado</th><th scope=col>exposicion</th><th scope=col>mes</th><th scope=col>Edad_19_41</th><th scope=col>Edad_41_63</th><th scope=col>Edad_63_85</th></tr>\n",
       "\t<tr><th></th><th scope=col>&lt;chr&gt;</th><th scope=col>&lt;dbl&gt;</th><th scope=col>&lt;int&gt;</th><th scope=col>&lt;chr&gt;</th><th scope=col>&lt;chr&gt;</th><th scope=col>&lt;chr&gt;</th><th scope=col>&lt;chr&gt;</th><th scope=col>&lt;chr&gt;</th><th scope=col>&lt;chr&gt;</th><th scope=col>&lt;chr&gt;</th><th scope=col>&lt;chr&gt;</th><th scope=col>&lt;dbl&gt;</th><th scope=col>&lt;chr&gt;</th><th scope=col>&lt;int&gt;</th><th scope=col>&lt;int&gt;</th><th scope=col>&lt;int&gt;</th><th scope=col>&lt;int&gt;</th><th scope=col>&lt;int&gt;</th><th scope=col>&lt;int&gt;</th></tr>\n",
       "</thead>\n",
       "<tbody>\n",
       "\t<tr><th scope=row>1</th><td>No aplica</td><td>0</td><td>2013</td><td>ROJO </td><td>SEDAN    </td><td>VELOSTER  </td><td>COUPE</td><td>AUTOMOVIL</td><td>Livianos</td><td>Particular</td><td>F</td><td>63430970</td><td>No</td><td>0</td><td> 94</td><td>12</td><td>1</td><td>0</td><td>0</td></tr>\n",
       "\t<tr><th scope=row>2</th><td>No aplica</td><td>0</td><td>2013</td><td>ROJO </td><td>SEDAN    </td><td>VELOSTER  </td><td>COUPE</td><td>AUTOMOVIL</td><td>Livianos</td><td>Particular</td><td>F</td><td>61150073</td><td>No</td><td>0</td><td>319</td><td>11</td><td>1</td><td>0</td><td>0</td></tr>\n",
       "\t<tr><th scope=row>3</th><td>No aplica</td><td>0</td><td>2010</td><td>PLATA</td><td>HATCHBACK</td><td>ATOS [2]  </td><td>PRIME</td><td>AUTOMOVIL</td><td>Livianos</td><td>Particular</td><td>M</td><td>18415081</td><td>No</td><td>0</td><td> 92</td><td>12</td><td>0</td><td>0</td><td>1</td></tr>\n",
       "\t<tr><th scope=row>4</th><td>No aplica</td><td>0</td><td>2010</td><td>PLATA</td><td>HATCHBACK</td><td>ATOS [2]  </td><td>PRIME</td><td>AUTOMOVIL</td><td>Livianos</td><td>Particular</td><td>M</td><td>17752898</td><td>No</td><td>0</td><td>275</td><td>10</td><td>0</td><td>0</td><td>1</td></tr>\n",
       "\t<tr><th scope=row>5</th><td>No aplica</td><td>0</td><td>2012</td><td>PLATA</td><td>SEDAN    </td><td>ACCENT i25</td><td>1.4L </td><td>AUTOMOVIL</td><td>Livianos</td><td>Particular</td><td>F</td><td>37562534</td><td>No</td><td>0</td><td>322</td><td>12</td><td>1</td><td>0</td><td>0</td></tr>\n",
       "\t<tr><th scope=row>6</th><td>No aplica</td><td>0</td><td>2012</td><td>PLATA</td><td>SEDAN    </td><td>ACCENT i25</td><td>1.4L </td><td>AUTOMOVIL</td><td>Livianos</td><td>Particular</td><td>F</td><td>36667838</td><td>No</td><td>0</td><td> 45</td><td> 2</td><td>1</td><td>0</td><td>0</td></tr>\n",
       "</tbody>\n",
       "</table>\n"
      ],
      "text/latex": [
       "A data.frame: 6 × 19\n",
       "\\begin{tabular}{r|lllllllllllllllllll}\n",
       "  & Amparo & SumaDePagos & Modelo & Color & Carroceria & Referencia1 & Referencia2 & CLASE\\_FASECOLDA & TIPO\\_VEHICULO & SERVICIO & Sexo\\_Aseg & Vr\\_Comercial & Pago & Accidentado & exposicion & mes & Edad\\_19\\_41 & Edad\\_41\\_63 & Edad\\_63\\_85\\\\\n",
       "  & <chr> & <dbl> & <int> & <chr> & <chr> & <chr> & <chr> & <chr> & <chr> & <chr> & <chr> & <dbl> & <chr> & <int> & <int> & <int> & <int> & <int> & <int>\\\\\n",
       "\\hline\n",
       "\t1 & No aplica & 0 & 2013 & ROJO  & SEDAN     & VELOSTER   & COUPE & AUTOMOVIL & Livianos & Particular & F & 63430970 & No & 0 &  94 & 12 & 1 & 0 & 0\\\\\n",
       "\t2 & No aplica & 0 & 2013 & ROJO  & SEDAN     & VELOSTER   & COUPE & AUTOMOVIL & Livianos & Particular & F & 61150073 & No & 0 & 319 & 11 & 1 & 0 & 0\\\\\n",
       "\t3 & No aplica & 0 & 2010 & PLATA & HATCHBACK & ATOS {[}2{]}   & PRIME & AUTOMOVIL & Livianos & Particular & M & 18415081 & No & 0 &  92 & 12 & 0 & 0 & 1\\\\\n",
       "\t4 & No aplica & 0 & 2010 & PLATA & HATCHBACK & ATOS {[}2{]}   & PRIME & AUTOMOVIL & Livianos & Particular & M & 17752898 & No & 0 & 275 & 10 & 0 & 0 & 1\\\\\n",
       "\t5 & No aplica & 0 & 2012 & PLATA & SEDAN     & ACCENT i25 & 1.4L  & AUTOMOVIL & Livianos & Particular & F & 37562534 & No & 0 & 322 & 12 & 1 & 0 & 0\\\\\n",
       "\t6 & No aplica & 0 & 2012 & PLATA & SEDAN     & ACCENT i25 & 1.4L  & AUTOMOVIL & Livianos & Particular & F & 36667838 & No & 0 &  45 &  2 & 1 & 0 & 0\\\\\n",
       "\\end{tabular}\n"
      ],
      "text/markdown": [
       "\n",
       "A data.frame: 6 × 19\n",
       "\n",
       "| <!--/--> | Amparo &lt;chr&gt; | SumaDePagos &lt;dbl&gt; | Modelo &lt;int&gt; | Color &lt;chr&gt; | Carroceria &lt;chr&gt; | Referencia1 &lt;chr&gt; | Referencia2 &lt;chr&gt; | CLASE_FASECOLDA &lt;chr&gt; | TIPO_VEHICULO &lt;chr&gt; | SERVICIO &lt;chr&gt; | Sexo_Aseg &lt;chr&gt; | Vr_Comercial &lt;dbl&gt; | Pago &lt;chr&gt; | Accidentado &lt;int&gt; | exposicion &lt;int&gt; | mes &lt;int&gt; | Edad_19_41 &lt;int&gt; | Edad_41_63 &lt;int&gt; | Edad_63_85 &lt;int&gt; |\n",
       "|---|---|---|---|---|---|---|---|---|---|---|---|---|---|---|---|---|---|---|---|\n",
       "| 1 | No aplica | 0 | 2013 | ROJO  | SEDAN     | VELOSTER   | COUPE | AUTOMOVIL | Livianos | Particular | F | 63430970 | No | 0 |  94 | 12 | 1 | 0 | 0 |\n",
       "| 2 | No aplica | 0 | 2013 | ROJO  | SEDAN     | VELOSTER   | COUPE | AUTOMOVIL | Livianos | Particular | F | 61150073 | No | 0 | 319 | 11 | 1 | 0 | 0 |\n",
       "| 3 | No aplica | 0 | 2010 | PLATA | HATCHBACK | ATOS [2]   | PRIME | AUTOMOVIL | Livianos | Particular | M | 18415081 | No | 0 |  92 | 12 | 0 | 0 | 1 |\n",
       "| 4 | No aplica | 0 | 2010 | PLATA | HATCHBACK | ATOS [2]   | PRIME | AUTOMOVIL | Livianos | Particular | M | 17752898 | No | 0 | 275 | 10 | 0 | 0 | 1 |\n",
       "| 5 | No aplica | 0 | 2012 | PLATA | SEDAN     | ACCENT i25 | 1.4L  | AUTOMOVIL | Livianos | Particular | F | 37562534 | No | 0 | 322 | 12 | 1 | 0 | 0 |\n",
       "| 6 | No aplica | 0 | 2012 | PLATA | SEDAN     | ACCENT i25 | 1.4L  | AUTOMOVIL | Livianos | Particular | F | 36667838 | No | 0 |  45 |  2 | 1 | 0 | 0 |\n",
       "\n"
      ],
      "text/plain": [
       "  Amparo    SumaDePagos Modelo Color Carroceria Referencia1 Referencia2\n",
       "1 No aplica 0           2013   ROJO  SEDAN      VELOSTER    COUPE      \n",
       "2 No aplica 0           2013   ROJO  SEDAN      VELOSTER    COUPE      \n",
       "3 No aplica 0           2010   PLATA HATCHBACK  ATOS [2]    PRIME      \n",
       "4 No aplica 0           2010   PLATA HATCHBACK  ATOS [2]    PRIME      \n",
       "5 No aplica 0           2012   PLATA SEDAN      ACCENT i25  1.4L       \n",
       "6 No aplica 0           2012   PLATA SEDAN      ACCENT i25  1.4L       \n",
       "  CLASE_FASECOLDA TIPO_VEHICULO SERVICIO   Sexo_Aseg Vr_Comercial Pago\n",
       "1 AUTOMOVIL       Livianos      Particular F         63430970     No  \n",
       "2 AUTOMOVIL       Livianos      Particular F         61150073     No  \n",
       "3 AUTOMOVIL       Livianos      Particular M         18415081     No  \n",
       "4 AUTOMOVIL       Livianos      Particular M         17752898     No  \n",
       "5 AUTOMOVIL       Livianos      Particular F         37562534     No  \n",
       "6 AUTOMOVIL       Livianos      Particular F         36667838     No  \n",
       "  Accidentado exposicion mes Edad_19_41 Edad_41_63 Edad_63_85\n",
       "1 0            94        12  1          0          0         \n",
       "2 0           319        11  1          0          0         \n",
       "3 0            92        12  0          0          1         \n",
       "4 0           275        10  0          0          1         \n",
       "5 0           322        12  1          0          0         \n",
       "6 0            45         2  1          0          0         "
      ]
     },
     "metadata": {},
     "output_type": "display_data"
    }
   ],
   "source": [
    "head(datos_limpios)"
   ]
  },
  {
   "cell_type": "markdown",
   "id": "791dea10",
   "metadata": {},
   "source": [
    "## Agrupando"
   ]
  },
  {
   "cell_type": "code",
   "execution_count": 17,
   "id": "7c7ff6af",
   "metadata": {
    "vscode": {
     "languageId": "r"
    }
   },
   "outputs": [],
   "source": [
    "# Variables categóricas relevantes para el modelo\n",
    "variables_tarifa <- c(\"Modelo\", \"Color\", \"Carroceria\", \"CLASE_FASECOLDA\", \n",
    "                      \"TIPO_VEHICULO\", \"SERVICIO\", \"Sexo_Aseg\")\n",
    "\n",
    "# Crear variables de edad categóricas basadas en las dummies\n",
    "datos_limpios <- datos_limpios %>%\n",
    "  mutate(\n",
    "    Grupo_Edad = case_when(\n",
    "      Edad_19_41 == 1 ~ \"19-41\",\n",
    "      Edad_41_63 == 1 ~ \"41-63\", \n",
    "      Edad_63_85 == 1 ~ \"63-85\",\n",
    "      TRUE ~ \"Otro\"  # Por si hay casos fuera de estos rangos\n",
    "    )\n",
    "  )\n",
    "\n",
    "# Agregar datos por celda tarifaria\n",
    "tabla_agregada <- datos_limpios %>%\n",
    "  group_by(across(all_of(c(variables_tarifa, \"Grupo_Edad\")))) %>%\n",
    "  summarize(\n",
    "    valor = sum(Vr_Comercial),\n",
    "\n",
    "    # Para el modelo de frecuencia\n",
    "    n_siniestros = sum(Accidentado),\n",
    "    exposicion_total = sum(exposicion),\n",
    "    \n",
    "    # Para el modelo de severidad\n",
    "    suma_pagos = sum(SumaDePagos),\n",
    "    n_observaciones = n(),\n",
    "    \n",
    "    .groups = 'drop'\n",
    "  )\n",
    "\n",
    "# Convertir variables categóricas a factores en tabla_agregada\n",
    "tabla_agregada <- tabla_agregada %>%\n",
    "  mutate(\n",
    "    Color = as.factor(Color),\n",
    "    Carroceria = as.factor(Carroceria),\n",
    "    CLASE_FASECOLDA = as.factor(CLASE_FASECOLDA),\n",
    "    TIPO_VEHICULO = as.factor(TIPO_VEHICULO),\n",
    "    SERVICIO = as.factor(SERVICIO),\n",
    "    Sexo_Aseg = as.factor(Sexo_Aseg),\n",
    "    Grupo_Edad = as.factor(Grupo_Edad)\n",
    "  )\n",
    "\n",
    "# Crear subset para severidad (solo celdas con siniestros)\n",
    "tabla_severidad <- tabla_agregada %>%\n",
    "  filter(n_siniestros > 0) %>%\n",
    "  mutate(\n",
    "    severidad_media = suma_pagos / n_siniestros,\n",
    "    # Mantener todos los niveles de los factores aunque no aparezcan en los datos filtrados\n",
    "    across(where(is.factor), ~factor(., levels = levels(.)))\n",
    "  )"
   ]
  },
  {
   "cell_type": "code",
   "execution_count": 18,
   "id": "f8e4bf9b",
   "metadata": {
    "vscode": {
     "languageId": "r"
    }
   },
   "outputs": [
    {
     "data": {
      "text/html": [
       "<table class=\"dataframe\">\n",
       "<caption>A tibble: 6 × 13</caption>\n",
       "<thead>\n",
       "\t<tr><th scope=col>Modelo</th><th scope=col>Color</th><th scope=col>Carroceria</th><th scope=col>CLASE_FASECOLDA</th><th scope=col>TIPO_VEHICULO</th><th scope=col>SERVICIO</th><th scope=col>Sexo_Aseg</th><th scope=col>Grupo_Edad</th><th scope=col>valor</th><th scope=col>n_siniestros</th><th scope=col>exposicion_total</th><th scope=col>suma_pagos</th><th scope=col>n_observaciones</th></tr>\n",
       "\t<tr><th scope=col>&lt;int&gt;</th><th scope=col>&lt;fct&gt;</th><th scope=col>&lt;fct&gt;</th><th scope=col>&lt;fct&gt;</th><th scope=col>&lt;fct&gt;</th><th scope=col>&lt;fct&gt;</th><th scope=col>&lt;fct&gt;</th><th scope=col>&lt;fct&gt;</th><th scope=col>&lt;dbl&gt;</th><th scope=col>&lt;int&gt;</th><th scope=col>&lt;int&gt;</th><th scope=col>&lt;dbl&gt;</th><th scope=col>&lt;int&gt;</th></tr>\n",
       "</thead>\n",
       "<tbody>\n",
       "\t<tr><td>1993</td><td>ROJO   </td><td>SEDAN</td><td>AUTOMOVIL</td><td>Livianos</td><td>Particular</td><td>F</td><td>41-63</td><td> 64667906</td><td>2</td><td>1834</td><td>2558114</td><td>10</td></tr>\n",
       "\t<tr><td>1993</td><td>ROJO   </td><td>SEDAN</td><td>AUTOMOVIL</td><td>Livianos</td><td>Particular</td><td>M</td><td>19-41</td><td> 76728037</td><td>2</td><td>1203</td><td>4883644</td><td> 7</td></tr>\n",
       "\t<tr><td>1995</td><td>VIOLETA</td><td>SEDAN</td><td>AUTOMOVIL</td><td>Livianos</td><td>Particular</td><td>F</td><td>19-41</td><td>207726695</td><td>0</td><td>3341</td><td>      0</td><td>19</td></tr>\n",
       "\t<tr><td>1997</td><td>BLANCO </td><td>SEDAN</td><td>AUTOMOVIL</td><td>Livianos</td><td>Particular</td><td>M</td><td>41-63</td><td>121930553</td><td>2</td><td>3077</td><td>4238816</td><td>16</td></tr>\n",
       "\t<tr><td>1998</td><td>AZUL   </td><td>SEDAN</td><td>AUTOMOVIL</td><td>Livianos</td><td>Particular</td><td>F</td><td>19-41</td><td>130833256</td><td>2</td><td>2791</td><td>8213167</td><td>16</td></tr>\n",
       "\t<tr><td>1998</td><td>AZUL   </td><td>SEDAN</td><td>AUTOMOVIL</td><td>Livianos</td><td>Particular</td><td>F</td><td>41-63</td><td> 71570700</td><td>0</td><td>1466</td><td>      0</td><td> 8</td></tr>\n",
       "</tbody>\n",
       "</table>\n"
      ],
      "text/latex": [
       "A tibble: 6 × 13\n",
       "\\begin{tabular}{lllllllllllll}\n",
       " Modelo & Color & Carroceria & CLASE\\_FASECOLDA & TIPO\\_VEHICULO & SERVICIO & Sexo\\_Aseg & Grupo\\_Edad & valor & n\\_siniestros & exposicion\\_total & suma\\_pagos & n\\_observaciones\\\\\n",
       " <int> & <fct> & <fct> & <fct> & <fct> & <fct> & <fct> & <fct> & <dbl> & <int> & <int> & <dbl> & <int>\\\\\n",
       "\\hline\n",
       "\t 1993 & ROJO    & SEDAN & AUTOMOVIL & Livianos & Particular & F & 41-63 &  64667906 & 2 & 1834 & 2558114 & 10\\\\\n",
       "\t 1993 & ROJO    & SEDAN & AUTOMOVIL & Livianos & Particular & M & 19-41 &  76728037 & 2 & 1203 & 4883644 &  7\\\\\n",
       "\t 1995 & VIOLETA & SEDAN & AUTOMOVIL & Livianos & Particular & F & 19-41 & 207726695 & 0 & 3341 &       0 & 19\\\\\n",
       "\t 1997 & BLANCO  & SEDAN & AUTOMOVIL & Livianos & Particular & M & 41-63 & 121930553 & 2 & 3077 & 4238816 & 16\\\\\n",
       "\t 1998 & AZUL    & SEDAN & AUTOMOVIL & Livianos & Particular & F & 19-41 & 130833256 & 2 & 2791 & 8213167 & 16\\\\\n",
       "\t 1998 & AZUL    & SEDAN & AUTOMOVIL & Livianos & Particular & F & 41-63 &  71570700 & 0 & 1466 &       0 &  8\\\\\n",
       "\\end{tabular}\n"
      ],
      "text/markdown": [
       "\n",
       "A tibble: 6 × 13\n",
       "\n",
       "| Modelo &lt;int&gt; | Color &lt;fct&gt; | Carroceria &lt;fct&gt; | CLASE_FASECOLDA &lt;fct&gt; | TIPO_VEHICULO &lt;fct&gt; | SERVICIO &lt;fct&gt; | Sexo_Aseg &lt;fct&gt; | Grupo_Edad &lt;fct&gt; | valor &lt;dbl&gt; | n_siniestros &lt;int&gt; | exposicion_total &lt;int&gt; | suma_pagos &lt;dbl&gt; | n_observaciones &lt;int&gt; |\n",
       "|---|---|---|---|---|---|---|---|---|---|---|---|---|\n",
       "| 1993 | ROJO    | SEDAN | AUTOMOVIL | Livianos | Particular | F | 41-63 |  64667906 | 2 | 1834 | 2558114 | 10 |\n",
       "| 1993 | ROJO    | SEDAN | AUTOMOVIL | Livianos | Particular | M | 19-41 |  76728037 | 2 | 1203 | 4883644 |  7 |\n",
       "| 1995 | VIOLETA | SEDAN | AUTOMOVIL | Livianos | Particular | F | 19-41 | 207726695 | 0 | 3341 |       0 | 19 |\n",
       "| 1997 | BLANCO  | SEDAN | AUTOMOVIL | Livianos | Particular | M | 41-63 | 121930553 | 2 | 3077 | 4238816 | 16 |\n",
       "| 1998 | AZUL    | SEDAN | AUTOMOVIL | Livianos | Particular | F | 19-41 | 130833256 | 2 | 2791 | 8213167 | 16 |\n",
       "| 1998 | AZUL    | SEDAN | AUTOMOVIL | Livianos | Particular | F | 41-63 |  71570700 | 0 | 1466 |       0 |  8 |\n",
       "\n"
      ],
      "text/plain": [
       "  Modelo Color   Carroceria CLASE_FASECOLDA TIPO_VEHICULO SERVICIO   Sexo_Aseg\n",
       "1 1993   ROJO    SEDAN      AUTOMOVIL       Livianos      Particular F        \n",
       "2 1993   ROJO    SEDAN      AUTOMOVIL       Livianos      Particular M        \n",
       "3 1995   VIOLETA SEDAN      AUTOMOVIL       Livianos      Particular F        \n",
       "4 1997   BLANCO  SEDAN      AUTOMOVIL       Livianos      Particular M        \n",
       "5 1998   AZUL    SEDAN      AUTOMOVIL       Livianos      Particular F        \n",
       "6 1998   AZUL    SEDAN      AUTOMOVIL       Livianos      Particular F        \n",
       "  Grupo_Edad valor     n_siniestros exposicion_total suma_pagos n_observaciones\n",
       "1 41-63       64667906 2            1834             2558114    10             \n",
       "2 19-41       76728037 2            1203             4883644     7             \n",
       "3 19-41      207726695 0            3341                   0    19             \n",
       "4 41-63      121930553 2            3077             4238816    16             \n",
       "5 19-41      130833256 2            2791             8213167    16             \n",
       "6 41-63       71570700 0            1466                   0     8             "
      ]
     },
     "metadata": {},
     "output_type": "display_data"
    }
   ],
   "source": [
    "head(tabla_agregada)"
   ]
  },
  {
   "cell_type": "code",
   "execution_count": 19,
   "id": "f59173da",
   "metadata": {
    "vscode": {
     "languageId": "r"
    }
   },
   "outputs": [
    {
     "data": {
      "text/html": [
       "<table class=\"dataframe\">\n",
       "<caption>A tibble: 6 × 14</caption>\n",
       "<thead>\n",
       "\t<tr><th scope=col>Modelo</th><th scope=col>Color</th><th scope=col>Carroceria</th><th scope=col>CLASE_FASECOLDA</th><th scope=col>TIPO_VEHICULO</th><th scope=col>SERVICIO</th><th scope=col>Sexo_Aseg</th><th scope=col>Grupo_Edad</th><th scope=col>valor</th><th scope=col>n_siniestros</th><th scope=col>exposicion_total</th><th scope=col>suma_pagos</th><th scope=col>n_observaciones</th><th scope=col>severidad_media</th></tr>\n",
       "\t<tr><th scope=col>&lt;int&gt;</th><th scope=col>&lt;fct&gt;</th><th scope=col>&lt;fct&gt;</th><th scope=col>&lt;fct&gt;</th><th scope=col>&lt;fct&gt;</th><th scope=col>&lt;fct&gt;</th><th scope=col>&lt;fct&gt;</th><th scope=col>&lt;fct&gt;</th><th scope=col>&lt;dbl&gt;</th><th scope=col>&lt;int&gt;</th><th scope=col>&lt;int&gt;</th><th scope=col>&lt;dbl&gt;</th><th scope=col>&lt;int&gt;</th><th scope=col>&lt;dbl&gt;</th></tr>\n",
       "</thead>\n",
       "<tbody>\n",
       "\t<tr><td>1993</td><td>ROJO  </td><td>SEDAN</td><td>AUTOMOVIL</td><td>Livianos</td><td>Particular</td><td>F</td><td>41-63</td><td> 64667906</td><td>2</td><td>1834</td><td>2558114</td><td>10</td><td>1279057</td></tr>\n",
       "\t<tr><td>1993</td><td>ROJO  </td><td>SEDAN</td><td>AUTOMOVIL</td><td>Livianos</td><td>Particular</td><td>M</td><td>19-41</td><td> 76728037</td><td>2</td><td>1203</td><td>4883644</td><td> 7</td><td>2441822</td></tr>\n",
       "\t<tr><td>1997</td><td>BLANCO</td><td>SEDAN</td><td>AUTOMOVIL</td><td>Livianos</td><td>Particular</td><td>M</td><td>41-63</td><td>121930553</td><td>2</td><td>3077</td><td>4238816</td><td>16</td><td>2119408</td></tr>\n",
       "\t<tr><td>1998</td><td>AZUL  </td><td>SEDAN</td><td>AUTOMOVIL</td><td>Livianos</td><td>Particular</td><td>F</td><td>19-41</td><td>130833256</td><td>2</td><td>2791</td><td>8213167</td><td>16</td><td>4106584</td></tr>\n",
       "\t<tr><td>1998</td><td>BLANCO</td><td>SEDAN</td><td>AUTOMOVIL</td><td>Livianos</td><td>Particular</td><td>F</td><td>19-41</td><td>101517338</td><td>2</td><td>2410</td><td>8014069</td><td>13</td><td>4007035</td></tr>\n",
       "\t<tr><td>1998</td><td>BLANCO</td><td>SEDAN</td><td>AUTOMOVIL</td><td>Livianos</td><td>Particular</td><td>M</td><td>19-41</td><td>180459141</td><td>4</td><td>4223</td><td>6450375</td><td>23</td><td>1612594</td></tr>\n",
       "</tbody>\n",
       "</table>\n"
      ],
      "text/latex": [
       "A tibble: 6 × 14\n",
       "\\begin{tabular}{llllllllllllll}\n",
       " Modelo & Color & Carroceria & CLASE\\_FASECOLDA & TIPO\\_VEHICULO & SERVICIO & Sexo\\_Aseg & Grupo\\_Edad & valor & n\\_siniestros & exposicion\\_total & suma\\_pagos & n\\_observaciones & severidad\\_media\\\\\n",
       " <int> & <fct> & <fct> & <fct> & <fct> & <fct> & <fct> & <fct> & <dbl> & <int> & <int> & <dbl> & <int> & <dbl>\\\\\n",
       "\\hline\n",
       "\t 1993 & ROJO   & SEDAN & AUTOMOVIL & Livianos & Particular & F & 41-63 &  64667906 & 2 & 1834 & 2558114 & 10 & 1279057\\\\\n",
       "\t 1993 & ROJO   & SEDAN & AUTOMOVIL & Livianos & Particular & M & 19-41 &  76728037 & 2 & 1203 & 4883644 &  7 & 2441822\\\\\n",
       "\t 1997 & BLANCO & SEDAN & AUTOMOVIL & Livianos & Particular & M & 41-63 & 121930553 & 2 & 3077 & 4238816 & 16 & 2119408\\\\\n",
       "\t 1998 & AZUL   & SEDAN & AUTOMOVIL & Livianos & Particular & F & 19-41 & 130833256 & 2 & 2791 & 8213167 & 16 & 4106584\\\\\n",
       "\t 1998 & BLANCO & SEDAN & AUTOMOVIL & Livianos & Particular & F & 19-41 & 101517338 & 2 & 2410 & 8014069 & 13 & 4007035\\\\\n",
       "\t 1998 & BLANCO & SEDAN & AUTOMOVIL & Livianos & Particular & M & 19-41 & 180459141 & 4 & 4223 & 6450375 & 23 & 1612594\\\\\n",
       "\\end{tabular}\n"
      ],
      "text/markdown": [
       "\n",
       "A tibble: 6 × 14\n",
       "\n",
       "| Modelo &lt;int&gt; | Color &lt;fct&gt; | Carroceria &lt;fct&gt; | CLASE_FASECOLDA &lt;fct&gt; | TIPO_VEHICULO &lt;fct&gt; | SERVICIO &lt;fct&gt; | Sexo_Aseg &lt;fct&gt; | Grupo_Edad &lt;fct&gt; | valor &lt;dbl&gt; | n_siniestros &lt;int&gt; | exposicion_total &lt;int&gt; | suma_pagos &lt;dbl&gt; | n_observaciones &lt;int&gt; | severidad_media &lt;dbl&gt; |\n",
       "|---|---|---|---|---|---|---|---|---|---|---|---|---|---|\n",
       "| 1993 | ROJO   | SEDAN | AUTOMOVIL | Livianos | Particular | F | 41-63 |  64667906 | 2 | 1834 | 2558114 | 10 | 1279057 |\n",
       "| 1993 | ROJO   | SEDAN | AUTOMOVIL | Livianos | Particular | M | 19-41 |  76728037 | 2 | 1203 | 4883644 |  7 | 2441822 |\n",
       "| 1997 | BLANCO | SEDAN | AUTOMOVIL | Livianos | Particular | M | 41-63 | 121930553 | 2 | 3077 | 4238816 | 16 | 2119408 |\n",
       "| 1998 | AZUL   | SEDAN | AUTOMOVIL | Livianos | Particular | F | 19-41 | 130833256 | 2 | 2791 | 8213167 | 16 | 4106584 |\n",
       "| 1998 | BLANCO | SEDAN | AUTOMOVIL | Livianos | Particular | F | 19-41 | 101517338 | 2 | 2410 | 8014069 | 13 | 4007035 |\n",
       "| 1998 | BLANCO | SEDAN | AUTOMOVIL | Livianos | Particular | M | 19-41 | 180459141 | 4 | 4223 | 6450375 | 23 | 1612594 |\n",
       "\n"
      ],
      "text/plain": [
       "  Modelo Color  Carroceria CLASE_FASECOLDA TIPO_VEHICULO SERVICIO   Sexo_Aseg\n",
       "1 1993   ROJO   SEDAN      AUTOMOVIL       Livianos      Particular F        \n",
       "2 1993   ROJO   SEDAN      AUTOMOVIL       Livianos      Particular M        \n",
       "3 1997   BLANCO SEDAN      AUTOMOVIL       Livianos      Particular M        \n",
       "4 1998   AZUL   SEDAN      AUTOMOVIL       Livianos      Particular F        \n",
       "5 1998   BLANCO SEDAN      AUTOMOVIL       Livianos      Particular F        \n",
       "6 1998   BLANCO SEDAN      AUTOMOVIL       Livianos      Particular M        \n",
       "  Grupo_Edad valor     n_siniestros exposicion_total suma_pagos n_observaciones\n",
       "1 41-63       64667906 2            1834             2558114    10             \n",
       "2 19-41       76728037 2            1203             4883644     7             \n",
       "3 41-63      121930553 2            3077             4238816    16             \n",
       "4 19-41      130833256 2            2791             8213167    16             \n",
       "5 19-41      101517338 2            2410             8014069    13             \n",
       "6 19-41      180459141 4            4223             6450375    23             \n",
       "  severidad_media\n",
       "1 1279057        \n",
       "2 2441822        \n",
       "3 2119408        \n",
       "4 4106584        \n",
       "5 4007035        \n",
       "6 1612594        "
      ]
     },
     "metadata": {},
     "output_type": "display_data"
    }
   ],
   "source": [
    "head(tabla_severidad)"
   ]
  },
  {
   "cell_type": "code",
   "execution_count": 20,
   "id": "c38a84b7",
   "metadata": {
    "vscode": {
     "languageId": "r"
    }
   },
   "outputs": [
    {
     "name": "stdout",
     "output_type": "stream",
     "text": [
      "tibble [449 × 13] (S3: tbl_df/tbl/data.frame)\n",
      " $ Modelo          : int [1:449] 1993 1993 1995 1997 1998 1998 1998 1998 1998 1998 ...\n",
      " $ Color           : Factor w/ 25 levels \"AMARILLO\",\"ARENA FINA\",..: 19 19 25 5 3 3 5 5 5 11 ...\n",
      " $ Carroceria      : Factor w/ 11 levels \"BUS-BUSETA\",\"CABINADO\",..: 9 9 9 9 9 9 9 9 9 9 ...\n",
      " $ CLASE_FASECOLDA : Factor w/ 8 levels \"AUTOMOVIL\",\"AUTOMOVIL TAXI\",..: 1 1 1 1 1 1 1 1 1 1 ...\n",
      " $ TIPO_VEHICULO   : Factor w/ 2 levels \"Livianos\",\"Pesados\": 1 1 1 1 1 1 1 1 1 1 ...\n",
      " $ SERVICIO        : Factor w/ 3 levels \"Particular\",\"Publico\",..: 1 1 1 1 1 1 1 1 1 1 ...\n",
      " $ Sexo_Aseg       : Factor w/ 2 levels \"F\",\"M\": 1 2 1 2 1 1 1 1 2 2 ...\n",
      " $ Grupo_Edad      : Factor w/ 3 levels \"19-41\",\"41-63\",..: 2 1 1 2 1 2 1 2 1 1 ...\n",
      " $ valor           : num [1:449] 6.47e+07 7.67e+07 2.08e+08 1.22e+08 1.31e+08 ...\n",
      " $ n_siniestros    : int [1:449] 2 2 0 2 2 0 2 0 4 0 ...\n",
      " $ exposicion_total: int [1:449] 1834 1203 3341 3077 2791 1466 2410 1467 4223 2934 ...\n",
      " $ suma_pagos      : num [1:449] 2558114 4883644 0 4238816 8213167 ...\n",
      " $ n_observaciones : int [1:449] 10 7 19 16 16 8 13 8 23 16 ...\n"
     ]
    }
   ],
   "source": [
    "# Primero, veamos qué tipo de variables tienes\n",
    "str(tabla_agregada)"
   ]
  },
  {
   "cell_type": "code",
   "execution_count": 21,
   "id": "b4b88998",
   "metadata": {
    "vscode": {
     "languageId": "r"
    }
   },
   "outputs": [],
   "source": [
    "write.csv(tabla_severidad, \"../data/processed/tabla_severidad.csv\")"
   ]
  }
 ],
 "metadata": {
  "kernelspec": {
   "display_name": "R",
   "language": "R",
   "name": "ir"
  },
  "language_info": {
   "codemirror_mode": "r",
   "file_extension": ".r",
   "mimetype": "text/x-r-source",
   "name": "R",
   "pygments_lexer": "r",
   "version": "4.2.3"
  }
 },
 "nbformat": 4,
 "nbformat_minor": 5
}
