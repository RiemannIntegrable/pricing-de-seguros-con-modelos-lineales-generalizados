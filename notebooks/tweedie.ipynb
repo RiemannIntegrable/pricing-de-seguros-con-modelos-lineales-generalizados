{
 "cells": [
  {
   "cell_type": "markdown",
   "id": "b6865a1d",
   "metadata": {},
   "source": [
    "$1$ Cargar librerías requeridas"
   ]
  },
  {
   "cell_type": "code",
   "execution_count": null,
   "id": "a3b294ee",
   "metadata": {
    "vscode": {
     "languageId": "r"
    }
   },
   "outputs": [],
   "source": [
    "library(dplyr); library(ggplot2); library(GGally); library(ggpubr)\n",
    "library(cowplot); library(ggmosaic); library(tweedie); library(statmod)"
   ]
  }
 ],
 "metadata": {
  "language_info": {
   "name": "python"
  }
 },
 "nbformat": 4,
 "nbformat_minor": 5
}
