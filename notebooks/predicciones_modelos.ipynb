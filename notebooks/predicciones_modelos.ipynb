{
 "cells": [
  {
   "cell_type": "markdown",
   "metadata": {},
   "source": [
    "<div align=\"center\">\n",
    "\n",
    "# **Predicciones de Modelos GLM**\n",
    "\n",
    "</div>\n",
    "\n",
    "Este notebook calcula las predicciones para todas las combinaciones posibles de variables explicativas en los modelos de frecuencia y severidad."
   ]
  },
  {
   "cell_type": "markdown",
   "metadata": {},
   "source": [
    "## Librerías y Carga de Modelos"
   ]
  },
  {
   "cell_type": "code",
   "execution_count": 1,
   "metadata": {
    "vscode": {
     "languageId": "r"
    }
   },
   "outputs": [
    {
     "name": "stderr",
     "output_type": "stream",
     "text": [
      "\n",
      "Attaching package: ‘dplyr’\n",
      "\n",
      "\n",
      "The following objects are masked from ‘package:stats’:\n",
      "\n",
      "    filter, lag\n",
      "\n",
      "\n",
      "The following objects are masked from ‘package:base’:\n",
      "\n",
      "    intersect, setdiff, setequal, union\n",
      "\n",
      "\n",
      "\n",
      "Attaching package: ‘kableExtra’\n",
      "\n",
      "\n",
      "The following object is masked from ‘package:dplyr’:\n",
      "\n",
      "    group_rows\n",
      "\n",
      "\n"
     ]
    }
   ],
   "source": [
    "library(dplyr)\n",
    "library(tidyr)\n",
    "library(knitr)\n",
    "library(kableExtra)\n",
    "\n",
    "# Cargar modelos entrenados\n",
    "modelo_frecuencia <- readRDS(\"../models/modelo_frecuencia_quasipoisson.rds\")\n",
    "modelo_severidad <- readRDS(\"../models/modelo_severidad_lognormal.rds\")\n",
    "\n",
    "# Cargar datos procesados\n",
    "datos <- read.csv(\"../data/processed/tabla_severidad.csv\")\n",
    "datos$X <- NULL"
   ]
  },
  {
   "cell_type": "markdown",
   "metadata": {},
   "source": [
    "## Establecer Categorías de Referencia"
   ]
  },
  {
   "cell_type": "code",
   "execution_count": 2,
   "metadata": {
    "vscode": {
     "languageId": "r"
    }
   },
   "outputs": [
    {
     "name": "stdout",
     "output_type": "stream",
     "text": [
      "Niveles de variables:\n",
      "Modelo: 2007_2013 1993_1999 2000_2006 \n",
      "Edad: 41_63 19_41 63_85 Otros \n",
      "Color: Otros AMARILLO BLANCO PLATA \n",
      "Carroceria: SEDAN CABINADO HATCHBACK Otros \n",
      "SERVICIO: Particular Oficial Publico Transporte Personal \n"
     ]
    }
   ],
   "source": [
    "establecer_categorias_referencia <- function(df, vars_categoricas, var_exposicion = \"exposicion_total\") {\n",
    "  df_copy <- df\n",
    "  \n",
    "  for (var in vars_categoricas) {\n",
    "    if (var %in% colnames(df_copy)) {\n",
    "      exposicion_por_categoria <- aggregate(df_copy[[var_exposicion]], \n",
    "                                          by = list(df_copy[[var]]), \n",
    "                                          FUN = sum, na.rm = TRUE)\n",
    "      names(exposicion_por_categoria) <- c(\"categoria\", \"exposicion_total\")\n",
    "      \n",
    "      categoria_referencia <- exposicion_por_categoria$categoria[which.max(exposicion_por_categoria$exposicion_total)]\n",
    "      \n",
    "      df_copy[[var]] <- factor(df_copy[[var]])\n",
    "      df_copy[[var]] <- relevel(df_copy[[var]], ref = as.character(categoria_referencia))\n",
    "    }\n",
    "  }\n",
    "  \n",
    "  return(df_copy)\n",
    "}\n",
    "\n",
    "vars_categoricas <- c(\"Modelo\", \"Color\", \"Carroceria\", \"SERVICIO\", \"Sexo_Aseg\", \"Edad\", \"Gama\")\n",
    "datos <- establecer_categorias_referencia(datos, vars_categoricas)\n",
    "\n",
    "# Verificar niveles de factores\n",
    "cat(\"Niveles de variables:\\n\")\n",
    "cat(\"Modelo:\", levels(datos$Modelo), \"\\n\")\n",
    "cat(\"Edad:\", levels(datos$Edad), \"\\n\")\n",
    "cat(\"Color:\", levels(datos$Color), \"\\n\")\n",
    "cat(\"Carroceria:\", levels(datos$Carroceria), \"\\n\")\n",
    "cat(\"SERVICIO:\", levels(datos$SERVICIO), \"\\n\")"
   ]
  },
  {
   "cell_type": "markdown",
   "metadata": {},
   "source": "## ANÁLISIS 1: Modelo de Frecuencia (Quasi-Poisson)\n\nVariables explicativas: **Modelo + Edad**"
  },
  {
   "cell_type": "code",
   "execution_count": 3,
   "metadata": {
    "vscode": {
     "languageId": "r"
    }
   },
   "outputs": [
    {
     "name": "stdout",
     "output_type": "stream",
     "text": [
      "Combinaciones para modelo de frecuencia: 12 \n",
      "      Modelo  Edad exposicion_total\n",
      "1  2007_2013 41_63                1\n",
      "2  1993_1999 41_63                1\n",
      "3  2000_2006 41_63                1\n",
      "4  2007_2013 19_41                1\n",
      "5  1993_1999 19_41                1\n",
      "6  2000_2006 19_41                1\n",
      "7  2007_2013 63_85                1\n",
      "8  1993_1999 63_85                1\n",
      "9  2000_2006 63_85                1\n",
      "10 2007_2013 Otros                1\n",
      "11 1993_1999 Otros                1\n",
      "12 2000_2006 Otros                1\n"
     ]
    }
   ],
   "source": [
    "# Crear todas las combinaciones posibles para frecuencia\n",
    "combinaciones_freq <- expand.grid(\n",
    "  Modelo = levels(datos$Modelo),\n",
    "  Edad = levels(datos$Edad),\n",
    "  stringsAsFactors = FALSE\n",
    ")\n",
    "\n",
    "# Añadir exposición estándar de 1 año\n",
    "combinaciones_freq$exposicion_total <- 1\n",
    "\n",
    "cat(\"Combinaciones para modelo de frecuencia:\", nrow(combinaciones_freq), \"\\n\")\n",
    "print(combinaciones_freq)"
   ]
  },
  {
   "cell_type": "code",
   "execution_count": null,
   "metadata": {
    "vscode": {
     "languageId": "r"
    }
   },
   "outputs": [],
   "source": "# Convertir a factores con los mismos niveles que los datos originales\ncombinaciones_freq$Modelo <- factor(combinaciones_freq$Modelo, levels = levels(datos$Modelo))\ncombinaciones_freq$Edad <- factor(combinaciones_freq$Edad, levels = levels(datos$Edad))\n\n# Calcular predicciones de frecuencia\npredicciones_freq <- predict(modelo_frecuencia, newdata = combinaciones_freq, type = \"response\")\n\n# TABLA COMPLETA DE FRECUENCIAS - TODAS LAS COMBINACIONES\ntabla_frecuencia_completa <- data.frame(\n  Modelo = combinaciones_freq$Modelo,\n  Edad = combinaciones_freq$Edad,\n  Frecuencia_Esperada = round(predicciones_freq, 6)\n) %>%\n  arrange(desc(Frecuencia_Esperada))\n\ncat(\"\\n═══════════════════════════════════════════════════════════════════\\n\")\ncat(\"      TABLA COMPLETA - MODELO DE FRECUENCIA (12 COMBINACIONES)     \\n\")\ncat(\"═══════════════════════════════════════════════════════════════════\\n\")\ncat(\"Variables: Modelo + Edad | Distribución: Quasi-Poisson\\n\")\ncat(\"Ordenada de mayor a menor frecuencia esperada\\n\\n\")\nprint(tabla_frecuencia_completa, row.names = FALSE)\n\n# Exportar tabla para LaTeX\nwrite.csv(tabla_frecuencia_completa, \"../data/output/tabla_frecuencia_completa.csv\", row.names = FALSE)\n\ncat(\"\\n✅ Tabla de frecuencia exportada: tabla_frecuencia_completa.csv\\n\")\ncat(\"📊 Total de combinaciones:\", nrow(tabla_frecuencia_completa), \"\\n\")"
  },
  {
   "cell_type": "code",
   "source": "# Crear tabla pivot para frecuencia (mejor formato para LaTeX)\ntabla_pivot_frecuencia <- tabla_frecuencia_completa %>%\n  select(Modelo, Edad, Frecuencia_Esperada) %>%\n  pivot_wider(names_from = Edad, values_from = Frecuencia_Esperada) %>%\n  mutate_if(is.numeric, ~ round(.x, 6))\n\ncat(\"\\n═══════════════════════════════════════════════════════════════════\\n\")\ncat(\"                  TABLA PIVOT - FRECUENCIAS                        \\n\")\ncat(\"═══════════════════════════════════════════════════════════════════\\n\")\nprint(tabla_pivot_frecuencia, row.names = FALSE)\n\n# Exportar tabla pivot para LaTeX\nwrite.csv(tabla_pivot_frecuencia, \"../data/output/tabla_pivot_frecuencia.csv\", row.names = FALSE)\n\ncat(\"\\n✅ Tabla pivot de frecuencia exportada: tabla_pivot_frecuencia.csv\\n\")",
   "metadata": {},
   "execution_count": null,
   "outputs": []
  },
  {
   "cell_type": "markdown",
   "metadata": {},
   "source": "## ANÁLISIS 2: Modelo de Severidad (Log-Normal)\n\nVariables explicativas: **Modelo + Color + Carrocería + Servicio + Edad**"
  },
  {
   "cell_type": "code",
   "execution_count": 5,
   "metadata": {
    "vscode": {
     "languageId": "r"
    }
   },
   "outputs": [
    {
     "name": "stdout",
     "output_type": "stream",
     "text": [
      "Combinaciones para modelo de severidad: 768 \n",
      "Primeras 10 combinaciones:\n",
      "      Modelo    Color Carroceria   SERVICIO  Edad\n",
      "1  2007_2013    Otros      SEDAN Particular 41_63\n",
      "2  1993_1999    Otros      SEDAN Particular 41_63\n",
      "3  2000_2006    Otros      SEDAN Particular 41_63\n",
      "4  2007_2013 AMARILLO      SEDAN Particular 41_63\n",
      "5  1993_1999 AMARILLO      SEDAN Particular 41_63\n",
      "6  2000_2006 AMARILLO      SEDAN Particular 41_63\n",
      "7  2007_2013   BLANCO      SEDAN Particular 41_63\n",
      "8  1993_1999   BLANCO      SEDAN Particular 41_63\n",
      "9  2000_2006   BLANCO      SEDAN Particular 41_63\n",
      "10 2007_2013    PLATA      SEDAN Particular 41_63\n"
     ]
    }
   ],
   "source": [
    "# Crear todas las combinaciones posibles para severidad\n",
    "combinaciones_sev <- expand.grid(\n",
    "  Modelo = levels(datos$Modelo),\n",
    "  Color = levels(datos$Color),\n",
    "  Carroceria = levels(datos$Carroceria),\n",
    "  SERVICIO = levels(datos$SERVICIO),\n",
    "  Edad = levels(datos$Edad),\n",
    "  stringsAsFactors = FALSE\n",
    ")\n",
    "\n",
    "cat(\"Combinaciones para modelo de severidad:\", nrow(combinaciones_sev), \"\\n\")\n",
    "cat(\"Primeras 10 combinaciones:\\n\")\n",
    "print(head(combinaciones_sev, 10))"
   ]
  },
  {
   "cell_type": "code",
   "execution_count": null,
   "metadata": {
    "vscode": {
     "languageId": "r"
    }
   },
   "outputs": [],
   "source": "# Convertir a factores con los mismos niveles que los datos originales\ncombinaciones_sev$Modelo <- factor(combinaciones_sev$Modelo, levels = levels(datos$Modelo))\ncombinaciones_sev$Color <- factor(combinaciones_sev$Color, levels = levels(datos$Color))\ncombinaciones_sev$Carroceria <- factor(combinaciones_sev$Carroceria, levels = levels(datos$Carroceria))\ncombinaciones_sev$SERVICIO <- factor(combinaciones_sev$SERVICIO, levels = levels(datos$SERVICIO))\ncombinaciones_sev$Edad <- factor(combinaciones_sev$Edad, levels = levels(datos$Edad))\n\n# Calcular predicciones de severidad (en escala logarítmica)\npredicciones_sev_log <- predict(modelo_severidad, newdata = combinaciones_sev, type = \"response\")\n\n# Convertir de logaritmo a escala original\npredicciones_sev <- exp(predicciones_sev_log)\n\n# TABLA COMPLETA DE SEVERIDAD - TODAS LAS COMBINACIONES\ntabla_severidad_completa <- data.frame(\n  Modelo = combinaciones_sev$Modelo,\n  Color = combinaciones_sev$Color,\n  Carroceria = combinaciones_sev$Carroceria,\n  SERVICIO = combinaciones_sev$SERVICIO,\n  Edad = combinaciones_sev$Edad,\n  Severidad_Esperada = round(predicciones_sev, 0)\n) %>%\n  arrange(desc(Severidad_Esperada))\n\ncat(\"\\n═══════════════════════════════════════════════════════════════════\\n\")\ncat(\"      TABLA COMPLETA - MODELO DE SEVERIDAD (768 COMBINACIONES)     \\n\")\ncat(\"═══════════════════════════════════════════════════════════════════\\n\")\ncat(\"Variables: Modelo + Color + Carrocería + Servicio + Edad\\n\")\ncat(\"Distribución: Log-Normal | Ordenada de mayor a menor severidad\\n\\n\")\n\n# Mostrar las primeras 30 y últimas 10 combinaciones\ncat(\"PRIMERAS 30 COMBINACIONES (Mayor severidad):\\n\")\nprint(head(tabla_severidad_completa, 30), row.names = FALSE)\n\ncat(\"\\n...\\n\")\ncat(\"ÚLTIMAS 10 COMBINACIONES (Menor severidad):\\n\")  \nprint(tail(tabla_severidad_completa, 10), row.names = FALSE)\n\n# Exportar tabla completa para LaTeX\nwrite.csv(tabla_severidad_completa, \"../data/output/tabla_severidad_completa.csv\", row.names = FALSE)\n\ncat(\"\\n✅ Tabla de severidad exportada: tabla_severidad_completa.csv\\n\")\ncat(\"📊 Total de combinaciones:\", nrow(tabla_severidad_completa), \"\\n\")\ncat(\"💰 Severidad mínima:\", format(min(tabla_severidad_completa$Severidad_Esperada), big.mark = \",\"), \"COP\\n\")\ncat(\"💰 Severidad máxima:\", format(max(tabla_severidad_completa$Severidad_Esperada), big.mark = \",\"), \"COP\\n\")"
  },
  {
   "cell_type": "code",
   "source": "# TABLA COMPLETA DE SEVERIDAD - TODAS LAS 768 COMBINACIONES\n# Crear tabla formateada para LaTeX con todas las combinaciones\ntabla_severidad_768_completa <- tabla_severidad_completa %>%\n  mutate(\n    Ranking = row_number(),\n    Severidad_LaTeX = paste0(\"\\\\$\", format(Severidad_Esperada, big.mark = \",\"))\n  ) %>%\n  select(Ranking, Modelo, Color, Carroceria, SERVICIO, Edad, Severidad_Esperada, Severidad_LaTeX)\n\ncat(\"\\n═══════════════════════════════════════════════════════════════════\\n\")\ncat(\"        TABLA COMPLETA DE SEVERIDAD - 768 COMBINACIONES            \\n\")\ncat(\"═══════════════════════════════════════════════════════════════════\\n\")\ncat(\"Para insertar en documentación LaTeX\\n\\n\")\n\n# Mostrar estructura de la tabla\ncat(\"Estructura de la tabla (primeras 20 filas):\\n\")\nprint(head(tabla_severidad_768_completa, 20), row.names = FALSE)\n\ncat(\"\\n...\")\ncat(\"\\nÚltimas 5 filas:\\n\")\nprint(tail(tabla_severidad_768_completa, 5), row.names = FALSE)\n\n# Exportar tabla completa para LaTeX\nwrite.csv(tabla_severidad_768_completa, \"../data/output/tabla_severidad_768_completa.csv\", row.names = FALSE)\n\ncat(\"\\n✅ Tabla completa de 768 combinaciones exportada: tabla_severidad_768_completa.csv\\n\")\ncat(\"📊 Combinaciones ordenadas de mayor a menor severidad esperada\\n\")",
   "metadata": {},
   "execution_count": null,
   "outputs": []
  },
  {
   "cell_type": "markdown",
   "source": "## ANÁLISIS 3: Cálculo de Primas Puras\n\nPara el Top 15 de combinaciones de severidad, calcular la prima pura correspondiente",
   "metadata": {}
  },
  {
   "cell_type": "code",
   "source": "# Obtener las top 15 combinaciones de severidad\ntop15_severidad <- tabla_severidad_completa[1:15, ]\n\n# Para cada combinación del top 15, obtener su frecuencia correspondiente\n# Solo necesitamos Modelo y Edad para el modelo de frecuencia\nprimas_puras <- data.frame()\n\nfor(i in 1:nrow(top15_severidad)) {\n  # Obtener modelo y edad de la combinación actual\n  modelo_actual <- top15_severidad$Modelo[i]\n  edad_actual <- top15_severidad$Edad[i]\n  \n  # Buscar la frecuencia correspondiente en la tabla de frecuencias\n  frecuencia_correspondiente <- tabla_frecuencia_completa[\n    tabla_frecuencia_completa$Modelo == modelo_actual & \n    tabla_frecuencia_completa$Edad == edad_actual, \n    \"Frecuencia_Esperada\"\n  ]\n  \n  # Calcular prima pura = frecuencia × severidad\n  prima_pura <- frecuencia_correspondiente * top15_severidad$Severidad_Esperada[i]\n  \n  # Agregar a la tabla de resultados\n  primas_puras <- rbind(primas_puras, data.frame(\n    Rank = i,\n    Modelo = as.character(top15_severidad$Modelo[i]),\n    Color = as.character(top15_severidad$Color[i]),\n    Carroceria = as.character(top15_severidad$Carroceria[i]),\n    SERVICIO = as.character(top15_severidad$SERVICIO[i]),\n    Edad = as.character(top15_severidad$Edad[i]),\n    Severidad_Esperada = top15_severidad$Severidad_Esperada[i],\n    Frecuencia_Esperada = frecuencia_correspondiente,\n    Prima_Pura = round(prima_pura, 0)\n  ))\n}\n\ncat(\"═══════════════════════════════════════════════════════════════════\\n\")\ncat(\"              TABLA DE PRIMAS PURAS - TOP 15                       \\n\")\ncat(\"═══════════════════════════════════════════════════════════════════\\n\")\ncat(\"Prima Pura = Frecuencia Esperada × Severidad Esperada\\n\\n\")\n\nprint(primas_puras, row.names = FALSE)\n\n# Exportar tabla de primas puras\nwrite.csv(primas_puras, \"../data/output/tabla_primas_puras_top15.csv\", row.names = FALSE)\n\ncat(\"\\n✅ Tabla de primas puras exportada: tabla_primas_puras_top15.csv\\n\")\ncat(\"💰 Prima mínima (Top 15):\", format(min(primas_puras$Prima_Pura), big.mark = \",\"), \"COP\\n\")\ncat(\"💰 Prima máxima (Top 15):\", format(max(primas_puras$Prima_Pura), big.mark = \",\"), \"COP\\n\")\ncat(\"📊 Ratio máximo/mínimo:\", round(max(primas_puras$Prima_Pura) / min(primas_puras$Prima_Pura), 2), \"veces\\n\")",
   "metadata": {},
   "execution_count": null,
   "outputs": []
  }
 ],
 "metadata": {
  "kernelspec": {
   "display_name": "R",
   "language": "R",
   "name": "ir"
  },
  "language_info": {
   "codemirror_mode": "r",
   "file_extension": ".r",
   "mimetype": "text/x-r-source",
   "name": "R",
   "pygments_lexer": "r",
   "version": "4.2.3"
  }
 },
 "nbformat": 4,
 "nbformat_minor": 4
}