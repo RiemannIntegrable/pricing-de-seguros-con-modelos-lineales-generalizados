{
 "cells": [
  {
   "cell_type": "markdown",
   "id": "fa23f612",
   "metadata": {},
   "source": [
    "<div align = \"center\">\n",
    "\n",
    "# **Frecuencia-Severidad**\n",
    "\n",
    "</div>"
   ]
  },
  {
   "cell_type": "markdown",
   "id": "db226e59",
   "metadata": {},
   "source": [
    "## Librerias"
   ]
  },
  {
   "cell_type": "code",
   "execution_count": null,
   "id": "2c64cf8c",
   "metadata": {
    "vscode": {
     "languageId": "r"
    }
   },
   "outputs": [],
   "source": []
  },
  {
   "cell_type": "markdown",
   "id": "db13b7a6",
   "metadata": {},
   "source": [
    "## Data"
   ]
  },
  {
   "cell_type": "code",
   "execution_count": 1,
   "id": "9f276a2f",
   "metadata": {
    "vscode": {
     "languageId": "r"
    }
   },
   "outputs": [],
   "source": [
    "data <- read.csv(\"../data/processed/datos_limpios.csv\")"
   ]
  },
  {
   "cell_type": "code",
   "execution_count": 3,
   "id": "55b32765",
   "metadata": {
    "vscode": {
     "languageId": "r"
    }
   },
   "outputs": [
    {
     "data": {
      "text/html": [
       "<style>\n",
       ".list-inline {list-style: none; margin:0; padding: 0}\n",
       ".list-inline>li {display: inline-block}\n",
       ".list-inline>li:not(:last-child)::after {content: \"\\00b7\"; padding: 0 .5ex}\n",
       "</style>\n",
       "<ol class=list-inline><li>'No aplica'</li><li>'PERDIDA PARCIAL POR DAÑOS'</li><li>'PERDIDA TOTAL POR DAÑOS'</li><li>'RESPONSABILIDAD CIVIL EXTRACONTRACTUAL'</li><li>'GASTOS DE TRANSPORTE POR PERDIDA TOTAL'</li><li>'PERDIDA PARCIAL POR HURTO'</li><li>'PERDIDA TOTAL O PARCIAL POR HURTO'</li><li>'PERDIDA TOTAL HURTO'</li><li>'ASISTENCIA JURIDICA EN PROCESO PENAL'</li></ol>\n"
      ],
      "text/latex": [
       "\\begin{enumerate*}\n",
       "\\item 'No aplica'\n",
       "\\item 'PERDIDA PARCIAL POR DAÑOS'\n",
       "\\item 'PERDIDA TOTAL POR DAÑOS'\n",
       "\\item 'RESPONSABILIDAD CIVIL EXTRACONTRACTUAL'\n",
       "\\item 'GASTOS DE TRANSPORTE POR PERDIDA TOTAL'\n",
       "\\item 'PERDIDA PARCIAL POR HURTO'\n",
       "\\item 'PERDIDA TOTAL O PARCIAL POR HURTO'\n",
       "\\item 'PERDIDA TOTAL HURTO'\n",
       "\\item 'ASISTENCIA JURIDICA EN PROCESO PENAL'\n",
       "\\end{enumerate*}\n"
      ],
      "text/markdown": [
       "1. 'No aplica'\n",
       "2. 'PERDIDA PARCIAL POR DAÑOS'\n",
       "3. 'PERDIDA TOTAL POR DAÑOS'\n",
       "4. 'RESPONSABILIDAD CIVIL EXTRACONTRACTUAL'\n",
       "5. 'GASTOS DE TRANSPORTE POR PERDIDA TOTAL'\n",
       "6. 'PERDIDA PARCIAL POR HURTO'\n",
       "7. 'PERDIDA TOTAL O PARCIAL POR HURTO'\n",
       "8. 'PERDIDA TOTAL HURTO'\n",
       "9. 'ASISTENCIA JURIDICA EN PROCESO PENAL'\n",
       "\n",
       "\n"
      ],
      "text/plain": [
       "[1] \"No aplica\"                             \n",
       "[2] \"PERDIDA PARCIAL POR DAÑOS\"             \n",
       "[3] \"PERDIDA TOTAL POR DAÑOS\"               \n",
       "[4] \"RESPONSABILIDAD CIVIL EXTRACONTRACTUAL\"\n",
       "[5] \"GASTOS DE TRANSPORTE POR PERDIDA TOTAL\"\n",
       "[6] \"PERDIDA PARCIAL POR HURTO\"             \n",
       "[7] \"PERDIDA TOTAL O PARCIAL POR HURTO\"     \n",
       "[8] \"PERDIDA TOTAL HURTO\"                   \n",
       "[9] \"ASISTENCIA JURIDICA EN PROCESO PENAL\"  "
      ]
     },
     "metadata": {},
     "output_type": "display_data"
    }
   ],
   "source": [
    "unique(data$Amparo)"
   ]
  }
 ],
 "metadata": {
  "kernelspec": {
   "display_name": "R",
   "language": "R",
   "name": "ir"
  },
  "language_info": {
   "codemirror_mode": "r",
   "file_extension": ".r",
   "mimetype": "text/x-r-source",
   "name": "R",
   "pygments_lexer": "r",
   "version": "4.2.3"
  }
 },
 "nbformat": 4,
 "nbformat_minor": 5
}
