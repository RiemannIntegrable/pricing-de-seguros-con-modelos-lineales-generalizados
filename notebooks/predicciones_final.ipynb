{
 "cells": [
  {
   "cell_type": "markdown",
   "metadata": {},
   "source": [
    "<div align=\"center\">\n",
    "\n",
    "# **Predicciones de Modelos GLM**\n",
    "\n",
    "</div>\n",
    "\n",
    "Este notebook calcula las predicciones para todas las combinaciones posibles de variables explicativas en los modelos de frecuencia y severidad."
   ]
  },
  {
   "cell_type": "markdown",
   "metadata": {},
   "source": [
    "## Librerías y Carga de Modelos"
   ]
  },
  {
   "cell_type": "code",
   "execution_count": 1,
   "metadata": {
    "execution": {
     "iopub.execute_input": "2025-07-25T23:51:25.624135Z",
     "iopub.status.busy": "2025-07-25T23:51:25.622244Z",
     "iopub.status.idle": "2025-07-25T23:51:25.923191Z",
     "shell.execute_reply": "2025-07-25T23:51:25.922325Z"
    },
    "vscode": {
     "languageId": "r"
    }
   },
   "outputs": [
    {
     "name": "stderr",
     "output_type": "stream",
     "text": [
      "\n",
      "Attaching package: ‘dplyr’\n",
      "\n",
      "\n",
      "The following objects are masked from ‘package:stats’:\n",
      "\n",
      "    filter, lag\n",
      "\n",
      "\n",
      "The following objects are masked from ‘package:base’:\n",
      "\n",
      "    intersect, setdiff, setequal, union\n",
      "\n",
      "\n",
      "\n",
      "Attaching package: ‘kableExtra’\n",
      "\n",
      "\n",
      "The following object is masked from ‘package:dplyr’:\n",
      "\n",
      "    group_rows\n",
      "\n",
      "\n"
     ]
    }
   ],
   "source": [
    "library(dplyr)\n",
    "library(tidyr)\n",
    "library(knitr)\n",
    "library(kableExtra)\n",
    "\n",
    "# Cargar modelos entrenados\n",
    "modelo_frecuencia <- readRDS(\"../models/modelo_frecuencia_quasipoisson.rds\")\n",
    "modelo_severidad <- readRDS(\"../models/modelo_severidad_lognormal.rds\")\n",
    "\n",
    "# Cargar datos procesados\n",
    "datos <- read.csv(\"../data/processed/tabla_severidad.csv\")\n",
    "datos$X <- NULL"
   ]
  },
  {
   "cell_type": "markdown",
   "metadata": {},
   "source": [
    "## Establecer Categorías de Referencia"
   ]
  },
  {
   "cell_type": "code",
   "execution_count": 2,
   "metadata": {
    "execution": {
     "iopub.execute_input": "2025-07-25T23:51:25.939265Z",
     "iopub.status.busy": "2025-07-25T23:51:25.925461Z",
     "iopub.status.idle": "2025-07-25T23:51:25.970549Z",
     "shell.execute_reply": "2025-07-25T23:51:25.969667Z"
    },
    "vscode": {
     "languageId": "r"
    }
   },
   "outputs": [
    {
     "name": "stdout",
     "output_type": "stream",
     "text": [
      "Niveles de variables:\n",
      "Modelo: 2007_2013 1993_1999 2000_2006 \n",
      "Edad: 41_63 19_41 63_85 Otros \n",
      "Color: Otros AMARILLO BLANCO PLATA \n",
      "Carroceria: SEDAN CABINADO HATCHBACK Otros \n",
      "SERVICIO: Particular Oficial Publico Transporte Personal \n"
     ]
    }
   ],
   "source": [
    "establecer_categorias_referencia <- function(df, vars_categoricas, var_exposicion = \"exposicion_total\") {\n",
    "  df_copy <- df\n",
    "  \n",
    "  for (var in vars_categoricas) {\n",
    "    if (var %in% colnames(df_copy)) {\n",
    "      exposicion_por_categoria <- aggregate(df_copy[[var_exposicion]], \n",
    "                                          by = list(df_copy[[var]]), \n",
    "                                          FUN = sum, na.rm = TRUE)\n",
    "      names(exposicion_por_categoria) <- c(\"categoria\", \"exposicion_total\")\n",
    "      \n",
    "      categoria_referencia <- exposicion_por_categoria$categoria[which.max(exposicion_por_categoria$exposicion_total)]\n",
    "      \n",
    "      df_copy[[var]] <- factor(df_copy[[var]])\n",
    "      df_copy[[var]] <- relevel(df_copy[[var]], ref = as.character(categoria_referencia))\n",
    "    }\n",
    "  }\n",
    "  \n",
    "  return(df_copy)\n",
    "}\n",
    "\n",
    "vars_categoricas <- c(\"Modelo\", \"Color\", \"Carroceria\", \"SERVICIO\", \"Sexo_Aseg\", \"Edad\", \"Gama\")\n",
    "datos <- establecer_categorias_referencia(datos, vars_categoricas)\n",
    "\n",
    "# Verificar niveles de factores\n",
    "cat(\"Niveles de variables:\\n\")\n",
    "cat(\"Modelo:\", levels(datos$Modelo), \"\\n\")\n",
    "cat(\"Edad:\", levels(datos$Edad), \"\\n\")\n",
    "cat(\"Color:\", levels(datos$Color), \"\\n\")\n",
    "cat(\"Carroceria:\", levels(datos$Carroceria), \"\\n\")\n",
    "cat(\"SERVICIO:\", levels(datos$SERVICIO), \"\\n\")"
   ]
  },
  {
   "cell_type": "markdown",
   "metadata": {},
   "source": [
    "## ANÁLISIS 1: Modelo de Frecuencia (Quasi-Poisson)\n",
    "\n",
    "Variables explicativas: **Modelo + Edad**"
   ]
  },
  {
   "cell_type": "code",
   "execution_count": 3,
   "metadata": {
    "execution": {
     "iopub.execute_input": "2025-07-25T23:51:25.973459Z",
     "iopub.status.busy": "2025-07-25T23:51:25.972788Z",
     "iopub.status.idle": "2025-07-25T23:51:25.985064Z",
     "shell.execute_reply": "2025-07-25T23:51:25.984230Z"
    },
    "vscode": {
     "languageId": "r"
    }
   },
   "outputs": [
    {
     "name": "stdout",
     "output_type": "stream",
     "text": [
      "Combinaciones para modelo de frecuencia: 12 \n",
      "      Modelo  Edad exposicion_total\n",
      "1  2007_2013 41_63                1\n",
      "2  1993_1999 41_63                1\n",
      "3  2000_2006 41_63                1\n",
      "4  2007_2013 19_41                1\n",
      "5  1993_1999 19_41                1\n",
      "6  2000_2006 19_41                1\n",
      "7  2007_2013 63_85                1\n",
      "8  1993_1999 63_85                1\n",
      "9  2000_2006 63_85                1\n",
      "10 2007_2013 Otros                1\n",
      "11 1993_1999 Otros                1\n",
      "12 2000_2006 Otros                1\n"
     ]
    }
   ],
   "source": [
    "# Crear todas las combinaciones posibles para frecuencia\n",
    "combinaciones_freq <- expand.grid(\n",
    "  Modelo = levels(datos$Modelo),\n",
    "  Edad = levels(datos$Edad),\n",
    "  stringsAsFactors = FALSE\n",
    ")\n",
    "\n",
    "# Añadir exposición estándar de 1 año\n",
    "combinaciones_freq$exposicion_total <- 1\n",
    "\n",
    "cat(\"Combinaciones para modelo de frecuencia:\", nrow(combinaciones_freq), \"\\n\")\n",
    "print(combinaciones_freq)"
   ]
  },
  {
   "cell_type": "code",
   "execution_count": 4,
   "metadata": {
    "execution": {
     "iopub.execute_input": "2025-07-25T23:51:25.987572Z",
     "iopub.status.busy": "2025-07-25T23:51:25.986912Z",
     "iopub.status.idle": "2025-07-25T23:51:26.020430Z",
     "shell.execute_reply": "2025-07-25T23:51:26.019590Z"
    },
    "vscode": {
     "languageId": "r"
    }
   },
   "outputs": [
    {
     "name": "stdout",
     "output_type": "stream",
     "text": [
      "\n",
      "═══════════════════════════════════════════════════════════════════\n",
      "      TABLA COMPLETA - MODELO DE FRECUENCIA (12 COMBINACIONES)     \n",
      "═══════════════════════════════════════════════════════════════════\n",
      "Variables: Modelo + Edad | Distribución: Quasi-Poisson\n",
      "Ordenada de mayor a menor frecuencia esperada\n",
      "\n",
      "    Modelo  Edad Frecuencia_Esperada\n",
      " 2000_2006 Otros            0.320443\n",
      " 2000_2006 19_41            0.314085\n",
      " 2000_2006 63_85            0.307532\n",
      " 2000_2006 41_63            0.269351\n",
      " 1993_1999 Otros            0.266723\n",
      " 1993_1999 19_41            0.261431\n",
      " 1993_1999 63_85            0.255976\n",
      " 2007_2013 Otros            0.247011\n",
      " 2007_2013 19_41            0.242110\n",
      " 2007_2013 63_85            0.237058\n",
      " 1993_1999 41_63            0.224196\n",
      " 2007_2013 41_63            0.207627\n",
      "\n",
      "✅ Tabla de frecuencia exportada: tabla_frecuencia_completa.csv\n",
      "📊 Total de combinaciones: 12 \n"
     ]
    }
   ],
   "source": [
    "# Convertir a factores con los mismos niveles que los datos originales\n",
    "combinaciones_freq$Modelo <- factor(combinaciones_freq$Modelo, levels = levels(datos$Modelo))\n",
    "combinaciones_freq$Edad <- factor(combinaciones_freq$Edad, levels = levels(datos$Edad))\n",
    "\n",
    "# Calcular predicciones de frecuencia\n",
    "predicciones_freq <- predict(modelo_frecuencia, newdata = combinaciones_freq, type = \"response\")\n",
    "\n",
    "# TABLA COMPLETA DE FRECUENCIAS - TODAS LAS COMBINACIONES\n",
    "tabla_frecuencia_completa <- data.frame(\n",
    "  Modelo = combinaciones_freq$Modelo,\n",
    "  Edad = combinaciones_freq$Edad,\n",
    "  Frecuencia_Esperada = round(predicciones_freq, 6)\n",
    ") %>%\n",
    "  arrange(desc(Frecuencia_Esperada))\n",
    "\n",
    "cat(\"\\n═══════════════════════════════════════════════════════════════════\\n\")\n",
    "cat(\"      TABLA COMPLETA - MODELO DE FRECUENCIA (12 COMBINACIONES)     \\n\")\n",
    "cat(\"═══════════════════════════════════════════════════════════════════\\n\")\n",
    "cat(\"Variables: Modelo + Edad | Distribución: Quasi-Poisson\\n\")\n",
    "cat(\"Ordenada de mayor a menor frecuencia esperada\\n\\n\")\n",
    "print(tabla_frecuencia_completa, row.names = FALSE)\n",
    "\n",
    "# Exportar tabla para LaTeX\n",
    "write.csv(tabla_frecuencia_completa, \"../data/output/tabla_frecuencia_completa.csv\", row.names = FALSE)\n",
    "\n",
    "cat(\"\\n✅ Tabla de frecuencia exportada: tabla_frecuencia_completa.csv\\n\")\n",
    "cat(\"📊 Total de combinaciones:\", nrow(tabla_frecuencia_completa), \"\\n\")"
   ]
  },
  {
   "cell_type": "code",
   "execution_count": 5,
   "metadata": {
    "execution": {
     "iopub.execute_input": "2025-07-25T23:51:26.023025Z",
     "iopub.status.busy": "2025-07-25T23:51:26.022354Z",
     "iopub.status.idle": "2025-07-25T23:51:26.082015Z",
     "shell.execute_reply": "2025-07-25T23:51:26.081204Z"
    },
    "vscode": {
     "languageId": "r"
    }
   },
   "outputs": [
    {
     "name": "stdout",
     "output_type": "stream",
     "text": [
      "\n",
      "═══════════════════════════════════════════════════════════════════\n"
     ]
    },
    {
     "name": "stdout",
     "output_type": "stream",
     "text": [
      "                  TABLA PIVOT - FRECUENCIAS                        \n",
      "═══════════════════════════════════════════════════════════════════\n",
      "\u001b[90m# A tibble: 3 × 5\u001b[39m\n",
      "  Modelo    Otros `19_41` `63_85` `41_63`\n",
      "  \u001b[3m\u001b[90m<fct>\u001b[39m\u001b[23m     \u001b[3m\u001b[90m<dbl>\u001b[39m\u001b[23m   \u001b[3m\u001b[90m<dbl>\u001b[39m\u001b[23m   \u001b[3m\u001b[90m<dbl>\u001b[39m\u001b[23m   \u001b[3m\u001b[90m<dbl>\u001b[39m\u001b[23m\n",
      "\u001b[90m1\u001b[39m 2000_2006 0.320   0.314   0.308   0.269\n",
      "\u001b[90m2\u001b[39m 1993_1999 0.267   0.261   0.256   0.224\n",
      "\u001b[90m3\u001b[39m 2007_2013 0.247   0.242   0.237   0.208\n",
      "\n",
      "✅ Tabla pivot de frecuencia exportada: tabla_pivot_frecuencia.csv\n"
     ]
    }
   ],
   "source": [
    "# Crear tabla pivot para frecuencia (mejor formato para LaTeX)\n",
    "tabla_pivot_frecuencia <- tabla_frecuencia_completa %>%\n",
    "  select(Modelo, Edad, Frecuencia_Esperada) %>%\n",
    "  pivot_wider(names_from = Edad, values_from = Frecuencia_Esperada) %>%\n",
    "  mutate_if(is.numeric, ~ round(.x, 6))\n",
    "\n",
    "cat(\"\\n═══════════════════════════════════════════════════════════════════\\n\")\n",
    "cat(\"                  TABLA PIVOT - FRECUENCIAS                        \\n\")\n",
    "cat(\"═══════════════════════════════════════════════════════════════════\\n\")\n",
    "print(tabla_pivot_frecuencia, row.names = FALSE)\n",
    "\n",
    "# Exportar tabla pivot para LaTeX\n",
    "write.csv(tabla_pivot_frecuencia, \"../data/output/tabla_pivot_frecuencia.csv\", row.names = FALSE)\n",
    "\n",
    "cat(\"\\n✅ Tabla pivot de frecuencia exportada: tabla_pivot_frecuencia.csv\\n\")"
   ]
  },
  {
   "cell_type": "markdown",
   "metadata": {},
   "source": [
    "## ANÁLISIS 2: Modelo de Severidad (Log-Normal)\n",
    "\n",
    "Variables explicativas: **Modelo + Color + Carrocería + Servicio + Edad**"
   ]
  },
  {
   "cell_type": "code",
   "execution_count": 6,
   "metadata": {
    "execution": {
     "iopub.execute_input": "2025-07-25T23:51:26.084546Z",
     "iopub.status.busy": "2025-07-25T23:51:26.083889Z",
     "iopub.status.idle": "2025-07-25T23:51:26.095644Z",
     "shell.execute_reply": "2025-07-25T23:51:26.094677Z"
    },
    "vscode": {
     "languageId": "r"
    }
   },
   "outputs": [
    {
     "name": "stdout",
     "output_type": "stream",
     "text": [
      "Combinaciones para modelo de severidad: 768 \n",
      "Primeras 10 combinaciones:\n",
      "      Modelo    Color Carroceria   SERVICIO  Edad\n",
      "1  2007_2013    Otros      SEDAN Particular 41_63\n",
      "2  1993_1999    Otros      SEDAN Particular 41_63\n",
      "3  2000_2006    Otros      SEDAN Particular 41_63\n",
      "4  2007_2013 AMARILLO      SEDAN Particular 41_63\n",
      "5  1993_1999 AMARILLO      SEDAN Particular 41_63\n",
      "6  2000_2006 AMARILLO      SEDAN Particular 41_63\n",
      "7  2007_2013   BLANCO      SEDAN Particular 41_63\n",
      "8  1993_1999   BLANCO      SEDAN Particular 41_63\n",
      "9  2000_2006   BLANCO      SEDAN Particular 41_63\n",
      "10 2007_2013    PLATA      SEDAN Particular 41_63\n"
     ]
    }
   ],
   "source": [
    "# Crear todas las combinaciones posibles para severidad\n",
    "combinaciones_sev <- expand.grid(\n",
    "  Modelo = levels(datos$Modelo),\n",
    "  Color = levels(datos$Color),\n",
    "  Carroceria = levels(datos$Carroceria),\n",
    "  SERVICIO = levels(datos$SERVICIO),\n",
    "  Edad = levels(datos$Edad),\n",
    "  stringsAsFactors = FALSE\n",
    ")\n",
    "\n",
    "cat(\"Combinaciones para modelo de severidad:\", nrow(combinaciones_sev), \"\\n\")\n",
    "cat(\"Primeras 10 combinaciones:\\n\")\n",
    "print(head(combinaciones_sev, 10))"
   ]
  },
  {
   "cell_type": "code",
   "execution_count": 7,
   "metadata": {
    "execution": {
     "iopub.execute_input": "2025-07-25T23:51:26.098433Z",
     "iopub.status.busy": "2025-07-25T23:51:26.097686Z",
     "iopub.status.idle": "2025-07-25T23:51:26.149617Z",
     "shell.execute_reply": "2025-07-25T23:51:26.148449Z"
    },
    "vscode": {
     "languageId": "r"
    }
   },
   "outputs": [
    {
     "name": "stdout",
     "output_type": "stream",
     "text": [
      "\n",
      "═══════════════════════════════════════════════════════════════════\n",
      "      TABLA COMPLETA - MODELO DE SEVERIDAD (768 COMBINACIONES)     \n",
      "═══════════════════════════════════════════════════════════════════\n",
      "Variables: Modelo + Color + Carrocería + Servicio + Edad\n",
      "Distribución: Log-Normal | Ordenada de mayor a menor severidad\n",
      "\n"
     ]
    },
    {
     "name": "stdout",
     "output_type": "stream",
     "text": [
      "PRIMERAS 30 COMBINACIONES (Mayor severidad):\n",
      "    Modelo  Color Carroceria SERVICIO  Edad Severidad_Esperada\n",
      " 2007_2013  Otros  HATCHBACK  Publico 19_41          168558185\n",
      " 2007_2013  Otros  HATCHBACK  Publico 41_63          161588960\n",
      " 2007_2013  Otros      SEDAN  Publico 19_41          142153897\n",
      " 2007_2013  Otros      SEDAN  Publico 41_63          136276387\n",
      " 2007_2013  Otros  HATCHBACK  Publico 63_85           96173907\n",
      " 2007_2013  Otros  HATCHBACK  Publico Otros           95376310\n",
      " 2007_2013  PLATA  HATCHBACK  Publico 19_41           94092616\n",
      " 2007_2013  PLATA  HATCHBACK  Publico 41_63           90202253\n",
      " 2000_2006  Otros  HATCHBACK  Publico 19_41           85615135\n",
      " 2007_2013 BLANCO  HATCHBACK  Publico 19_41           82913885\n",
      " 2000_2006  Otros  HATCHBACK  Publico 41_63           82075282\n",
      " 2007_2013  Otros      SEDAN  Publico 63_85           81108465\n",
      " 2007_2013  Otros      SEDAN  Publico Otros           80435810\n",
      " 2007_2013 BLANCO  HATCHBACK  Publico 41_63           79485719\n",
      " 2007_2013  PLATA      SEDAN  Publico 19_41           79353204\n",
      " 2007_2013  PLATA      SEDAN  Publico 41_63           76072258\n",
      " 2000_2006  Otros      SEDAN  Publico 19_41           72203702\n",
      " 1993_1999  Otros  HATCHBACK  Publico 19_41           72111597\n",
      " 2007_2013 BLANCO      SEDAN  Publico 19_41           69925598\n",
      " 2000_2006  Otros      SEDAN  Publico 41_63           69218361\n",
      " 1993_1999  Otros  HATCHBACK  Publico 41_63           69130064\n",
      " 2007_2013 BLANCO      SEDAN  Publico 41_63           67034447\n",
      " 2007_2013  Otros   CABINADO  Publico 19_41           63611024\n",
      " 2007_2013  Otros   CABINADO  Publico 41_63           60980956\n",
      " 1993_1999  Otros      SEDAN  Publico 19_41           60815466\n",
      " 1993_1999  Otros      SEDAN  Publico 41_63           58300984\n",
      " 2007_2013  PLATA  HATCHBACK  Publico 63_85           53686236\n",
      " 2007_2013  PLATA  HATCHBACK  Publico Otros           53241001\n",
      " 2007_2013  Otros  HATCHBACK  Oficial 19_41           49475338\n",
      " 2007_2013  Otros      Otros  Publico 19_41           49297177\n",
      "\n",
      "...\n",
      "ÚLTIMAS 10 COMBINACIONES (Menor severidad):\n",
      "    Modelo    Color Carroceria            SERVICIO  Edad Severidad_Esperada\n",
      " 1993_1999 AMARILLO      Otros Transporte Personal 19_41              64988\n",
      " 1993_1999 AMARILLO      Otros Transporte Personal 41_63              62301\n",
      " 2000_2006 AMARILLO   CABINADO Transporte Personal 63_85              56806\n",
      " 2000_2006 AMARILLO   CABINADO Transporte Personal Otros              56335\n",
      " 1993_1999 AMARILLO   CABINADO Transporte Personal 63_85              47846\n",
      " 1993_1999 AMARILLO   CABINADO Transporte Personal Otros              47450\n",
      " 2000_2006 AMARILLO      Otros Transporte Personal 63_85              44023\n",
      " 2000_2006 AMARILLO      Otros Transporte Personal Otros              43658\n",
      " 1993_1999 AMARILLO      Otros Transporte Personal 63_85              37080\n",
      " 1993_1999 AMARILLO      Otros Transporte Personal Otros              36772\n",
      "\n",
      "✅ Tabla de severidad exportada: tabla_severidad_completa.csv\n",
      "📊 Total de combinaciones: 768 \n",
      "💰 Severidad mínima: 36,772 COP\n",
      "💰 Severidad máxima: 168,558,185 COP\n"
     ]
    }
   ],
   "source": [
    "# Convertir a factores con los mismos niveles que los datos originales\n",
    "combinaciones_sev$Modelo <- factor(combinaciones_sev$Modelo, levels = levels(datos$Modelo))\n",
    "combinaciones_sev$Color <- factor(combinaciones_sev$Color, levels = levels(datos$Color))\n",
    "combinaciones_sev$Carroceria <- factor(combinaciones_sev$Carroceria, levels = levels(datos$Carroceria))\n",
    "combinaciones_sev$SERVICIO <- factor(combinaciones_sev$SERVICIO, levels = levels(datos$SERVICIO))\n",
    "combinaciones_sev$Edad <- factor(combinaciones_sev$Edad, levels = levels(datos$Edad))\n",
    "\n",
    "# Calcular predicciones de severidad (en escala logarítmica)\n",
    "predicciones_sev_log <- predict(modelo_severidad, newdata = combinaciones_sev, type = \"response\")\n",
    "\n",
    "# Convertir de logaritmo a escala original\n",
    "predicciones_sev <- exp(predicciones_sev_log)\n",
    "\n",
    "# TABLA COMPLETA DE SEVERIDAD - TODAS LAS COMBINACIONES\n",
    "tabla_severidad_completa <- data.frame(\n",
    "  Modelo = combinaciones_sev$Modelo,\n",
    "  Color = combinaciones_sev$Color,\n",
    "  Carroceria = combinaciones_sev$Carroceria,\n",
    "  SERVICIO = combinaciones_sev$SERVICIO,\n",
    "  Edad = combinaciones_sev$Edad,\n",
    "  Severidad_Esperada = round(predicciones_sev, 0)\n",
    ") %>%\n",
    "  arrange(desc(Severidad_Esperada))\n",
    "\n",
    "cat(\"\\n═══════════════════════════════════════════════════════════════════\\n\")\n",
    "cat(\"      TABLA COMPLETA - MODELO DE SEVERIDAD (768 COMBINACIONES)     \\n\")\n",
    "cat(\"═══════════════════════════════════════════════════════════════════\\n\")\n",
    "cat(\"Variables: Modelo + Color + Carrocería + Servicio + Edad\\n\")\n",
    "cat(\"Distribución: Log-Normal | Ordenada de mayor a menor severidad\\n\\n\")\n",
    "\n",
    "# Mostrar las primeras 30 y últimas 10 combinaciones\n",
    "cat(\"PRIMERAS 30 COMBINACIONES (Mayor severidad):\\n\")\n",
    "print(head(tabla_severidad_completa, 30), row.names = FALSE)\n",
    "\n",
    "cat(\"\\n...\\n\")\n",
    "cat(\"ÚLTIMAS 10 COMBINACIONES (Menor severidad):\\n\")  \n",
    "print(tail(tabla_severidad_completa, 10), row.names = FALSE)\n",
    "\n",
    "# Exportar tabla completa para LaTeX\n",
    "write.csv(tabla_severidad_completa, \"../data/output/tabla_severidad_completa.csv\", row.names = FALSE)\n",
    "\n",
    "cat(\"\\n✅ Tabla de severidad exportada: tabla_severidad_completa.csv\\n\")\n",
    "cat(\"📊 Total de combinaciones:\", nrow(tabla_severidad_completa), \"\\n\")\n",
    "cat(\"💰 Severidad mínima:\", format(min(tabla_severidad_completa$Severidad_Esperada), big.mark = \",\"), \"COP\\n\")\n",
    "cat(\"💰 Severidad máxima:\", format(max(tabla_severidad_completa$Severidad_Esperada), big.mark = \",\"), \"COP\\n\")"
   ]
  },
  {
   "cell_type": "code",
   "execution_count": 8,
   "metadata": {
    "execution": {
     "iopub.execute_input": "2025-07-25T23:51:26.152560Z",
     "iopub.status.busy": "2025-07-25T23:51:26.151689Z",
     "iopub.status.idle": "2025-07-25T23:51:26.206306Z",
     "shell.execute_reply": "2025-07-25T23:51:26.205418Z"
    },
    "vscode": {
     "languageId": "r"
    }
   },
   "outputs": [
    {
     "name": "stdout",
     "output_type": "stream",
     "text": [
      "\n",
      "═══════════════════════════════════════════════════════════════════\n",
      "        TABLA COMPLETA DE SEVERIDAD - 768 COMBINACIONES            \n",
      "═══════════════════════════════════════════════════════════════════\n",
      "Para insertar en documentación LaTeX\n",
      "\n",
      "Estructura de la tabla (primeras 20 filas):\n",
      " Ranking    Modelo  Color Carroceria SERVICIO  Edad Severidad_Esperada\n",
      "       1 2007_2013  Otros  HATCHBACK  Publico 19_41          168558185\n",
      "       2 2007_2013  Otros  HATCHBACK  Publico 41_63          161588960\n",
      "       3 2007_2013  Otros      SEDAN  Publico 19_41          142153897\n",
      "       4 2007_2013  Otros      SEDAN  Publico 41_63          136276387\n",
      "       5 2007_2013  Otros  HATCHBACK  Publico 63_85           96173907\n",
      "       6 2007_2013  Otros  HATCHBACK  Publico Otros           95376310\n",
      "       7 2007_2013  PLATA  HATCHBACK  Publico 19_41           94092616\n",
      "       8 2007_2013  PLATA  HATCHBACK  Publico 41_63           90202253\n",
      "       9 2000_2006  Otros  HATCHBACK  Publico 19_41           85615135\n",
      "      10 2007_2013 BLANCO  HATCHBACK  Publico 19_41           82913885\n",
      "      11 2000_2006  Otros  HATCHBACK  Publico 41_63           82075282\n",
      "      12 2007_2013  Otros      SEDAN  Publico 63_85           81108465\n",
      "      13 2007_2013  Otros      SEDAN  Publico Otros           80435810\n",
      "      14 2007_2013 BLANCO  HATCHBACK  Publico 41_63           79485719\n",
      "      15 2007_2013  PLATA      SEDAN  Publico 19_41           79353204\n",
      "      16 2007_2013  PLATA      SEDAN  Publico 41_63           76072258\n",
      "      17 2000_2006  Otros      SEDAN  Publico 19_41           72203702\n",
      "      18 1993_1999  Otros  HATCHBACK  Publico 19_41           72111597\n",
      "      19 2007_2013 BLANCO      SEDAN  Publico 19_41           69925598\n",
      "      20 2000_2006  Otros      SEDAN  Publico 41_63           69218361\n",
      " Severidad_LaTeX\n",
      "  \\\\$168,558,185\n",
      "  \\\\$161,588,960\n",
      "  \\\\$142,153,897\n",
      "  \\\\$136,276,387\n",
      "  \\\\$ 96,173,907\n",
      "  \\\\$ 95,376,310\n",
      "  \\\\$ 94,092,616\n",
      "  \\\\$ 90,202,253\n",
      "  \\\\$ 85,615,135\n",
      "  \\\\$ 82,913,885\n",
      "  \\\\$ 82,075,282\n",
      "  \\\\$ 81,108,465\n",
      "  \\\\$ 80,435,810\n",
      "  \\\\$ 79,485,719\n",
      "  \\\\$ 79,353,204\n",
      "  \\\\$ 76,072,258\n",
      "  \\\\$ 72,203,702\n",
      "  \\\\$ 72,111,597\n",
      "  \\\\$ 69,925,598\n",
      "  \\\\$ 69,218,361\n",
      "\n",
      "...\n",
      "Últimas 5 filas:\n",
      " Ranking    Modelo    Color Carroceria            SERVICIO  Edad\n",
      "     764 1993_1999 AMARILLO   CABINADO Transporte Personal Otros\n",
      "     765 2000_2006 AMARILLO      Otros Transporte Personal 63_85\n",
      "     766 2000_2006 AMARILLO      Otros Transporte Personal Otros\n",
      "     767 1993_1999 AMARILLO      Otros Transporte Personal 63_85\n",
      "     768 1993_1999 AMARILLO      Otros Transporte Personal Otros\n",
      " Severidad_Esperada Severidad_LaTeX\n",
      "              47450  \\\\$     47,450\n",
      "              44023  \\\\$     44,023\n",
      "              43658  \\\\$     43,658\n",
      "              37080  \\\\$     37,080\n",
      "              36772  \\\\$     36,772\n",
      "\n",
      "✅ Tabla completa de 768 combinaciones exportada: tabla_severidad_768_completa.csv\n",
      "📊 Combinaciones ordenadas de mayor a menor severidad esperada\n"
     ]
    }
   ],
   "source": [
    "# TABLA COMPLETA DE SEVERIDAD - TODAS LAS 768 COMBINACIONES\n",
    "# Crear tabla formateada para LaTeX con todas las combinaciones\n",
    "tabla_severidad_768_completa <- tabla_severidad_completa %>%\n",
    "  mutate(\n",
    "    Ranking = row_number(),\n",
    "    Severidad_LaTeX = paste0(\"\\\\$\", format(Severidad_Esperada, big.mark = \",\"))\n",
    "  ) %>%\n",
    "  select(Ranking, Modelo, Color, Carroceria, SERVICIO, Edad, Severidad_Esperada, Severidad_LaTeX)\n",
    "\n",
    "cat(\"\\n═══════════════════════════════════════════════════════════════════\\n\")\n",
    "cat(\"        TABLA COMPLETA DE SEVERIDAD - 768 COMBINACIONES            \\n\")\n",
    "cat(\"═══════════════════════════════════════════════════════════════════\\n\")\n",
    "cat(\"Para insertar en documentación LaTeX\\n\\n\")\n",
    "\n",
    "# Mostrar estructura de la tabla\n",
    "cat(\"Estructura de la tabla (primeras 20 filas):\\n\")\n",
    "print(head(tabla_severidad_768_completa, 20), row.names = FALSE)\n",
    "\n",
    "cat(\"\\n...\")\n",
    "cat(\"\\nÚltimas 5 filas:\\n\")\n",
    "print(tail(tabla_severidad_768_completa, 5), row.names = FALSE)\n",
    "\n",
    "# Exportar tabla completa para LaTeX\n",
    "write.csv(tabla_severidad_768_completa, \"../data/output/tabla_severidad_768_completa.csv\", row.names = FALSE)\n",
    "\n",
    "cat(\"\\n✅ Tabla completa de 768 combinaciones exportada: tabla_severidad_768_completa.csv\\n\")\n",
    "cat(\"📊 Combinaciones ordenadas de mayor a menor severidad esperada\\n\")"
   ]
  }
 ],
 "metadata": {
  "kernelspec": {
   "display_name": "R",
   "language": "R",
   "name": "ir"
  },
  "language_info": {
   "codemirror_mode": "r",
   "file_extension": ".r",
   "mimetype": "text/x-r-source",
   "name": "R",
   "pygments_lexer": "r",
   "version": "4.2.3"
  }
 },
 "nbformat": 4,
 "nbformat_minor": 4
}
