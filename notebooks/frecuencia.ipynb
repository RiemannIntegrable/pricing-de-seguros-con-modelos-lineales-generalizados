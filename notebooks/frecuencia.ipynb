{
 "cells": [
  {
   "cell_type": "markdown",
   "id": "4b8714a5",
   "metadata": {},
   "source": [
    "## Librerias"
   ]
  },
  {
   "cell_type": "code",
   "execution_count": 1,
   "id": "7d03f529",
   "metadata": {
    "vscode": {
     "languageId": "r"
    }
   },
   "outputs": [
    {
     "name": "stderr",
     "output_type": "stream",
     "text": [
      "\n",
      "Attaching package: ‘dplyr’\n",
      "\n",
      "\n",
      "The following objects are masked from ‘package:stats’:\n",
      "\n",
      "    filter, lag\n",
      "\n",
      "\n",
      "The following objects are masked from ‘package:base’:\n",
      "\n",
      "    intersect, setdiff, setequal, union\n",
      "\n",
      "\n",
      "\n",
      "Attaching package: ‘MASS’\n",
      "\n",
      "\n",
      "The following object is masked from ‘package:dplyr’:\n",
      "\n",
      "    select\n",
      "\n",
      "\n",
      "Loading required package: carData\n",
      "\n",
      "\n",
      "Attaching package: ‘car’\n",
      "\n",
      "\n",
      "The following object is masked from ‘package:dplyr’:\n",
      "\n",
      "    recode\n",
      "\n",
      "\n"
     ]
    }
   ],
   "source": [
    "library(dplyr)\n",
    "library(ggplot2)\n",
    "library(MASS)\n",
    "library(car)\n",
    "library(broom)\n",
    "library(hnp)"
   ]
  },
  {
   "cell_type": "markdown",
   "id": "5c5e36a6",
   "metadata": {},
   "source": [
    "## Data"
   ]
  },
  {
   "cell_type": "code",
   "execution_count": 2,
   "id": "b3211315",
   "metadata": {
    "vscode": {
     "languageId": "r"
    }
   },
   "outputs": [],
   "source": [
    "data <- read.csv(\"../data/processed/tabla_severidad.csv\")\n",
    "data$X <- NULL"
   ]
  },
  {
   "cell_type": "code",
   "execution_count": 3,
   "id": "12631143",
   "metadata": {
    "vscode": {
     "languageId": "r"
    }
   },
   "outputs": [
    {
     "data": {
      "text/html": [
       "<table class=\"dataframe\">\n",
       "<caption>A data.frame: 6 × 14</caption>\n",
       "<thead>\n",
       "\t<tr><th></th><th scope=col>Modelo</th><th scope=col>Color</th><th scope=col>Carroceria</th><th scope=col>CLASE_FASECOLDA</th><th scope=col>TIPO_VEHICULO</th><th scope=col>SERVICIO</th><th scope=col>Sexo_Aseg</th><th scope=col>Grupo_Edad</th><th scope=col>valor</th><th scope=col>n_siniestros</th><th scope=col>exposicion_total</th><th scope=col>suma_pagos</th><th scope=col>n_observaciones</th><th scope=col>severidad_media</th></tr>\n",
       "\t<tr><th></th><th scope=col>&lt;int&gt;</th><th scope=col>&lt;chr&gt;</th><th scope=col>&lt;chr&gt;</th><th scope=col>&lt;chr&gt;</th><th scope=col>&lt;chr&gt;</th><th scope=col>&lt;chr&gt;</th><th scope=col>&lt;chr&gt;</th><th scope=col>&lt;chr&gt;</th><th scope=col>&lt;dbl&gt;</th><th scope=col>&lt;int&gt;</th><th scope=col>&lt;int&gt;</th><th scope=col>&lt;dbl&gt;</th><th scope=col>&lt;int&gt;</th><th scope=col>&lt;dbl&gt;</th></tr>\n",
       "</thead>\n",
       "<tbody>\n",
       "\t<tr><th scope=row>1</th><td>1993</td><td>ROJO  </td><td>SEDAN</td><td>AUTOMOVIL</td><td>Livianos</td><td>Particular</td><td>F</td><td>41-63</td><td> 64667906</td><td>2</td><td>1834</td><td>2558114</td><td>10</td><td>1279057</td></tr>\n",
       "\t<tr><th scope=row>2</th><td>1993</td><td>ROJO  </td><td>SEDAN</td><td>AUTOMOVIL</td><td>Livianos</td><td>Particular</td><td>M</td><td>19-41</td><td> 76728037</td><td>2</td><td>1203</td><td>4883644</td><td> 7</td><td>2441822</td></tr>\n",
       "\t<tr><th scope=row>3</th><td>1997</td><td>BLANCO</td><td>SEDAN</td><td>AUTOMOVIL</td><td>Livianos</td><td>Particular</td><td>M</td><td>41-63</td><td>121930553</td><td>2</td><td>3077</td><td>4238816</td><td>16</td><td>2119408</td></tr>\n",
       "\t<tr><th scope=row>4</th><td>1998</td><td>AZUL  </td><td>SEDAN</td><td>AUTOMOVIL</td><td>Livianos</td><td>Particular</td><td>F</td><td>19-41</td><td>130833256</td><td>2</td><td>2791</td><td>8213167</td><td>16</td><td>4106584</td></tr>\n",
       "\t<tr><th scope=row>5</th><td>1998</td><td>BLANCO</td><td>SEDAN</td><td>AUTOMOVIL</td><td>Livianos</td><td>Particular</td><td>F</td><td>19-41</td><td>101517338</td><td>2</td><td>2410</td><td>8014069</td><td>13</td><td>4007035</td></tr>\n",
       "\t<tr><th scope=row>6</th><td>1998</td><td>BLANCO</td><td>SEDAN</td><td>AUTOMOVIL</td><td>Livianos</td><td>Particular</td><td>M</td><td>19-41</td><td>180459141</td><td>4</td><td>4223</td><td>6450375</td><td>23</td><td>1612594</td></tr>\n",
       "</tbody>\n",
       "</table>\n"
      ],
      "text/latex": [
       "A data.frame: 6 × 14\n",
       "\\begin{tabular}{r|llllllllllllll}\n",
       "  & Modelo & Color & Carroceria & CLASE\\_FASECOLDA & TIPO\\_VEHICULO & SERVICIO & Sexo\\_Aseg & Grupo\\_Edad & valor & n\\_siniestros & exposicion\\_total & suma\\_pagos & n\\_observaciones & severidad\\_media\\\\\n",
       "  & <int> & <chr> & <chr> & <chr> & <chr> & <chr> & <chr> & <chr> & <dbl> & <int> & <int> & <dbl> & <int> & <dbl>\\\\\n",
       "\\hline\n",
       "\t1 & 1993 & ROJO   & SEDAN & AUTOMOVIL & Livianos & Particular & F & 41-63 &  64667906 & 2 & 1834 & 2558114 & 10 & 1279057\\\\\n",
       "\t2 & 1993 & ROJO   & SEDAN & AUTOMOVIL & Livianos & Particular & M & 19-41 &  76728037 & 2 & 1203 & 4883644 &  7 & 2441822\\\\\n",
       "\t3 & 1997 & BLANCO & SEDAN & AUTOMOVIL & Livianos & Particular & M & 41-63 & 121930553 & 2 & 3077 & 4238816 & 16 & 2119408\\\\\n",
       "\t4 & 1998 & AZUL   & SEDAN & AUTOMOVIL & Livianos & Particular & F & 19-41 & 130833256 & 2 & 2791 & 8213167 & 16 & 4106584\\\\\n",
       "\t5 & 1998 & BLANCO & SEDAN & AUTOMOVIL & Livianos & Particular & F & 19-41 & 101517338 & 2 & 2410 & 8014069 & 13 & 4007035\\\\\n",
       "\t6 & 1998 & BLANCO & SEDAN & AUTOMOVIL & Livianos & Particular & M & 19-41 & 180459141 & 4 & 4223 & 6450375 & 23 & 1612594\\\\\n",
       "\\end{tabular}\n"
      ],
      "text/markdown": [
       "\n",
       "A data.frame: 6 × 14\n",
       "\n",
       "| <!--/--> | Modelo &lt;int&gt; | Color &lt;chr&gt; | Carroceria &lt;chr&gt; | CLASE_FASECOLDA &lt;chr&gt; | TIPO_VEHICULO &lt;chr&gt; | SERVICIO &lt;chr&gt; | Sexo_Aseg &lt;chr&gt; | Grupo_Edad &lt;chr&gt; | valor &lt;dbl&gt; | n_siniestros &lt;int&gt; | exposicion_total &lt;int&gt; | suma_pagos &lt;dbl&gt; | n_observaciones &lt;int&gt; | severidad_media &lt;dbl&gt; |\n",
       "|---|---|---|---|---|---|---|---|---|---|---|---|---|---|---|\n",
       "| 1 | 1993 | ROJO   | SEDAN | AUTOMOVIL | Livianos | Particular | F | 41-63 |  64667906 | 2 | 1834 | 2558114 | 10 | 1279057 |\n",
       "| 2 | 1993 | ROJO   | SEDAN | AUTOMOVIL | Livianos | Particular | M | 19-41 |  76728037 | 2 | 1203 | 4883644 |  7 | 2441822 |\n",
       "| 3 | 1997 | BLANCO | SEDAN | AUTOMOVIL | Livianos | Particular | M | 41-63 | 121930553 | 2 | 3077 | 4238816 | 16 | 2119408 |\n",
       "| 4 | 1998 | AZUL   | SEDAN | AUTOMOVIL | Livianos | Particular | F | 19-41 | 130833256 | 2 | 2791 | 8213167 | 16 | 4106584 |\n",
       "| 5 | 1998 | BLANCO | SEDAN | AUTOMOVIL | Livianos | Particular | F | 19-41 | 101517338 | 2 | 2410 | 8014069 | 13 | 4007035 |\n",
       "| 6 | 1998 | BLANCO | SEDAN | AUTOMOVIL | Livianos | Particular | M | 19-41 | 180459141 | 4 | 4223 | 6450375 | 23 | 1612594 |\n",
       "\n"
      ],
      "text/plain": [
       "  Modelo Color  Carroceria CLASE_FASECOLDA TIPO_VEHICULO SERVICIO   Sexo_Aseg\n",
       "1 1993   ROJO   SEDAN      AUTOMOVIL       Livianos      Particular F        \n",
       "2 1993   ROJO   SEDAN      AUTOMOVIL       Livianos      Particular M        \n",
       "3 1997   BLANCO SEDAN      AUTOMOVIL       Livianos      Particular M        \n",
       "4 1998   AZUL   SEDAN      AUTOMOVIL       Livianos      Particular F        \n",
       "5 1998   BLANCO SEDAN      AUTOMOVIL       Livianos      Particular F        \n",
       "6 1998   BLANCO SEDAN      AUTOMOVIL       Livianos      Particular M        \n",
       "  Grupo_Edad valor     n_siniestros exposicion_total suma_pagos n_observaciones\n",
       "1 41-63       64667906 2            1834             2558114    10             \n",
       "2 19-41       76728037 2            1203             4883644     7             \n",
       "3 41-63      121930553 2            3077             4238816    16             \n",
       "4 19-41      130833256 2            2791             8213167    16             \n",
       "5 19-41      101517338 2            2410             8014069    13             \n",
       "6 19-41      180459141 4            4223             6450375    23             \n",
       "  severidad_media\n",
       "1 1279057        \n",
       "2 2441822        \n",
       "3 2119408        \n",
       "4 4106584        \n",
       "5 4007035        \n",
       "6 1612594        "
      ]
     },
     "metadata": {},
     "output_type": "display_data"
    }
   ],
   "source": [
    "head(data)"
   ]
  },
  {
   "cell_type": "code",
   "execution_count": 4,
   "id": "ee01df93",
   "metadata": {
    "vscode": {
     "languageId": "r"
    }
   },
   "outputs": [
    {
     "data": {
      "text/plain": [
       "    Min.  1st Qu.   Median     Mean  3rd Qu.     Max. \n",
       "  148662  1914583  4185008  7373264  9182684 68223671 "
      ]
     },
     "metadata": {},
     "output_type": "display_data"
    }
   ],
   "source": [
    "summary(data$suma_pagos)"
   ]
  },
  {
   "cell_type": "markdown",
   "id": "de6b3b00",
   "metadata": {},
   "source": [
    "## Seleccion de variables"
   ]
  },
  {
   "cell_type": "code",
   "execution_count": 5,
   "id": "e4bf56f3",
   "metadata": {
    "vscode": {
     "languageId": "r"
    }
   },
   "outputs": [
    {
     "name": "stdout",
     "output_type": "stream",
     "text": [
      "Variable: Modelo - Categoría de referencia: 2012 \n",
      "Variable: Color - Categoría de referencia: PLATA \n",
      "Variable: Carroceria - Categoría de referencia: HATCHBACK \n",
      "Variable: CLASE_FASECOLDA - Categoría de referencia: AUTOMOVIL \n",
      "Variable: TIPO_VEHICULO - Categoría de referencia: Livianos \n",
      "Variable: SERVICIO - Categoría de referencia: Particular \n",
      "Variable: Sexo_Aseg - Categoría de referencia: M \n",
      "Variable: Grupo_Edad - Categoría de referencia: 41-63 \n"
     ]
    },
    {
     "name": "stdout",
     "output_type": "stream",
     "text": [
      "'data.frame':\t258 obs. of  14 variables:\n",
      " $ Modelo          : Factor w/ 18 levels \"2012\",\"1993\",..: 2 2 3 4 4 4 4 4 4 5 ...\n",
      " $ Color           : Factor w/ 19 levels \"PLATA\",\"AMARILLO\",..: 16 16 5 3 5 5 9 16 18 5 ...\n",
      " $ Carroceria      : Factor w/ 10 levels \"HATCHBACK\",\"BUS-BUSETA\",..: 8 8 8 8 8 8 10 8 8 8 ...\n",
      " $ CLASE_FASECOLDA : Factor w/ 7 levels \"AUTOMOVIL\",\"AUTOMOVIL TAXI\",..: 1 1 1 1 1 1 5 1 1 1 ...\n",
      " $ TIPO_VEHICULO   : Factor w/ 2 levels \"Livianos\",\"Pesados\": 1 1 1 1 1 1 1 1 1 1 ...\n",
      " $ SERVICIO        : Factor w/ 3 levels \"Particular\",\"Publico\",..: 1 1 1 1 1 1 1 1 1 1 ...\n",
      " $ Sexo_Aseg       : Factor w/ 2 levels \"M\",\"F\": 2 1 1 2 2 1 2 2 1 2 ...\n",
      " $ Grupo_Edad      : Factor w/ 3 levels \"41-63\",\"19-41\",..: 1 2 1 2 2 2 1 1 2 1 ...\n",
      " $ valor           : num  6.47e+07 7.67e+07 1.22e+08 1.31e+08 1.02e+08 ...\n",
      " $ n_siniestros    : int  2 2 2 2 2 4 2 2 2 2 ...\n",
      " $ exposicion_total: int  1834 1203 3077 2791 2410 4223 1099 1832 2197 2395 ...\n",
      " $ suma_pagos      : num  2558114 4883644 4238816 8213167 8014069 ...\n",
      " $ n_observaciones : int  10 7 16 16 13 23 6 10 12 14 ...\n",
      " $ severidad_media : num  1279057 2441822 2119408 4106584 4007035 ...\n"
     ]
    }
   ],
   "source": [
    "establecer_categorias_referencia <- function(df, vars_categoricas, var_exposicion = \"exposicion_total\") {\n",
    "  df_copy <- df\n",
    "  \n",
    "  for (var in vars_categoricas) {\n",
    "    exposicion_por_categoria <- aggregate(df_copy[[var_exposicion]], \n",
    "                                        by = list(df_copy[[var]]), \n",
    "                                        FUN = sum, na.rm = TRUE)\n",
    "    names(exposicion_por_categoria) <- c(\"categoria\", \"exposicion_total\")\n",
    "    \n",
    "    categoria_referencia <- exposicion_por_categoria$categoria[which.max(exposicion_por_categoria$exposicion_total)]\n",
    "    \n",
    "    cat(\"Variable:\", var, \"- Categoría de referencia:\", categoria_referencia, \"\\n\")\n",
    "    \n",
    "    df_copy[[var]] <- factor(df_copy[[var]])\n",
    "    df_copy[[var]] <- relevel(df_copy[[var]], ref = as.character(categoria_referencia))\n",
    "  }\n",
    "  \n",
    "  return(df_copy)\n",
    "}\n",
    "\n",
    "vars_categoricas <- c(\"Modelo\", \"Color\", \"Carroceria\", \"CLASE_FASECOLDA\", \n",
    "                     \"TIPO_VEHICULO\", \"SERVICIO\", \"Sexo_Aseg\", \"Grupo_Edad\")\n",
    "\n",
    "data <- establecer_categorias_referencia(data, vars_categoricas)\n",
    "\n",
    "str(data)"
   ]
  },
  {
   "cell_type": "markdown",
   "id": "cb44b119",
   "metadata": {},
   "source": [
    "## FRECUENCIA "
   ]
  },
  {
   "cell_type": "code",
   "execution_count": 6,
   "id": "c18539cd",
   "metadata": {
    "vscode": {
     "languageId": "r"
    }
   },
   "outputs": [
    {
     "name": "stdout",
     "output_type": "stream",
     "text": [
      "Fórmula seleccionada por stepwise:\n",
      "n_siniestros ~ log(valor) + Modelo + Color + Carroceria + CLASE_FASECOLDA + \n",
      "    TIPO_VEHICULO + SERVICIO + Sexo_Aseg + Grupo_Edad + offset(log(exposicion_total))\n",
      "\n",
      "Creando modelo final con quasi-Poisson...\n"
     ]
    },
    {
     "data": {
      "text/plain": [
       "\n",
       "Call:\n",
       "glm(formula = n_siniestros ~ log(valor) + Modelo + Color + Carroceria + \n",
       "    CLASE_FASECOLDA + TIPO_VEHICULO + SERVICIO + Sexo_Aseg + \n",
       "    Grupo_Edad + offset(log(exposicion_total)), family = quasipoisson, \n",
       "    data = data)\n",
       "\n",
       "Deviance Residuals: \n",
       "    Min       1Q   Median       3Q      Max  \n",
       "-1.5697  -0.2819   0.0000   0.2932   2.0591  \n",
       "\n",
       "Coefficients: (3 not defined because of singularities)\n",
       "                                        Estimate Std. Error t value Pr(>|t|)\n",
       "(Intercept)                             3.792444   0.905644   4.188 4.20e-05\n",
       "log(valor)                             -0.527869   0.043207 -12.217  < 2e-16\n",
       "Modelo1993                             -0.901766   0.318832  -2.828  0.00515\n",
       "Modelo1997                             -1.189657   0.426955  -2.786  0.00584\n",
       "Modelo1998                             -0.783195   0.190254  -4.117 5.59e-05\n",
       "Modelo1999                             -0.800401   0.313894  -2.550  0.01151\n",
       "Modelo2000                             -0.885224   0.225677  -3.923  0.00012\n",
       "Modelo2001                             -0.621819   0.509239  -1.221  0.22347\n",
       "Modelo2002                             -0.571753   0.230899  -2.476  0.01410\n",
       "Modelo2003                             -0.875321   0.312470  -2.801  0.00558\n",
       "Modelo2004                             -0.323284   0.161570  -2.001  0.04674\n",
       "Modelo2005                             -0.330455   0.143183  -2.308  0.02201\n",
       "Modelo2006                             -0.361382   0.169649  -2.130  0.03436\n",
       "Modelo2007                             -0.269642   0.104601  -2.578  0.01065\n",
       "Modelo2008                             -0.311071   0.104920  -2.965  0.00339\n",
       "Modelo2009                             -0.222018   0.100936  -2.200  0.02897\n",
       "Modelo2010                             -0.183419   0.093142  -1.969  0.05029\n",
       "Modelo2011                             -0.091047   0.072589  -1.254  0.21118\n",
       "Modelo2013                             -0.000726   0.142066  -0.005  0.99593\n",
       "ColorAMARILLO                          -0.419746   0.391245  -1.073  0.28461\n",
       "ColorAZUL                              -0.049198   0.089920  -0.547  0.58489\n",
       "ColorBEIGE                             -0.055180   0.298609  -0.185  0.85358\n",
       "ColorBLANCO                            -0.117385   0.088648  -1.324  0.18693\n",
       "ColorCAFE                               0.248455   0.301428   0.824  0.41076\n",
       "ColorCHAMPAÑA                          -0.440148   0.191215  -2.302  0.02236\n",
       "ColorDORADO                            -0.042667   0.650375  -0.066  0.94776\n",
       "ColorGRIS                              -0.102778   0.080694  -1.274  0.20423\n",
       "ColorMARRON                            -0.132279   0.415961  -0.318  0.75081\n",
       "ColorNARANJA                            0.634752   0.319728   1.985  0.04846\n",
       "ColorNEGRO                             -0.160745   0.089378  -1.798  0.07359\n",
       "ColorORO                                0.584242   0.513945   1.137  0.25697\n",
       "ColorPLATEADO                           0.127853   0.225135   0.568  0.57073\n",
       "ColorPLATINO                            0.581023   0.311603   1.865  0.06368\n",
       "ColorROJO                               0.100258   0.087633   1.144  0.25394\n",
       "ColorUVA METALIZADO                     0.613636   0.434035   1.414  0.15895\n",
       "ColorVERDE                             -0.034085   0.161596  -0.211  0.83315\n",
       "ColorVINOTINTO                          0.577819   0.305878   1.889  0.06031\n",
       "CarroceriaBUS-BUSETA                    0.563014   0.391675   1.437  0.15213\n",
       "CarroceriaCABINADO                     -0.064394   0.175616  -0.367  0.71424\n",
       "CarroceriaCOUPE                        -0.041032   0.265389  -0.155  0.87728\n",
       "CarroceriaESTACAS                       0.019686   0.488639   0.040  0.96790\n",
       "CarroceriaMETALICA                     -0.156812   0.242475  -0.647  0.51855\n",
       "CarroceriaPICK UP - DOBLE CABINA        0.178357   0.308660   0.578  0.56401\n",
       "CarroceriaSEDAN                         0.004402   0.055861   0.079  0.93726\n",
       "CarroceriaSIN CARROCERIA               -0.151277   0.468949  -0.323  0.74734\n",
       "CarroceriaST. WAGON                    -0.050957   0.209745  -0.243  0.80829\n",
       "CLASE_FASECOLDAAUTOMOVIL TAXI          -0.126990   0.297988  -0.426  0.67045\n",
       "CLASE_FASECOLDABUS / BUSETA / MICROBUS -0.128488   0.402701  -0.319  0.75000\n",
       "CLASE_FASECOLDACAMION                         NA         NA      NA       NA\n",
       "CLASE_FASECOLDACAMIONETA                0.349533   0.185189   1.887  0.06053\n",
       "CLASE_FASECOLDACAMPERO                  0.391391   0.190393   2.056  0.04109\n",
       "CLASE_FASECOLDAMICROBUS                       NA         NA      NA       NA\n",
       "TIPO_VEHICULOPesados                          NA         NA      NA       NA\n",
       "SERVICIOPublico                         0.236596   0.251892   0.939  0.34871\n",
       "SERVICIOTransporte Personal            -0.280701   0.293988  -0.955  0.34081\n",
       "Sexo_AsegF                             -0.136901   0.049383  -2.772  0.00608\n",
       "Grupo_Edad19-41                        -0.039501   0.051434  -0.768  0.44338\n",
       "Grupo_Edad63-85                        -0.095229   0.089650  -1.062  0.28939\n",
       "                                          \n",
       "(Intercept)                            ***\n",
       "log(valor)                             ***\n",
       "Modelo1993                             ** \n",
       "Modelo1997                             ** \n",
       "Modelo1998                             ***\n",
       "Modelo1999                             *  \n",
       "Modelo2000                             ***\n",
       "Modelo2001                                \n",
       "Modelo2002                             *  \n",
       "Modelo2003                             ** \n",
       "Modelo2004                             *  \n",
       "Modelo2005                             *  \n",
       "Modelo2006                             *  \n",
       "Modelo2007                             *  \n",
       "Modelo2008                             ** \n",
       "Modelo2009                             *  \n",
       "Modelo2010                             .  \n",
       "Modelo2011                                \n",
       "Modelo2013                                \n",
       "ColorAMARILLO                             \n",
       "ColorAZUL                                 \n",
       "ColorBEIGE                                \n",
       "ColorBLANCO                               \n",
       "ColorCAFE                                 \n",
       "ColorCHAMPAÑA                          *  \n",
       "ColorDORADO                               \n",
       "ColorGRIS                                 \n",
       "ColorMARRON                               \n",
       "ColorNARANJA                           *  \n",
       "ColorNEGRO                             .  \n",
       "ColorORO                                  \n",
       "ColorPLATEADO                             \n",
       "ColorPLATINO                           .  \n",
       "ColorROJO                                 \n",
       "ColorUVA METALIZADO                       \n",
       "ColorVERDE                                \n",
       "ColorVINOTINTO                         .  \n",
       "CarroceriaBUS-BUSETA                      \n",
       "CarroceriaCABINADO                        \n",
       "CarroceriaCOUPE                           \n",
       "CarroceriaESTACAS                         \n",
       "CarroceriaMETALICA                        \n",
       "CarroceriaPICK UP - DOBLE CABINA          \n",
       "CarroceriaSEDAN                           \n",
       "CarroceriaSIN CARROCERIA                  \n",
       "CarroceriaST. WAGON                       \n",
       "CLASE_FASECOLDAAUTOMOVIL TAXI             \n",
       "CLASE_FASECOLDABUS / BUSETA / MICROBUS    \n",
       "CLASE_FASECOLDACAMION                     \n",
       "CLASE_FASECOLDACAMIONETA               .  \n",
       "CLASE_FASECOLDACAMPERO                 *  \n",
       "CLASE_FASECOLDAMICROBUS                   \n",
       "TIPO_VEHICULOPesados                      \n",
       "SERVICIOPublico                           \n",
       "SERVICIOTransporte Personal               \n",
       "Sexo_AsegF                             ** \n",
       "Grupo_Edad19-41                           \n",
       "Grupo_Edad63-85                           \n",
       "---\n",
       "Signif. codes:  0 ‘***’ 0.001 ‘**’ 0.01 ‘*’ 0.05 ‘.’ 0.1 ‘ ’ 1\n",
       "\n",
       "(Dispersion parameter for quasipoisson family taken to be 0.3242826)\n",
       "\n",
       "    Null deviance: 164.97  on 257  degrees of freedom\n",
       "Residual deviance:  65.91  on 203  degrees of freedom\n",
       "AIC: NA\n",
       "\n",
       "Number of Fisher Scoring iterations: 4\n"
      ]
     },
     "metadata": {},
     "output_type": "display_data"
    }
   ],
   "source": [
    "# Modelo inicial con todas las variables (Poisson)\n",
    "modelo_inicial <- glm(\n",
    "  n_siniestros ~ log(valor) + Modelo + Color + Carroceria + CLASE_FASECOLDA + \n",
    "                 TIPO_VEHICULO + SERVICIO + Sexo_Aseg + Grupo_Edad + \n",
    "                 offset(log(exposicion_total)),\n",
    "  family = poisson,\n",
    "  data = data\n",
    ")\n",
    "\n",
    "# Selección stepwise\n",
    "modelo_stepwise <- step(modelo_inicial, direction = \"forward\", trace = FALSE)\n",
    "\n",
    "# Mostrar la fórmula seleccionada\n",
    "cat(\"Fórmula seleccionada por stepwise:\\n\")\n",
    "print(formula(modelo_stepwise))\n",
    "\n",
    "# Extraer los términos de la fórmula seleccionada\n",
    "formula_seleccionada <- formula(modelo_stepwise)\n",
    "cat(\"\\nCreando modelo final con quasi-Poisson...\\n\")\n",
    "\n",
    "# Crear modelo final con Quasi-Poisson especificando la fórmula explícitamente\n",
    "modelo_frecuencia_final <- update(modelo_stepwise, family = quasipoisson)\n",
    "\n",
    "# Resumen del modelo final\n",
    "summary(modelo_frecuencia_final)"
   ]
  },
  {
   "cell_type": "markdown",
   "id": "dxp5gj9lwnq",
   "metadata": {},
   "source": [
    "## Evaluación"
   ]
  },
  {
   "cell_type": "code",
   "execution_count": 7,
   "id": "qorztfxhwwc",
   "metadata": {
    "vscode": {
     "languageId": "r"
    }
   },
   "outputs": [
    {
     "name": "stdout",
     "output_type": "stream",
     "text": [
      "Parámetro de dispersión: 0.3242812 \n",
      "La dispersión parece apropiada para el modelo Poisson.\n"
     ]
    }
   ],
   "source": [
    "# Verificar sobredispersión\n",
    "dispersion <- sum(residuals(modelo_frecuencia_final, type = \"pearson\")^2) / modelo_frecuencia_final$df.residual\n",
    "cat(\"Parámetro de dispersión:\", dispersion, \"\\n\")\n",
    "\n",
    "if (dispersion > 1.5) {\n",
    "  cat(\"ADVERTENCIA: Hay evidencia de sobredispersión. Considerar modelo quasi-Poisson o binomial negativa.\\n\")\n",
    "} else {\n",
    "  cat(\"La dispersión parece apropiada para el modelo Poisson.\\n\")\n",
    "}"
   ]
  },
  {
   "cell_type": "code",
   "execution_count": 8,
   "id": "0fh62s7hjl89",
   "metadata": {
    "vscode": {
     "languageId": "r"
    }
   },
   "outputs": [
    {
     "name": "stderr",
     "output_type": "stream",
     "text": [
      "Warning message in title(...):\n",
      "“conversion failure on '√|Residuos deviance|' in 'mbcsToSbcs': dot substituted for <e2>”\n",
      "Warning message in title(...):\n",
      "“conversion failure on '√|Residuos deviance|' in 'mbcsToSbcs': dot substituted for <88>”\n",
      "Warning message in title(...):\n",
      "“conversion failure on '√|Residuos deviance|' in 'mbcsToSbcs': dot substituted for <9a>”\n"
     ]
    },
    {
     "data": {
      "image/png": "[encoded data removed]",
      "text/plain": [
       "Plot with title “Distribución de Residuos - Frecuencia”"
      ]
     },
     "metadata": {
      "image/png": {
       "height": 420,
       "width": 420
      }
     },
     "output_type": "display_data"
    }
   ],
   "source": [
    "# Gráficos diagnósticos para el modelo de frecuencia\n",
    "residuos_deviance <- residuals(modelo_frecuencia_final, type = \"deviance\")\n",
    "residuos_pearson <- residuals(modelo_frecuencia_final, type = \"pearson\")\n",
    "valores_ajustados <- fitted(modelo_frecuencia_final)\n",
    "\n",
    "# Panel de diagnósticos (4 gráficos)\n",
    "par(mfrow = c(2, 2))\n",
    "\n",
    "# Residuos vs valores ajustados\n",
    "plot(valores_ajustados, residuos_deviance,\n",
    "     xlab = \"Valores ajustados\", \n",
    "     ylab = \"Residuos deviance\",\n",
    "     main = \"Residuos vs Ajustados - Frecuencia\",\n",
    "     pch = 16, col = \"#4A90E2\")\n",
    "abline(h = 0, col = \"red\", lty = 2)\n",
    "\n",
    "# QQ-plot de residuos\n",
    "qqnorm(residuos_deviance, \n",
    "       main = \"QQ-plot Residuos Deviance - Frecuencia\",\n",
    "       pch = 16, col = \"#4A90E2\")\n",
    "qqline(residuos_deviance, col = \"red\")\n",
    "\n",
    "# Scale-Location\n",
    "plot(valores_ajustados, sqrt(abs(residuos_deviance)),\n",
    "     xlab = \"Valores ajustados\",\n",
    "     ylab = \"√|Residuos deviance|\",\n",
    "     main = \"Scale-Location - Frecuencia\",\n",
    "     pch = 16, col = \"#4A90E2\")\n",
    "\n",
    "# Histograma de residuos\n",
    "hist(residuos_deviance, \n",
    "     breaks = 30,\n",
    "     main = \"Distribución de Residuos - Frecuencia\",\n",
    "     xlab = \"Residuos deviance\",\n",
    "     col = \"#E8F4FD\",\n",
    "     border = \"#4A90E2\")\n",
    "\n",
    "par(mfrow = c(1, 1))"
   ]
  },
  {
   "cell_type": "code",
   "execution_count": 9,
   "id": "5ql8mrzyuze",
   "metadata": {
    "vscode": {
     "languageId": "r"
    }
   },
   "outputs": [
    {
     "name": "stdout",
     "output_type": "stream",
     "text": [
      "Quasi-Poisson model \n"
     ]
    },
    {
     "data": {
      "image/png": "[encoded data removed]",
      "text/plain": [
       "Plot with title “Envelope Plot - Modelo Frecuencia”"
      ]
     },
     "metadata": {
      "image/png": {
       "height": 420,
       "width": 420
      }
     },
     "output_type": "display_data"
    }
   ],
   "source": [
    "# Envelope plot para el modelo de frecuencia\n",
    "envelope_frecuencia <- hnp(modelo_frecuencia_final,\n",
    "                          halfnormal = TRUE,\n",
    "                          plot = TRUE,\n",
    "                          main = \"Envelope Plot - Modelo Frecuencia\",\n",
    "                          col = \"#4A90E2\")"
   ]
  },
  {
   "cell_type": "markdown",
   "id": "e95xeu2nq6e",
   "metadata": {},
   "source": [
    "## Diagnóstico del ajuste del modelo"
   ]
  },
  {
   "cell_type": "code",
   "execution_count": 10,
   "id": "l8v8ne2ndc",
   "metadata": {
    "vscode": {
     "languageId": "r"
    }
   },
   "outputs": [
    {
     "name": "stdout",
     "output_type": "stream",
     "text": [
      "=== DIAGNÓSTICO DEL MODELO ===\n",
      "Dispersión: 0.3242812 \n",
      "Deviance/df: 0.324681 \n",
      "\n",
      "=== DISTRIBUCIÓN DE n_siniestros ===\n"
     ]
    },
    {
     "data": {
      "text/plain": [
       "\n",
       "  1   2   3   4   6   8  10  12 \n",
       "  4 188   1  52   9   2   1   1 "
      ]
     },
     "metadata": {},
     "output_type": "display_data"
    },
    {
     "name": "stdout",
     "output_type": "stream",
     "text": [
      "\n",
      "Prop. de ceros: 0 \n",
      "Rango valores ajustados: 0.995 8.426 \n",
      "Media n_siniestros: 2.647 \n"
     ]
    }
   ],
   "source": [
    "# Análisis detallado del problema\n",
    "cat(\"=== DIAGNÓSTICO DEL MODELO ===\\n\")\n",
    "cat(\"Dispersión:\", dispersion, \"\\n\")\n",
    "cat(\"Deviance/df:\", deviance(modelo_frecuencia_final)/modelo_frecuencia_final$df.residual, \"\\n\")\n",
    "\n",
    "# Verificar distribución de la variable respuesta\n",
    "cat(\"\\n=== DISTRIBUCIÓN DE n_siniestros ===\\n\")\n",
    "table(data$n_siniestros)\n",
    "\n",
    "# Verificar ceros excesivos\n",
    "prop_ceros <- sum(data$n_siniestros == 0) / nrow(data)\n",
    "cat(\"\\nProp. de ceros:\", round(prop_ceros, 3), \"\\n\")\n",
    "\n",
    "# Verificar valores ajustados vs observados\n",
    "mu_hat <- fitted(modelo_frecuencia_final)\n",
    "cat(\"Rango valores ajustados:\", round(range(mu_hat), 3), \"\\n\")\n",
    "cat(\"Media n_siniestros:\", round(mean(data$n_siniestros), 3), \"\\n\")"
   ]
  },
  {
   "cell_type": "markdown",
   "id": "rw80yc0inhs",
   "metadata": {},
   "source": [
    "## Exportar Modelos"
   ]
  },
  {
   "cell_type": "code",
   "execution_count": 11,
   "id": "j8m73dfg0d",
   "metadata": {
    "vscode": {
     "languageId": "r"
    }
   },
   "outputs": [
    {
     "name": "stdout",
     "output_type": "stream",
     "text": [
      "Modelos exportados exitosamente:\n",
      "- modelo_frecuencia_quasipoisson.rds\n",
      "- modelo_frecuencia_quasipoisson_completo.rds\n"
     ]
    }
   ],
   "source": [
    "# Guardar modelo de frecuencia simple\n",
    "saveRDS(modelo_frecuencia_final, file = \"../models/modelo_frecuencia_quasipoisson.rds\")\n",
    "\n",
    "# Guardar modelo con información adicional\n",
    "modelo_frecuencia_info <- list(\n",
    "  modelo = modelo_frecuencia_final,\n",
    "  aic = AIC(modelo_frecuencia_final),\n",
    "  formula = formula(modelo_frecuencia_final),\n",
    "  family = \"Quasi-Poisson\",\n",
    "  dispersion = summary(modelo_frecuencia_final)$dispersion,\n",
    "  fecha_entrenamiento = Sys.Date()\n",
    ")\n",
    "\n",
    "saveRDS(modelo_frecuencia_info, file = \"../models/modelo_frecuencia_quasipoisson_completo.rds\")\n",
    "\n",
    "cat(\"Modelos exportados exitosamente:\\n\")\n",
    "cat(\"- modelo_frecuencia_quasipoisson.rds\\n\")\n",
    "cat(\"- modelo_frecuencia_quasipoisson_completo.rds\\n\")"
   ]
  }
 ],
 "metadata": {
  "kernelspec": {
   "display_name": "R",
   "language": "R",
   "name": "ir"
  },
  "language_info": {
   "codemirror_mode": "r",
   "file_extension": ".r",
   "mimetype": "text/x-r-source",
   "name": "R",
   "pygments_lexer": "r",
   "version": "4.2.3"
  }
 },
 "nbformat": 4,
 "nbformat_minor": 5
}
