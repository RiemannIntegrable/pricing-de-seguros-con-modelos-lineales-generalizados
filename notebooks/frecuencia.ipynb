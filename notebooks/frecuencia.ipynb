{
 "cells": [
  {
   "cell_type": "markdown",
   "id": "4b8714a5",
   "metadata": {},
   "source": [
    "## Librerias"
   ]
  },
  {
   "cell_type": "code",
   "execution_count": 134,
   "id": "7d03f529",
   "metadata": {
    "vscode": {
     "languageId": "r"
    }
   },
   "outputs": [],
   "source": [
    "library(dplyr)\n",
    "library(ggplot2)\n",
    "library(MASS)\n",
    "library(car)\n",
    "library(broom)\n",
    "library(hnp)"
   ]
  },
  {
   "cell_type": "markdown",
   "id": "5c5e36a6",
   "metadata": {},
   "source": [
    "## Data"
   ]
  },
  {
   "cell_type": "code",
   "execution_count": 135,
   "id": "b3211315",
   "metadata": {
    "vscode": {
     "languageId": "r"
    }
   },
   "outputs": [],
   "source": [
    "data <- read.csv(\"../data/processed/tabla_severidad.csv\")\n",
    "data$X <- NULL"
   ]
  },
  {
   "cell_type": "code",
   "execution_count": 136,
   "id": "12631143",
   "metadata": {
    "vscode": {
     "languageId": "r"
    }
   },
   "outputs": [
    {
     "data": {
      "text/html": [
       "<table class=\"dataframe\">\n",
       "<caption>A data.frame: 6 × 14</caption>\n",
       "<thead>\n",
       "\t<tr><th></th><th scope=col>Modelo</th><th scope=col>Color</th><th scope=col>Carroceria</th><th scope=col>CLASE_FASECOLDA</th><th scope=col>TIPO_VEHICULO</th><th scope=col>SERVICIO</th><th scope=col>Sexo_Aseg</th><th scope=col>Edad</th><th scope=col>valor</th><th scope=col>n_siniestros</th><th scope=col>exposicion_total</th><th scope=col>suma_pagos</th><th scope=col>n_observaciones</th><th scope=col>severidad_media</th></tr>\n",
       "\t<tr><th></th><th scope=col>&lt;chr&gt;</th><th scope=col>&lt;chr&gt;</th><th scope=col>&lt;chr&gt;</th><th scope=col>&lt;chr&gt;</th><th scope=col>&lt;chr&gt;</th><th scope=col>&lt;chr&gt;</th><th scope=col>&lt;chr&gt;</th><th scope=col>&lt;chr&gt;</th><th scope=col>&lt;dbl&gt;</th><th scope=col>&lt;int&gt;</th><th scope=col>&lt;int&gt;</th><th scope=col>&lt;dbl&gt;</th><th scope=col>&lt;int&gt;</th><th scope=col>&lt;dbl&gt;</th></tr>\n",
       "</thead>\n",
       "<tbody>\n",
       "\t<tr><th scope=row>1</th><td>1993_1999</td><td>BLANCO</td><td>SEDAN</td><td>AUTOMOVIL</td><td>Livianos</td><td>Particular</td><td>F</td><td>19_41</td><td>101517338</td><td>2</td><td>2410</td><td>8014069</td><td>13</td><td>4007034.6</td></tr>\n",
       "\t<tr><th scope=row>2</th><td>1993_1999</td><td>BLANCO</td><td>SEDAN</td><td>AUTOMOVIL</td><td>Livianos</td><td>Particular</td><td>F</td><td>41_63</td><td>197695502</td><td>2</td><td>3862</td><td>2204046</td><td>22</td><td>1102023.2</td></tr>\n",
       "\t<tr><th scope=row>3</th><td>1993_1999</td><td>BLANCO</td><td>SEDAN</td><td>AUTOMOVIL</td><td>Livianos</td><td>Particular</td><td>M</td><td>19_41</td><td>180459141</td><td>4</td><td>4223</td><td>6450375</td><td>23</td><td>1612593.7</td></tr>\n",
       "\t<tr><th scope=row>4</th><td>1993_1999</td><td>BLANCO</td><td>SEDAN</td><td>AUTOMOVIL</td><td>Livianos</td><td>Particular</td><td>M</td><td>41_63</td><td>121930553</td><td>2</td><td>3077</td><td>4238816</td><td>16</td><td>2119408.0</td></tr>\n",
       "\t<tr><th scope=row>5</th><td>1993_1999</td><td>Otros </td><td>Otros</td><td>Otros    </td><td>Livianos</td><td>Particular</td><td>F</td><td>41_63</td><td> 79750398</td><td>2</td><td>1099</td><td>1208679</td><td> 6</td><td> 604339.6</td></tr>\n",
       "\t<tr><th scope=row>6</th><td>1993_1999</td><td>Otros </td><td>SEDAN</td><td>AUTOMOVIL</td><td>Livianos</td><td>Particular</td><td>F</td><td>19_41</td><td>338559951</td><td>2</td><td>6132</td><td>8213167</td><td>35</td><td>4106583.6</td></tr>\n",
       "</tbody>\n",
       "</table>\n"
      ],
      "text/latex": [
       "A data.frame: 6 × 14\n",
       "\\begin{tabular}{r|llllllllllllll}\n",
       "  & Modelo & Color & Carroceria & CLASE\\_FASECOLDA & TIPO\\_VEHICULO & SERVICIO & Sexo\\_Aseg & Edad & valor & n\\_siniestros & exposicion\\_total & suma\\_pagos & n\\_observaciones & severidad\\_media\\\\\n",
       "  & <chr> & <chr> & <chr> & <chr> & <chr> & <chr> & <chr> & <chr> & <dbl> & <int> & <int> & <dbl> & <int> & <dbl>\\\\\n",
       "\\hline\n",
       "\t1 & 1993\\_1999 & BLANCO & SEDAN & AUTOMOVIL & Livianos & Particular & F & 19\\_41 & 101517338 & 2 & 2410 & 8014069 & 13 & 4007034.6\\\\\n",
       "\t2 & 1993\\_1999 & BLANCO & SEDAN & AUTOMOVIL & Livianos & Particular & F & 41\\_63 & 197695502 & 2 & 3862 & 2204046 & 22 & 1102023.2\\\\\n",
       "\t3 & 1993\\_1999 & BLANCO & SEDAN & AUTOMOVIL & Livianos & Particular & M & 19\\_41 & 180459141 & 4 & 4223 & 6450375 & 23 & 1612593.7\\\\\n",
       "\t4 & 1993\\_1999 & BLANCO & SEDAN & AUTOMOVIL & Livianos & Particular & M & 41\\_63 & 121930553 & 2 & 3077 & 4238816 & 16 & 2119408.0\\\\\n",
       "\t5 & 1993\\_1999 & Otros  & Otros & Otros     & Livianos & Particular & F & 41\\_63 &  79750398 & 2 & 1099 & 1208679 &  6 &  604339.6\\\\\n",
       "\t6 & 1993\\_1999 & Otros  & SEDAN & AUTOMOVIL & Livianos & Particular & F & 19\\_41 & 338559951 & 2 & 6132 & 8213167 & 35 & 4106583.6\\\\\n",
       "\\end{tabular}\n"
      ],
      "text/markdown": [
       "\n",
       "A data.frame: 6 × 14\n",
       "\n",
       "| <!--/--> | Modelo &lt;chr&gt; | Color &lt;chr&gt; | Carroceria &lt;chr&gt; | CLASE_FASECOLDA &lt;chr&gt; | TIPO_VEHICULO &lt;chr&gt; | SERVICIO &lt;chr&gt; | Sexo_Aseg &lt;chr&gt; | Edad &lt;chr&gt; | valor &lt;dbl&gt; | n_siniestros &lt;int&gt; | exposicion_total &lt;int&gt; | suma_pagos &lt;dbl&gt; | n_observaciones &lt;int&gt; | severidad_media &lt;dbl&gt; |\n",
       "|---|---|---|---|---|---|---|---|---|---|---|---|---|---|---|\n",
       "| 1 | 1993_1999 | BLANCO | SEDAN | AUTOMOVIL | Livianos | Particular | F | 19_41 | 101517338 | 2 | 2410 | 8014069 | 13 | 4007034.6 |\n",
       "| 2 | 1993_1999 | BLANCO | SEDAN | AUTOMOVIL | Livianos | Particular | F | 41_63 | 197695502 | 2 | 3862 | 2204046 | 22 | 1102023.2 |\n",
       "| 3 | 1993_1999 | BLANCO | SEDAN | AUTOMOVIL | Livianos | Particular | M | 19_41 | 180459141 | 4 | 4223 | 6450375 | 23 | 1612593.7 |\n",
       "| 4 | 1993_1999 | BLANCO | SEDAN | AUTOMOVIL | Livianos | Particular | M | 41_63 | 121930553 | 2 | 3077 | 4238816 | 16 | 2119408.0 |\n",
       "| 5 | 1993_1999 | Otros  | Otros | Otros     | Livianos | Particular | F | 41_63 |  79750398 | 2 | 1099 | 1208679 |  6 |  604339.6 |\n",
       "| 6 | 1993_1999 | Otros  | SEDAN | AUTOMOVIL | Livianos | Particular | F | 19_41 | 338559951 | 2 | 6132 | 8213167 | 35 | 4106583.6 |\n",
       "\n"
      ],
      "text/plain": [
       "  Modelo    Color  Carroceria CLASE_FASECOLDA TIPO_VEHICULO SERVICIO  \n",
       "1 1993_1999 BLANCO SEDAN      AUTOMOVIL       Livianos      Particular\n",
       "2 1993_1999 BLANCO SEDAN      AUTOMOVIL       Livianos      Particular\n",
       "3 1993_1999 BLANCO SEDAN      AUTOMOVIL       Livianos      Particular\n",
       "4 1993_1999 BLANCO SEDAN      AUTOMOVIL       Livianos      Particular\n",
       "5 1993_1999 Otros  Otros      Otros           Livianos      Particular\n",
       "6 1993_1999 Otros  SEDAN      AUTOMOVIL       Livianos      Particular\n",
       "  Sexo_Aseg Edad  valor     n_siniestros exposicion_total suma_pagos\n",
       "1 F         19_41 101517338 2            2410             8014069   \n",
       "2 F         41_63 197695502 2            3862             2204046   \n",
       "3 M         19_41 180459141 4            4223             6450375   \n",
       "4 M         41_63 121930553 2            3077             4238816   \n",
       "5 F         41_63  79750398 2            1099             1208679   \n",
       "6 F         19_41 338559951 2            6132             8213167   \n",
       "  n_observaciones severidad_media\n",
       "1 13              4007034.6      \n",
       "2 22              1102023.2      \n",
       "3 23              1612593.7      \n",
       "4 16              2119408.0      \n",
       "5  6               604339.6      \n",
       "6 35              4106583.6      "
      ]
     },
     "metadata": {},
     "output_type": "display_data"
    }
   ],
   "source": [
    "head(data)"
   ]
  },
  {
   "cell_type": "code",
   "execution_count": 137,
   "id": "ee01df93",
   "metadata": {
    "vscode": {
     "languageId": "r"
    }
   },
   "outputs": [
    {
     "data": {
      "text/plain": [
       "     Min.   1st Qu.    Median      Mean   3rd Qu.      Max. \n",
       "   114915   2965280   6455237  14091604  14368452 121532938 "
      ]
     },
     "metadata": {},
     "output_type": "display_data"
    }
   ],
   "source": [
    "summary(data$suma_pagos)"
   ]
  },
  {
   "cell_type": "markdown",
   "id": "de6b3b00",
   "metadata": {},
   "source": [
    "## Seleccion de variables"
   ]
  },
  {
   "cell_type": "code",
   "execution_count": 138,
   "id": "e4bf56f3",
   "metadata": {
    "vscode": {
     "languageId": "r"
    }
   },
   "outputs": [
    {
     "name": "stdout",
     "output_type": "stream",
     "text": [
      "Variable: Modelo - Categoría de referencia: 2007_2013 \n",
      "Variable: Color - Categoría de referencia: Otros \n",
      "Variable: Carroceria - Categoría de referencia: SEDAN \n",
      "Variable: CLASE_FASECOLDA - Categoría de referencia: AUTOMOVIL \n",
      "Variable: TIPO_VEHICULO - Categoría de referencia: Livianos \n",
      "Variable: SERVICIO - Categoría de referencia: Particular \n",
      "Variable: Sexo_Aseg - Categoría de referencia: M \n",
      "Variable: Edad - Categoría de referencia: 41_63 \n",
      "'data.frame':\t178 obs. of  14 variables:\n",
      " $ Modelo          : Factor w/ 3 levels \"2007_2013\",\"1993_1999\",..: 2 2 2 2 2 2 2 2 2 2 ...\n",
      " $ Color           : Factor w/ 4 levels \"Otros\",\"AMARILLO\",..: 3 3 3 3 1 1 1 1 1 1 ...\n",
      " $ Carroceria      : Factor w/ 4 levels \"SEDAN\",\"CABINADO\",..: 1 1 1 1 4 1 1 1 1 1 ...\n",
      " $ CLASE_FASECOLDA : Factor w/ 4 levels \"AUTOMOVIL\",\"AUTOMOVIL TAXI\",..: 1 1 1 1 4 1 1 1 1 1 ...\n",
      " $ TIPO_VEHICULO   : Factor w/ 2 levels \"Livianos\",\"Pesados\": 1 1 1 1 1 1 1 1 1 1 ...\n",
      " $ SERVICIO        : Factor w/ 4 levels \"Particular\",\"Oficial\",..: 1 1 1 1 1 1 1 1 1 1 ...\n",
      " $ Sexo_Aseg       : Factor w/ 3 levels \"M\",\"F\",\"No_Binarie\": 2 2 1 1 2 2 2 2 1 1 ...\n",
      " $ Edad            : Factor w/ 4 levels \"41_63\",\"19_41\",..: 2 1 2 1 1 2 1 4 2 4 ...\n",
      " $ valor           : num  1.02e+08 1.98e+08 1.80e+08 1.22e+08 7.98e+07 ...\n",
      " $ n_siniestros    : int  2 2 4 2 2 2 6 4 4 2 ...\n",
      " $ exposicion_total: int  2410 3862 4223 3077 1099 6132 8985 3664 6334 4361 ...\n",
      " $ suma_pagos      : num  8014069 2204046 6450375 4238816 1208679 ...\n",
      " $ n_observaciones : int  13 22 23 16 6 35 49 20 35 25 ...\n",
      " $ severidad_media : num  4007035 1102023 1612594 2119408 604340 ...\n"
     ]
    }
   ],
   "source": [
    "establecer_categorias_referencia <- function(df, vars_categoricas, var_exposicion = \"exposicion_total\") {\n",
    "  df_copy <- df\n",
    "  \n",
    "  for (var in vars_categoricas) {\n",
    "    exposicion_por_categoria <- aggregate(df_copy[[var_exposicion]], \n",
    "                                        by = list(df_copy[[var]]), \n",
    "                                        FUN = sum, na.rm = TRUE)\n",
    "    names(exposicion_por_categoria) <- c(\"categoria\", \"exposicion_total\")\n",
    "    \n",
    "    categoria_referencia <- exposicion_por_categoria$categoria[which.max(exposicion_por_categoria$exposicion_total)]\n",
    "    \n",
    "    cat(\"Variable:\", var, \"- Categoría de referencia:\", categoria_referencia, \"\\n\")\n",
    "    \n",
    "    df_copy[[var]] <- factor(df_copy[[var]])\n",
    "    df_copy[[var]] <- relevel(df_copy[[var]], ref = as.character(categoria_referencia))\n",
    "  }\n",
    "  \n",
    "  return(df_copy)\n",
    "}\n",
    "\n",
    "vars_categoricas <- c(\"Modelo\", \"Color\", \"Carroceria\", \"CLASE_FASECOLDA\", \n",
    "                     \"TIPO_VEHICULO\", \"SERVICIO\", \"Sexo_Aseg\", \"Edad\")\n",
    "\n",
    "data <- establecer_categorias_referencia(data, vars_categoricas)\n",
    "\n",
    "str(data)"
   ]
  },
  {
   "cell_type": "markdown",
   "id": "cb44b119",
   "metadata": {},
   "source": [
    "## FRECUENCIA "
   ]
  },
  {
   "cell_type": "code",
   "execution_count": 139,
   "id": "c18539cd",
   "metadata": {
    "vscode": {
     "languageId": "r"
    }
   },
   "outputs": [
    {
     "name": "stdout",
     "output_type": "stream",
     "text": [
      "Fórmula seleccionada por stepwise:\n",
      "n_siniestros ~ log(valor) + Modelo + Color + Carroceria + CLASE_FASECOLDA + \n",
      "    TIPO_VEHICULO + SERVICIO + Sexo_Aseg + Edad + offset(log(exposicion_total))\n"
     ]
    },
    {
     "data": {
      "text/plain": [
       "\n",
       "Call:\n",
       "glm(formula = n_siniestros ~ log(valor) + Modelo + Color + Carroceria + \n",
       "    CLASE_FASECOLDA + TIPO_VEHICULO + SERVICIO + Sexo_Aseg + \n",
       "    Edad + offset(log(exposicion_total)), family = quasipoisson, \n",
       "    data = data)\n",
       "\n",
       "Deviance Residuals: \n",
       "     Min        1Q    Median        3Q       Max  \n",
       "-2.23623  -0.45818   0.04763   0.48402   2.40406  \n",
       "\n",
       "Coefficients:\n",
       "                              Estimate Std. Error t value Pr(>|t|)    \n",
       "(Intercept)                   -2.78455    0.96940  -2.872  0.00464 ** \n",
       "log(valor)                    -0.21271    0.04278  -4.972 1.73e-06 ***\n",
       "Modelo1993_1999               -0.30602    0.20547  -1.489  0.13841    \n",
       "Modelo2000_2006               -0.02660    0.11612  -0.229  0.81910    \n",
       "ColorAMARILLO                 -0.44186    0.38150  -1.158  0.24854    \n",
       "ColorBLANCO                   -0.27614    0.10405  -2.654  0.00878 ** \n",
       "ColorPLATA                    -0.02250    0.08415  -0.267  0.78956    \n",
       "CarroceriaCABINADO            -0.14208    0.19940  -0.713  0.47721    \n",
       "CarroceriaHATCHBACK            0.13621    0.06953   1.959  0.05190 .  \n",
       "CarroceriaOtros                0.03359    0.16212   0.207  0.83615    \n",
       "CLASE_FASECOLDAAUTOMOVIL TAXI  0.01125    0.29975   0.038  0.97012    \n",
       "CLASE_FASECOLDACAMPERO         0.23566    0.20291   1.161  0.24724    \n",
       "CLASE_FASECOLDAOtros           0.19626    0.17209   1.140  0.25584    \n",
       "TIPO_VEHICULOPesados           0.11267    0.24361   0.462  0.64438    \n",
       "SERVICIOOficial                0.27258    0.18240   1.494  0.13709    \n",
       "SERVICIOPublico                0.09938    0.25038   0.397  0.69198    \n",
       "SERVICIOTransporte Personal   -0.31346    0.45373  -0.691  0.49069    \n",
       "Sexo_AsegF                    -0.12849    0.06242  -2.059  0.04120 *  \n",
       "Sexo_AsegNo_Binarie           -0.12643    0.13798  -0.916  0.36092    \n",
       "Edad19_41                      0.11930    0.07066   1.688  0.09334 .  \n",
       "Edad63_85                     -0.09716    0.13818  -0.703  0.48302    \n",
       "EdadOtros                     -0.01485    0.09630  -0.154  0.87765    \n",
       "---\n",
       "Signif. codes:  0 ‘***’ 0.001 ‘**’ 0.01 ‘*’ 0.05 ‘.’ 0.1 ‘ ’ 1\n",
       "\n",
       "(Dispersion parameter for quasipoisson family taken to be 0.7628372)\n",
       "\n",
       "    Null deviance: 174.18  on 177  degrees of freedom\n",
       "Residual deviance: 119.01  on 156  degrees of freedom\n",
       "AIC: NA\n",
       "\n",
       "Number of Fisher Scoring iterations: 5\n"
      ]
     },
     "metadata": {},
     "output_type": "display_data"
    }
   ],
   "source": [
    "# Modelo inicial con todas las variables (Poisson)\n",
    "modelo_inicial <- glm(\n",
    "  n_siniestros ~ log(valor) + Modelo + Color + Carroceria + CLASE_FASECOLDA + \n",
    "                 TIPO_VEHICULO + SERVICIO + Sexo_Aseg + Edad + \n",
    "                 offset(log(exposicion_total)),\n",
    "  family = poisson,\n",
    "  data = data\n",
    ")\n",
    "\n",
    "# Modelo inicial con todas las variables (Poisson)\n",
    "modelo_nulo <- glm(\n",
    "  n_siniestros ~ 1,\n",
    "  family = poisson,\n",
    "  data = data\n",
    ")\n",
    "\n",
    "# Selección stepwise\n",
    "modelo_stepwise <- step(modelo_inicial, direction = \"forward\", trace = FALSE)\n",
    "\n",
    "# Mostrar la fórmula seleccionada\n",
    "cat(\"Fórmula seleccionada por stepwise:\\n\")\n",
    "print(formula(modelo_stepwise))\n",
    "\n",
    "# Crear modelo final con Quasi-Poisson especificando la fórmula explícitamente\n",
    "modelo_frecuencia_final <- update(modelo_stepwise, family = quasipoisson)\n",
    "\n",
    "# Resumen del modelo final\n",
    "summary(modelo_frecuencia_final)"
   ]
  },
  {
   "cell_type": "markdown",
   "id": "323693ec",
   "metadata": {},
   "source": [
    "Se deja solo log(valor), carroceria, edad, sexo y color"
   ]
  },
  {
   "cell_type": "code",
   "execution_count": 140,
   "id": "6ed52b09",
   "metadata": {
    "vscode": {
     "languageId": "r"
    }
   },
   "outputs": [],
   "source": [
    "modelo_frecuencia_final <- glm(\n",
    "  n_siniestros ~ log(valor) + Color + Carroceria + Sexo_Aseg + Edad + offset(log(exposicion_total)),\n",
    "  family = quasipoisson,\n",
    "  data = data\n",
    ")"
   ]
  },
  {
   "cell_type": "markdown",
   "id": "dxp5gj9lwnq",
   "metadata": {},
   "source": [
    "## Evaluación"
   ]
  },
  {
   "cell_type": "code",
   "execution_count": 141,
   "id": "qorztfxhwwc",
   "metadata": {
    "vscode": {
     "languageId": "r"
    }
   },
   "outputs": [
    {
     "name": "stdout",
     "output_type": "stream",
     "text": [
      "Parámetro de dispersión: 0.7578623 \n",
      "La dispersión parece apropiada para el modelo Poisson.\n"
     ]
    }
   ],
   "source": [
    "# Verificar sobredispersión\n",
    "dispersion <- sum(residuals(modelo_frecuencia_final, type = \"pearson\")^2) / modelo_frecuencia_final$df.residual\n",
    "cat(\"Parámetro de dispersión:\", dispersion, \"\\n\")\n",
    "\n",
    "if (dispersion > 1.5) {\n",
    "  cat(\"ADVERTENCIA: Hay evidencia de sobredispersión. Considerar modelo quasi-Poisson o binomial negativa.\\n\")\n",
    "} else {\n",
    "  cat(\"La dispersión parece apropiada para el modelo Poisson.\\n\")\n",
    "}"
   ]
  },
  {
   "cell_type": "code",
   "execution_count": 142,
   "id": "0fh62s7hjl89",
   "metadata": {
    "vscode": {
     "languageId": "r"
    }
   },
   "outputs": [
    {
     "data": {
      "image/png": "[encoded data removed]",
      "text/plain": [
       "Plot with title “Distribución de Residuos - Frecuencia”"
      ]
     },
     "metadata": {
      "image/png": {
       "height": 420,
       "width": 420
      }
     },
     "output_type": "display_data"
    }
   ],
   "source": [
    "# Gráficos diagnósticos para el modelo de frecuencia\n",
    "residuos_deviance <- residuals(modelo_frecuencia_final, type = \"deviance\")\n",
    "residuos_pearson <- residuals(modelo_frecuencia_final, type = \"pearson\")\n",
    "valores_ajustados <- fitted(modelo_frecuencia_final)\n",
    "\n",
    "# Panel de diagnósticos (4 gráficos)\n",
    "par(mfrow = c(2, 2))\n",
    "\n",
    "# Residuos vs valores ajustados\n",
    "plot(valores_ajustados, residuos_deviance,\n",
    "     xlab = \"Valores ajustados\", \n",
    "     ylab = \"Residuos deviance\",\n",
    "     main = \"Residuos vs Ajustados - Frecuencia\",\n",
    "     pch = 16, col = \"#4A90E2\")\n",
    "abline(h = 0, col = \"red\", lty = 2)\n",
    "\n",
    "# QQ-plot de residuos\n",
    "qqnorm(residuos_deviance, \n",
    "       main = \"QQ-plot Residuos Deviance - Frecuencia\",\n",
    "       pch = 16, col = \"#4A90E2\")\n",
    "qqline(residuos_deviance, col = \"red\")\n",
    "\n",
    "# Scale-Location\n",
    "plot(valores_ajustados, sqrt(abs(residuos_deviance)),\n",
    "     xlab = \"Valores ajustados\",\n",
    "     ylab = \"√|Residuos deviance|\",\n",
    "     main = \"Scale-Location - Frecuencia\",\n",
    "     pch = 16, col = \"#4A90E2\")\n",
    "\n",
    "# Histograma de residuos\n",
    "hist(residuos_deviance, \n",
    "     breaks = 30,\n",
    "     main = \"Distribución de Residuos - Frecuencia\",\n",
    "     xlab = \"Residuos deviance\",\n",
    "     col = \"#E8F4FD\",\n",
    "     border = \"#4A90E2\")\n",
    "\n",
    "par(mfrow = c(1, 1))"
   ]
  },
  {
   "cell_type": "code",
   "execution_count": 143,
   "id": "5ql8mrzyuze",
   "metadata": {
    "vscode": {
     "languageId": "r"
    }
   },
   "outputs": [
    {
     "name": "stdout",
     "output_type": "stream",
     "text": [
      "Quasi-Poisson model \n"
     ]
    },
    {
     "data": {
      "image/png": "[encoded data removed]",
      "text/plain": [
       "Plot with title “Envelope Plot - Modelo Frecuencia”"
      ]
     },
     "metadata": {
      "image/png": {
       "height": 420,
       "width": 420
      }
     },
     "output_type": "display_data"
    }
   ],
   "source": [
    "set.seed(122)\n",
    "\n",
    "envelope_frecuencia <- hnp(modelo_frecuencia_final, \n",
    "                     sim = 99,           # Número de simulaciones\n",
    "                     conf = 0.95,        # Nivel de confianza\n",
    "                     halfnormal = TRUE,  # Gráfico half-normal\n",
    "                     scale = TRUE,       # Escalar residuos\n",
    "                     plot.sim = TRUE,    # Mostrar simulaciones\n",
    "                     verb.sim = FALSE,   # Sin output verbose\n",
    "                     how.many.out = TRUE,# Contar outliers\n",
    "                     print.on = TRUE,    # Imprimir estadísticas\n",
    "                     paint.out = TRUE,   # Colorear outliers\n",
    "                     main = \"Envelope Plot - Modelo Frecuencia\",\n",
    "                     col.paint.out = \"#E74C3C\",\n",
    "                     pch = 16,\n",
    "                     cex = 0.8)"
   ]
  },
  {
   "cell_type": "markdown",
   "id": "e95xeu2nq6e",
   "metadata": {},
   "source": [
    "## Diagnóstico del ajuste del modelo"
   ]
  },
  {
   "cell_type": "code",
   "execution_count": 144,
   "id": "l8v8ne2ndc",
   "metadata": {
    "vscode": {
     "languageId": "r"
    }
   },
   "outputs": [
    {
     "name": "stdout",
     "output_type": "stream",
     "text": [
      "=== DIAGNÓSTICO DEL MODELO ===\n",
      "Dispersión: 0.7578623 \n",
      "Deviance/df: 0.7551219 \n",
      "\n",
      "=== DISTRIBUCIÓN DE n_siniestros ===\n"
     ]
    },
    {
     "data": {
      "text/plain": [
       "\n",
       " 1  2  3  4  6  8  9 10 12 14 16 18 20 22 24 32 33 34 39 \n",
       " 3 91  4 31 10 13  1  9  3  2  1  1  1  1  3  1  1  1  1 "
      ]
     },
     "metadata": {},
     "output_type": "display_data"
    },
    {
     "name": "stdout",
     "output_type": "stream",
     "text": [
      "\n",
      "Prop. de ceros: 0 \n",
      "Rango valores ajustados: 0.355 29.062 \n",
      "Media n_siniestros: 5.247 \n"
     ]
    }
   ],
   "source": [
    "# Análisis detallado del problema\n",
    "cat(\"=== DIAGNÓSTICO DEL MODELO ===\\n\")\n",
    "cat(\"Dispersión:\", dispersion, \"\\n\")\n",
    "cat(\"Deviance/df:\", deviance(modelo_frecuencia_final)/modelo_frecuencia_final$df.residual, \"\\n\")\n",
    "\n",
    "# Verificar distribución de la variable respuesta\n",
    "cat(\"\\n=== DISTRIBUCIÓN DE n_siniestros ===\\n\")\n",
    "table(data$n_siniestros)\n",
    "\n",
    "# Verificar ceros excesivos\n",
    "prop_ceros <- sum(data$n_siniestros == 0) / nrow(data)\n",
    "cat(\"\\nProp. de ceros:\", round(prop_ceros, 3), \"\\n\")\n",
    "\n",
    "# Verificar valores ajustados vs observados\n",
    "mu_hat <- fitted(modelo_frecuencia_final)\n",
    "cat(\"Rango valores ajustados:\", round(range(mu_hat), 3), \"\\n\")\n",
    "cat(\"Media n_siniestros:\", round(mean(data$n_siniestros), 3), \"\\n\")"
   ]
  },
  {
   "cell_type": "markdown",
   "id": "rw80yc0inhs",
   "metadata": {},
   "source": [
    "## Exportar Modelos"
   ]
  },
  {
   "cell_type": "code",
   "execution_count": 145,
   "id": "j8m73dfg0d",
   "metadata": {
    "vscode": {
     "languageId": "r"
    }
   },
   "outputs": [
    {
     "name": "stdout",
     "output_type": "stream",
     "text": [
      "Modelos exportados exitosamente:\n",
      "- modelo_frecuencia_quasipoisson.rds\n",
      "- modelo_frecuencia_quasipoisson_completo.rds\n"
     ]
    }
   ],
   "source": [
    "# Guardar modelo de frecuencia simple\n",
    "saveRDS(modelo_frecuencia_final, file = \"../models/modelo_frecuencia_quasipoisson.rds\")\n",
    "\n",
    "# Guardar modelo con información adicional\n",
    "modelo_frecuencia_info <- list(\n",
    "  modelo = modelo_frecuencia_final,\n",
    "  aic = AIC(modelo_frecuencia_final),\n",
    "  formula = formula(modelo_frecuencia_final),\n",
    "  family = \"Quasi-Poisson\",\n",
    "  dispersion = summary(modelo_frecuencia_final)$dispersion,\n",
    "  fecha_entrenamiento = Sys.Date()\n",
    ")\n",
    "\n",
    "saveRDS(modelo_frecuencia_info, file = \"../models/modelo_frecuencia_quasipoisson_completo.rds\")\n",
    "\n",
    "cat(\"Modelos exportados exitosamente:\\n\")\n",
    "cat(\"- modelo_frecuencia_quasipoisson.rds\\n\")\n",
    "cat(\"- modelo_frecuencia_quasipoisson_completo.rds\\n\")"
   ]
  }
 ],
 "metadata": {
  "kernelspec": {
   "display_name": "R",
   "language": "R",
   "name": "ir"
  },
  "language_info": {
   "codemirror_mode": "r",
   "file_extension": ".r",
   "mimetype": "text/x-r-source",
   "name": "R",
   "pygments_lexer": "r",
   "version": "4.2.3"
  }
 },
 "nbformat": 4,
 "nbformat_minor": 5
}
