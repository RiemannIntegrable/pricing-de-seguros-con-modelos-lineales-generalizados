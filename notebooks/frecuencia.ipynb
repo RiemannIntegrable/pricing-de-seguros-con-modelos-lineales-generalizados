{
 "cells": [
  {
   "cell_type": "markdown",
   "id": "4b8714a5",
   "metadata": {},
   "source": [
    "## Librerias"
   ]
  },
  {
   "cell_type": "code",
   "execution_count": null,
   "id": "7d03f529",
   "metadata": {
    "vscode": {
     "languageId": "r"
    }
   },
   "outputs": [],
   "source": [
    "library(dplyr)\n",
    "library(ggplot2)\n",
    "library(MASS)\n",
    "library(car)\n",
    "library(broom)\n",
    "library(hnp)"
   ]
  },
  {
   "cell_type": "markdown",
   "id": "5c5e36a6",
   "metadata": {},
   "source": [
    "## Data"
   ]
  },
  {
   "cell_type": "code",
   "execution_count": null,
   "id": "b3211315",
   "metadata": {
    "vscode": {
     "languageId": "r"
    }
   },
   "outputs": [],
   "source": [
    "data <- read.csv(\"../data/processed/tabla_severidad.csv\")\n",
    "data$X <- NULL"
   ]
  },
  {
   "cell_type": "code",
   "execution_count": null,
   "id": "12631143",
   "metadata": {
    "vscode": {
     "languageId": "r"
    }
   },
   "outputs": [],
   "source": [
    "head(data)"
   ]
  },
  {
   "cell_type": "code",
   "execution_count": null,
   "id": "ee01df93",
   "metadata": {
    "vscode": {
     "languageId": "r"
    }
   },
   "outputs": [],
   "source": [
    "summary(data$suma_pagos)"
   ]
  },
  {
   "cell_type": "markdown",
   "id": "de6b3b00",
   "metadata": {},
   "source": [
    "## Seleccion de variables"
   ]
  },
  {
   "cell_type": "code",
   "execution_count": null,
   "id": "e4bf56f3",
   "metadata": {
    "vscode": {
     "languageId": "r"
    }
   },
   "outputs": [],
   "source": [
    "establecer_categorias_referencia <- function(df, vars_categoricas, var_exposicion = \"exposicion_total\") {\n",
    "  df_copy <- df\n",
    "  \n",
    "  for (var in vars_categoricas) {\n",
    "    exposicion_por_categoria <- aggregate(df_copy[[var_exposicion]], \n",
    "                                        by = list(df_copy[[var]]), \n",
    "                                        FUN = sum, na.rm = TRUE)\n",
    "    names(exposicion_por_categoria) <- c(\"categoria\", \"exposicion_total\")\n",
    "    \n",
    "    categoria_referencia <- exposicion_por_categoria$categoria[which.max(exposicion_por_categoria$exposicion_total)]\n",
    "    \n",
    "    cat(\"Variable:\", var, \"- Categoría de referencia:\", categoria_referencia, \"\\n\")\n",
    "    \n",
    "    df_copy[[var]] <- factor(df_copy[[var]])\n",
    "    df_copy[[var]] <- relevel(df_copy[[var]], ref = as.character(categoria_referencia))\n",
    "  }\n",
    "  \n",
    "  return(df_copy)\n",
    "}\n",
    "\n",
    "vars_categoricas <- c(\"Modelo\", \"Color\", \"Carroceria\", \"CLASE_FASECOLDA\", \n",
    "                     \"TIPO_VEHICULO\", \"SERVICIO\", \"Sexo_Aseg\", \"Grupo_Edad\")\n",
    "\n",
    "data <- establecer_categorias_referencia(data, vars_categoricas)\n",
    "\n",
    "str(data)"
   ]
  },
  {
   "cell_type": "markdown",
   "id": "cb44b119",
   "metadata": {},
   "source": [
    "## FRECUENCIA "
   ]
  },
  {
   "cell_type": "code",
   "execution_count": null,
   "id": "c18539cd",
   "metadata": {
    "vscode": {
     "languageId": "r"
    }
   },
   "outputs": [],
   "source": "# Modelo completo de frecuencia con offset\nmodelo_freq_completo <- glm(\n  n_siniestros ~ valor + Modelo + Color + Carroceria + CLASE_FASECOLDA + \n                 TIPO_VEHICULO + SERVICIO + Sexo_Aseg + Grupo_Edad + \n                 offset(log(exposicion_total)),\n  family = poisson(link = \"log\"),\n  data = data\n)\n\n# Modelo nulo de frecuencia\nmodelo_freq_nulo <- glm(\n  n_siniestros ~ offset(log(exposicion_total)),\n  family = poisson(link = \"log\"),\n  data = data\n)\n\n# Selección de variables usando stepwise\nmodelo_frecuencia_final <- step(\n  modelo_freq_completo,\n  scope = list(lower = modelo_freq_nulo, upper = modelo_freq_completo),\n  direction = \"both\",\n  trace = TRUE\n)\n\n# Resumen del modelo final\nsummary(modelo_frecuencia_final)"
  },
  {
   "cell_type": "markdown",
   "id": "dxp5gj9lwnq",
   "source": "## Evaluación",
   "metadata": {}
  },
  {
   "cell_type": "code",
   "id": "qorztfxhwwc",
   "source": "# Verificar sobredispersión\ndispersion <- sum(residuals(modelo_frecuencia_final, type = \"pearson\")^2) / modelo_frecuencia_final$df.residual\ncat(\"Parámetro de dispersión:\", dispersion, \"\\n\")\n\nif (dispersion > 1.5) {\n  cat(\"ADVERTENCIA: Hay evidencia de sobredispersión. Considerar modelo quasi-Poisson o binomial negativa.\\n\")\n} else {\n  cat(\"La dispersión parece apropiada para el modelo Poisson.\\n\")\n}",
   "metadata": {},
   "execution_count": null,
   "outputs": []
  },
  {
   "cell_type": "code",
   "id": "0fh62s7hjl89",
   "source": "# Gráficos diagnósticos para el modelo de frecuencia\nresiduos_deviance <- residuals(modelo_frecuencia_final, type = \"deviance\")\nresiduos_pearson <- residuals(modelo_frecuencia_final, type = \"pearson\")\nvalores_ajustados <- fitted(modelo_frecuencia_final)\n\n# Panel de diagnósticos (4 gráficos)\npar(mfrow = c(2, 2))\n\n# Residuos vs valores ajustados\nplot(valores_ajustados, residuos_deviance,\n     xlab = \"Valores ajustados\", \n     ylab = \"Residuos deviance\",\n     main = \"Residuos vs Ajustados - Frecuencia\",\n     pch = 16, col = \"#4A90E2\")\nabline(h = 0, col = \"red\", lty = 2)\n\n# QQ-plot de residuos\nqqnorm(residuos_deviance, \n       main = \"QQ-plot Residuos Deviance - Frecuencia\",\n       pch = 16, col = \"#4A90E2\")\nqqline(residuos_deviance, col = \"red\")\n\n# Scale-Location\nplot(valores_ajustados, sqrt(abs(residuos_deviance)),\n     xlab = \"Valores ajustados\",\n     ylab = \"√|Residuos deviance|\",\n     main = \"Scale-Location - Frecuencia\",\n     pch = 16, col = \"#4A90E2\")\n\n# Histograma de residuos\nhist(residuos_deviance, \n     breaks = 30,\n     main = \"Distribución de Residuos - Frecuencia\",\n     xlab = \"Residuos deviance\",\n     col = \"#E8F4FD\",\n     border = \"#4A90E2\")\n\npar(mfrow = c(1, 1))",
   "metadata": {},
   "execution_count": null,
   "outputs": []
  },
  {
   "cell_type": "code",
   "id": "5ql8mrzyuze",
   "source": "# Envelope plot para el modelo de frecuencia\nenvelope_frecuencia <- hnp(modelo_frecuencia_final,\n                          halfnormal = TRUE,\n                          plot = TRUE,\n                          main = \"Envelope Plot - Modelo Frecuencia\",\n                          col = \"#4A90E2\")",
   "metadata": {},
   "execution_count": null,
   "outputs": []
  },
  {
   "cell_type": "markdown",
   "id": "e95xeu2nq6e",
   "source": "## Diagnóstico del ajuste del modelo",
   "metadata": {}
  },
  {
   "cell_type": "code",
   "id": "l8v8ne2ndc",
   "source": "# Análisis detallado del problema\ncat(\"=== DIAGNÓSTICO DEL MODELO ===\\n\")\ncat(\"Dispersión:\", dispersion, \"\\n\")\ncat(\"Deviance/df:\", deviance(modelo_frecuencia_final)/modelo_frecuencia_final$df.residual, \"\\n\")\n\n# Verificar distribución de la variable respuesta\ncat(\"\\n=== DISTRIBUCIÓN DE n_siniestros ===\\n\")\ntable(data$n_siniestros)\n\n# Verificar ceros excesivos\nprop_ceros <- sum(data$n_siniestros == 0) / nrow(data)\ncat(\"\\nProp. de ceros:\", round(prop_ceros, 3), \"\\n\")\n\n# Verificar valores ajustados vs observados\nmu_hat <- fitted(modelo_frecuencia_final)\ncat(\"Rango valores ajustados:\", round(range(mu_hat), 3), \"\\n\")\ncat(\"Media n_siniestros:\", round(mean(data$n_siniestros), 3), \"\\n\")",
   "metadata": {},
   "execution_count": null,
   "outputs": []
  },
  {
   "cell_type": "markdown",
   "id": "n00dhqxqxq",
   "source": "## Modelos alternativos",
   "metadata": {}
  },
  {
   "cell_type": "code",
   "id": "rbnworg88s",
   "source": "# 1. Binomial Negativa (para sobredispersión)\nlibrary(MASS)\n\n# Crear fórmula segura excluyendo variables con un solo nivel\nif(exists(\"vars_problema\") && length(vars_problema) > 0) {\n  vars_validas_nb <- setdiff(c(\"valor\", \"Modelo\", \"Color\", \"Carroceria\", \"CLASE_FASECOLDA\", \n                               \"TIPO_VEHICULO\", \"SERVICIO\", \"Sexo_Aseg\", \"Grupo_Edad\"), vars_problema)\n} else {\n  vars_validas_nb <- c(\"valor\", \"Modelo\", \"Color\", \"Carroceria\", \"CLASE_FASECOLDA\", \n                       \"TIPO_VEHICULO\", \"SERVICIO\", \"Sexo_Aseg\", \"Grupo_Edad\")\n}\n\nformula_nb_str <- paste(\"n_siniestros ~\", paste(vars_validas_nb, collapse = \" + \"), \n                        \"+ offset(log(exposicion_total))\")\n\ncat(\"Fórmula Binomial Negativa:\", formula_nb_str, \"\\n\")\n\nmodelo_nb <- glm.nb(\n  as.formula(formula_nb_str),\n  data = data\n)\n\n# Selección stepwise para binomial negativa\nmodelo_nb_step <- stepAIC(modelo_nb, direction = \"both\", trace = FALSE)\n\ncat(\"\\n=== BINOMIAL NEGATIVA ===\\n\")\ncat(\"Theta:\", modelo_nb_step$theta, \"\\n\")\ncat(\"AIC:\", AIC(modelo_nb_step), \"\\n\")\nsummary(modelo_nb_step)",
   "metadata": {},
   "execution_count": null,
   "outputs": []
  },
  {
   "cell_type": "code",
   "id": "3exacx4jxee",
   "source": "# 2. Modelo Zero-Inflated Poisson (si hay exceso de ceros)\nif(prop_ceros > 0.5) {\n  library(pscl)\n  \n  # Usar fórmula segura\n  formula_zip_str <- paste(\"n_siniestros ~\", paste(vars_validas_nb, collapse = \" + \"), \n                           \"+ offset(log(exposicion_total)) | 1\")\n  \n  cat(\"Fórmula Zero-Inflated:\", formula_zip_str, \"\\n\")\n  \n  modelo_zip <- zeroinfl(\n    as.formula(formula_zip_str),\n    data = data,\n    dist = \"poisson\"\n  )\n  \n  cat(\"\\n=== ZERO-INFLATED POISSON ===\\n\")\n  cat(\"AIC:\", AIC(modelo_zip), \"\\n\")\n  summary(modelo_zip)\n} else {\n  cat(\"\\nProp. de ceros (\", round(prop_ceros, 3), \") no justifica modelo zero-inflated\\n\")\n}",
   "metadata": {},
   "execution_count": null,
   "outputs": []
  },
  {
   "cell_type": "code",
   "id": "a6oslfbn1y6",
   "source": "# 3. Diagnosticar variables con un solo nivel\ncat(\"=== DIAGNÓSTICO DE VARIABLES CATEGÓRICAS ===\\n\")\nvars_categoricas <- c(\"Color\", \"Carroceria\", \"CLASE_FASECOLDA\", \"TIPO_VEHICULO\", \"SERVICIO\", \"Sexo_Aseg\", \"Grupo_Edad\")\n\nfor(var in vars_categoricas) {\n  niveles <- length(unique(data[[var]]))\n  cat(sprintf(\"%-15s: %d niveles\\n\", var, niveles))\n  if(niveles == 1) {\n    cat(\"  *** PROBLEMA: Solo 1 nivel ***\\n\")\n  }\n}\n\n# Identificar y remover variables con un solo nivel\nvars_problema <- c()\nfor(var in vars_categoricas) {\n  if(length(unique(data[[var]])) == 1) {\n    vars_problema <- c(vars_problema, var)\n  }\n}\n\ncat(\"\\nVariables con un solo nivel:\", ifelse(length(vars_problema) > 0, paste(vars_problema, collapse = \", \"), \"Ninguna\"), \"\\n\")\n\n# 3. Transformaciones de variables predictoras (corregido)\n# Crear fórmula excluyendo variables problemáticas\nvars_validas <- setdiff(vars_categoricas, vars_problema)\nformula_str <- paste(\"n_siniestros ~ log(valor) + I((2023-Modelo)^2) +\", \n                     paste(vars_validas, collapse = \" + \"), \n                     \"+ offset(log(exposicion_total))\")\n\ncat(\"\\nFórmula a usar:\", formula_str, \"\\n\")\n\nmodelo_transf <- glm(\n  as.formula(formula_str),\n  family = poisson(link = \"log\"),\n  data = data\n)\n\n# Stepwise con transformaciones\nmodelo_transf_step <- step(modelo_transf, direction = \"both\", trace = FALSE)\n\ncat(\"\\n=== MODELO CON TRANSFORMACIONES ===\\n\")\ncat(\"AIC:\", AIC(modelo_transf_step), \"\\n\")\ncat(\"Dispersión:\", sum(residuals(modelo_transf_step, type=\"pearson\")^2)/modelo_transf_step$df.residual, \"\\n\")",
   "metadata": {},
   "execution_count": null,
   "outputs": []
  },
  {
   "cell_type": "code",
   "id": "kez6e6tblhi",
   "source": "# Comparar todos los modelos\nmodelos_lista <- list(\n  \"Poisson\" = modelo_frecuencia_final,\n  \"Quasi-Poisson\" = modelo_freq_quasi,\n  \"Neg. Binomial\" = modelo_nb_step,\n  \"Transformado\" = modelo_transf_step\n)\n\ncat(\"\\n=== COMPARACIÓN DE MODELOS ===\\n\")\nfor(i in 1:length(modelos_lista)) {\n  modelo <- modelos_lista[[i]]\n  nombre <- names(modelos_lista)[i]\n  \n  if(nombre != \"Quasi-Poisson\") {\n    aic_val <- AIC(modelo)\n  } else {\n    aic_val <- \"N/A\"\n  }\n  \n  if(nombre == \"Neg. Binomial\") {\n    disp_val <- \"N/A (theta controlled)\"\n  } else {\n    disp_val <- round(sum(residuals(modelo, type=\"pearson\")^2)/modelo$df.residual, 3)\n  }\n  \n  cat(sprintf(\"%-15s AIC: %-8s Dispersión: %s\\n\", nombre, aic_val, disp_val))\n}\n\n# Seleccionar mejor modelo\nmejor_modelo <- modelo_nb_step  # Cambiar según resultados\ncat(\"\\n=== MEJOR MODELO SELECCIONADO: Binomial Negativa ===\\n\")",
   "metadata": {},
   "execution_count": null,
   "outputs": []
  },
  {
   "cell_type": "code",
   "id": "sswfr8sb7wd",
   "source": "# Envelope para binomial negativa\nenvelope_nb <- hnp(mejor_modelo,\n                   halfnormal = TRUE,\n                   plot = TRUE,\n                   main = \"Envelope Plot - Binomial Negativa\",\n                   col = \"#27AE60\")\n\n# Gráficos diagnósticos del mejor modelo\npar(mfrow = c(2, 2))\n\nres_mejor <- residuals(mejor_modelo, type = \"deviance\")\nfit_mejor <- fitted(mejor_modelo)\n\nplot(fit_mejor, res_mejor, main = \"Residuos vs Ajustados - Mejor Modelo\",\n     xlab = \"Ajustados\", ylab = \"Residuos\", pch = 16, col = \"#27AE60\")\nabline(h = 0, col = \"red\", lty = 2)\n\nqqnorm(res_mejor, main = \"QQ-plot - Mejor Modelo\", pch = 16, col = \"#27AE60\")\nqqline(res_mejor, col = \"red\")\n\nplot(fit_mejor, sqrt(abs(res_mejor)), main = \"Scale-Location - Mejor Modelo\",\n     xlab = \"Ajustados\", ylab = \"√|Residuos|\", pch = 16, col = \"#27AE60\")\n\nhist(res_mejor, main = \"Distribución Residuos - Mejor Modelo\", \n     col = \"#D5F4E6\", border = \"#27AE60\", breaks = 20)\n\npar(mfrow = c(1, 1))",
   "metadata": {},
   "execution_count": null,
   "outputs": []
  },
  {
   "cell_type": "markdown",
   "id": "dhh29fqo19g",
   "source": "## Modelo alternativo si hay sobredispersión",
   "metadata": {}
  },
  {
   "cell_type": "code",
   "id": "9v9tbssz1hi",
   "source": "# Si hay sobredispersión, usar quasi-Poisson\nmodelo_freq_quasi <- glm(\n  formula(modelo_frecuencia_final),\n  family = quasipoisson(link = \"log\"),\n  data = data\n)\n\n# Comparar dispersión\ncat(\"Dispersión Poisson:\", dispersion, \"\\n\")\ncat(\"Dispersión quasi-Poisson:\", summary(modelo_freq_quasi)$dispersion, \"\\n\")\n\n# Mostrar resumen del modelo quasi-Poisson\nsummary(modelo_freq_quasi)",
   "metadata": {},
   "execution_count": null,
   "outputs": []
  },
  {
   "cell_type": "markdown",
   "id": "o5oj9wgwv69",
   "source": "### Evaluación del modelo quasi-Poisson",
   "metadata": {}
  },
  {
   "cell_type": "code",
   "id": "l5y7hcxzxep",
   "source": "# Gráficos diagnósticos para el modelo quasi-Poisson\nresiduos_quasi_deviance <- residuals(modelo_freq_quasi, type = \"deviance\")\nresiduos_quasi_pearson <- residuals(modelo_freq_quasi, type = \"pearson\")\nvalores_ajustados_quasi <- fitted(modelo_freq_quasi)\n\n# Panel de diagnósticos (4 gráficos)\npar(mfrow = c(2, 2))\n\n# Residuos vs valores ajustados\nplot(valores_ajustados_quasi, residuos_quasi_deviance,\n     xlab = \"Valores ajustados\", \n     ylab = \"Residuos deviance\",\n     main = \"Residuos vs Ajustados - Quasi-Poisson\",\n     pch = 16, col = \"#E74C3C\")\nabline(h = 0, col = \"red\", lty = 2)\n\n# QQ-plot de residuos\nqqnorm(residuos_quasi_deviance, \n       main = \"QQ-plot - Quasi-Poisson\",\n       pch = 16, col = \"#E74C3C\")\nqqline(residuos_quasi_deviance, col = \"red\")\n\n# Scale-Location\nplot(valores_ajustados_quasi, sqrt(abs(residuos_quasi_deviance)),\n     xlab = \"Valores ajustados\",\n     ylab = \"√|Residuos deviance|\",\n     main = \"Scale-Location - Quasi-Poisson\",\n     pch = 16, col = \"#E74C3C\")\n\n# Histograma de residuos\nhist(residuos_quasi_deviance, \n     breaks = 30,\n     main = \"Distribución Residuos - Quasi-Poisson\",\n     xlab = \"Residuos deviance\",\n     col = \"#FADBD8\",\n     border = \"#E74C3C\")\n\npar(mfrow = c(1, 1))",
   "metadata": {},
   "execution_count": null,
   "outputs": []
  },
  {
   "cell_type": "code",
   "id": "6he4sa92dk7",
   "source": "# Envelope plot manual para modelo quasi-Poisson\nenvelope_quasipoisson_manual <- function(modelo, nsim = 99, conf = 0.95) {\n  n <- length(residuals(modelo))\n  \n  # Extraer información del modelo\n  y <- modelo$y\n  mu <- fitted(modelo)\n  phi <- summary(modelo)$dispersion\n  \n  # Matriz para almacenar residuos simulados\n  res_sim <- matrix(NA, n, nsim)\n  \n  # Simular datos y calcular residuos\n  set.seed(123)\n  for(i in 1:nsim) {\n    # Simular respuestas desde quasi-Poisson (usando Poisson con ajuste de varianza)\n    y_sim <- rpois(n, lambda = mu * phi) / phi\n    \n    # Ajustar modelo (con manejo de errores)\n    tryCatch({\n      # Crear dataframe temporal con los datos simulados\n      data_temp <- modelo$data\n      data_temp$y_sim <- y_sim\n      \n      # Ajustar modelo quasi-Poisson\n      modelo_sim <- glm(y_sim ~ ., \n                       data = data_temp[, !names(data_temp) %in% c(\"n_siniestros\")],\n                       family = quasipoisson(link = \"log\"),\n                       offset = log(data_temp$exposicion_total))\n      \n      res_sim[,i] <- sort(abs(residuals(modelo_sim, type = \"deviance\")))\n    }, error = function(e) {\n      res_sim[,i] <- NA\n    })\n  }\n  \n  # Calcular bandas de confianza\n  alpha <- (1 - conf) / 2\n  lower <- apply(res_sim, 1, quantile, probs = alpha, na.rm = TRUE)\n  upper <- apply(res_sim, 1, quantile, probs = 1-alpha, na.rm = TRUE)\n  \n  # Crear gráfico\n  res_obs <- sort(abs(residuals(modelo, type = \"deviance\")))\n  valores_teoricos <- qnorm((1:n - 0.5) / n)\n  \n  plot(valores_teoricos, res_obs,\n       pch = 16, col = \"#E74C3C\",\n       xlab = \"Cuantiles teóricos\",\n       ylab = \"|Residuos deviance|\",\n       main = \"Envelope Half-Normal - Quasi-Poisson\")\n  \n  lines(valores_teoricos, lower, col = \"red\", lty = 2)\n  lines(valores_teoricos, upper, col = \"red\", lty = 2)\n  \n  # Retornar información\n  invisible(list(\n    observed = res_obs,\n    lower = lower,\n    upper = upper,\n    theoretical = valores_teoricos\n  ))\n}\n\n# Aplicar la función envelope manual\nenvelope_quasi_manual <- envelope_quasipoisson_manual(modelo_freq_quasi)",
   "metadata": {},
   "execution_count": null,
   "outputs": []
  },
  {
   "cell_type": "code",
   "id": "no8a41zld4a",
   "source": "# Intentar usar hnp con modelo quasi-Poisson (puede funcionar o no)\ntryCatch({\n  envelope_quasi_hnp <- hnp(modelo_freq_quasi,\n                           halfnormal = TRUE,\n                           plot = TRUE,\n                           main = \"Envelope Plot hnp - Quasi-Poisson\",\n                           col = \"#E74C3C\")\n}, error = function(e) {\n  cat(\"Error con hnp para quasi-Poisson:\", e$message, \"\\n\")\n  cat(\"Usando función manual desarrollada arriba.\\n\")\n})",
   "metadata": {},
   "execution_count": null,
   "outputs": []
  },
  {
   "cell_type": "markdown",
   "id": "a1ot0llbxnl",
   "source": "### Comparación de modelos",
   "metadata": {}
  },
  {
   "cell_type": "code",
   "id": "y8mmv9olvwc",
   "source": "# Comparación entre modelo Poisson y quasi-Poisson\ncat(\"=== COMPARACIÓN DE MODELOS DE FRECUENCIA ===\\n\\n\")\n\ncat(\"1. MODELO POISSON:\\n\")\ncat(\"   - Deviance:\", deviance(modelo_frecuencia_final), \"\\n\")\ncat(\"   - AIC:\", AIC(modelo_frecuencia_final), \"\\n\")\ncat(\"   - Dispersión estimada:\", dispersion, \"\\n\\n\")\n\ncat(\"2. MODELO QUASI-POISSON:\\n\")\ncat(\"   - Deviance:\", deviance(modelo_freq_quasi), \"\\n\")\ncat(\"   - Dispersión estimada:\", summary(modelo_freq_quasi)$dispersion, \"\\n\")\ncat(\"   - Note: AIC no disponible para modelos quasi\\n\\n\")\n\nif (dispersion > 1.5) {\n  cat(\"RECOMENDACIÓN: Usar modelo quasi-Poisson debido a la sobredispersión.\\n\")\n} else {\n  cat(\"RECOMENDACIÓN: El modelo Poisson es adecuado.\\n\")\n}\n\n# Mostrar coeficientes significativos del modelo final recomendado\nmodelo_final_recomendado <- if(dispersion > 1.5) modelo_freq_quasi else modelo_frecuencia_final\ncat(\"\\n=== COEFICIENTES DEL MODELO RECOMENDADO ===\\n\")\nprint(summary(modelo_final_recomendado)$coefficients[summary(modelo_final_recomendado)$coefficients[,\"Pr(>|t|)\"] < 0.05,])",
   "metadata": {},
   "execution_count": null,
   "outputs": []
  }
 ],
 "metadata": {
  "kernelspec": {
   "display_name": "R",
   "language": "R",
   "name": "ir"
  },
  "language_info": {
   "name": "R"
  }
 },
 "nbformat": 4,
 "nbformat_minor": 5
}