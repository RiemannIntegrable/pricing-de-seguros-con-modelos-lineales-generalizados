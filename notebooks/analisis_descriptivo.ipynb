{
 "cells": [
  {
   "cell_type": "markdown",
   "metadata": {},
   "source": [
    "<div align=\"center\">\n",
    "\n",
    "# **Analisis Exploratorio**\n",
    "\n",
    "</div>"
   ]
  },
  {
   "cell_type": "markdown",
   "metadata": {},
   "source": [
    "## Librerias"
   ]
  },
  {
   "cell_type": "code",
   "execution_count": 14,
   "metadata": {
    "vscode": {
     "languageId": "r"
    }
   },
   "outputs": [],
   "source": [
    "library(dplyr)"
   ]
  },
  {
   "cell_type": "markdown",
   "metadata": {},
   "source": [
    "## Data"
   ]
  },
  {
   "cell_type": "code",
   "execution_count": 3,
   "metadata": {
    "vscode": {
     "languageId": "r"
    }
   },
   "outputs": [],
   "source": [
    "df_input <- read.csv(\"../data/input/Muestra_Siniestros_4.csv\")"
   ]
  },
  {
   "cell_type": "code",
   "execution_count": 11,
   "metadata": {
    "vscode": {
     "languageId": "r"
    }
   },
   "outputs": [
    {
     "data": {
      "text/html": [
       "<style>\n",
       ".list-inline {list-style: none; margin:0; padding: 0}\n",
       ".list-inline>li {display: inline-block}\n",
       ".list-inline>li:not(:last-child)::after {content: \"\\00b7\"; padding: 0 .5ex}\n",
       "</style>\n",
       "<ol class=list-inline><li>'Amparo'</li><li>'Amp'</li><li>'SumaDePagos'</li><li>'Modelo'</li><li>'Color'</li><li>'Carroceria'</li><li>'MARCA'</li><li>'Referencia1'</li><li>'Referencia2'</li><li>'CLASE_FASECOLDA'</li><li>'TIPO_VEHICULO'</li><li>'SERVICIO'</li><li>'Sexo_Aseg'</li><li>'Edad'</li><li>'Desde'</li><li>'Hasta'</li><li>'Vr_Comercial'</li><li>'Pago'</li></ol>\n"
      ],
      "text/latex": [
       "\\begin{enumerate*}\n",
       "\\item 'Amparo'\n",
       "\\item 'Amp'\n",
       "\\item 'SumaDePagos'\n",
       "\\item 'Modelo'\n",
       "\\item 'Color'\n",
       "\\item 'Carroceria'\n",
       "\\item 'MARCA'\n",
       "\\item 'Referencia1'\n",
       "\\item 'Referencia2'\n",
       "\\item 'CLASE\\_FASECOLDA'\n",
       "\\item 'TIPO\\_VEHICULO'\n",
       "\\item 'SERVICIO'\n",
       "\\item 'Sexo\\_Aseg'\n",
       "\\item 'Edad'\n",
       "\\item 'Desde'\n",
       "\\item 'Hasta'\n",
       "\\item 'Vr\\_Comercial'\n",
       "\\item 'Pago'\n",
       "\\end{enumerate*}\n"
      ],
      "text/markdown": [
       "1. 'Amparo'\n",
       "2. 'Amp'\n",
       "3. 'SumaDePagos'\n",
       "4. 'Modelo'\n",
       "5. 'Color'\n",
       "6. 'Carroceria'\n",
       "7. 'MARCA'\n",
       "8. 'Referencia1'\n",
       "9. 'Referencia2'\n",
       "10. 'CLASE_FASECOLDA'\n",
       "11. 'TIPO_VEHICULO'\n",
       "12. 'SERVICIO'\n",
       "13. 'Sexo_Aseg'\n",
       "14. 'Edad'\n",
       "15. 'Desde'\n",
       "16. 'Hasta'\n",
       "17. 'Vr_Comercial'\n",
       "18. 'Pago'\n",
       "\n",
       "\n"
      ],
      "text/plain": [
       " [1] \"Amparo\"          \"Amp\"             \"SumaDePagos\"     \"Modelo\"         \n",
       " [5] \"Color\"           \"Carroceria\"      \"MARCA\"           \"Referencia1\"    \n",
       " [9] \"Referencia2\"     \"CLASE_FASECOLDA\" \"TIPO_VEHICULO\"   \"SERVICIO\"       \n",
       "[13] \"Sexo_Aseg\"       \"Edad\"            \"Desde\"           \"Hasta\"          \n",
       "[17] \"Vr_Comercial\"    \"Pago\"           "
      ]
     },
     "metadata": {},
     "output_type": "display_data"
    }
   ],
   "source": [
    "names(df_input)"
   ]
  },
  {
   "cell_type": "code",
   "execution_count": 10,
   "metadata": {
    "vscode": {
     "languageId": "r"
    }
   },
   "outputs": [
    {
     "data": {
      "text/html": [
       "<style>\n",
       ".list-inline {list-style: none; margin:0; padding: 0}\n",
       ".list-inline>li {display: inline-block}\n",
       ".list-inline>li:not(:last-child)::after {content: \"\\00b7\"; padding: 0 .5ex}\n",
       "</style>\n",
       "<ol class=list-inline><li>5000</li><li>18</li></ol>\n"
      ],
      "text/latex": [
       "\\begin{enumerate*}\n",
       "\\item 5000\n",
       "\\item 18\n",
       "\\end{enumerate*}\n"
      ],
      "text/markdown": [
       "1. 5000\n",
       "2. 18\n",
       "\n",
       "\n"
      ],
      "text/plain": [
       "[1] 5000   18"
      ]
     },
     "metadata": {},
     "output_type": "display_data"
    }
   ],
   "source": [
    "dim(df_input)"
   ]
  },
  {
   "cell_type": "code",
   "execution_count": 15,
   "metadata": {
    "vscode": {
     "languageId": "r"
    }
   },
   "outputs": [
    {
     "name": "stdout",
     "output_type": "stream",
     "text": [
      "Rows: 5,000\n",
      "Columns: 18\n",
      "$ Amparo          \u001b[3m\u001b[90m<chr>\u001b[39m\u001b[23m NA, NA, NA, NA, NA, NA, NA, NA, NA, NA, NA, NA, \"PERDI…\n",
      "$ Amp             \u001b[3m\u001b[90m<chr>\u001b[39m\u001b[23m NA, NA, NA, NA, NA, NA, NA, NA, NA, NA, NA, NA, \"PPD\",…\n",
      "$ SumaDePagos     \u001b[3m\u001b[90m<dbl>\u001b[39m\u001b[23m NA, NA, NA, NA, NA, NA, NA, NA, NA, NA, NA, NA, 263295…\n",
      "$ Modelo          \u001b[3m\u001b[90m<int>\u001b[39m\u001b[23m 2013, 2010, 2012, 2008, 2008, 2007, 2012, 2007, 2010, …\n",
      "$ Color           \u001b[3m\u001b[90m<chr>\u001b[39m\u001b[23m \"ROJO\", \"PLATA\", \"PLATA\", \"BLANCO\", \"VINO TINTO\", \"PLA…\n",
      "$ Carroceria      \u001b[3m\u001b[90m<chr>\u001b[39m\u001b[23m \"SEDAN\", \"HATCHBACK\", \"SEDAN\", \"SEDAN\", \"SEDAN\", \"HATC…\n",
      "$ MARCA           \u001b[3m\u001b[90m<chr>\u001b[39m\u001b[23m \"HYUNDAI\", \"HYUNDAI\", \"HYUNDAI\", \"HYUNDAI\", \"HYUNDAI\",…\n",
      "$ Referencia1     \u001b[3m\u001b[90m<chr>\u001b[39m\u001b[23m \"VELOSTER\", \"ATOS [2]\", \"ACCENT i25\", \"ATOS [2]\", \"ACC…\n",
      "$ Referencia2     \u001b[3m\u001b[90m<chr>\u001b[39m\u001b[23m \"COUPE\", \"PRIME\", \"1.4L\", \"PRIME\", \"GLS\", \"SANTRO\", \"G…\n",
      "$ CLASE_FASECOLDA \u001b[3m\u001b[90m<chr>\u001b[39m\u001b[23m \"AUTOMOVIL\", \"AUTOMOVIL\", \"AUTOMOVIL\", \"AUTOMOVIL TAXI…\n",
      "$ TIPO_VEHICULO   \u001b[3m\u001b[90m<chr>\u001b[39m\u001b[23m \"Livianos\", \"Livianos\", \"Livianos\", \"Livianos\", \"Livia…\n",
      "$ SERVICIO        \u001b[3m\u001b[90m<chr>\u001b[39m\u001b[23m \"Particular\", \"Particular\", \"Particular\", \"Particular\"…\n",
      "$ Sexo_Aseg       \u001b[3m\u001b[90m<chr>\u001b[39m\u001b[23m \"F\", \"M\", \"F\", \"M\", \"F\", \"F\", \"F\", NA, \"F\", \"F\", \"M\", …\n",
      "$ Edad            \u001b[3m\u001b[90m<int>\u001b[39m\u001b[23m 34, 67, 32, 0, 53, 35, 65, 0, 44, 0, 50, 50, 36, 0, 35…\n",
      "$ Desde           \u001b[3m\u001b[90m<chr>\u001b[39m\u001b[23m \"2011-09-29\", \"2011-10-01\", \"2012-02-14\", \"2012-05-30\"…\n",
      "$ Hasta           \u001b[3m\u001b[90m<chr>\u001b[39m\u001b[23m \"2012-11-14\", \"2012-10-01\", \"2013-02-14\", \"2013-05-30\"…\n",
      "$ Vr_Comercial    \u001b[3m\u001b[90m<dbl>\u001b[39m\u001b[23m 56490000, 16400000, 34700000, 12300000, 23400000, 1600…\n",
      "$ Pago            \u001b[3m\u001b[90m<chr>\u001b[39m\u001b[23m \"No\", \"No\", \"No\", \"No\", \"No\", \"No\", \"No\", \"No\", \"No\", …\n"
     ]
    }
   ],
   "source": [
    "glimpse(df_input)"
   ]
  },
  {
   "cell_type": "markdown",
   "metadata": {},
   "source": [
    "## Valores nulos"
   ]
  },
  {
   "cell_type": "code",
   "execution_count": 18,
   "metadata": {
    "vscode": {
     "languageId": "r"
    }
   },
   "outputs": [
    {
     "data": {
      "text/html": [
       "13585"
      ],
      "text/latex": [
       "13585"
      ],
      "text/markdown": [
       "13585"
      ],
      "text/plain": [
       "[1] 13585"
      ]
     },
     "metadata": {},
     "output_type": "display_data"
    }
   ],
   "source": [
    "sum(is.na(df_input))"
   ]
  },
  {
   "cell_type": "markdown",
   "metadata": {},
   "source": [
    "hpta"
   ]
  },
  {
   "cell_type": "code",
   "execution_count": 19,
   "metadata": {
    "vscode": {
     "languageId": "r"
    }
   },
   "outputs": [
    {
     "data": {
      "text/html": [
       "<style>\n",
       ".dl-inline {width: auto; margin:0; padding: 0}\n",
       ".dl-inline>dt, .dl-inline>dd {float: none; width: auto; display: inline-block}\n",
       ".dl-inline>dt::after {content: \":\\0020\"; padding-right: .5ex}\n",
       ".dl-inline>dt:not(:first-of-type) {padding-left: .5ex}\n",
       "</style><dl class=dl-inline><dt>Amparo</dt><dd>4320</dd><dt>Amp</dt><dd>4320</dd><dt>SumaDePagos</dt><dd>4320</dd><dt>Modelo</dt><dd>0</dd><dt>Color</dt><dd>0</dd><dt>Carroceria</dt><dd>0</dd><dt>MARCA</dt><dd>0</dd><dt>Referencia1</dt><dd>0</dd><dt>Referencia2</dt><dd>0</dd><dt>CLASE_FASECOLDA</dt><dd>0</dd><dt>TIPO_VEHICULO</dt><dd>0</dd><dt>SERVICIO</dt><dd>0</dd><dt>Sexo_Aseg</dt><dd>625</dd><dt>Edad</dt><dd>0</dd><dt>Desde</dt><dd>0</dd><dt>Hasta</dt><dd>0</dd><dt>Vr_Comercial</dt><dd>0</dd><dt>Pago</dt><dd>0</dd></dl>\n"
      ],
      "text/latex": [
       "\\begin{description*}\n",
       "\\item[Amparo] 4320\n",
       "\\item[Amp] 4320\n",
       "\\item[SumaDePagos] 4320\n",
       "\\item[Modelo] 0\n",
       "\\item[Color] 0\n",
       "\\item[Carroceria] 0\n",
       "\\item[MARCA] 0\n",
       "\\item[Referencia1] 0\n",
       "\\item[Referencia2] 0\n",
       "\\item[CLASE\\textbackslash{}\\_FASECOLDA] 0\n",
       "\\item[TIPO\\textbackslash{}\\_VEHICULO] 0\n",
       "\\item[SERVICIO] 0\n",
       "\\item[Sexo\\textbackslash{}\\_Aseg] 625\n",
       "\\item[Edad] 0\n",
       "\\item[Desde] 0\n",
       "\\item[Hasta] 0\n",
       "\\item[Vr\\textbackslash{}\\_Comercial] 0\n",
       "\\item[Pago] 0\n",
       "\\end{description*}\n"
      ],
      "text/markdown": [
       "Amparo\n",
       ":   4320Amp\n",
       ":   4320SumaDePagos\n",
       ":   4320Modelo\n",
       ":   0Color\n",
       ":   0Carroceria\n",
       ":   0MARCA\n",
       ":   0Referencia1\n",
       ":   0Referencia2\n",
       ":   0CLASE_FASECOLDA\n",
       ":   0TIPO_VEHICULO\n",
       ":   0SERVICIO\n",
       ":   0Sexo_Aseg\n",
       ":   625Edad\n",
       ":   0Desde\n",
       ":   0Hasta\n",
       ":   0Vr_Comercial\n",
       ":   0Pago\n",
       ":   0\n",
       "\n"
      ],
      "text/plain": [
       "         Amparo             Amp     SumaDePagos          Modelo           Color \n",
       "           4320            4320            4320               0               0 \n",
       "     Carroceria           MARCA     Referencia1     Referencia2 CLASE_FASECOLDA \n",
       "              0               0               0               0               0 \n",
       "  TIPO_VEHICULO        SERVICIO       Sexo_Aseg            Edad           Desde \n",
       "              0               0             625               0               0 \n",
       "          Hasta    Vr_Comercial            Pago \n",
       "              0               0               0 "
      ]
     },
     "metadata": {},
     "output_type": "display_data"
    }
   ],
   "source": [
    "colSums(is.na(df_input))"
   ]
  },
  {
   "cell_type": "markdown",
   "metadata": {},
   "source": [
    "## Exploracion de variables"
   ]
  },
  {
   "cell_type": "markdown",
   "metadata": {},
   "source": [
    "### Amparo"
   ]
  },
  {
   "cell_type": "code",
   "execution_count": 9,
   "metadata": {
    "vscode": {
     "languageId": "r"
    }
   },
   "outputs": [],
   "source": []
  }
 ],
 "metadata": {
  "kernelspec": {
   "display_name": "R",
   "language": "R",
   "name": "ir"
  },
  "language_info": {
   "codemirror_mode": "r",
   "file_extension": ".r",
   "mimetype": "text/x-r-source",
   "name": "R",
   "pygments_lexer": "r",
   "version": "4.2.3"
  }
 },
 "nbformat": 4,
 "nbformat_minor": 2
}
