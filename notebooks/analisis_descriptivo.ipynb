{
 "cells": [
  {
   "cell_type": "markdown",
   "metadata": {},
   "source": [
    "<div align=\"center\">\n",
    "\n",
    "# **Analisis Exploratorio**\n",
    "\n",
    "</div>"
   ]
  },
  {
   "cell_type": "markdown",
   "metadata": {},
   "source": [
    "## Librerias"
   ]
  },
  {
   "cell_type": "code",
   "execution_count": 242,
   "metadata": {
    "vscode": {
     "languageId": "r"
    }
   },
   "outputs": [],
   "source": [
    "library(dplyr)"
   ]
  },
  {
   "cell_type": "markdown",
   "metadata": {},
   "source": [
    "## Data"
   ]
  },
  {
   "cell_type": "code",
   "execution_count": 243,
   "metadata": {
    "vscode": {
     "languageId": "r"
    }
   },
   "outputs": [],
   "source": [
    "df_input <- read.csv(\"../data/input/Muestra_Siniestros_4.csv\")"
   ]
  },
  {
   "cell_type": "code",
   "execution_count": 244,
   "metadata": {
    "vscode": {
     "languageId": "r"
    }
   },
   "outputs": [
    {
     "data": {
      "text/html": [
       "<style>\n",
       ".list-inline {list-style: none; margin:0; padding: 0}\n",
       ".list-inline>li {display: inline-block}\n",
       ".list-inline>li:not(:last-child)::after {content: \"\\00b7\"; padding: 0 .5ex}\n",
       "</style>\n",
       "<ol class=list-inline><li>'Amparo'</li><li>'Amp'</li><li>'SumaDePagos'</li><li>'Modelo'</li><li>'Color'</li><li>'Carroceria'</li><li>'MARCA'</li><li>'Referencia1'</li><li>'Referencia2'</li><li>'CLASE_FASECOLDA'</li><li>'TIPO_VEHICULO'</li><li>'SERVICIO'</li><li>'Sexo_Aseg'</li><li>'Edad'</li><li>'Desde'</li><li>'Hasta'</li><li>'Vr_Comercial'</li><li>'Pago'</li></ol>\n"
      ],
      "text/latex": [
       "\\begin{enumerate*}\n",
       "\\item 'Amparo'\n",
       "\\item 'Amp'\n",
       "\\item 'SumaDePagos'\n",
       "\\item 'Modelo'\n",
       "\\item 'Color'\n",
       "\\item 'Carroceria'\n",
       "\\item 'MARCA'\n",
       "\\item 'Referencia1'\n",
       "\\item 'Referencia2'\n",
       "\\item 'CLASE\\_FASECOLDA'\n",
       "\\item 'TIPO\\_VEHICULO'\n",
       "\\item 'SERVICIO'\n",
       "\\item 'Sexo\\_Aseg'\n",
       "\\item 'Edad'\n",
       "\\item 'Desde'\n",
       "\\item 'Hasta'\n",
       "\\item 'Vr\\_Comercial'\n",
       "\\item 'Pago'\n",
       "\\end{enumerate*}\n"
      ],
      "text/markdown": [
       "1. 'Amparo'\n",
       "2. 'Amp'\n",
       "3. 'SumaDePagos'\n",
       "4. 'Modelo'\n",
       "5. 'Color'\n",
       "6. 'Carroceria'\n",
       "7. 'MARCA'\n",
       "8. 'Referencia1'\n",
       "9. 'Referencia2'\n",
       "10. 'CLASE_FASECOLDA'\n",
       "11. 'TIPO_VEHICULO'\n",
       "12. 'SERVICIO'\n",
       "13. 'Sexo_Aseg'\n",
       "14. 'Edad'\n",
       "15. 'Desde'\n",
       "16. 'Hasta'\n",
       "17. 'Vr_Comercial'\n",
       "18. 'Pago'\n",
       "\n",
       "\n"
      ],
      "text/plain": [
       " [1] \"Amparo\"          \"Amp\"             \"SumaDePagos\"     \"Modelo\"         \n",
       " [5] \"Color\"           \"Carroceria\"      \"MARCA\"           \"Referencia1\"    \n",
       " [9] \"Referencia2\"     \"CLASE_FASECOLDA\" \"TIPO_VEHICULO\"   \"SERVICIO\"       \n",
       "[13] \"Sexo_Aseg\"       \"Edad\"            \"Desde\"           \"Hasta\"          \n",
       "[17] \"Vr_Comercial\"    \"Pago\"           "
      ]
     },
     "metadata": {},
     "output_type": "display_data"
    }
   ],
   "source": [
    "names(df_input)"
   ]
  },
  {
   "cell_type": "code",
   "execution_count": 245,
   "metadata": {
    "vscode": {
     "languageId": "r"
    }
   },
   "outputs": [
    {
     "data": {
      "text/html": [
       "<style>\n",
       ".list-inline {list-style: none; margin:0; padding: 0}\n",
       ".list-inline>li {display: inline-block}\n",
       ".list-inline>li:not(:last-child)::after {content: \"\\00b7\"; padding: 0 .5ex}\n",
       "</style>\n",
       "<ol class=list-inline><li>5000</li><li>18</li></ol>\n"
      ],
      "text/latex": [
       "\\begin{enumerate*}\n",
       "\\item 5000\n",
       "\\item 18\n",
       "\\end{enumerate*}\n"
      ],
      "text/markdown": [
       "1. 5000\n",
       "2. 18\n",
       "\n",
       "\n"
      ],
      "text/plain": [
       "[1] 5000   18"
      ]
     },
     "metadata": {},
     "output_type": "display_data"
    }
   ],
   "source": [
    "dim(df_input)"
   ]
  },
  {
   "cell_type": "code",
   "execution_count": 246,
   "metadata": {
    "vscode": {
     "languageId": "r"
    }
   },
   "outputs": [
    {
     "name": "stdout",
     "output_type": "stream",
     "text": [
      "Rows: 5,000\n",
      "Columns: 18\n",
      "$ Amparo          \u001b[3m\u001b[90m<chr>\u001b[39m\u001b[23m NA, NA, NA, NA, NA, NA, NA, NA, NA, NA, NA, NA, \"PERDI…\n",
      "$ Amp             \u001b[3m\u001b[90m<chr>\u001b[39m\u001b[23m NA, NA, NA, NA, NA, NA, NA, NA, NA, NA, NA, NA, \"PPD\",…\n",
      "$ SumaDePagos     \u001b[3m\u001b[90m<dbl>\u001b[39m\u001b[23m NA, NA, NA, NA, NA, NA, NA, NA, NA, NA, NA, NA, 263295…\n",
      "$ Modelo          \u001b[3m\u001b[90m<int>\u001b[39m\u001b[23m 2013, 2010, 2012, 2008, 2008, 2007, 2012, 2007, 2010, …\n",
      "$ Color           \u001b[3m\u001b[90m<chr>\u001b[39m\u001b[23m \"ROJO\", \"PLATA\", \"PLATA\", \"BLANCO\", \"VINO TINTO\", \"PLA…\n",
      "$ Carroceria      \u001b[3m\u001b[90m<chr>\u001b[39m\u001b[23m \"SEDAN\", \"HATCHBACK\", \"SEDAN\", \"SEDAN\", \"SEDAN\", \"HATC…\n",
      "$ MARCA           \u001b[3m\u001b[90m<chr>\u001b[39m\u001b[23m \"HYUNDAI\", \"HYUNDAI\", \"HYUNDAI\", \"HYUNDAI\", \"HYUNDAI\",…\n",
      "$ Referencia1     \u001b[3m\u001b[90m<chr>\u001b[39m\u001b[23m \"VELOSTER\", \"ATOS [2]\", \"ACCENT i25\", \"ATOS [2]\", \"ACC…\n",
      "$ Referencia2     \u001b[3m\u001b[90m<chr>\u001b[39m\u001b[23m \"COUPE\", \"PRIME\", \"1.4L\", \"PRIME\", \"GLS\", \"SANTRO\", \"G…\n",
      "$ CLASE_FASECOLDA \u001b[3m\u001b[90m<chr>\u001b[39m\u001b[23m \"AUTOMOVIL\", \"AUTOMOVIL\", \"AUTOMOVIL\", \"AUTOMOVIL TAXI…\n",
      "$ TIPO_VEHICULO   \u001b[3m\u001b[90m<chr>\u001b[39m\u001b[23m \"Livianos\", \"Livianos\", \"Livianos\", \"Livianos\", \"Livia…\n",
      "$ SERVICIO        \u001b[3m\u001b[90m<chr>\u001b[39m\u001b[23m \"Particular\", \"Particular\", \"Particular\", \"Particular\"…\n",
      "$ Sexo_Aseg       \u001b[3m\u001b[90m<chr>\u001b[39m\u001b[23m \"F\", \"M\", \"F\", \"M\", \"F\", \"F\", \"F\", NA, \"F\", \"F\", \"M\", …\n",
      "$ Edad            \u001b[3m\u001b[90m<int>\u001b[39m\u001b[23m 34, 67, 32, 0, 53, 35, 65, 0, 44, 0, 50, 50, 36, 0, 35…\n",
      "$ Desde           \u001b[3m\u001b[90m<chr>\u001b[39m\u001b[23m \"2011-09-29\", \"2011-10-01\", \"2012-02-14\", \"2012-05-30\"…\n",
      "$ Hasta           \u001b[3m\u001b[90m<chr>\u001b[39m\u001b[23m \"2012-11-14\", \"2012-10-01\", \"2013-02-14\", \"2013-05-30\"…\n",
      "$ Vr_Comercial    \u001b[3m\u001b[90m<dbl>\u001b[39m\u001b[23m 56490000, 16400000, 34700000, 12300000, 23400000, 1600…\n",
      "$ Pago            \u001b[3m\u001b[90m<chr>\u001b[39m\u001b[23m \"No\", \"No\", \"No\", \"No\", \"No\", \"No\", \"No\", \"No\", \"No\", …\n"
     ]
    }
   ],
   "source": [
    "glimpse(df_input)"
   ]
  },
  {
   "cell_type": "markdown",
   "metadata": {},
   "source": [
    "## Valores nulos"
   ]
  },
  {
   "cell_type": "code",
   "execution_count": 247,
   "metadata": {
    "vscode": {
     "languageId": "r"
    }
   },
   "outputs": [
    {
     "data": {
      "text/html": [
       "13585"
      ],
      "text/latex": [
       "13585"
      ],
      "text/markdown": [
       "13585"
      ],
      "text/plain": [
       "[1] 13585"
      ]
     },
     "metadata": {},
     "output_type": "display_data"
    }
   ],
   "source": [
    "sum(is.na(df_input))"
   ]
  },
  {
   "cell_type": "markdown",
   "metadata": {},
   "source": [
    "hpta"
   ]
  },
  {
   "cell_type": "code",
   "execution_count": 248,
   "metadata": {
    "vscode": {
     "languageId": "r"
    }
   },
   "outputs": [
    {
     "data": {
      "text/html": [
       "<style>\n",
       ".dl-inline {width: auto; margin:0; padding: 0}\n",
       ".dl-inline>dt, .dl-inline>dd {float: none; width: auto; display: inline-block}\n",
       ".dl-inline>dt::after {content: \":\\0020\"; padding-right: .5ex}\n",
       ".dl-inline>dt:not(:first-of-type) {padding-left: .5ex}\n",
       "</style><dl class=dl-inline><dt>Amparo</dt><dd>4320</dd><dt>Amp</dt><dd>4320</dd><dt>SumaDePagos</dt><dd>4320</dd><dt>Modelo</dt><dd>0</dd><dt>Color</dt><dd>0</dd><dt>Carroceria</dt><dd>0</dd><dt>MARCA</dt><dd>0</dd><dt>Referencia1</dt><dd>0</dd><dt>Referencia2</dt><dd>0</dd><dt>CLASE_FASECOLDA</dt><dd>0</dd><dt>TIPO_VEHICULO</dt><dd>0</dd><dt>SERVICIO</dt><dd>0</dd><dt>Sexo_Aseg</dt><dd>625</dd><dt>Edad</dt><dd>0</dd><dt>Desde</dt><dd>0</dd><dt>Hasta</dt><dd>0</dd><dt>Vr_Comercial</dt><dd>0</dd><dt>Pago</dt><dd>0</dd></dl>\n"
      ],
      "text/latex": [
       "\\begin{description*}\n",
       "\\item[Amparo] 4320\n",
       "\\item[Amp] 4320\n",
       "\\item[SumaDePagos] 4320\n",
       "\\item[Modelo] 0\n",
       "\\item[Color] 0\n",
       "\\item[Carroceria] 0\n",
       "\\item[MARCA] 0\n",
       "\\item[Referencia1] 0\n",
       "\\item[Referencia2] 0\n",
       "\\item[CLASE\\textbackslash{}\\_FASECOLDA] 0\n",
       "\\item[TIPO\\textbackslash{}\\_VEHICULO] 0\n",
       "\\item[SERVICIO] 0\n",
       "\\item[Sexo\\textbackslash{}\\_Aseg] 625\n",
       "\\item[Edad] 0\n",
       "\\item[Desde] 0\n",
       "\\item[Hasta] 0\n",
       "\\item[Vr\\textbackslash{}\\_Comercial] 0\n",
       "\\item[Pago] 0\n",
       "\\end{description*}\n"
      ],
      "text/markdown": [
       "Amparo\n",
       ":   4320Amp\n",
       ":   4320SumaDePagos\n",
       ":   4320Modelo\n",
       ":   0Color\n",
       ":   0Carroceria\n",
       ":   0MARCA\n",
       ":   0Referencia1\n",
       ":   0Referencia2\n",
       ":   0CLASE_FASECOLDA\n",
       ":   0TIPO_VEHICULO\n",
       ":   0SERVICIO\n",
       ":   0Sexo_Aseg\n",
       ":   625Edad\n",
       ":   0Desde\n",
       ":   0Hasta\n",
       ":   0Vr_Comercial\n",
       ":   0Pago\n",
       ":   0\n",
       "\n"
      ],
      "text/plain": [
       "         Amparo             Amp     SumaDePagos          Modelo           Color \n",
       "           4320            4320            4320               0               0 \n",
       "     Carroceria           MARCA     Referencia1     Referencia2 CLASE_FASECOLDA \n",
       "              0               0               0               0               0 \n",
       "  TIPO_VEHICULO        SERVICIO       Sexo_Aseg            Edad           Desde \n",
       "              0               0             625               0               0 \n",
       "          Hasta    Vr_Comercial            Pago \n",
       "              0               0               0 "
      ]
     },
     "metadata": {},
     "output_type": "display_data"
    }
   ],
   "source": [
    "colSums(is.na(df_input))"
   ]
  },
  {
   "cell_type": "markdown",
   "metadata": {},
   "source": [
    "## Exploracion de variables"
   ]
  },
  {
   "cell_type": "markdown",
   "metadata": {},
   "source": [
    "### Amparo, Amp y SumaDePagos"
   ]
  },
  {
   "cell_type": "code",
   "execution_count": 249,
   "metadata": {
    "vscode": {
     "languageId": "r"
    }
   },
   "outputs": [
    {
     "data": {
      "text/plain": [
       "   Length     Class      Mode \n",
       "     5000 character character "
      ]
     },
     "metadata": {},
     "output_type": "display_data"
    }
   ],
   "source": [
    "summary(df_input$Amparo)"
   ]
  },
  {
   "cell_type": "code",
   "execution_count": 250,
   "metadata": {
    "vscode": {
     "languageId": "r"
    }
   },
   "outputs": [
    {
     "data": {
      "text/html": [
       "<style>\n",
       ".list-inline {list-style: none; margin:0; padding: 0}\n",
       ".list-inline>li {display: inline-block}\n",
       ".list-inline>li:not(:last-child)::after {content: \"\\00b7\"; padding: 0 .5ex}\n",
       "</style>\n",
       "<ol class=list-inline><li>NA</li><li>'PPD'</li><li>'PTD'</li><li>'RC'</li><li>'GT'</li><li>'PPH'</li><li>'PTH'</li><li>'ASI'</li></ol>\n"
      ],
      "text/latex": [
       "\\begin{enumerate*}\n",
       "\\item NA\n",
       "\\item 'PPD'\n",
       "\\item 'PTD'\n",
       "\\item 'RC'\n",
       "\\item 'GT'\n",
       "\\item 'PPH'\n",
       "\\item 'PTH'\n",
       "\\item 'ASI'\n",
       "\\end{enumerate*}\n"
      ],
      "text/markdown": [
       "1. NA\n",
       "2. 'PPD'\n",
       "3. 'PTD'\n",
       "4. 'RC'\n",
       "5. 'GT'\n",
       "6. 'PPH'\n",
       "7. 'PTH'\n",
       "8. 'ASI'\n",
       "\n",
       "\n"
      ],
      "text/plain": [
       "[1] NA    \"PPD\" \"PTD\" \"RC\"  \"GT\"  \"PPH\" \"PTH\" \"ASI\""
      ]
     },
     "metadata": {},
     "output_type": "display_data"
    }
   ],
   "source": [
    "unique(df_input$Amp)"
   ]
  },
  {
   "cell_type": "code",
   "execution_count": 251,
   "metadata": {
    "vscode": {
     "languageId": "r"
    }
   },
   "outputs": [],
   "source": [
    "df_amp <- df_input %>% select(Amparo, Amp)"
   ]
  },
  {
   "cell_type": "code",
   "execution_count": 252,
   "metadata": {
    "vscode": {
     "languageId": "r"
    }
   },
   "outputs": [
    {
     "data": {
      "text/plain": [
       "       \n",
       "        FALSE TRUE\n",
       "  FALSE   680    0\n",
       "  TRUE      0 4320"
      ]
     },
     "metadata": {},
     "output_type": "display_data"
    },
    {
     "data": {
      "text/html": [
       "TRUE"
      ],
      "text/latex": [
       "TRUE"
      ],
      "text/markdown": [
       "TRUE"
      ],
      "text/plain": [
       "[1] TRUE"
      ]
     },
     "metadata": {},
     "output_type": "display_data"
    },
    {
     "data": {
      "text/html": [
       "<table class=\"dataframe\">\n",
       "<caption>A data.frame: 1 × 4</caption>\n",
       "<thead>\n",
       "\t<tr><th scope=col>ambos_NA</th><th scope=col>ambos_no_NA</th><th scope=col>solo_Amp_NA</th><th scope=col>solo_Amparo_NA</th></tr>\n",
       "\t<tr><th scope=col>&lt;int&gt;</th><th scope=col>&lt;int&gt;</th><th scope=col>&lt;int&gt;</th><th scope=col>&lt;int&gt;</th></tr>\n",
       "</thead>\n",
       "<tbody>\n",
       "\t<tr><td>4320</td><td>680</td><td>0</td><td>0</td></tr>\n",
       "</tbody>\n",
       "</table>\n"
      ],
      "text/latex": [
       "A data.frame: 1 × 4\n",
       "\\begin{tabular}{llll}\n",
       " ambos\\_NA & ambos\\_no\\_NA & solo\\_Amp\\_NA & solo\\_Amparo\\_NA\\\\\n",
       " <int> & <int> & <int> & <int>\\\\\n",
       "\\hline\n",
       "\t 4320 & 680 & 0 & 0\\\\\n",
       "\\end{tabular}\n"
      ],
      "text/markdown": [
       "\n",
       "A data.frame: 1 × 4\n",
       "\n",
       "| ambos_NA &lt;int&gt; | ambos_no_NA &lt;int&gt; | solo_Amp_NA &lt;int&gt; | solo_Amparo_NA &lt;int&gt; |\n",
       "|---|---|---|---|\n",
       "| 4320 | 680 | 0 | 0 |\n",
       "\n"
      ],
      "text/plain": [
       "  ambos_NA ambos_no_NA solo_Amp_NA solo_Amparo_NA\n",
       "1 4320     680         0           0             "
      ]
     },
     "metadata": {},
     "output_type": "display_data"
    }
   ],
   "source": [
    "# 1. Tabla de patrones de NA\n",
    "table(is.na(df_input$Amp), is.na(df_input$Amparo))\n",
    "\n",
    "# 2. Verificar si siempre coinciden los NA\n",
    "all(is.na(df_input$Amp) == is.na(df_input$Amparo))\n",
    "\n",
    "# 3. Contar los diferentes patrones\n",
    "df_input %>%\n",
    "  summarise(\n",
    "    ambos_NA = sum(is.na(Amp) & is.na(Amparo)),\n",
    "    ambos_no_NA = sum(!is.na(Amp) & !is.na(Amparo)),\n",
    "    solo_Amp_NA = sum(is.na(Amp) & !is.na(Amparo)),\n",
    "    solo_Amparo_NA = sum(!is.na(Amp) & is.na(Amparo))\n",
    "  )"
   ]
  },
  {
   "cell_type": "markdown",
   "metadata": {},
   "source": [
    "Los NA coinciden\n",
    "\n",
    "Hay que ver que pasa con las perdidas parciales y totales por hurto, porque la correspondecia de las demas variables se ve."
   ]
  },
  {
   "cell_type": "code",
   "execution_count": 253,
   "metadata": {
    "vscode": {
     "languageId": "r"
    }
   },
   "outputs": [
    {
     "data": {
      "text/html": [
       "TRUE"
      ],
      "text/latex": [
       "TRUE"
      ],
      "text/markdown": [
       "TRUE"
      ],
      "text/plain": [
       "[1] TRUE"
      ]
     },
     "metadata": {},
     "output_type": "display_data"
    },
    {
     "data": {
      "text/html": [
       "<table class=\"dataframe\">\n",
       "<caption>A data.frame: 1 × 4</caption>\n",
       "<thead>\n",
       "\t<tr><th scope=col>ambos_NA</th><th scope=col>ambos_no_NA</th><th scope=col>solo_Amp_NA</th><th scope=col>solo_Suma_NA</th></tr>\n",
       "\t<tr><th scope=col>&lt;int&gt;</th><th scope=col>&lt;int&gt;</th><th scope=col>&lt;int&gt;</th><th scope=col>&lt;int&gt;</th></tr>\n",
       "</thead>\n",
       "<tbody>\n",
       "\t<tr><td>4320</td><td>680</td><td>0</td><td>0</td></tr>\n",
       "</tbody>\n",
       "</table>\n"
      ],
      "text/latex": [
       "A data.frame: 1 × 4\n",
       "\\begin{tabular}{llll}\n",
       " ambos\\_NA & ambos\\_no\\_NA & solo\\_Amp\\_NA & solo\\_Suma\\_NA\\\\\n",
       " <int> & <int> & <int> & <int>\\\\\n",
       "\\hline\n",
       "\t 4320 & 680 & 0 & 0\\\\\n",
       "\\end{tabular}\n"
      ],
      "text/markdown": [
       "\n",
       "A data.frame: 1 × 4\n",
       "\n",
       "| ambos_NA &lt;int&gt; | ambos_no_NA &lt;int&gt; | solo_Amp_NA &lt;int&gt; | solo_Suma_NA &lt;int&gt; |\n",
       "|---|---|---|---|\n",
       "| 4320 | 680 | 0 | 0 |\n",
       "\n"
      ],
      "text/plain": [
       "  ambos_NA ambos_no_NA solo_Amp_NA solo_Suma_NA\n",
       "1 4320     680         0           0           "
      ]
     },
     "metadata": {},
     "output_type": "display_data"
    }
   ],
   "source": [
    "all(is.na(df_input$Amp) == is.na(df_input$SumaDePagos))\n",
    "\n",
    "df_input %>%\n",
    "  summarise(\n",
    "    ambos_NA = sum(is.na(Amp) & is.na(df_input$SumaDePagos)),\n",
    "    ambos_no_NA = sum(!is.na(Amp) & !is.na(df_input$SumaDePagos)),\n",
    "    solo_Amp_NA = sum(is.na(Amp) & !is.na(df_input$SumaDePagos)),\n",
    "    solo_Suma_NA = sum(!is.na(Amp) & is.na(df_input$SumaDePagos))\n",
    "  )"
   ]
  },
  {
   "cell_type": "markdown",
   "metadata": {},
   "source": [
    "SumaDePagos es NA donde Amp y Amparo es NA"
   ]
  },
  {
   "cell_type": "code",
   "execution_count": 254,
   "metadata": {
    "vscode": {
     "languageId": "r"
    }
   },
   "outputs": [
    {
     "data": {
      "image/png": "[encoded data removed]",
      "text/plain": [
       "Plot with title “Función de distribución empírica - SumaDePagos”"
      ]
     },
     "metadata": {
      "image/png": {
       "height": 360,
       "width": 1080
      }
     },
     "output_type": "display_data"
    }
   ],
   "source": [
    "contar_por_debajo <- function(h, data = df_input) {\n",
    "  sum(data$SumaDePagos < h, na.rm = TRUE)\n",
    "}\n",
    "\n",
    "umbrales <- seq(0, max(df_input$SumaDePagos, na.rm = TRUE), length.out = 100)\n",
    "conteos <- sapply(umbrales, contar_por_debajo)\n",
    "\n",
    "options(repr.plot.width = 18, repr.plot.height = 6)\n",
    "par(bg = \"white\")\n",
    "plot(umbrales, conteos,\n",
    "       type = \"l\",\n",
    "       xlab = \"Umbral (h)\",\n",
    "       ylab = \"Observaciones por debajo de h\",\n",
    "       main = \"Función de distribución empírica - SumaDePagos\",\n",
    "       bg = \"white\",\n",
    "       xaxt = \"n\")\n",
    "\n",
    "axis(1, at = seq(0, max(umbrales), by = 500000),\n",
    "     labels = paste0(seq(0, max(umbrales), by = 500000)/1000000, \"M\"))\n",
    "grid()"
   ]
  },
  {
   "cell_type": "markdown",
   "metadata": {},
   "source": [
    "Hay que escoger un minimo para SumaDePagos cuando vayamos a modelar el la frecuencia."
   ]
  },
  {
   "cell_type": "code",
   "execution_count": 255,
   "metadata": {
    "vscode": {
     "languageId": "r"
    }
   },
   "outputs": [],
   "source": [
    "pago_minimo <- 100000"
   ]
  },
  {
   "cell_type": "code",
   "execution_count": 256,
   "metadata": {
    "vscode": {
     "languageId": "r"
    }
   },
   "outputs": [
    {
     "data": {
      "text/html": [
       "<table class=\"dataframe\">\n",
       "<caption>A data.frame: 6 × 18</caption>\n",
       "<thead>\n",
       "\t<tr><th></th><th scope=col>SumaDePagos</th><th scope=col>Amparo_ASISTENCIA JURIDICA EN PROCESO PENAL</th><th scope=col>Amparo_GASTOS DE TRANSPORTE POR PERDIDA TOTAL</th><th scope=col>Amparo_No aplica</th><th scope=col>Amparo_PERDIDA PARCIAL POR DA�OS</th><th scope=col>Amparo_PERDIDA PARCIAL POR HURTO</th><th scope=col>Amparo_PERDIDA TOTAL HURTO</th><th scope=col>Amparo_PERDIDA TOTAL O PARCIAL POR HURTO</th><th scope=col>Amparo_PERDIDA TOTAL POR DA�OS</th><th scope=col>Amparo_RESPONSABILIDAD CIVIL EXTRACONTRACTUAL</th><th scope=col>Amp_ASI</th><th scope=col>Amp_GT</th><th scope=col>Amp_No aplica</th><th scope=col>Amp_PPD</th><th scope=col>Amp_PPH</th><th scope=col>Amp_PTD</th><th scope=col>Amp_PTH</th><th scope=col>Amp_RC</th></tr>\n",
       "\t<tr><th></th><th scope=col>&lt;dbl&gt;</th><th scope=col>&lt;int&gt;</th><th scope=col>&lt;int&gt;</th><th scope=col>&lt;int&gt;</th><th scope=col>&lt;int&gt;</th><th scope=col>&lt;int&gt;</th><th scope=col>&lt;int&gt;</th><th scope=col>&lt;int&gt;</th><th scope=col>&lt;int&gt;</th><th scope=col>&lt;int&gt;</th><th scope=col>&lt;int&gt;</th><th scope=col>&lt;int&gt;</th><th scope=col>&lt;int&gt;</th><th scope=col>&lt;int&gt;</th><th scope=col>&lt;int&gt;</th><th scope=col>&lt;int&gt;</th><th scope=col>&lt;int&gt;</th><th scope=col>&lt;int&gt;</th></tr>\n",
       "</thead>\n",
       "<tbody>\n",
       "\t<tr><th scope=row>1</th><td>0</td><td>0</td><td>0</td><td>1</td><td>0</td><td>0</td><td>0</td><td>0</td><td>0</td><td>0</td><td>0</td><td>0</td><td>1</td><td>0</td><td>0</td><td>0</td><td>0</td><td>0</td></tr>\n",
       "\t<tr><th scope=row>2</th><td>0</td><td>0</td><td>0</td><td>1</td><td>0</td><td>0</td><td>0</td><td>0</td><td>0</td><td>0</td><td>0</td><td>0</td><td>1</td><td>0</td><td>0</td><td>0</td><td>0</td><td>0</td></tr>\n",
       "\t<tr><th scope=row>3</th><td>0</td><td>0</td><td>0</td><td>1</td><td>0</td><td>0</td><td>0</td><td>0</td><td>0</td><td>0</td><td>0</td><td>0</td><td>1</td><td>0</td><td>0</td><td>0</td><td>0</td><td>0</td></tr>\n",
       "\t<tr><th scope=row>4</th><td>0</td><td>0</td><td>0</td><td>1</td><td>0</td><td>0</td><td>0</td><td>0</td><td>0</td><td>0</td><td>0</td><td>0</td><td>1</td><td>0</td><td>0</td><td>0</td><td>0</td><td>0</td></tr>\n",
       "\t<tr><th scope=row>5</th><td>0</td><td>0</td><td>0</td><td>1</td><td>0</td><td>0</td><td>0</td><td>0</td><td>0</td><td>0</td><td>0</td><td>0</td><td>1</td><td>0</td><td>0</td><td>0</td><td>0</td><td>0</td></tr>\n",
       "\t<tr><th scope=row>6</th><td>0</td><td>0</td><td>0</td><td>1</td><td>0</td><td>0</td><td>0</td><td>0</td><td>0</td><td>0</td><td>0</td><td>0</td><td>1</td><td>0</td><td>0</td><td>0</td><td>0</td><td>0</td></tr>\n",
       "</tbody>\n",
       "</table>\n"
      ],
      "text/latex": [
       "A data.frame: 6 × 18\n",
       "\\begin{tabular}{r|llllllllllllllllll}\n",
       "  & SumaDePagos & Amparo\\_ASISTENCIA JURIDICA EN PROCESO PENAL & Amparo\\_GASTOS DE TRANSPORTE POR PERDIDA TOTAL & Amparo\\_No aplica & Amparo\\_PERDIDA PARCIAL POR DA�OS & Amparo\\_PERDIDA PARCIAL POR HURTO & Amparo\\_PERDIDA TOTAL HURTO & Amparo\\_PERDIDA TOTAL O PARCIAL POR HURTO & Amparo\\_PERDIDA TOTAL POR DA�OS & Amparo\\_RESPONSABILIDAD CIVIL EXTRACONTRACTUAL & Amp\\_ASI & Amp\\_GT & Amp\\_No aplica & Amp\\_PPD & Amp\\_PPH & Amp\\_PTD & Amp\\_PTH & Amp\\_RC\\\\\n",
       "  & <dbl> & <int> & <int> & <int> & <int> & <int> & <int> & <int> & <int> & <int> & <int> & <int> & <int> & <int> & <int> & <int> & <int> & <int>\\\\\n",
       "\\hline\n",
       "\t1 & 0 & 0 & 0 & 1 & 0 & 0 & 0 & 0 & 0 & 0 & 0 & 0 & 1 & 0 & 0 & 0 & 0 & 0\\\\\n",
       "\t2 & 0 & 0 & 0 & 1 & 0 & 0 & 0 & 0 & 0 & 0 & 0 & 0 & 1 & 0 & 0 & 0 & 0 & 0\\\\\n",
       "\t3 & 0 & 0 & 0 & 1 & 0 & 0 & 0 & 0 & 0 & 0 & 0 & 0 & 1 & 0 & 0 & 0 & 0 & 0\\\\\n",
       "\t4 & 0 & 0 & 0 & 1 & 0 & 0 & 0 & 0 & 0 & 0 & 0 & 0 & 1 & 0 & 0 & 0 & 0 & 0\\\\\n",
       "\t5 & 0 & 0 & 0 & 1 & 0 & 0 & 0 & 0 & 0 & 0 & 0 & 0 & 1 & 0 & 0 & 0 & 0 & 0\\\\\n",
       "\t6 & 0 & 0 & 0 & 1 & 0 & 0 & 0 & 0 & 0 & 0 & 0 & 0 & 1 & 0 & 0 & 0 & 0 & 0\\\\\n",
       "\\end{tabular}\n"
      ],
      "text/markdown": [
       "\n",
       "A data.frame: 6 × 18\n",
       "\n",
       "| <!--/--> | SumaDePagos &lt;dbl&gt; | Amparo_ASISTENCIA JURIDICA EN PROCESO PENAL &lt;int&gt; | Amparo_GASTOS DE TRANSPORTE POR PERDIDA TOTAL &lt;int&gt; | Amparo_No aplica &lt;int&gt; | Amparo_PERDIDA PARCIAL POR DA�OS &lt;int&gt; | Amparo_PERDIDA PARCIAL POR HURTO &lt;int&gt; | Amparo_PERDIDA TOTAL HURTO &lt;int&gt; | Amparo_PERDIDA TOTAL O PARCIAL POR HURTO &lt;int&gt; | Amparo_PERDIDA TOTAL POR DA�OS &lt;int&gt; | Amparo_RESPONSABILIDAD CIVIL EXTRACONTRACTUAL &lt;int&gt; | Amp_ASI &lt;int&gt; | Amp_GT &lt;int&gt; | Amp_No aplica &lt;int&gt; | Amp_PPD &lt;int&gt; | Amp_PPH &lt;int&gt; | Amp_PTD &lt;int&gt; | Amp_PTH &lt;int&gt; | Amp_RC &lt;int&gt; |\n",
       "|---|---|---|---|---|---|---|---|---|---|---|---|---|---|---|---|---|---|---|\n",
       "| 1 | 0 | 0 | 0 | 1 | 0 | 0 | 0 | 0 | 0 | 0 | 0 | 0 | 1 | 0 | 0 | 0 | 0 | 0 |\n",
       "| 2 | 0 | 0 | 0 | 1 | 0 | 0 | 0 | 0 | 0 | 0 | 0 | 0 | 1 | 0 | 0 | 0 | 0 | 0 |\n",
       "| 3 | 0 | 0 | 0 | 1 | 0 | 0 | 0 | 0 | 0 | 0 | 0 | 0 | 1 | 0 | 0 | 0 | 0 | 0 |\n",
       "| 4 | 0 | 0 | 0 | 1 | 0 | 0 | 0 | 0 | 0 | 0 | 0 | 0 | 1 | 0 | 0 | 0 | 0 | 0 |\n",
       "| 5 | 0 | 0 | 0 | 1 | 0 | 0 | 0 | 0 | 0 | 0 | 0 | 0 | 1 | 0 | 0 | 0 | 0 | 0 |\n",
       "| 6 | 0 | 0 | 0 | 1 | 0 | 0 | 0 | 0 | 0 | 0 | 0 | 0 | 1 | 0 | 0 | 0 | 0 | 0 |\n",
       "\n"
      ],
      "text/plain": [
       "  SumaDePagos Amparo_ASISTENCIA JURIDICA EN PROCESO PENAL\n",
       "1 0           0                                          \n",
       "2 0           0                                          \n",
       "3 0           0                                          \n",
       "4 0           0                                          \n",
       "5 0           0                                          \n",
       "6 0           0                                          \n",
       "  Amparo_GASTOS DE TRANSPORTE POR PERDIDA TOTAL Amparo_No aplica\n",
       "1 0                                             1               \n",
       "2 0                                             1               \n",
       "3 0                                             1               \n",
       "4 0                                             1               \n",
       "5 0                                             1               \n",
       "6 0                                             1               \n",
       "  Amparo_PERDIDA PARCIAL POR DA�OS Amparo_PERDIDA PARCIAL POR HURTO\n",
       "1 0                                0                               \n",
       "2 0                                0                               \n",
       "3 0                                0                               \n",
       "4 0                                0                               \n",
       "5 0                                0                               \n",
       "6 0                                0                               \n",
       "  Amparo_PERDIDA TOTAL HURTO Amparo_PERDIDA TOTAL O PARCIAL POR HURTO\n",
       "1 0                          0                                       \n",
       "2 0                          0                                       \n",
       "3 0                          0                                       \n",
       "4 0                          0                                       \n",
       "5 0                          0                                       \n",
       "6 0                          0                                       \n",
       "  Amparo_PERDIDA TOTAL POR DA�OS Amparo_RESPONSABILIDAD CIVIL EXTRACONTRACTUAL\n",
       "1 0                              0                                            \n",
       "2 0                              0                                            \n",
       "3 0                              0                                            \n",
       "4 0                              0                                            \n",
       "5 0                              0                                            \n",
       "6 0                              0                                            \n",
       "  Amp_ASI Amp_GT Amp_No aplica Amp_PPD Amp_PPH Amp_PTD Amp_PTH Amp_RC\n",
       "1 0       0      1             0       0       0       0       0     \n",
       "2 0       0      1             0       0       0       0       0     \n",
       "3 0       0      1             0       0       0       0       0     \n",
       "4 0       0      1             0       0       0       0       0     \n",
       "5 0       0      1             0       0       0       0       0     \n",
       "6 0       0      1             0       0       0       0       0     "
      ]
     },
     "metadata": {},
     "output_type": "display_data"
    },
    {
     "data": {
      "text/html": [
       "<style>\n",
       ".list-inline {list-style: none; margin:0; padding: 0}\n",
       ".list-inline>li {display: inline-block}\n",
       ".list-inline>li:not(:last-child)::after {content: \"\\00b7\"; padding: 0 .5ex}\n",
       "</style>\n",
       "<ol class=list-inline><li>'SumaDePagos'</li><li>'Amparo_ASISTENCIA JURIDICA EN PROCESO PENAL'</li><li>'Amparo_GASTOS DE TRANSPORTE POR PERDIDA TOTAL'</li><li>'Amparo_No aplica'</li><li>'Amparo_PERDIDA PARCIAL POR DA�OS'</li><li>'Amparo_PERDIDA PARCIAL POR HURTO'</li><li>'Amparo_PERDIDA TOTAL HURTO'</li><li>'Amparo_PERDIDA TOTAL O PARCIAL POR HURTO'</li><li>'Amparo_PERDIDA TOTAL POR DA�OS'</li><li>'Amparo_RESPONSABILIDAD CIVIL EXTRACONTRACTUAL'</li><li>'Amp_ASI'</li><li>'Amp_GT'</li><li>'Amp_No aplica'</li><li>'Amp_PPD'</li><li>'Amp_PPH'</li><li>'Amp_PTD'</li><li>'Amp_PTH'</li><li>'Amp_RC'</li></ol>\n"
      ],
      "text/latex": [
       "\\begin{enumerate*}\n",
       "\\item 'SumaDePagos'\n",
       "\\item 'Amparo\\_ASISTENCIA JURIDICA EN PROCESO PENAL'\n",
       "\\item 'Amparo\\_GASTOS DE TRANSPORTE POR PERDIDA TOTAL'\n",
       "\\item 'Amparo\\_No aplica'\n",
       "\\item 'Amparo\\_PERDIDA PARCIAL POR DA�OS'\n",
       "\\item 'Amparo\\_PERDIDA PARCIAL POR HURTO'\n",
       "\\item 'Amparo\\_PERDIDA TOTAL HURTO'\n",
       "\\item 'Amparo\\_PERDIDA TOTAL O PARCIAL POR HURTO'\n",
       "\\item 'Amparo\\_PERDIDA TOTAL POR DA�OS'\n",
       "\\item 'Amparo\\_RESPONSABILIDAD CIVIL EXTRACONTRACTUAL'\n",
       "\\item 'Amp\\_ASI'\n",
       "\\item 'Amp\\_GT'\n",
       "\\item 'Amp\\_No aplica'\n",
       "\\item 'Amp\\_PPD'\n",
       "\\item 'Amp\\_PPH'\n",
       "\\item 'Amp\\_PTD'\n",
       "\\item 'Amp\\_PTH'\n",
       "\\item 'Amp\\_RC'\n",
       "\\end{enumerate*}\n"
      ],
      "text/markdown": [
       "1. 'SumaDePagos'\n",
       "2. 'Amparo_ASISTENCIA JURIDICA EN PROCESO PENAL'\n",
       "3. 'Amparo_GASTOS DE TRANSPORTE POR PERDIDA TOTAL'\n",
       "4. 'Amparo_No aplica'\n",
       "5. 'Amparo_PERDIDA PARCIAL POR DA�OS'\n",
       "6. 'Amparo_PERDIDA PARCIAL POR HURTO'\n",
       "7. 'Amparo_PERDIDA TOTAL HURTO'\n",
       "8. 'Amparo_PERDIDA TOTAL O PARCIAL POR HURTO'\n",
       "9. 'Amparo_PERDIDA TOTAL POR DA�OS'\n",
       "10. 'Amparo_RESPONSABILIDAD CIVIL EXTRACONTRACTUAL'\n",
       "11. 'Amp_ASI'\n",
       "12. 'Amp_GT'\n",
       "13. 'Amp_No aplica'\n",
       "14. 'Amp_PPD'\n",
       "15. 'Amp_PPH'\n",
       "16. 'Amp_PTD'\n",
       "17. 'Amp_PTH'\n",
       "18. 'Amp_RC'\n",
       "\n",
       "\n"
      ],
      "text/plain": [
       " [1] \"SumaDePagos\"                                  \n",
       " [2] \"Amparo_ASISTENCIA JURIDICA EN PROCESO PENAL\"  \n",
       " [3] \"Amparo_GASTOS DE TRANSPORTE POR PERDIDA TOTAL\"\n",
       " [4] \"Amparo_No aplica\"                             \n",
       " [5] \"Amparo_PERDIDA PARCIAL POR DA�OS\"             \n",
       " [6] \"Amparo_PERDIDA PARCIAL POR HURTO\"             \n",
       " [7] \"Amparo_PERDIDA TOTAL HURTO\"                   \n",
       " [8] \"Amparo_PERDIDA TOTAL O PARCIAL POR HURTO\"     \n",
       " [9] \"Amparo_PERDIDA TOTAL POR DA�OS\"               \n",
       "[10] \"Amparo_RESPONSABILIDAD CIVIL EXTRACONTRACTUAL\"\n",
       "[11] \"Amp_ASI\"                                      \n",
       "[12] \"Amp_GT\"                                       \n",
       "[13] \"Amp_No aplica\"                                \n",
       "[14] \"Amp_PPD\"                                      \n",
       "[15] \"Amp_PPH\"                                      \n",
       "[16] \"Amp_PTD\"                                      \n",
       "[17] \"Amp_PTH\"                                      \n",
       "[18] \"Amp_RC\"                                       "
      ]
     },
     "metadata": {},
     "output_type": "display_data"
    }
   ],
   "source": [
    "library(fastDummies)\n",
    "\n",
    "# Definir pago mínimo\n",
    "pago_minimo <- 50000  # Ajusta según tu criterio\n",
    "\n",
    "# Preparar datos\n",
    "df_dummy <- df_input %>%\n",
    "  select(Amparo, Amp, SumaDePagos) %>%\n",
    "  mutate(\n",
    "    # Convertir NA a \"No aplica\"\n",
    "    Amparo = ifelse(is.na(Amparo), \"No aplica\", Amparo),\n",
    "    Amp = ifelse(is.na(Amp), \"No aplica\", Amp),\n",
    "    # Procesar SumaDePagos\n",
    "    SumaDePagos = case_when(\n",
    "      is.na(SumaDePagos) ~ 0,\n",
    "      SumaDePagos < pago_minimo ~ 0,\n",
    "      TRUE ~ SumaDePagos\n",
    "    )\n",
    "  )\n",
    "\n",
    "# Crear variables dummy\n",
    "df_final <- dummy_cols(df_dummy, \n",
    "                      select_columns = c(\"Amparo\", \"Amp\"),\n",
    "                      remove_first_dummy = FALSE,\n",
    "                      remove_selected_columns = TRUE)\n",
    "\n",
    "# Ver estructura\n",
    "head(df_final)\n",
    "names(df_final)"
   ]
  },
  {
   "cell_type": "code",
   "execution_count": 257,
   "metadata": {
    "vscode": {
     "languageId": "r"
    }
   },
   "outputs": [
    {
     "name": "stderr",
     "output_type": "stream",
     "text": [
      "Warning message in strwidth(newrownames, cex = tl.cex):\n",
      "“conversion failure on 'Amparo_PERDIDA PARCIAL POR DA�OS' in 'mbcsToSbcs': dot substituted for <ef>”\n",
      "Warning message in strwidth(newrownames, cex = tl.cex):\n",
      "“conversion failure on 'Amparo_PERDIDA PARCIAL POR DA�OS' in 'mbcsToSbcs': dot substituted for <bf>”\n",
      "Warning message in strwidth(newrownames, cex = tl.cex):\n",
      "“conversion failure on 'Amparo_PERDIDA PARCIAL POR DA�OS' in 'mbcsToSbcs': dot substituted for <bd>”\n",
      "Warning message in strwidth(newrownames, cex = tl.cex):\n",
      "“conversion failure on 'Amparo_PERDIDA TOTAL POR DA�OS' in 'mbcsToSbcs': dot substituted for <ef>”\n",
      "Warning message in strwidth(newrownames, cex = tl.cex):\n",
      "“conversion failure on 'Amparo_PERDIDA TOTAL POR DA�OS' in 'mbcsToSbcs': dot substituted for <bf>”\n",
      "Warning message in strwidth(newrownames, cex = tl.cex):\n",
      "“conversion failure on 'Amparo_PERDIDA TOTAL POR DA�OS' in 'mbcsToSbcs': dot substituted for <bd>”\n"
     ]
    },
    {
     "name": "stderr",
     "output_type": "stream",
     "text": [
      "Warning message in strwidth(newcolnames, cex = tl.cex):\n",
      "“conversion failure on 'Amparo_PERDIDA PARCIAL POR DA�OS' in 'mbcsToSbcs': dot substituted for <ef>”\n",
      "Warning message in strwidth(newcolnames, cex = tl.cex):\n",
      "“conversion failure on 'Amparo_PERDIDA PARCIAL POR DA�OS' in 'mbcsToSbcs': dot substituted for <bf>”\n",
      "Warning message in strwidth(newcolnames, cex = tl.cex):\n",
      "“conversion failure on 'Amparo_PERDIDA PARCIAL POR DA�OS' in 'mbcsToSbcs': dot substituted for <bd>”\n",
      "Warning message in strwidth(newcolnames, cex = tl.cex):\n",
      "“conversion failure on 'Amparo_PERDIDA TOTAL POR DA�OS' in 'mbcsToSbcs': dot substituted for <ef>”\n",
      "Warning message in strwidth(newcolnames, cex = tl.cex):\n",
      "“conversion failure on 'Amparo_PERDIDA TOTAL POR DA�OS' in 'mbcsToSbcs': dot substituted for <bf>”\n",
      "Warning message in strwidth(newcolnames, cex = tl.cex):\n",
      "“conversion failure on 'Amparo_PERDIDA TOTAL POR DA�OS' in 'mbcsToSbcs': dot substituted for <bd>”\n",
      "Warning message in strwidth(newrownames, cex = tl.cex):\n",
      "“conversion failure on 'Amparo_PERDIDA PARCIAL POR DA�OS' in 'mbcsToSbcs': dot substituted for <ef>”\n",
      "Warning message in strwidth(newrownames, cex = tl.cex):\n",
      "“conversion failure on 'Amparo_PERDIDA PARCIAL POR DA�OS' in 'mbcsToSbcs': dot substituted for <bf>”\n",
      "Warning message in strwidth(newrownames, cex = tl.cex):\n",
      "“conversion failure on 'Amparo_PERDIDA PARCIAL POR DA�OS' in 'mbcsToSbcs': dot substituted for <bd>”\n",
      "Warning message in strwidth(newrownames, cex = tl.cex):\n",
      "“conversion failure on 'Amparo_PERDIDA TOTAL POR DA�OS' in 'mbcsToSbcs': dot substituted for <ef>”\n",
      "Warning message in strwidth(newrownames, cex = tl.cex):\n",
      "“conversion failure on 'Amparo_PERDIDA TOTAL POR DA�OS' in 'mbcsToSbcs': dot substituted for <bf>”\n",
      "Warning message in strwidth(newrownames, cex = tl.cex):\n",
      "“conversion failure on 'Amparo_PERDIDA TOTAL POR DA�OS' in 'mbcsToSbcs': dot substituted for <bd>”\n",
      "Warning message in strwidth(newcolnames, cex = tl.cex):\n",
      "“conversion failure on 'Amparo_PERDIDA PARCIAL POR DA�OS' in 'mbcsToSbcs': dot substituted for <ef>”\n",
      "Warning message in strwidth(newcolnames, cex = tl.cex):\n",
      "“conversion failure on 'Amparo_PERDIDA PARCIAL POR DA�OS' in 'mbcsToSbcs': dot substituted for <bf>”\n",
      "Warning message in strwidth(newcolnames, cex = tl.cex):\n",
      "“conversion failure on 'Amparo_PERDIDA PARCIAL POR DA�OS' in 'mbcsToSbcs': dot substituted for <bd>”\n",
      "Warning message in strwidth(newcolnames, cex = tl.cex):\n",
      "“conversion failure on 'Amparo_PERDIDA TOTAL POR DA�OS' in 'mbcsToSbcs': dot substituted for <ef>”\n",
      "Warning message in strwidth(newcolnames, cex = tl.cex):\n",
      "“conversion failure on 'Amparo_PERDIDA TOTAL POR DA�OS' in 'mbcsToSbcs': dot substituted for <bf>”\n",
      "Warning message in strwidth(newcolnames, cex = tl.cex):\n",
      "“conversion failure on 'Amparo_PERDIDA TOTAL POR DA�OS' in 'mbcsToSbcs': dot substituted for <bd>”\n",
      "Warning message in strwidth(newrownames, cex = tl.cex):\n",
      "“conversion failure on 'Amparo_PERDIDA PARCIAL POR DA�OS' in 'mbcsToSbcs': dot substituted for <ef>”\n",
      "Warning message in strwidth(newrownames, cex = tl.cex):\n",
      "“conversion failure on 'Amparo_PERDIDA PARCIAL POR DA�OS' in 'mbcsToSbcs': dot substituted for <bf>”\n",
      "Warning message in strwidth(newrownames, cex = tl.cex):\n",
      "“conversion failure on 'Amparo_PERDIDA PARCIAL POR DA�OS' in 'mbcsToSbcs': dot substituted for <bd>”\n",
      "Warning message in strwidth(newrownames, cex = tl.cex):\n",
      "“conversion failure on 'Amparo_PERDIDA TOTAL POR DA�OS' in 'mbcsToSbcs': dot substituted for <ef>”\n",
      "Warning message in strwidth(newrownames, cex = tl.cex):\n",
      "“conversion failure on 'Amparo_PERDIDA TOTAL POR DA�OS' in 'mbcsToSbcs': dot substituted for <bf>”\n",
      "Warning message in strwidth(newrownames, cex = tl.cex):\n",
      "“conversion failure on 'Amparo_PERDIDA TOTAL POR DA�OS' in 'mbcsToSbcs': dot substituted for <bd>”\n",
      "Warning message in strwidth(newcolnames, cex = tl.cex):\n",
      "“conversion failure on 'Amparo_PERDIDA PARCIAL POR DA�OS' in 'mbcsToSbcs': dot substituted for <ef>”\n",
      "Warning message in strwidth(newcolnames, cex = tl.cex):\n",
      "“conversion failure on 'Amparo_PERDIDA PARCIAL POR DA�OS' in 'mbcsToSbcs': dot substituted for <bf>”\n",
      "Warning message in strwidth(newcolnames, cex = tl.cex):\n",
      "“conversion failure on 'Amparo_PERDIDA PARCIAL POR DA�OS' in 'mbcsToSbcs': dot substituted for <bd>”\n",
      "Warning message in strwidth(newcolnames, cex = tl.cex):\n",
      "“conversion failure on 'Amparo_PERDIDA TOTAL POR DA�OS' in 'mbcsToSbcs': dot substituted for <ef>”\n",
      "Warning message in strwidth(newcolnames, cex = tl.cex):\n",
      "“conversion failure on 'Amparo_PERDIDA TOTAL POR DA�OS' in 'mbcsToSbcs': dot substituted for <bf>”\n",
      "Warning message in strwidth(newcolnames, cex = tl.cex):\n",
      "“conversion failure on 'Amparo_PERDIDA TOTAL POR DA�OS' in 'mbcsToSbcs': dot substituted for <bd>”\n",
      "Warning message in strwidth(newrownames, cex = tl.cex):\n",
      "“conversion failure on 'Amparo_PERDIDA PARCIAL POR DA�OS' in 'mbcsToSbcs': dot substituted for <ef>”\n",
      "Warning message in strwidth(newrownames, cex = tl.cex):\n",
      "“conversion failure on 'Amparo_PERDIDA PARCIAL POR DA�OS' in 'mbcsToSbcs': dot substituted for <bf>”\n",
      "Warning message in strwidth(newrownames, cex = tl.cex):\n",
      "“conversion failure on 'Amparo_PERDIDA PARCIAL POR DA�OS' in 'mbcsToSbcs': dot substituted for <bd>”\n",
      "Warning message in strwidth(newrownames, cex = tl.cex):\n",
      "“conversion failure on 'Amparo_PERDIDA TOTAL POR DA�OS' in 'mbcsToSbcs': dot substituted for <ef>”\n",
      "Warning message in strwidth(newrownames, cex = tl.cex):\n",
      "“conversion failure on 'Amparo_PERDIDA TOTAL POR DA�OS' in 'mbcsToSbcs': dot substituted for <bf>”\n",
      "Warning message in strwidth(newrownames, cex = tl.cex):\n",
      "“conversion failure on 'Amparo_PERDIDA TOTAL POR DA�OS' in 'mbcsToSbcs': dot substituted for <bd>”\n",
      "Warning message in strwidth(newcolnames, cex = tl.cex):\n",
      "“conversion failure on 'Amparo_PERDIDA PARCIAL POR DA�OS' in 'mbcsToSbcs': dot substituted for <ef>”\n",
      "Warning message in strwidth(newcolnames, cex = tl.cex):\n",
      "“conversion failure on 'Amparo_PERDIDA PARCIAL POR DA�OS' in 'mbcsToSbcs': dot substituted for <bf>”\n",
      "Warning message in strwidth(newcolnames, cex = tl.cex):\n",
      "“conversion failure on 'Amparo_PERDIDA PARCIAL POR DA�OS' in 'mbcsToSbcs': dot substituted for <bd>”\n",
      "Warning message in strwidth(newcolnames, cex = tl.cex):\n",
      "“conversion failure on 'Amparo_PERDIDA TOTAL POR DA�OS' in 'mbcsToSbcs': dot substituted for <ef>”\n",
      "Warning message in strwidth(newcolnames, cex = tl.cex):\n",
      "“conversion failure on 'Amparo_PERDIDA TOTAL POR DA�OS' in 'mbcsToSbcs': dot substituted for <bf>”\n",
      "Warning message in strwidth(newcolnames, cex = tl.cex):\n",
      "“conversion failure on 'Amparo_PERDIDA TOTAL POR DA�OS' in 'mbcsToSbcs': dot substituted for <bd>”\n",
      "Warning message in strwidth(newrownames, cex = tl.cex):\n",
      "“conversion failure on 'Amparo_PERDIDA PARCIAL POR DA�OS' in 'mbcsToSbcs': dot substituted for <ef>”\n",
      "Warning message in strwidth(newrownames, cex = tl.cex):\n",
      "“conversion failure on 'Amparo_PERDIDA PARCIAL POR DA�OS' in 'mbcsToSbcs': dot substituted for <bf>”\n",
      "Warning message in strwidth(newrownames, cex = tl.cex):\n",
      "“conversion failure on 'Amparo_PERDIDA PARCIAL POR DA�OS' in 'mbcsToSbcs': dot substituted for <bd>”\n",
      "Warning message in strwidth(newrownames, cex = tl.cex):\n",
      "“conversion failure on 'Amparo_PERDIDA TOTAL POR DA�OS' in 'mbcsToSbcs': dot substituted for <ef>”\n",
      "Warning message in strwidth(newrownames, cex = tl.cex):\n",
      "“conversion failure on 'Amparo_PERDIDA TOTAL POR DA�OS' in 'mbcsToSbcs': dot substituted for <bf>”\n",
      "Warning message in strwidth(newrownames, cex = tl.cex):\n",
      "“conversion failure on 'Amparo_PERDIDA TOTAL POR DA�OS' in 'mbcsToSbcs': dot substituted for <bd>”\n",
      "Warning message in strwidth(newcolnames, cex = tl.cex):\n",
      "“conversion failure on 'Amparo_PERDIDA PARCIAL POR DA�OS' in 'mbcsToSbcs': dot substituted for <ef>”\n",
      "Warning message in strwidth(newcolnames, cex = tl.cex):\n",
      "“conversion failure on 'Amparo_PERDIDA PARCIAL POR DA�OS' in 'mbcsToSbcs': dot substituted for <bf>”\n",
      "Warning message in strwidth(newcolnames, cex = tl.cex):\n",
      "“conversion failure on 'Amparo_PERDIDA PARCIAL POR DA�OS' in 'mbcsToSbcs': dot substituted for <bd>”\n",
      "Warning message in strwidth(newcolnames, cex = tl.cex):\n",
      "“conversion failure on 'Amparo_PERDIDA TOTAL POR DA�OS' in 'mbcsToSbcs': dot substituted for <ef>”\n",
      "Warning message in strwidth(newcolnames, cex = tl.cex):\n",
      "“conversion failure on 'Amparo_PERDIDA TOTAL POR DA�OS' in 'mbcsToSbcs': dot substituted for <bf>”\n",
      "Warning message in strwidth(newcolnames, cex = tl.cex):\n",
      "“conversion failure on 'Amparo_PERDIDA TOTAL POR DA�OS' in 'mbcsToSbcs': dot substituted for <bd>”\n",
      "Warning message in strwidth(newrownames, cex = tl.cex):\n",
      "“conversion failure on 'Amparo_PERDIDA PARCIAL POR DA�OS' in 'mbcsToSbcs': dot substituted for <ef>”\n",
      "Warning message in strwidth(newrownames, cex = tl.cex):\n",
      "“conversion failure on 'Amparo_PERDIDA PARCIAL POR DA�OS' in 'mbcsToSbcs': dot substituted for <bf>”\n",
      "Warning message in strwidth(newrownames, cex = tl.cex):\n",
      "“conversion failure on 'Amparo_PERDIDA PARCIAL POR DA�OS' in 'mbcsToSbcs': dot substituted for <bd>”\n",
      "Warning message in strwidth(newrownames, cex = tl.cex):\n",
      "“conversion failure on 'Amparo_PERDIDA TOTAL POR DA�OS' in 'mbcsToSbcs': dot substituted for <ef>”\n",
      "Warning message in strwidth(newrownames, cex = tl.cex):\n",
      "“conversion failure on 'Amparo_PERDIDA TOTAL POR DA�OS' in 'mbcsToSbcs': dot substituted for <bf>”\n",
      "Warning message in strwidth(newrownames, cex = tl.cex):\n",
      "“conversion failure on 'Amparo_PERDIDA TOTAL POR DA�OS' in 'mbcsToSbcs': dot substituted for <bd>”\n",
      "Warning message in strwidth(newcolnames, cex = tl.cex):\n",
      "“conversion failure on 'Amparo_PERDIDA PARCIAL POR DA�OS' in 'mbcsToSbcs': dot substituted for <ef>”\n",
      "Warning message in strwidth(newcolnames, cex = tl.cex):\n",
      "“conversion failure on 'Amparo_PERDIDA PARCIAL POR DA�OS' in 'mbcsToSbcs': dot substituted for <bf>”\n",
      "Warning message in strwidth(newcolnames, cex = tl.cex):\n",
      "“conversion failure on 'Amparo_PERDIDA PARCIAL POR DA�OS' in 'mbcsToSbcs': dot substituted for <bd>”\n",
      "Warning message in strwidth(newcolnames, cex = tl.cex):\n",
      "“conversion failure on 'Amparo_PERDIDA TOTAL POR DA�OS' in 'mbcsToSbcs': dot substituted for <ef>”\n",
      "Warning message in strwidth(newcolnames, cex = tl.cex):\n",
      "“conversion failure on 'Amparo_PERDIDA TOTAL POR DA�OS' in 'mbcsToSbcs': dot substituted for <bf>”\n",
      "Warning message in strwidth(newcolnames, cex = tl.cex):\n",
      "“conversion failure on 'Amparo_PERDIDA TOTAL POR DA�OS' in 'mbcsToSbcs': dot substituted for <bd>”\n",
      "Warning message in strwidth(newrownames, cex = tl.cex):\n",
      "“conversion failure on 'Amparo_PERDIDA PARCIAL POR DA�OS' in 'mbcsToSbcs': dot substituted for <ef>”\n",
      "Warning message in strwidth(newrownames, cex = tl.cex):\n",
      "“conversion failure on 'Amparo_PERDIDA PARCIAL POR DA�OS' in 'mbcsToSbcs': dot substituted for <bf>”\n",
      "Warning message in strwidth(newrownames, cex = tl.cex):\n",
      "“conversion failure on 'Amparo_PERDIDA PARCIAL POR DA�OS' in 'mbcsToSbcs': dot substituted for <bd>”\n",
      "Warning message in strwidth(newrownames, cex = tl.cex):\n",
      "“conversion failure on 'Amparo_PERDIDA TOTAL POR DA�OS' in 'mbcsToSbcs': dot substituted for <ef>”\n",
      "Warning message in strwidth(newrownames, cex = tl.cex):\n",
      "“conversion failure on 'Amparo_PERDIDA TOTAL POR DA�OS' in 'mbcsToSbcs': dot substituted for <bf>”\n",
      "Warning message in strwidth(newrownames, cex = tl.cex):\n",
      "“conversion failure on 'Amparo_PERDIDA TOTAL POR DA�OS' in 'mbcsToSbcs': dot substituted for <bd>”\n",
      "Warning message in strwidth(newcolnames, cex = tl.cex):\n",
      "“conversion failure on 'Amparo_PERDIDA PARCIAL POR DA�OS' in 'mbcsToSbcs': dot substituted for <ef>”\n",
      "Warning message in strwidth(newcolnames, cex = tl.cex):\n",
      "“conversion failure on 'Amparo_PERDIDA PARCIAL POR DA�OS' in 'mbcsToSbcs': dot substituted for <bf>”\n",
      "Warning message in strwidth(newcolnames, cex = tl.cex):\n",
      "“conversion failure on 'Amparo_PERDIDA PARCIAL POR DA�OS' in 'mbcsToSbcs': dot substituted for <bd>”\n",
      "Warning message in strwidth(newcolnames, cex = tl.cex):\n",
      "“conversion failure on 'Amparo_PERDIDA TOTAL POR DA�OS' in 'mbcsToSbcs': dot substituted for <ef>”\n",
      "Warning message in strwidth(newcolnames, cex = tl.cex):\n",
      "“conversion failure on 'Amparo_PERDIDA TOTAL POR DA�OS' in 'mbcsToSbcs': dot substituted for <bf>”\n",
      "Warning message in strwidth(newcolnames, cex = tl.cex):\n",
      "“conversion failure on 'Amparo_PERDIDA TOTAL POR DA�OS' in 'mbcsToSbcs': dot substituted for <bd>”\n",
      "Warning message in strwidth(newrownames, cex = tl.cex):\n",
      "“conversion failure on 'Amparo_PERDIDA PARCIAL POR DA�OS' in 'mbcsToSbcs': dot substituted for <ef>”\n",
      "Warning message in strwidth(newrownames, cex = tl.cex):\n",
      "“conversion failure on 'Amparo_PERDIDA PARCIAL POR DA�OS' in 'mbcsToSbcs': dot substituted for <bf>”\n",
      "Warning message in strwidth(newrownames, cex = tl.cex):\n",
      "“conversion failure on 'Amparo_PERDIDA PARCIAL POR DA�OS' in 'mbcsToSbcs': dot substituted for <bd>”\n",
      "Warning message in strwidth(newrownames, cex = tl.cex):\n",
      "“conversion failure on 'Amparo_PERDIDA TOTAL POR DA�OS' in 'mbcsToSbcs': dot substituted for <ef>”\n",
      "Warning message in strwidth(newrownames, cex = tl.cex):\n",
      "“conversion failure on 'Amparo_PERDIDA TOTAL POR DA�OS' in 'mbcsToSbcs': dot substituted for <bf>”\n",
      "Warning message in strwidth(newrownames, cex = tl.cex):\n",
      "“conversion failure on 'Amparo_PERDIDA TOTAL POR DA�OS' in 'mbcsToSbcs': dot substituted for <bd>”\n",
      "Warning message in strwidth(newcolnames, cex = tl.cex):\n",
      "“conversion failure on 'Amparo_PERDIDA PARCIAL POR DA�OS' in 'mbcsToSbcs': dot substituted for <ef>”\n",
      "Warning message in strwidth(newcolnames, cex = tl.cex):\n",
      "“conversion failure on 'Amparo_PERDIDA PARCIAL POR DA�OS' in 'mbcsToSbcs': dot substituted for <bf>”\n",
      "Warning message in strwidth(newcolnames, cex = tl.cex):\n",
      "“conversion failure on 'Amparo_PERDIDA PARCIAL POR DA�OS' in 'mbcsToSbcs': dot substituted for <bd>”\n",
      "Warning message in strwidth(newcolnames, cex = tl.cex):\n",
      "“conversion failure on 'Amparo_PERDIDA TOTAL POR DA�OS' in 'mbcsToSbcs': dot substituted for <ef>”\n",
      "Warning message in strwidth(newcolnames, cex = tl.cex):\n",
      "“conversion failure on 'Amparo_PERDIDA TOTAL POR DA�OS' in 'mbcsToSbcs': dot substituted for <bf>”\n",
      "Warning message in strwidth(newcolnames, cex = tl.cex):\n",
      "“conversion failure on 'Amparo_PERDIDA TOTAL POR DA�OS' in 'mbcsToSbcs': dot substituted for <bd>”\n",
      "Warning message in strwidth(newrownames, cex = tl.cex):\n",
      "“conversion failure on 'Amparo_PERDIDA PARCIAL POR DA�OS' in 'mbcsToSbcs': dot substituted for <ef>”\n",
      "Warning message in strwidth(newrownames, cex = tl.cex):\n",
      "“conversion failure on 'Amparo_PERDIDA PARCIAL POR DA�OS' in 'mbcsToSbcs': dot substituted for <bf>”\n",
      "Warning message in strwidth(newrownames, cex = tl.cex):\n",
      "“conversion failure on 'Amparo_PERDIDA PARCIAL POR DA�OS' in 'mbcsToSbcs': dot substituted for <bd>”\n",
      "Warning message in strwidth(newrownames, cex = tl.cex):\n",
      "“conversion failure on 'Amparo_PERDIDA TOTAL POR DA�OS' in 'mbcsToSbcs': dot substituted for <ef>”\n",
      "Warning message in strwidth(newrownames, cex = tl.cex):\n",
      "“conversion failure on 'Amparo_PERDIDA TOTAL POR DA�OS' in 'mbcsToSbcs': dot substituted for <bf>”\n",
      "Warning message in strwidth(newrownames, cex = tl.cex):\n",
      "“conversion failure on 'Amparo_PERDIDA TOTAL POR DA�OS' in 'mbcsToSbcs': dot substituted for <bd>”\n",
      "Warning message in strwidth(newcolnames, cex = tl.cex):\n",
      "“conversion failure on 'Amparo_PERDIDA PARCIAL POR DA�OS' in 'mbcsToSbcs': dot substituted for <ef>”\n",
      "Warning message in strwidth(newcolnames, cex = tl.cex):\n",
      "“conversion failure on 'Amparo_PERDIDA PARCIAL POR DA�OS' in 'mbcsToSbcs': dot substituted for <bf>”\n",
      "Warning message in strwidth(newcolnames, cex = tl.cex):\n",
      "“conversion failure on 'Amparo_PERDIDA PARCIAL POR DA�OS' in 'mbcsToSbcs': dot substituted for <bd>”\n",
      "Warning message in strwidth(newcolnames, cex = tl.cex):\n",
      "“conversion failure on 'Amparo_PERDIDA TOTAL POR DA�OS' in 'mbcsToSbcs': dot substituted for <ef>”\n",
      "Warning message in strwidth(newcolnames, cex = tl.cex):\n",
      "“conversion failure on 'Amparo_PERDIDA TOTAL POR DA�OS' in 'mbcsToSbcs': dot substituted for <bf>”\n",
      "Warning message in strwidth(newcolnames, cex = tl.cex):\n",
      "“conversion failure on 'Amparo_PERDIDA TOTAL POR DA�OS' in 'mbcsToSbcs': dot substituted for <bd>”\n",
      "Warning message in strwidth(newrownames, cex = tl.cex):\n",
      "“conversion failure on 'Amparo_PERDIDA PARCIAL POR DA�OS' in 'mbcsToSbcs': dot substituted for <ef>”\n",
      "Warning message in strwidth(newrownames, cex = tl.cex):\n",
      "“conversion failure on 'Amparo_PERDIDA PARCIAL POR DA�OS' in 'mbcsToSbcs': dot substituted for <bf>”\n",
      "Warning message in strwidth(newrownames, cex = tl.cex):\n",
      "“conversion failure on 'Amparo_PERDIDA PARCIAL POR DA�OS' in 'mbcsToSbcs': dot substituted for <bd>”\n",
      "Warning message in strwidth(newrownames, cex = tl.cex):\n",
      "“conversion failure on 'Amparo_PERDIDA TOTAL POR DA�OS' in 'mbcsToSbcs': dot substituted for <ef>”\n",
      "Warning message in strwidth(newrownames, cex = tl.cex):\n",
      "“conversion failure on 'Amparo_PERDIDA TOTAL POR DA�OS' in 'mbcsToSbcs': dot substituted for <bf>”\n",
      "Warning message in strwidth(newrownames, cex = tl.cex):\n",
      "“conversion failure on 'Amparo_PERDIDA TOTAL POR DA�OS' in 'mbcsToSbcs': dot substituted for <bd>”\n",
      "Warning message in strwidth(newcolnames, cex = tl.cex):\n",
      "“conversion failure on 'Amparo_PERDIDA PARCIAL POR DA�OS' in 'mbcsToSbcs': dot substituted for <ef>”\n",
      "Warning message in strwidth(newcolnames, cex = tl.cex):\n",
      "“conversion failure on 'Amparo_PERDIDA PARCIAL POR DA�OS' in 'mbcsToSbcs': dot substituted for <bf>”\n",
      "Warning message in strwidth(newcolnames, cex = tl.cex):\n",
      "“conversion failure on 'Amparo_PERDIDA PARCIAL POR DA�OS' in 'mbcsToSbcs': dot substituted for <bd>”\n",
      "Warning message in strwidth(newcolnames, cex = tl.cex):\n",
      "“conversion failure on 'Amparo_PERDIDA TOTAL POR DA�OS' in 'mbcsToSbcs': dot substituted for <ef>”\n",
      "Warning message in strwidth(newcolnames, cex = tl.cex):\n",
      "“conversion failure on 'Amparo_PERDIDA TOTAL POR DA�OS' in 'mbcsToSbcs': dot substituted for <bf>”\n",
      "Warning message in strwidth(newcolnames, cex = tl.cex):\n",
      "“conversion failure on 'Amparo_PERDIDA TOTAL POR DA�OS' in 'mbcsToSbcs': dot substituted for <bd>”\n",
      "Warning message in strwidth(newrownames, cex = tl.cex):\n",
      "“conversion failure on 'Amparo_PERDIDA PARCIAL POR DA�OS' in 'mbcsToSbcs': dot substituted for <ef>”\n",
      "Warning message in strwidth(newrownames, cex = tl.cex):\n",
      "“conversion failure on 'Amparo_PERDIDA PARCIAL POR DA�OS' in 'mbcsToSbcs': dot substituted for <bf>”\n",
      "Warning message in strwidth(newrownames, cex = tl.cex):\n",
      "“conversion failure on 'Amparo_PERDIDA PARCIAL POR DA�OS' in 'mbcsToSbcs': dot substituted for <bd>”\n",
      "Warning message in strwidth(newrownames, cex = tl.cex):\n",
      "“conversion failure on 'Amparo_PERDIDA TOTAL POR DA�OS' in 'mbcsToSbcs': dot substituted for <ef>”\n",
      "Warning message in strwidth(newrownames, cex = tl.cex):\n",
      "“conversion failure on 'Amparo_PERDIDA TOTAL POR DA�OS' in 'mbcsToSbcs': dot substituted for <bf>”\n",
      "Warning message in strwidth(newrownames, cex = tl.cex):\n",
      "“conversion failure on 'Amparo_PERDIDA TOTAL POR DA�OS' in 'mbcsToSbcs': dot substituted for <bd>”\n",
      "Warning message in strwidth(newcolnames, cex = tl.cex):\n",
      "“conversion failure on 'Amparo_PERDIDA PARCIAL POR DA�OS' in 'mbcsToSbcs': dot substituted for <ef>”\n",
      "Warning message in strwidth(newcolnames, cex = tl.cex):\n",
      "“conversion failure on 'Amparo_PERDIDA PARCIAL POR DA�OS' in 'mbcsToSbcs': dot substituted for <bf>”\n",
      "Warning message in strwidth(newcolnames, cex = tl.cex):\n",
      "“conversion failure on 'Amparo_PERDIDA PARCIAL POR DA�OS' in 'mbcsToSbcs': dot substituted for <bd>”\n",
      "Warning message in strwidth(newcolnames, cex = tl.cex):\n",
      "“conversion failure on 'Amparo_PERDIDA TOTAL POR DA�OS' in 'mbcsToSbcs': dot substituted for <ef>”\n",
      "Warning message in strwidth(newcolnames, cex = tl.cex):\n",
      "“conversion failure on 'Amparo_PERDIDA TOTAL POR DA�OS' in 'mbcsToSbcs': dot substituted for <bf>”\n",
      "Warning message in strwidth(newcolnames, cex = tl.cex):\n",
      "“conversion failure on 'Amparo_PERDIDA TOTAL POR DA�OS' in 'mbcsToSbcs': dot substituted for <bd>”\n",
      "Warning message in strwidth(newrownames, cex = tl.cex):\n",
      "“conversion failure on 'Amparo_PERDIDA PARCIAL POR DA�OS' in 'mbcsToSbcs': dot substituted for <ef>”\n",
      "Warning message in strwidth(newrownames, cex = tl.cex):\n",
      "“conversion failure on 'Amparo_PERDIDA PARCIAL POR DA�OS' in 'mbcsToSbcs': dot substituted for <bf>”\n",
      "Warning message in strwidth(newrownames, cex = tl.cex):\n",
      "“conversion failure on 'Amparo_PERDIDA PARCIAL POR DA�OS' in 'mbcsToSbcs': dot substituted for <bd>”\n",
      "Warning message in strwidth(newrownames, cex = tl.cex):\n",
      "“conversion failure on 'Amparo_PERDIDA TOTAL POR DA�OS' in 'mbcsToSbcs': dot substituted for <ef>”\n",
      "Warning message in strwidth(newrownames, cex = tl.cex):\n",
      "“conversion failure on 'Amparo_PERDIDA TOTAL POR DA�OS' in 'mbcsToSbcs': dot substituted for <bf>”\n",
      "Warning message in strwidth(newrownames, cex = tl.cex):\n",
      "“conversion failure on 'Amparo_PERDIDA TOTAL POR DA�OS' in 'mbcsToSbcs': dot substituted for <bd>”\n",
      "Warning message in strwidth(newcolnames, cex = tl.cex):\n",
      "“conversion failure on 'Amparo_PERDIDA PARCIAL POR DA�OS' in 'mbcsToSbcs': dot substituted for <ef>”\n",
      "Warning message in strwidth(newcolnames, cex = tl.cex):\n",
      "“conversion failure on 'Amparo_PERDIDA PARCIAL POR DA�OS' in 'mbcsToSbcs': dot substituted for <bf>”\n",
      "Warning message in strwidth(newcolnames, cex = tl.cex):\n",
      "“conversion failure on 'Amparo_PERDIDA PARCIAL POR DA�OS' in 'mbcsToSbcs': dot substituted for <bd>”\n",
      "Warning message in strwidth(newcolnames, cex = tl.cex):\n",
      "“conversion failure on 'Amparo_PERDIDA TOTAL POR DA�OS' in 'mbcsToSbcs': dot substituted for <ef>”\n",
      "Warning message in strwidth(newcolnames, cex = tl.cex):\n",
      "“conversion failure on 'Amparo_PERDIDA TOTAL POR DA�OS' in 'mbcsToSbcs': dot substituted for <bf>”\n",
      "Warning message in strwidth(newcolnames, cex = tl.cex):\n",
      "“conversion failure on 'Amparo_PERDIDA TOTAL POR DA�OS' in 'mbcsToSbcs': dot substituted for <bd>”\n",
      "Warning message in strwidth(newrownames, cex = tl.cex):\n",
      "“conversion failure on 'Amparo_PERDIDA PARCIAL POR DA�OS' in 'mbcsToSbcs': dot substituted for <ef>”\n",
      "Warning message in strwidth(newrownames, cex = tl.cex):\n",
      "“conversion failure on 'Amparo_PERDIDA PARCIAL POR DA�OS' in 'mbcsToSbcs': dot substituted for <bf>”\n",
      "Warning message in strwidth(newrownames, cex = tl.cex):\n",
      "“conversion failure on 'Amparo_PERDIDA PARCIAL POR DA�OS' in 'mbcsToSbcs': dot substituted for <bd>”\n",
      "Warning message in strwidth(newrownames, cex = tl.cex):\n",
      "“conversion failure on 'Amparo_PERDIDA TOTAL POR DA�OS' in 'mbcsToSbcs': dot substituted for <ef>”\n",
      "Warning message in strwidth(newrownames, cex = tl.cex):\n",
      "“conversion failure on 'Amparo_PERDIDA TOTAL POR DA�OS' in 'mbcsToSbcs': dot substituted for <bf>”\n",
      "Warning message in strwidth(newrownames, cex = tl.cex):\n",
      "“conversion failure on 'Amparo_PERDIDA TOTAL POR DA�OS' in 'mbcsToSbcs': dot substituted for <bd>”\n",
      "Warning message in strwidth(newcolnames, cex = tl.cex):\n",
      "“conversion failure on 'Amparo_PERDIDA PARCIAL POR DA�OS' in 'mbcsToSbcs': dot substituted for <ef>”\n",
      "Warning message in strwidth(newcolnames, cex = tl.cex):\n",
      "“conversion failure on 'Amparo_PERDIDA PARCIAL POR DA�OS' in 'mbcsToSbcs': dot substituted for <bf>”\n",
      "Warning message in strwidth(newcolnames, cex = tl.cex):\n",
      "“conversion failure on 'Amparo_PERDIDA PARCIAL POR DA�OS' in 'mbcsToSbcs': dot substituted for <bd>”\n",
      "Warning message in strwidth(newcolnames, cex = tl.cex):\n",
      "“conversion failure on 'Amparo_PERDIDA TOTAL POR DA�OS' in 'mbcsToSbcs': dot substituted for <ef>”\n",
      "Warning message in strwidth(newcolnames, cex = tl.cex):\n",
      "“conversion failure on 'Amparo_PERDIDA TOTAL POR DA�OS' in 'mbcsToSbcs': dot substituted for <bf>”\n",
      "Warning message in strwidth(newcolnames, cex = tl.cex):\n",
      "“conversion failure on 'Amparo_PERDIDA TOTAL POR DA�OS' in 'mbcsToSbcs': dot substituted for <bd>”\n",
      "Warning message in strwidth(newrownames, cex = tl.cex):\n",
      "“conversion failure on 'Amparo_PERDIDA PARCIAL POR DA�OS' in 'mbcsToSbcs': dot substituted for <ef>”\n",
      "Warning message in strwidth(newrownames, cex = tl.cex):\n",
      "“conversion failure on 'Amparo_PERDIDA PARCIAL POR DA�OS' in 'mbcsToSbcs': dot substituted for <bf>”\n",
      "Warning message in strwidth(newrownames, cex = tl.cex):\n",
      "“conversion failure on 'Amparo_PERDIDA PARCIAL POR DA�OS' in 'mbcsToSbcs': dot substituted for <bd>”\n",
      "Warning message in strwidth(newrownames, cex = tl.cex):\n",
      "“conversion failure on 'Amparo_PERDIDA TOTAL POR DA�OS' in 'mbcsToSbcs': dot substituted for <ef>”\n",
      "Warning message in strwidth(newrownames, cex = tl.cex):\n",
      "“conversion failure on 'Amparo_PERDIDA TOTAL POR DA�OS' in 'mbcsToSbcs': dot substituted for <bf>”\n",
      "Warning message in strwidth(newrownames, cex = tl.cex):\n",
      "“conversion failure on 'Amparo_PERDIDA TOTAL POR DA�OS' in 'mbcsToSbcs': dot substituted for <bd>”\n",
      "Warning message in strwidth(newcolnames, cex = tl.cex):\n",
      "“conversion failure on 'Amparo_PERDIDA PARCIAL POR DA�OS' in 'mbcsToSbcs': dot substituted for <ef>”\n",
      "Warning message in strwidth(newcolnames, cex = tl.cex):\n",
      "“conversion failure on 'Amparo_PERDIDA PARCIAL POR DA�OS' in 'mbcsToSbcs': dot substituted for <bf>”\n",
      "Warning message in strwidth(newcolnames, cex = tl.cex):\n",
      "“conversion failure on 'Amparo_PERDIDA PARCIAL POR DA�OS' in 'mbcsToSbcs': dot substituted for <bd>”\n",
      "Warning message in strwidth(newcolnames, cex = tl.cex):\n",
      "“conversion failure on 'Amparo_PERDIDA TOTAL POR DA�OS' in 'mbcsToSbcs': dot substituted for <ef>”\n",
      "Warning message in strwidth(newcolnames, cex = tl.cex):\n",
      "“conversion failure on 'Amparo_PERDIDA TOTAL POR DA�OS' in 'mbcsToSbcs': dot substituted for <bf>”\n",
      "Warning message in strwidth(newcolnames, cex = tl.cex):\n",
      "“conversion failure on 'Amparo_PERDIDA TOTAL POR DA�OS' in 'mbcsToSbcs': dot substituted for <bd>”\n",
      "Warning message in strwidth(newrownames, cex = tl.cex):\n",
      "“conversion failure on 'Amparo_PERDIDA PARCIAL POR DA�OS' in 'mbcsToSbcs': dot substituted for <ef>”\n",
      "Warning message in strwidth(newrownames, cex = tl.cex):\n",
      "“conversion failure on 'Amparo_PERDIDA PARCIAL POR DA�OS' in 'mbcsToSbcs': dot substituted for <bf>”\n",
      "Warning message in strwidth(newrownames, cex = tl.cex):\n",
      "“conversion failure on 'Amparo_PERDIDA PARCIAL POR DA�OS' in 'mbcsToSbcs': dot substituted for <bd>”\n",
      "Warning message in strwidth(newrownames, cex = tl.cex):\n",
      "“conversion failure on 'Amparo_PERDIDA TOTAL POR DA�OS' in 'mbcsToSbcs': dot substituted for <ef>”\n",
      "Warning message in strwidth(newrownames, cex = tl.cex):\n",
      "“conversion failure on 'Amparo_PERDIDA TOTAL POR DA�OS' in 'mbcsToSbcs': dot substituted for <bf>”\n",
      "Warning message in strwidth(newrownames, cex = tl.cex):\n",
      "“conversion failure on 'Amparo_PERDIDA TOTAL POR DA�OS' in 'mbcsToSbcs': dot substituted for <bd>”\n",
      "Warning message in strwidth(newcolnames, cex = tl.cex):\n",
      "“conversion failure on 'Amparo_PERDIDA PARCIAL POR DA�OS' in 'mbcsToSbcs': dot substituted for <ef>”\n",
      "Warning message in strwidth(newcolnames, cex = tl.cex):\n",
      "“conversion failure on 'Amparo_PERDIDA PARCIAL POR DA�OS' in 'mbcsToSbcs': dot substituted for <bf>”\n",
      "Warning message in strwidth(newcolnames, cex = tl.cex):\n",
      "“conversion failure on 'Amparo_PERDIDA PARCIAL POR DA�OS' in 'mbcsToSbcs': dot substituted for <bd>”\n",
      "Warning message in strwidth(newcolnames, cex = tl.cex):\n",
      "“conversion failure on 'Amparo_PERDIDA TOTAL POR DA�OS' in 'mbcsToSbcs': dot substituted for <ef>”\n",
      "Warning message in strwidth(newcolnames, cex = tl.cex):\n",
      "“conversion failure on 'Amparo_PERDIDA TOTAL POR DA�OS' in 'mbcsToSbcs': dot substituted for <bf>”\n",
      "Warning message in strwidth(newcolnames, cex = tl.cex):\n",
      "“conversion failure on 'Amparo_PERDIDA TOTAL POR DA�OS' in 'mbcsToSbcs': dot substituted for <bd>”\n",
      "Warning message in strwidth(newrownames, cex = tl.cex):\n",
      "“conversion failure on 'Amparo_PERDIDA PARCIAL POR DA�OS' in 'mbcsToSbcs': dot substituted for <ef>”\n",
      "Warning message in strwidth(newrownames, cex = tl.cex):\n",
      "“conversion failure on 'Amparo_PERDIDA PARCIAL POR DA�OS' in 'mbcsToSbcs': dot substituted for <bf>”\n",
      "Warning message in strwidth(newrownames, cex = tl.cex):\n",
      "“conversion failure on 'Amparo_PERDIDA PARCIAL POR DA�OS' in 'mbcsToSbcs': dot substituted for <bd>”\n",
      "Warning message in strwidth(newrownames, cex = tl.cex):\n",
      "“conversion failure on 'Amparo_PERDIDA TOTAL POR DA�OS' in 'mbcsToSbcs': dot substituted for <ef>”\n",
      "Warning message in strwidth(newrownames, cex = tl.cex):\n",
      "“conversion failure on 'Amparo_PERDIDA TOTAL POR DA�OS' in 'mbcsToSbcs': dot substituted for <bf>”\n",
      "Warning message in strwidth(newrownames, cex = tl.cex):\n",
      "“conversion failure on 'Amparo_PERDIDA TOTAL POR DA�OS' in 'mbcsToSbcs': dot substituted for <bd>”\n",
      "Warning message in strwidth(newcolnames, cex = tl.cex):\n",
      "“conversion failure on 'Amparo_PERDIDA PARCIAL POR DA�OS' in 'mbcsToSbcs': dot substituted for <ef>”\n",
      "Warning message in strwidth(newcolnames, cex = tl.cex):\n",
      "“conversion failure on 'Amparo_PERDIDA PARCIAL POR DA�OS' in 'mbcsToSbcs': dot substituted for <bf>”\n",
      "Warning message in strwidth(newcolnames, cex = tl.cex):\n",
      "“conversion failure on 'Amparo_PERDIDA PARCIAL POR DA�OS' in 'mbcsToSbcs': dot substituted for <bd>”\n",
      "Warning message in strwidth(newcolnames, cex = tl.cex):\n",
      "“conversion failure on 'Amparo_PERDIDA TOTAL POR DA�OS' in 'mbcsToSbcs': dot substituted for <ef>”\n",
      "Warning message in strwidth(newcolnames, cex = tl.cex):\n",
      "“conversion failure on 'Amparo_PERDIDA TOTAL POR DA�OS' in 'mbcsToSbcs': dot substituted for <bf>”\n",
      "Warning message in strwidth(newcolnames, cex = tl.cex):\n",
      "“conversion failure on 'Amparo_PERDIDA TOTAL POR DA�OS' in 'mbcsToSbcs': dot substituted for <bd>”\n",
      "Warning message in strwidth(newrownames, cex = tl.cex):\n",
      "“conversion failure on 'Amparo_PERDIDA PARCIAL POR DA�OS' in 'mbcsToSbcs': dot substituted for <ef>”\n",
      "Warning message in strwidth(newrownames, cex = tl.cex):\n",
      "“conversion failure on 'Amparo_PERDIDA PARCIAL POR DA�OS' in 'mbcsToSbcs': dot substituted for <bf>”\n",
      "Warning message in strwidth(newrownames, cex = tl.cex):\n",
      "“conversion failure on 'Amparo_PERDIDA PARCIAL POR DA�OS' in 'mbcsToSbcs': dot substituted for <bd>”\n",
      "Warning message in strwidth(newrownames, cex = tl.cex):\n",
      "“conversion failure on 'Amparo_PERDIDA TOTAL POR DA�OS' in 'mbcsToSbcs': dot substituted for <ef>”\n",
      "Warning message in strwidth(newrownames, cex = tl.cex):\n",
      "“conversion failure on 'Amparo_PERDIDA TOTAL POR DA�OS' in 'mbcsToSbcs': dot substituted for <bf>”\n",
      "Warning message in strwidth(newrownames, cex = tl.cex):\n",
      "“conversion failure on 'Amparo_PERDIDA TOTAL POR DA�OS' in 'mbcsToSbcs': dot substituted for <bd>”\n",
      "Warning message in strwidth(newcolnames, cex = tl.cex):\n",
      "“conversion failure on 'Amparo_PERDIDA PARCIAL POR DA�OS' in 'mbcsToSbcs': dot substituted for <ef>”\n",
      "Warning message in strwidth(newcolnames, cex = tl.cex):\n",
      "“conversion failure on 'Amparo_PERDIDA PARCIAL POR DA�OS' in 'mbcsToSbcs': dot substituted for <bf>”\n",
      "Warning message in strwidth(newcolnames, cex = tl.cex):\n",
      "“conversion failure on 'Amparo_PERDIDA PARCIAL POR DA�OS' in 'mbcsToSbcs': dot substituted for <bd>”\n",
      "Warning message in strwidth(newcolnames, cex = tl.cex):\n",
      "“conversion failure on 'Amparo_PERDIDA TOTAL POR DA�OS' in 'mbcsToSbcs': dot substituted for <ef>”\n",
      "Warning message in strwidth(newcolnames, cex = tl.cex):\n",
      "“conversion failure on 'Amparo_PERDIDA TOTAL POR DA�OS' in 'mbcsToSbcs': dot substituted for <bf>”\n",
      "Warning message in strwidth(newcolnames, cex = tl.cex):\n",
      "“conversion failure on 'Amparo_PERDIDA TOTAL POR DA�OS' in 'mbcsToSbcs': dot substituted for <bd>”\n",
      "Warning message in strwidth(newrownames, cex = tl.cex):\n",
      "“conversion failure on 'Amparo_PERDIDA PARCIAL POR DA�OS' in 'mbcsToSbcs': dot substituted for <ef>”\n",
      "Warning message in strwidth(newrownames, cex = tl.cex):\n",
      "“conversion failure on 'Amparo_PERDIDA PARCIAL POR DA�OS' in 'mbcsToSbcs': dot substituted for <bf>”\n",
      "Warning message in strwidth(newrownames, cex = tl.cex):\n",
      "“conversion failure on 'Amparo_PERDIDA PARCIAL POR DA�OS' in 'mbcsToSbcs': dot substituted for <bd>”\n",
      "Warning message in strwidth(newrownames, cex = tl.cex):\n",
      "“conversion failure on 'Amparo_PERDIDA TOTAL POR DA�OS' in 'mbcsToSbcs': dot substituted for <ef>”\n",
      "Warning message in strwidth(newrownames, cex = tl.cex):\n",
      "“conversion failure on 'Amparo_PERDIDA TOTAL POR DA�OS' in 'mbcsToSbcs': dot substituted for <bf>”\n",
      "Warning message in strwidth(newrownames, cex = tl.cex):\n",
      "“conversion failure on 'Amparo_PERDIDA TOTAL POR DA�OS' in 'mbcsToSbcs': dot substituted for <bd>”\n",
      "Warning message in strwidth(newcolnames, cex = tl.cex):\n",
      "“conversion failure on 'Amparo_PERDIDA PARCIAL POR DA�OS' in 'mbcsToSbcs': dot substituted for <ef>”\n",
      "Warning message in strwidth(newcolnames, cex = tl.cex):\n",
      "“conversion failure on 'Amparo_PERDIDA PARCIAL POR DA�OS' in 'mbcsToSbcs': dot substituted for <bf>”\n",
      "Warning message in strwidth(newcolnames, cex = tl.cex):\n",
      "“conversion failure on 'Amparo_PERDIDA PARCIAL POR DA�OS' in 'mbcsToSbcs': dot substituted for <bd>”\n",
      "Warning message in strwidth(newcolnames, cex = tl.cex):\n",
      "“conversion failure on 'Amparo_PERDIDA TOTAL POR DA�OS' in 'mbcsToSbcs': dot substituted for <ef>”\n",
      "Warning message in strwidth(newcolnames, cex = tl.cex):\n",
      "“conversion failure on 'Amparo_PERDIDA TOTAL POR DA�OS' in 'mbcsToSbcs': dot substituted for <bf>”\n",
      "Warning message in strwidth(newcolnames, cex = tl.cex):\n",
      "“conversion failure on 'Amparo_PERDIDA TOTAL POR DA�OS' in 'mbcsToSbcs': dot substituted for <bd>”\n",
      "Warning message in text.default(pos.xlabel[, 1], pos.xlabel[, 2], newcolnames, srt = tl.srt, :\n",
      "“conversion failure on 'Amparo_PERDIDA PARCIAL POR DA�OS' in 'mbcsToSbcs': dot substituted for <ef>”\n",
      "Warning message in text.default(pos.xlabel[, 1], pos.xlabel[, 2], newcolnames, srt = tl.srt, :\n",
      "“conversion failure on 'Amparo_PERDIDA PARCIAL POR DA�OS' in 'mbcsToSbcs': dot substituted for <bf>”\n",
      "Warning message in text.default(pos.xlabel[, 1], pos.xlabel[, 2], newcolnames, srt = tl.srt, :\n",
      "“conversion failure on 'Amparo_PERDIDA PARCIAL POR DA�OS' in 'mbcsToSbcs': dot substituted for <bd>”\n",
      "Warning message in text.default(pos.xlabel[, 1], pos.xlabel[, 2], newcolnames, srt = tl.srt, :\n",
      "“font metrics unknown for Unicode character U+fffd”\n",
      "Warning message in text.default(pos.xlabel[, 1], pos.xlabel[, 2], newcolnames, srt = tl.srt, :\n",
      "“conversion failure on 'Amparo_PERDIDA TOTAL POR DA�OS' in 'mbcsToSbcs': dot substituted for <ef>”\n",
      "Warning message in text.default(pos.xlabel[, 1], pos.xlabel[, 2], newcolnames, srt = tl.srt, :\n",
      "“conversion failure on 'Amparo_PERDIDA TOTAL POR DA�OS' in 'mbcsToSbcs': dot substituted for <bf>”\n",
      "Warning message in text.default(pos.xlabel[, 1], pos.xlabel[, 2], newcolnames, srt = tl.srt, :\n",
      "“conversion failure on 'Amparo_PERDIDA TOTAL POR DA�OS' in 'mbcsToSbcs': dot substituted for <bd>”\n",
      "Warning message in text.default(pos.xlabel[, 1], pos.xlabel[, 2], newcolnames, srt = tl.srt, :\n",
      "“font metrics unknown for Unicode character U+fffd”\n",
      "Warning message in text.default(pos.ylabel[, 1], pos.ylabel[, 2], newrownames, col = tl.col, :\n",
      "“conversion failure on 'Amparo_PERDIDA PARCIAL POR DA�OS' in 'mbcsToSbcs': dot substituted for <ef>”\n",
      "Warning message in text.default(pos.ylabel[, 1], pos.ylabel[, 2], newrownames, col = tl.col, :\n",
      "“conversion failure on 'Amparo_PERDIDA PARCIAL POR DA�OS' in 'mbcsToSbcs': dot substituted for <bf>”\n",
      "Warning message in text.default(pos.ylabel[, 1], pos.ylabel[, 2], newrownames, col = tl.col, :\n",
      "“conversion failure on 'Amparo_PERDIDA PARCIAL POR DA�OS' in 'mbcsToSbcs': dot substituted for <bd>”\n",
      "Warning message in text.default(pos.ylabel[, 1], pos.ylabel[, 2], newrownames, col = tl.col, :\n",
      "“conversion failure on 'Amparo_PERDIDA TOTAL POR DA�OS' in 'mbcsToSbcs': dot substituted for <ef>”\n",
      "Warning message in text.default(pos.ylabel[, 1], pos.ylabel[, 2], newrownames, col = tl.col, :\n",
      "“conversion failure on 'Amparo_PERDIDA TOTAL POR DA�OS' in 'mbcsToSbcs': dot substituted for <bf>”\n",
      "Warning message in text.default(pos.ylabel[, 1], pos.ylabel[, 2], newrownames, col = tl.col, :\n",
      "“conversion failure on 'Amparo_PERDIDA TOTAL POR DA�OS' in 'mbcsToSbcs': dot substituted for <bd>”\n"
     ]
    },
    {
     "data": {
      "image/png": "[encoded data removed]",
      "text/plain": [
       "Plot with title “”"
      ]
     },
     "metadata": {
      "image/png": {
       "height": 360,
       "width": 1080
      }
     },
     "output_type": "display_data"
    }
   ],
   "source": [
    "# Matriz de correlaciones\n",
    "cor_matrix <- cor(df_final)\n",
    "library(corrplot)\n",
    "corrplot(cor_matrix, method = \"color\", type = \"upper\", \n",
    "order = \"hclust\", tl.cex = 0.8, tl.col = \"black\")"
   ]
  },
  {
   "cell_type": "markdown",
   "metadata": {},
   "source": [
    "### Modelo"
   ]
  },
  {
   "cell_type": "code",
   "execution_count": 258,
   "metadata": {
    "vscode": {
     "languageId": "r"
    }
   },
   "outputs": [
    {
     "data": {
      "text/plain": [
       "   Min. 1st Qu.  Median    Mean 3rd Qu.    Max. \n",
       "   1993    2008    2010    2009    2012    2013 "
      ]
     },
     "metadata": {},
     "output_type": "display_data"
    },
    {
     "data": {
      "text/plain": [
       "\n",
       "1993 1995 1997 1998 1999 2000 2001 2002 2003 2004 2005 2006 2007 2008 2009 2010 \n",
       "   9   10    9   89   34   49   19   49   32   90  202  189  423  445  489  618 \n",
       "2011 2012 2013 \n",
       " 864 1177  203 "
      ]
     },
     "metadata": {},
     "output_type": "display_data"
    }
   ],
   "source": [
    "summary(df_input$Modelo)\n",
    "table(df_input$Modelo)"
   ]
  },
  {
   "cell_type": "markdown",
   "metadata": {},
   "source": [
    "accidentados:"
   ]
  },
  {
   "cell_type": "code",
   "execution_count": 259,
   "metadata": {
    "vscode": {
     "languageId": "r"
    }
   },
   "outputs": [
    {
     "data": {
      "text/plain": [
       "   Min. 1st Qu.  Median    Mean 3rd Qu.    Max. \n",
       "   1993    2007    2010    2009    2012    2013 "
      ]
     },
     "metadata": {},
     "output_type": "display_data"
    },
    {
     "data": {
      "text/plain": [
       "\n",
       "1993 1997 1998 1999 2000 2001 2002 2003 2004 2005 2006 2007 2008 2009 2010 2011 \n",
       "   2    1    9    3    6    3    5    3   11   27   17   44   43   55   71   75 \n",
       "2012 2013 \n",
       " 120   19 "
      ]
     },
     "metadata": {},
     "output_type": "display_data"
    }
   ],
   "source": [
    "df_modelo <- df_input[, c(\"Modelo\", \"SumaDePagos\")]\n",
    "df_modelo <- df_modelo[!(df_modelo$SumaDePagos < pago_minimo | is.na(df_modelo$SumaDePagos)), ]\n",
    "summary(df_modelo$Modelo)\n",
    "table(df_modelo$Modelo)"
   ]
  },
  {
   "cell_type": "markdown",
   "metadata": {},
   "source": [
    "### Color"
   ]
  },
  {
   "cell_type": "code",
   "execution_count": 260,
   "metadata": {
    "vscode": {
     "languageId": "r"
    }
   },
   "outputs": [
    {
     "data": {
      "text/plain": [
       "   Length     Class      Mode \n",
       "     5000 character character "
      ]
     },
     "metadata": {},
     "output_type": "display_data"
    },
    {
     "data": {
      "text/plain": [
       "\n",
       "       AMARILLO      ARENA FINA            AZUL           BEIGE          BLANCO \n",
       "            870               5             431              71             774 \n",
       "         BRONCE    BRONCE SUAVE            CAFE        CHAMPA�A          DORADO \n",
       "             18              15              11              49              24 \n",
       "           GRIS          MARRON         NARANJA           NEGRO             ORO \n",
       "            735               4               7             435              12 \n",
       "          PLATA        PLATEADO         PLATINO            ROJO TITANIO METALIC \n",
       "            902             107               6             384               3 \n",
       " UVA METALIZADO           VERDE      VINO TINTO       VINOTINTO         VIOLETA \n",
       "              2              92               7              26              10 "
      ]
     },
     "metadata": {},
     "output_type": "display_data"
    }
   ],
   "source": [
    "summary(df_input$Color)\n",
    "table(df_input$Color)"
   ]
  },
  {
   "cell_type": "markdown",
   "metadata": {},
   "source": [
    "Accidentados"
   ]
  },
  {
   "cell_type": "code",
   "execution_count": 261,
   "metadata": {
    "vscode": {
     "languageId": "r"
    }
   },
   "outputs": [
    {
     "data": {
      "text/plain": [
       "   Length     Class      Mode \n",
       "      514 character character "
      ]
     },
     "metadata": {},
     "output_type": "display_data"
    },
    {
     "data": {
      "text/plain": [
       "\n",
       "      AMARILLO           AZUL          BEIGE         BLANCO   BRONCE SUAVE \n",
       "            80             46              5             75              1 \n",
       "          CAFE       CHAMPA�A         DORADO           GRIS         MARRON \n",
       "             3              6              1             77              1 \n",
       "       NARANJA          NEGRO            ORO          PLATA       PLATEADO \n",
       "             2             44              2             97             10 \n",
       "       PLATINO           ROJO UVA METALIZADO          VERDE      VINOTINTO \n",
       "             2             45              1             13              3 "
      ]
     },
     "metadata": {},
     "output_type": "display_data"
    }
   ],
   "source": [
    "df_color <- df_input[, c(\"Color\", \"SumaDePagos\")]\n",
    "df_color <- df_color[!(df_color$SumaDePagos < pago_minimo | is.na(df_color$SumaDePagos)), ]\n",
    "summary(df_color$Color)\n",
    "table(df_color$Color)"
   ]
  },
  {
   "cell_type": "markdown",
   "metadata": {},
   "source": [
    "### Carroceria"
   ]
  },
  {
   "cell_type": "code",
   "execution_count": 262,
   "metadata": {
    "vscode": {
     "languageId": "r"
    }
   },
   "outputs": [
    {
     "data": {
      "text/plain": [
       "   Length     Class      Mode \n",
       "     5000 character character "
      ]
     },
     "metadata": {},
     "output_type": "display_data"
    },
    {
     "data": {
      "text/plain": [
       "\n",
       "                     -             BUS-BUSETA               CABINADO \n",
       "                     4                     37                    590 \n",
       "                 COUPE                ESTACAS                 FURGON \n",
       "                    80                     18                     54 \n",
       "             HATCHBACK               METALICA                  PANEL \n",
       "                  1794                     51                      7 \n",
       "PICK UP - DOBLE CABINA                 PLATON                  SEDAN \n",
       "                    25                      3                   2088 \n",
       "        SIN CARROCERIA              ST. WAGON       VAN DE PASAJEROS \n",
       "                     6                    213                     30 "
      ]
     },
     "metadata": {},
     "output_type": "display_data"
    }
   ],
   "source": [
    "summary(df_input$Carroceria)\n",
    "table(df_input$Carroceria)"
   ]
  },
  {
   "cell_type": "markdown",
   "metadata": {},
   "source": [
    "accidentados"
   ]
  },
  {
   "cell_type": "code",
   "execution_count": 263,
   "metadata": {
    "vscode": {
     "languageId": "r"
    }
   },
   "outputs": [
    {
     "data": {
      "text/plain": [
       "   Length     Class      Mode \n",
       "      514 character character "
      ]
     },
     "metadata": {},
     "output_type": "display_data"
    },
    {
     "data": {
      "text/plain": [
       "\n",
       "            BUS-BUSETA               CABINADO                  COUPE \n",
       "                     5                     71                      7 \n",
       "               ESTACAS                 FURGON              HATCHBACK \n",
       "                     1                      5                    187 \n",
       "              METALICA                  PANEL PICK UP - DOBLE CABINA \n",
       "                     6                      1                      3 \n",
       "                 SEDAN         SIN CARROCERIA              ST. WAGON \n",
       "                   198                      1                     24 \n",
       "      VAN DE PASAJEROS \n",
       "                     5 "
      ]
     },
     "metadata": {},
     "output_type": "display_data"
    }
   ],
   "source": [
    "df_Carroceria <- df_input[, c(\"Carroceria\", \"SumaDePagos\")]\n",
    "df_Carroceria <- df_Carroceria[!(df_Carroceria$SumaDePagos < pago_minimo | is.na(df_Carroceria$SumaDePagos)), ]\n",
    "summary(df_Carroceria$Carroceria)\n",
    "table(df_Carroceria$Carroceria)"
   ]
  },
  {
   "cell_type": "markdown",
   "metadata": {},
   "source": [
    "### Marca"
   ]
  },
  {
   "cell_type": "code",
   "execution_count": 264,
   "metadata": {
    "vscode": {
     "languageId": "r"
    }
   },
   "outputs": [
    {
     "data": {
      "text/plain": [
       "   Length     Class      Mode \n",
       "     5000 character character "
      ]
     },
     "metadata": {},
     "output_type": "display_data"
    },
    {
     "data": {
      "text/plain": [
       "\n",
       "HYUNDAI \n",
       "   5000 "
      ]
     },
     "metadata": {},
     "output_type": "display_data"
    }
   ],
   "source": [
    "summary(df_input$MARCA)\n",
    "table(df_input$MARCA)"
   ]
  },
  {
   "cell_type": "markdown",
   "metadata": {},
   "source": [
    "Accidentados"
   ]
  },
  {
   "cell_type": "code",
   "execution_count": 265,
   "metadata": {
    "vscode": {
     "languageId": "r"
    }
   },
   "outputs": [
    {
     "data": {
      "text/plain": [
       "   Length     Class      Mode \n",
       "      514 character character "
      ]
     },
     "metadata": {},
     "output_type": "display_data"
    },
    {
     "data": {
      "text/plain": [
       "\n",
       "HYUNDAI \n",
       "    514 "
      ]
     },
     "metadata": {},
     "output_type": "display_data"
    }
   ],
   "source": [
    "df_MARCA <- df_input[, c(\"MARCA\", \"SumaDePagos\")]\n",
    "df_MARCA <- df_MARCA[!(df_MARCA$SumaDePagos < pago_minimo | is.na(df_MARCA$SumaDePagos)), ]\n",
    "summary(df_MARCA$MARCA)\n",
    "table(df_MARCA$MARCA)"
   ]
  },
  {
   "cell_type": "markdown",
   "metadata": {},
   "source": [
    "A bueno"
   ]
  },
  {
   "cell_type": "markdown",
   "metadata": {},
   "source": [
    "### Referencia 1"
   ]
  },
  {
   "cell_type": "code",
   "execution_count": 266,
   "metadata": {
    "vscode": {
     "languageId": "r"
    }
   },
   "outputs": [
    {
     "data": {
      "text/plain": [
       "   Length     Class      Mode \n",
       "     5000 character character "
      ]
     },
     "metadata": {},
     "output_type": "display_data"
    },
    {
     "data": {
      "text/plain": [
       "\n",
       "                -            ACCENT       ACCENT GYRO        ACCENT i25 \n",
       "                4               147               157               344 \n",
       "     ACCENT VERNA     ACCENT VISION     ACCENT WEB II          ATOS [1] \n",
       "               58               522                46                11 \n",
       "    ATOS [1] [FL]          ATOS [2]           ELANTRA    ELANTRA AVANTE \n",
       "              134              1236                 9                29 \n",
       "       ELANTRA FL   ELANTRA SUPREME             EXCEL           GENESIS \n",
       "               56                51                 4                23 \n",
       "         GETZ [1]     GETZ [1] [FL]              H100                HD \n",
       "               27               390                19                70 \n",
       "              i10          i10 [FL]               i30           i30 [2] \n",
       "              425                80                13                 2 \n",
       "      i35 ELANTRA            PORTER      SANTA FE [1]      SANTA FE [2] \n",
       "              149                21                 2                65 \n",
       "SANTA FE [2] [FL]        SONATA i45        STAREX [1]        STAREX [2] \n",
       "               70                18                19                49 \n",
       "         TERRACAN       TIBURON [2]       TIBURON [3]            TUCSON \n",
       "               52                 3                13               250 \n",
       "     TUCSON IX 35          VELOSTER          VERACRUZ \n",
       "              379                36                17 "
      ]
     },
     "metadata": {},
     "output_type": "display_data"
    }
   ],
   "source": [
    "summary(df_input$Referencia1)\n",
    "table(df_input$Referencia1)"
   ]
  },
  {
   "cell_type": "code",
   "execution_count": 267,
   "metadata": {
    "vscode": {
     "languageId": "r"
    }
   },
   "outputs": [
    {
     "data": {
      "text/plain": [
       "   Length     Class      Mode \n",
       "      514 character character "
      ]
     },
     "metadata": {},
     "output_type": "display_data"
    },
    {
     "data": {
      "text/plain": [
       "\n",
       "           ACCENT       ACCENT GYRO        ACCENT i25      ACCENT VERNA \n",
       "               14                18                33                 7 \n",
       "    ACCENT VISION     ACCENT WEB II          ATOS [1]     ATOS [1] [FL] \n",
       "               52                 5                 2                17 \n",
       "         ATOS [2]           ELANTRA    ELANTRA AVANTE        ELANTRA FL \n",
       "              112                 2                 3                 7 \n",
       "  ELANTRA SUPREME             EXCEL           GENESIS          GETZ [1] \n",
       "                6                 1                 1                 6 \n",
       "    GETZ [1] [FL]              H100                HD               i10 \n",
       "               40                 1                 5                44 \n",
       "         i10 [FL]               i30       i35 ELANTRA            PORTER \n",
       "                6                 1                15                 2 \n",
       "     SANTA FE [2] SANTA FE [2] [FL]        SONATA i45        STAREX [1] \n",
       "                7                10                 1                 3 \n",
       "       STAREX [2]          TERRACAN       TIBURON [3]            TUCSON \n",
       "                8                 8                 2                31 \n",
       "     TUCSON IX 35          VELOSTER \n",
       "               40                 4 "
      ]
     },
     "metadata": {},
     "output_type": "display_data"
    }
   ],
   "source": [
    "df_Referencia1 <- df_input[, c(\"Referencia1\", \"SumaDePagos\")]\n",
    "df_Referencia1 <- df_Referencia1[!(df_Referencia1$SumaDePagos < pago_minimo | is.na(df_Referencia1$SumaDePagos)), ]\n",
    "summary(df_Referencia1$Referencia1)\n",
    "table(df_Referencia1$Referencia1)"
   ]
  },
  {
   "cell_type": "markdown",
   "metadata": {},
   "source": [
    "### Referencia 2"
   ]
  },
  {
   "cell_type": "code",
   "execution_count": 268,
   "metadata": {
    "vscode": {
     "languageId": "r"
    }
   },
   "outputs": [
    {
     "data": {
      "text/plain": [
       "   Length     Class      Mode \n",
       "     5000 character character "
      ]
     },
     "metadata": {},
     "output_type": "display_data"
    },
    {
     "data": {
      "text/plain": [
       "\n",
       "           1.1L            1.4L            1.6L            1.8L             120 \n",
       "             40             185             214              94               3 \n",
       "           2.0L       2.0L CRDI            2.4L             2.5              65 \n",
       "            282              75              40              19               5 \n",
       "            65C       65C [ASL]    65C-EURO III              72       72 BUSETA \n",
       "             17               8               1              11              16 \n",
       "         78C-E3       ADVENTURE  CITY TAXI PLUS           COUPE              FX \n",
       "              9               7              13              59              16 \n",
       "             GL  GL 3.5 V6 DOHC         GL CRDI          GL/GLS             GLS \n",
       "           1290              29              79             102             812 \n",
       "    GLS 2.5 TCI GLS 3.5 V6 DOHC        GLS CRDI          GLS XD              H1 \n",
       "             12              11               8               9              59 \n",
       "       H100 [2]   H100 [2][ASL]               L              LS            NEXT \n",
       "              9              12              38             120              12 \n",
       "          PANEL       PANEL GLS           PRIME         S. PONY      S. PONY GL \n",
       "              2               7             954              11               5 \n",
       "         SANTRO           SPORT \n",
       "            285              20 "
      ]
     },
     "metadata": {},
     "output_type": "display_data"
    }
   ],
   "source": [
    "summary(df_input$Referencia2)\n",
    "table(df_input$Referencia2)"
   ]
  },
  {
   "cell_type": "code",
   "execution_count": 269,
   "metadata": {
    "vscode": {
     "languageId": "r"
    }
   },
   "outputs": [
    {
     "data": {
      "text/plain": [
       "   Length     Class      Mode \n",
       "      514 character character "
      ]
     },
     "metadata": {},
     "output_type": "display_data"
    },
    {
     "data": {
      "text/plain": [
       "\n",
       "           1.1L            1.4L            1.6L            1.8L            2.0L \n",
       "              4              18              23               7              32 \n",
       "      2.0L CRDI            2.4L             2.5              65             65C \n",
       "              7               2               1               1               2 \n",
       "             72       72 BUSETA  CITY TAXI PLUS           COUPE              FX \n",
       "              1               1               2               5               2 \n",
       "             GL  GL 3.5 V6 DOHC         GL CRDI          GL/GLS             GLS \n",
       "            146               4               8              11              87 \n",
       "    GLS 2.5 TCI GLS 3.5 V6 DOHC        GLS CRDI          GLS XD              H1 \n",
       "              3               1               2               1              10 \n",
       "       H100 [2]               L              LS            NEXT       PANEL GLS \n",
       "              2               4              11               2               1 \n",
       "          PRIME         S. PONY          SANTRO \n",
       "             86               1              26 "
      ]
     },
     "metadata": {},
     "output_type": "display_data"
    }
   ],
   "source": [
    "df_Referencia2 <- df_input[, c(\"Referencia2\", \"SumaDePagos\")]\n",
    "df_Referencia2 <- df_Referencia2[!(df_Referencia2$SumaDePagos < pago_minimo | is.na(df_Referencia2$SumaDePagos)), ]\n",
    "summary(df_Referencia2$Referencia2)\n",
    "table(df_Referencia2$Referencia2)"
   ]
  },
  {
   "cell_type": "markdown",
   "metadata": {},
   "source": [
    "### Clase FASECOLDA"
   ]
  },
  {
   "cell_type": "code",
   "execution_count": null,
   "metadata": {
    "vscode": {
     "languageId": "r"
    }
   },
   "outputs": [],
   "source": []
  }
 ],
 "metadata": {
  "kernelspec": {
   "display_name": "R",
   "language": "R",
   "name": "ir"
  },
  "language_info": {
   "codemirror_mode": "r",
   "file_extension": ".r",
   "mimetype": "text/x-r-source",
   "name": "R",
   "pygments_lexer": "r",
   "version": "4.2.3"
  }
 },
 "nbformat": 4,
 "nbformat_minor": 2
}
