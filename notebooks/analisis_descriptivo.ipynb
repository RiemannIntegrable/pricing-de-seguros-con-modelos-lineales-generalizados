{
 "cells": [
  {
   "cell_type": "markdown",
   "metadata": {},
   "source": [
    "<div align = \"center\">\n",
    "\n",
    "# **Análisis Descriptivo**\n",
    "\n",
    "</div>"
   ]
  },
  {
   "cell_type": "markdown",
   "metadata": {},
   "source": [
    "## Librerias"
   ]
  },
  {
   "cell_type": "code",
   "execution_count": null,
   "metadata": {
    "vscode": {
     "languageId": "r"
    }
   },
   "outputs": [],
   "source": []
  },
  {
   "cell_type": "markdown",
   "metadata": {},
   "source": [
    "## Data"
   ]
  },
  {
   "cell_type": "code",
   "execution_count": 121,
   "metadata": {
    "vscode": {
     "languageId": "r"
    }
   },
   "outputs": [],
   "source": [
    "data <- read.csv(\"../data/processed/datos_limpios.csv\")"
   ]
  },
  {
   "cell_type": "code",
   "execution_count": 122,
   "metadata": {
    "vscode": {
     "languageId": "r"
    }
   },
   "outputs": [
    {
     "data": {
      "text/html": [
       "<style>\n",
       ".list-inline {list-style: none; margin:0; padding: 0}\n",
       ".list-inline>li {display: inline-block}\n",
       ".list-inline>li:not(:last-child)::after {content: \"\\00b7\"; padding: 0 .5ex}\n",
       "</style>\n",
       "<ol class=list-inline><li>'Amparo'</li><li>'SumaDePagos'</li><li>'Modelo'</li><li>'Color'</li><li>'Carroceria'</li><li>'Referencia1'</li><li>'Referencia2'</li><li>'CLASE_FASECOLDA'</li><li>'TIPO_VEHICULO'</li><li>'SERVICIO'</li><li>'Sexo_Aseg'</li><li>'Edad'</li><li>'Desde'</li><li>'Hasta'</li><li>'Vr_Comercial'</li><li>'Accidentado'</li><li>'exposicion'</li></ol>\n"
      ],
      "text/latex": [
       "\\begin{enumerate*}\n",
       "\\item 'Amparo'\n",
       "\\item 'SumaDePagos'\n",
       "\\item 'Modelo'\n",
       "\\item 'Color'\n",
       "\\item 'Carroceria'\n",
       "\\item 'Referencia1'\n",
       "\\item 'Referencia2'\n",
       "\\item 'CLASE\\_FASECOLDA'\n",
       "\\item 'TIPO\\_VEHICULO'\n",
       "\\item 'SERVICIO'\n",
       "\\item 'Sexo\\_Aseg'\n",
       "\\item 'Edad'\n",
       "\\item 'Desde'\n",
       "\\item 'Hasta'\n",
       "\\item 'Vr\\_Comercial'\n",
       "\\item 'Accidentado'\n",
       "\\item 'exposicion'\n",
       "\\end{enumerate*}\n"
      ],
      "text/markdown": [
       "1. 'Amparo'\n",
       "2. 'SumaDePagos'\n",
       "3. 'Modelo'\n",
       "4. 'Color'\n",
       "5. 'Carroceria'\n",
       "6. 'Referencia1'\n",
       "7. 'Referencia2'\n",
       "8. 'CLASE_FASECOLDA'\n",
       "9. 'TIPO_VEHICULO'\n",
       "10. 'SERVICIO'\n",
       "11. 'Sexo_Aseg'\n",
       "12. 'Edad'\n",
       "13. 'Desde'\n",
       "14. 'Hasta'\n",
       "15. 'Vr_Comercial'\n",
       "16. 'Accidentado'\n",
       "17. 'exposicion'\n",
       "\n",
       "\n"
      ],
      "text/plain": [
       " [1] \"Amparo\"          \"SumaDePagos\"     \"Modelo\"          \"Color\"          \n",
       " [5] \"Carroceria\"      \"Referencia1\"     \"Referencia2\"     \"CLASE_FASECOLDA\"\n",
       " [9] \"TIPO_VEHICULO\"   \"SERVICIO\"        \"Sexo_Aseg\"       \"Edad\"           \n",
       "[13] \"Desde\"           \"Hasta\"           \"Vr_Comercial\"    \"Accidentado\"    \n",
       "[17] \"exposicion\"     "
      ]
     },
     "metadata": {},
     "output_type": "display_data"
    }
   ],
   "source": [
    "colnames(data)"
   ]
  },
  {
   "cell_type": "markdown",
   "metadata": {},
   "source": [
    "## Exploracion de variables"
   ]
  },
  {
   "cell_type": "markdown",
   "metadata": {
    "vscode": {
     "languageId": "r"
    }
   },
   "source": [
    "### Amparo"
   ]
  },
  {
   "cell_type": "code",
   "execution_count": null,
   "metadata": {
    "vscode": {
     "languageId": "r"
    }
   },
   "outputs": [],
   "source": []
  }
 ],
 "metadata": {
  "language_info": {
   "name": "python"
  }
 },
 "nbformat": 4,
 "nbformat_minor": 2
}
