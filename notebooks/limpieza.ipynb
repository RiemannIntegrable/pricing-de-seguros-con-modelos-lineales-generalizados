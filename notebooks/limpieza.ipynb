{
 "cells": [
  {
   "cell_type": "markdown",
   "metadata": {},
   "source": [
    "<div align=\"center\">\n",
    "\n",
    "# **Limpieza**\n",
    "\n",
    "</div>"
   ]
  },
  {
   "cell_type": "markdown",
   "metadata": {},
   "source": [
    "## Librerias"
   ]
  },
  {
   "cell_type": "code",
   "execution_count": 303,
   "metadata": {
    "vscode": {
     "languageId": "r"
    }
   },
   "outputs": [],
   "source": [
    "library(dplyr)\n",
    "library(tidyr)\n",
    "source(\"../src/data/dividir_polizas_por_anio.R\")\n",
    "source(\"../src/data/ajustar_inflacion.R\")\n",
    "source(\"../src/data/Freedman_Diaconis.R\")"
   ]
  },
  {
   "cell_type": "markdown",
   "metadata": {},
   "source": [
    "## Data"
   ]
  },
  {
   "cell_type": "code",
   "execution_count": 304,
   "metadata": {
    "vscode": {
     "languageId": "r"
    }
   },
   "outputs": [
    {
     "data": {
      "text/html": [
       "<style>\n",
       ".list-inline {list-style: none; margin:0; padding: 0}\n",
       ".list-inline>li {display: inline-block}\n",
       ".list-inline>li:not(:last-child)::after {content: \"\\00b7\"; padding: 0 .5ex}\n",
       "</style>\n",
       "<ol class=list-inline><li>5000</li><li>18</li></ol>\n"
      ],
      "text/latex": [
       "\\begin{enumerate*}\n",
       "\\item 5000\n",
       "\\item 18\n",
       "\\end{enumerate*}\n"
      ],
      "text/markdown": [
       "1. 5000\n",
       "2. 18\n",
       "\n",
       "\n"
      ],
      "text/plain": [
       "[1] 5000   18"
      ]
     },
     "metadata": {},
     "output_type": "display_data"
    },
    {
     "name": "stdout",
     "output_type": "stream",
     "text": [
      "Rows: 5,000\n",
      "Columns: 18\n",
      "$ Amparo          \u001b[3m\u001b[90m<chr>\u001b[39m\u001b[23m NA, NA, NA, NA, NA, NA, NA, NA, NA, NA, NA, NA, \"PERDI…\n",
      "$ Amp             \u001b[3m\u001b[90m<chr>\u001b[39m\u001b[23m NA, NA, NA, NA, NA, NA, NA, NA, NA, NA, NA, NA, \"PPD\",…\n",
      "$ SumaDePagos     \u001b[3m\u001b[90m<dbl>\u001b[39m\u001b[23m NA, NA, NA, NA, NA, NA, NA, NA, NA, NA, NA, NA, 263295…\n",
      "$ Modelo          \u001b[3m\u001b[90m<int>\u001b[39m\u001b[23m 2013, 2010, 2012, 2008, 2008, 2007, 2012, 2007, 2010, …\n",
      "$ Color           \u001b[3m\u001b[90m<chr>\u001b[39m\u001b[23m \"ROJO\", \"PLATA\", \"PLATA\", \"BLANCO\", \"VINO TINTO\", \"PLA…\n",
      "$ Carroceria      \u001b[3m\u001b[90m<chr>\u001b[39m\u001b[23m \"SEDAN\", \"HATCHBACK\", \"SEDAN\", \"SEDAN\", \"SEDAN\", \"HATC…\n",
      "$ MARCA           \u001b[3m\u001b[90m<chr>\u001b[39m\u001b[23m \"HYUNDAI\", \"HYUNDAI\", \"HYUNDAI\", \"HYUNDAI\", \"HYUNDAI\",…\n",
      "$ Referencia1     \u001b[3m\u001b[90m<chr>\u001b[39m\u001b[23m \"VELOSTER\", \"ATOS [2]\", \"ACCENT i25\", \"ATOS [2]\", \"ACC…\n",
      "$ Referencia2     \u001b[3m\u001b[90m<chr>\u001b[39m\u001b[23m \"COUPE\", \"PRIME\", \"1.4L\", \"PRIME\", \"GLS\", \"SANTRO\", \"G…\n",
      "$ CLASE_FASECOLDA \u001b[3m\u001b[90m<chr>\u001b[39m\u001b[23m \"AUTOMOVIL\", \"AUTOMOVIL\", \"AUTOMOVIL\", \"AUTOMOVIL TAXI…\n",
      "$ TIPO_VEHICULO   \u001b[3m\u001b[90m<chr>\u001b[39m\u001b[23m \"Livianos\", \"Livianos\", \"Livianos\", \"Livianos\", \"Livia…\n",
      "$ SERVICIO        \u001b[3m\u001b[90m<chr>\u001b[39m\u001b[23m \"Particular\", \"Particular\", \"Particular\", \"Particular\"…\n",
      "$ Sexo_Aseg       \u001b[3m\u001b[90m<chr>\u001b[39m\u001b[23m \"F\", \"M\", \"F\", \"M\", \"F\", \"F\", \"F\", NA, \"F\", \"F\", \"M\", …\n",
      "$ Edad            \u001b[3m\u001b[90m<int>\u001b[39m\u001b[23m 34, 67, 32, 0, 53, 35, 65, 0, 44, 0, 50, 50, 36, 0, 35…\n",
      "$ Desde           \u001b[3m\u001b[90m<chr>\u001b[39m\u001b[23m \"2011-09-29\", \"2011-10-01\", \"2012-02-14\", \"2012-05-30\"…\n",
      "$ Hasta           \u001b[3m\u001b[90m<chr>\u001b[39m\u001b[23m \"2012-11-14\", \"2012-10-01\", \"2013-02-14\", \"2013-05-30\"…\n",
      "$ Vr_Comercial    \u001b[3m\u001b[90m<dbl>\u001b[39m\u001b[23m 56490000, 16400000, 34700000, 12300000, 23400000, 1600…\n",
      "$ Pago            \u001b[3m\u001b[90m<chr>\u001b[39m\u001b[23m \"No\", \"No\", \"No\", \"No\", \"No\", \"No\", \"No\", \"No\", \"No\", …\n"
     ]
    }
   ],
   "source": [
    "df_input <- read.csv(\"../data/input/Muestra_Siniestros_4.csv\")\n",
    "dim(df_input)\n",
    "glimpse(df_input)"
   ]
  },
  {
   "cell_type": "code",
   "execution_count": 305,
   "metadata": {
    "vscode": {
     "languageId": "r"
    }
   },
   "outputs": [
    {
     "data": {
      "text/html": [
       "'HYUNDAI'"
      ],
      "text/latex": [
       "'HYUNDAI'"
      ],
      "text/markdown": [
       "'HYUNDAI'"
      ],
      "text/plain": [
       "[1] \"HYUNDAI\""
      ]
     },
     "metadata": {},
     "output_type": "display_data"
    }
   ],
   "source": [
    "unique(df_input$MARCA)"
   ]
  },
  {
   "cell_type": "code",
   "execution_count": 306,
   "metadata": {
    "vscode": {
     "languageId": "r"
    }
   },
   "outputs": [
    {
     "data": {
      "text/html": [
       "5000"
      ],
      "text/latex": [
       "5000"
      ],
      "text/markdown": [
       "5000"
      ],
      "text/plain": [
       "[1] 5000"
      ]
     },
     "metadata": {},
     "output_type": "display_data"
    }
   ],
   "source": [
    "nrow(df_input)"
   ]
  },
  {
   "cell_type": "code",
   "execution_count": 307,
   "metadata": {
    "vscode": {
     "languageId": "r"
    }
   },
   "outputs": [
    {
     "data": {
      "text/html": [
       "<style>\n",
       ".dl-inline {width: auto; margin:0; padding: 0}\n",
       ".dl-inline>dt, .dl-inline>dd {float: none; width: auto; display: inline-block}\n",
       ".dl-inline>dt::after {content: \":\\0020\"; padding-right: .5ex}\n",
       ".dl-inline>dt:not(:first-of-type) {padding-left: .5ex}\n",
       "</style><dl class=dl-inline><dt>Amparo</dt><dd>4320</dd><dt>Amp</dt><dd>4320</dd><dt>SumaDePagos</dt><dd>4320</dd><dt>Modelo</dt><dd>0</dd><dt>Color</dt><dd>0</dd><dt>Carroceria</dt><dd>0</dd><dt>MARCA</dt><dd>0</dd><dt>Referencia1</dt><dd>0</dd><dt>Referencia2</dt><dd>0</dd><dt>CLASE_FASECOLDA</dt><dd>0</dd><dt>TIPO_VEHICULO</dt><dd>0</dd><dt>SERVICIO</dt><dd>0</dd><dt>Sexo_Aseg</dt><dd>625</dd><dt>Edad</dt><dd>0</dd><dt>Desde</dt><dd>0</dd><dt>Hasta</dt><dd>0</dd><dt>Vr_Comercial</dt><dd>0</dd><dt>Pago</dt><dd>0</dd></dl>\n"
      ],
      "text/latex": [
       "\\begin{description*}\n",
       "\\item[Amparo] 4320\n",
       "\\item[Amp] 4320\n",
       "\\item[SumaDePagos] 4320\n",
       "\\item[Modelo] 0\n",
       "\\item[Color] 0\n",
       "\\item[Carroceria] 0\n",
       "\\item[MARCA] 0\n",
       "\\item[Referencia1] 0\n",
       "\\item[Referencia2] 0\n",
       "\\item[CLASE\\textbackslash{}\\_FASECOLDA] 0\n",
       "\\item[TIPO\\textbackslash{}\\_VEHICULO] 0\n",
       "\\item[SERVICIO] 0\n",
       "\\item[Sexo\\textbackslash{}\\_Aseg] 625\n",
       "\\item[Edad] 0\n",
       "\\item[Desde] 0\n",
       "\\item[Hasta] 0\n",
       "\\item[Vr\\textbackslash{}\\_Comercial] 0\n",
       "\\item[Pago] 0\n",
       "\\end{description*}\n"
      ],
      "text/markdown": [
       "Amparo\n",
       ":   4320Amp\n",
       ":   4320SumaDePagos\n",
       ":   4320Modelo\n",
       ":   0Color\n",
       ":   0Carroceria\n",
       ":   0MARCA\n",
       ":   0Referencia1\n",
       ":   0Referencia2\n",
       ":   0CLASE_FASECOLDA\n",
       ":   0TIPO_VEHICULO\n",
       ":   0SERVICIO\n",
       ":   0Sexo_Aseg\n",
       ":   625Edad\n",
       ":   0Desde\n",
       ":   0Hasta\n",
       ":   0Vr_Comercial\n",
       ":   0Pago\n",
       ":   0\n",
       "\n"
      ],
      "text/plain": [
       "         Amparo             Amp     SumaDePagos          Modelo           Color \n",
       "           4320            4320            4320               0               0 \n",
       "     Carroceria           MARCA     Referencia1     Referencia2 CLASE_FASECOLDA \n",
       "              0               0               0               0               0 \n",
       "  TIPO_VEHICULO        SERVICIO       Sexo_Aseg            Edad           Desde \n",
       "              0               0             625               0               0 \n",
       "          Hasta    Vr_Comercial            Pago \n",
       "              0               0               0 "
      ]
     },
     "metadata": {},
     "output_type": "display_data"
    }
   ],
   "source": [
    "colSums(is.na(df_input))"
   ]
  },
  {
   "cell_type": "markdown",
   "metadata": {},
   "source": [
    "## Preparacion de los datos"
   ]
  },
  {
   "cell_type": "markdown",
   "metadata": {},
   "source": [
    "Nombres de variables"
   ]
  },
  {
   "cell_type": "code",
   "execution_count": 308,
   "metadata": {
    "vscode": {
     "languageId": "r"
    }
   },
   "outputs": [],
   "source": [
    "df_input$Color <- gsub(\"CHAMPA�A\", \"CHAMPAÑA\", df_input$Color)\n",
    "df_input$Amparo <- gsub(\"DA�OS\", \"DAÑOS\", df_input$Amparo)"
   ]
  },
  {
   "cell_type": "markdown",
   "metadata": {},
   "source": [
    "Nulos en Amp"
   ]
  },
  {
   "cell_type": "code",
   "execution_count": 309,
   "metadata": {
    "vscode": {
     "languageId": "r"
    }
   },
   "outputs": [],
   "source": [
    "df_input <- df_input %>%\n",
    "  mutate(\n",
    "    # Convertir NA a \"No aplica\"\n",
    "    Amparo = ifelse(is.na(Amparo), \"No aplica\", Amparo),\n",
    "    Amp = ifelse(is.na(Amp), \"No aplica\", Amp)\n",
    "    )"
   ]
  },
  {
   "cell_type": "markdown",
   "metadata": {},
   "source": [
    "Nulos en SumaDePagos"
   ]
  },
  {
   "cell_type": "code",
   "execution_count": 310,
   "metadata": {
    "vscode": {
     "languageId": "r"
    }
   },
   "outputs": [
    {
     "data": {
      "text/html": [
       "<style>\n",
       ".list-inline {list-style: none; margin:0; padding: 0}\n",
       ".list-inline>li {display: inline-block}\n",
       ".list-inline>li:not(:last-child)::after {content: \"\\00b7\"; padding: 0 .5ex}\n",
       "</style>\n",
       "<ol class=list-inline><li>0</li><li>26248</li><li>60000</li><li>69257</li><li>70000</li><li>80000</li></ol>\n"
      ],
      "text/latex": [
       "\\begin{enumerate*}\n",
       "\\item 0\n",
       "\\item 26248\n",
       "\\item 60000\n",
       "\\item 69257\n",
       "\\item 70000\n",
       "\\item 80000\n",
       "\\end{enumerate*}\n"
      ],
      "text/markdown": [
       "1. 0\n",
       "2. 26248\n",
       "3. 60000\n",
       "4. 69257\n",
       "5. 70000\n",
       "6. 80000\n",
       "\n",
       "\n"
      ],
      "text/plain": [
       "[1]     0 26248 60000 69257 70000 80000"
      ]
     },
     "metadata": {},
     "output_type": "display_data"
    }
   ],
   "source": [
    "head(sort(unique(df_input$SumaDePagos)))"
   ]
  },
  {
   "cell_type": "code",
   "execution_count": 311,
   "metadata": {
    "vscode": {
     "languageId": "r"
    }
   },
   "outputs": [],
   "source": [
    "pago_minimo <- 100000\n",
    "df_input <- df_input %>% mutate(\n",
    "    SumaDePagos = case_when(\n",
    "      is.na(SumaDePagos) ~ 0,\n",
    "      SumaDePagos < pago_minimo ~ 0,\n",
    "      TRUE ~ SumaDePagos)\n",
    ")\n",
    "\n",
    "df_input <- df_input %>% mutate(\n",
    "  Accidentado = ifelse(SumaDePagos >= pago_minimo, 1, 0)\n",
    ")"
   ]
  },
  {
   "cell_type": "markdown",
   "metadata": {},
   "source": [
    "El pago minimo se escogio como el valor de un espejo en 2015"
   ]
  },
  {
   "cell_type": "markdown",
   "metadata": {},
   "source": [
    "Nulos en genero"
   ]
  },
  {
   "cell_type": "code",
   "execution_count": 312,
   "metadata": {
    "vscode": {
     "languageId": "r"
    }
   },
   "outputs": [],
   "source": [
    "df_input <- df_input %>% mutate(\n",
    "    Sexo_Aseg = ifelse(is.na(Sexo_Aseg), \"No aplica\", Sexo_Aseg)\n",
    ")"
   ]
  },
  {
   "cell_type": "code",
   "execution_count": 313,
   "metadata": {
    "vscode": {
     "languageId": "r"
    }
   },
   "outputs": [
    {
     "data": {
      "text/html": [
       "0.125"
      ],
      "text/latex": [
       "0.125"
      ],
      "text/markdown": [
       "0.125"
      ],
      "text/plain": [
       "[1] 0.125"
      ]
     },
     "metadata": {},
     "output_type": "display_data"
    }
   ],
   "source": [
    "nrow(df_input[(df_input$Sexo_Aseg == \"No aplica\"), ])/nrow(df_input)"
   ]
  },
  {
   "cell_type": "code",
   "execution_count": 314,
   "metadata": {
    "vscode": {
     "languageId": "r"
    }
   },
   "outputs": [],
   "source": [
    "df_input <- df_input[(df_input$Sexo_Aseg != \"No aplica\"), ]"
   ]
  },
  {
   "cell_type": "markdown",
   "metadata": {},
   "source": [
    "Segmentando por año"
   ]
  },
  {
   "cell_type": "code",
   "execution_count": 315,
   "metadata": {
    "vscode": {
     "languageId": "r"
    }
   },
   "outputs": [],
   "source": [
    "df_input <- dividir_polizas_por_anio(df_input)"
   ]
  },
  {
   "cell_type": "markdown",
   "metadata": {},
   "source": [
    "Calculo de exposicion"
   ]
  },
  {
   "cell_type": "code",
   "execution_count": 316,
   "metadata": {
    "vscode": {
     "languageId": "r"
    }
   },
   "outputs": [],
   "source": [
    "df_input$exposicion <- as.numeric(df_input$Hasta - df_input$Desde) + 1"
   ]
  },
  {
   "cell_type": "markdown",
   "metadata": {},
   "source": [
    "Ajustando a inflacion de 2015"
   ]
  },
  {
   "cell_type": "code",
   "execution_count": 317,
   "metadata": {
    "vscode": {
     "languageId": "r"
    }
   },
   "outputs": [
    {
     "data": {
      "text/html": [
       "<time datetime=\"2015-02-21\">2015-02-21</time>"
      ],
      "text/latex": [
       "2015-02-21"
      ],
      "text/markdown": [
       "2015-02-21"
      ],
      "text/plain": [
       "[1] \"2015-02-21\""
      ]
     },
     "metadata": {},
     "output_type": "display_data"
    }
   ],
   "source": [
    "max(df_input$Hasta)"
   ]
  },
  {
   "cell_type": "code",
   "execution_count": 318,
   "metadata": {
    "vscode": {
     "languageId": "r"
    }
   },
   "outputs": [],
   "source": [
    "df_input <- ajustar_inflacion_2015(df_input)"
   ]
  },
  {
   "cell_type": "markdown",
   "metadata": {},
   "source": [
    "Llevamos todo a los mismo valores presentes ajustando la inflacion."
   ]
  },
  {
   "cell_type": "markdown",
   "metadata": {},
   "source": [
    "Variables que sobran"
   ]
  },
  {
   "cell_type": "code",
   "execution_count": 319,
   "metadata": {
    "vscode": {
     "languageId": "r"
    }
   },
   "outputs": [],
   "source": [
    "df_input[c(\"Amp\", \"MARCA\")] <- NULL"
   ]
  },
  {
   "cell_type": "markdown",
   "metadata": {},
   "source": [
    "Ajustando valor comercial"
   ]
  },
  {
   "cell_type": "code",
   "execution_count": 320,
   "metadata": {
    "vscode": {
     "languageId": "r"
    }
   },
   "outputs": [],
   "source": [
    "vr_minimo <- 4000000\n",
    "df_input <- df_input[(df_input$Vr_Comercial > vr_minimo), ]"
   ]
  },
  {
   "cell_type": "markdown",
   "metadata": {},
   "source": [
    "El valor comercial minimo se escogio como el valor de un carro hyundai Excel en 2015"
   ]
  },
  {
   "cell_type": "markdown",
   "metadata": {
    "vscode": {
     "languageId": "r"
    }
   },
   "source": [
    "Ajustando edad"
   ]
  },
  {
   "cell_type": "code",
   "execution_count": 321,
   "metadata": {
    "vscode": {
     "languageId": "r"
    }
   },
   "outputs": [],
   "source": [
    "edad_minima <- 18\n",
    "edad_maxima <- 90\n",
    "\n",
    "df_input <- df_input[(df_input$Edad >= edad_minima & df_input$Edad <= edad_maxima), ]"
   ]
  },
  {
   "cell_type": "code",
   "execution_count": 322,
   "metadata": {
    "vscode": {
     "languageId": "r"
    }
   },
   "outputs": [],
   "source": [
    "df_input$mes <- as.numeric(format(as.Date(df_input$Hasta), \"%m\"))\n",
    "\n",
    "df_input$Desde <- NULL\n",
    "df_input$Hasta <- NULL"
   ]
  },
  {
   "cell_type": "code",
   "execution_count": 323,
   "metadata": {
    "vscode": {
     "languageId": "r"
    }
   },
   "outputs": [
    {
     "name": "stdout",
     "output_type": "stream",
     "text": [
      "[1] \"Columnas disponibles:\"\n",
      " [1] \"Amparo\"          \"SumaDePagos\"     \"Modelo\"          \"Color\"          \n",
      " [5] \"Carroceria\"      \"Referencia1\"     \"Referencia2\"     \"CLASE_FASECOLDA\"\n",
      " [9] \"TIPO_VEHICULO\"   \"SERVICIO\"        \"Sexo_Aseg\"       \"Edad\"           \n",
      "[13] \"Vr_Comercial\"    \"Pago\"            \"Accidentado\"     \"exposicion\"     \n",
      "[17] \"mes\"            \n",
      "[1] \"¿Existe la columna Edad?\"\n",
      "[1] TRUE\n",
      "[1] \"Tipo de datos de Edad:\"\n",
      "[1] \"integer\"\n"
     ]
    }
   ],
   "source": [
    "print(\"Columnas disponibles:\")\n",
    "print(colnames(df_input))\n",
    "print(\"¿Existe la columna Edad?\")\n",
    "print(\"Edad\" %in% colnames(df_input))\n",
    "if(\"Edad\" %in% colnames(df_input)) {\n",
    "  print(\"Tipo de datos de Edad:\")\n",
    "  print(class(df_input$Edad))\n",
    "}"
   ]
  },
  {
   "cell_type": "code",
   "execution_count": 324,
   "metadata": {
    "vscode": {
     "languageId": "r"
    }
   },
   "outputs": [
    {
     "name": "stdout",
     "output_type": "stream",
     "text": [
      "[1] \"Conversión exitosa. Edad es ahora:\"\n",
      "[1] \"numeric\"\n",
      "[1] \"Resumen de la columna Edad:\"\n",
      "   Min. 1st Qu.  Median    Mean 3rd Qu.    Max. \n",
      "  19.00   36.00   44.00   45.46   53.00   85.00 \n"
     ]
    }
   ],
   "source": [
    "if(\"Edad\" %in% colnames(df_input)) {\n",
    "  df_input$Edad <- as.numeric(df_input$Edad)\n",
    "  print(\"Conversión exitosa. Edad es ahora:\")\n",
    "  print(class(df_input$Edad))\n",
    "  print(\"Resumen de la columna Edad:\")\n",
    "  print(summary(df_input$Edad))\n",
    "} else {\n",
    "  print(\"ERROR: La columna Edad no existe en el dataframe.\")\n",
    "  print(\"Parece que ya fue eliminada en algún punto anterior.\")\n",
    "}"
   ]
  },
  {
   "cell_type": "code",
   "execution_count": 325,
   "metadata": {
    "vscode": {
     "languageId": "r"
    }
   },
   "outputs": [
    {
     "name": "stdout",
     "output_type": "stream",
     "text": [
      "[1] \"Resumen de categorías:\"\n",
      "categories\n",
      "Edad_19_41 Edad_41_63 Edad_63_85 \n",
      "      2728       3448        574 \n",
      "[1] \"Puntos de corte:\"\n",
      "[1] 18.999 41.000 63.000 85.001\n",
      "[1] \"Nombres de las categorías:\"\n",
      "[1] \"Edad_19_41\" \"Edad_41_63\" \"Edad_63_85\"\n",
      "[1] \"Segmentación de edad completada y columna Edad eliminada.\"\n"
     ]
    }
   ],
   "source": [
    "if(\"Edad\" %in% colnames(df_input)) {\n",
    "  resultado_fd <- Freedman_Diaconis(df_input$Edad, n_categories = 3)\n",
    "\n",
    "  print(\"Resumen de categorías:\")\n",
    "  print(resultado_fd$summary)\n",
    "\n",
    "  print(\"Puntos de corte:\")\n",
    "  print(resultado_fd$breaks)\n",
    "\n",
    "  print(\"Nombres de las categorías:\")\n",
    "  print(resultado_fd$category_labels)\n",
    "\n",
    "  for (i in 1:length(resultado_fd$category_labels)) {\n",
    "    category_name <- resultado_fd$category_labels[i]\n",
    "    df_input[[category_name]] <- as.numeric(resultado_fd$categories == category_name)\n",
    "  }\n",
    "\n",
    "  df_input$Edad <- NULL\n",
    "  print(\"Segmentación de edad completada y columna Edad eliminada.\")\n",
    "} else {\n",
    "  print(\"No se puede aplicar Freedman-Diaconis: la columna Edad no existe.\")\n",
    "  print(\"Verifique si ya fue procesada anteriormente.\")\n",
    "}"
   ]
  },
  {
   "cell_type": "markdown",
   "metadata": {},
   "source": [
    "Aplicando Freedman-Diaconis para segmentar edad"
   ]
  },
  {
   "cell_type": "markdown",
   "metadata": {},
   "source": [
    "Resultados"
   ]
  },
  {
   "cell_type": "code",
   "execution_count": 326,
   "metadata": {
    "vscode": {
     "languageId": "r"
    }
   },
   "outputs": [
    {
     "data": {
      "text/html": [
       "<style>\n",
       ".dl-inline {width: auto; margin:0; padding: 0}\n",
       ".dl-inline>dt, .dl-inline>dd {float: none; width: auto; display: inline-block}\n",
       ".dl-inline>dt::after {content: \":\\0020\"; padding-right: .5ex}\n",
       ".dl-inline>dt:not(:first-of-type) {padding-left: .5ex}\n",
       "</style><dl class=dl-inline><dt>Amparo</dt><dd>0</dd><dt>SumaDePagos</dt><dd>0</dd><dt>Modelo</dt><dd>0</dd><dt>Color</dt><dd>0</dd><dt>Carroceria</dt><dd>0</dd><dt>Referencia1</dt><dd>0</dd><dt>Referencia2</dt><dd>0</dd><dt>CLASE_FASECOLDA</dt><dd>0</dd><dt>TIPO_VEHICULO</dt><dd>0</dd><dt>SERVICIO</dt><dd>0</dd><dt>Sexo_Aseg</dt><dd>0</dd><dt>Vr_Comercial</dt><dd>0</dd><dt>Pago</dt><dd>0</dd><dt>Accidentado</dt><dd>0</dd><dt>exposicion</dt><dd>0</dd><dt>mes</dt><dd>0</dd><dt>Edad_19_41</dt><dd>0</dd><dt>Edad_41_63</dt><dd>0</dd><dt>Edad_63_85</dt><dd>0</dd></dl>\n"
      ],
      "text/latex": [
       "\\begin{description*}\n",
       "\\item[Amparo] 0\n",
       "\\item[SumaDePagos] 0\n",
       "\\item[Modelo] 0\n",
       "\\item[Color] 0\n",
       "\\item[Carroceria] 0\n",
       "\\item[Referencia1] 0\n",
       "\\item[Referencia2] 0\n",
       "\\item[CLASE\\textbackslash{}\\_FASECOLDA] 0\n",
       "\\item[TIPO\\textbackslash{}\\_VEHICULO] 0\n",
       "\\item[SERVICIO] 0\n",
       "\\item[Sexo\\textbackslash{}\\_Aseg] 0\n",
       "\\item[Vr\\textbackslash{}\\_Comercial] 0\n",
       "\\item[Pago] 0\n",
       "\\item[Accidentado] 0\n",
       "\\item[exposicion] 0\n",
       "\\item[mes] 0\n",
       "\\item[Edad\\textbackslash{}\\_19\\textbackslash{}\\_41] 0\n",
       "\\item[Edad\\textbackslash{}\\_41\\textbackslash{}\\_63] 0\n",
       "\\item[Edad\\textbackslash{}\\_63\\textbackslash{}\\_85] 0\n",
       "\\end{description*}\n"
      ],
      "text/markdown": [
       "Amparo\n",
       ":   0SumaDePagos\n",
       ":   0Modelo\n",
       ":   0Color\n",
       ":   0Carroceria\n",
       ":   0Referencia1\n",
       ":   0Referencia2\n",
       ":   0CLASE_FASECOLDA\n",
       ":   0TIPO_VEHICULO\n",
       ":   0SERVICIO\n",
       ":   0Sexo_Aseg\n",
       ":   0Vr_Comercial\n",
       ":   0Pago\n",
       ":   0Accidentado\n",
       ":   0exposicion\n",
       ":   0mes\n",
       ":   0Edad_19_41\n",
       ":   0Edad_41_63\n",
       ":   0Edad_63_85\n",
       ":   0\n",
       "\n"
      ],
      "text/plain": [
       "         Amparo     SumaDePagos          Modelo           Color      Carroceria \n",
       "              0               0               0               0               0 \n",
       "    Referencia1     Referencia2 CLASE_FASECOLDA   TIPO_VEHICULO        SERVICIO \n",
       "              0               0               0               0               0 \n",
       "      Sexo_Aseg    Vr_Comercial            Pago     Accidentado      exposicion \n",
       "              0               0               0               0               0 \n",
       "            mes      Edad_19_41      Edad_41_63      Edad_63_85 \n",
       "              0               0               0               0 "
      ]
     },
     "metadata": {},
     "output_type": "display_data"
    }
   ],
   "source": [
    "colSums(is.na(df_input))"
   ]
  },
  {
   "cell_type": "code",
   "execution_count": 327,
   "metadata": {
    "vscode": {
     "languageId": "r"
    }
   },
   "outputs": [
    {
     "data": {
      "text/plain": [
       "    Amparo           SumaDePagos           Modelo        Color          \n",
       " Length:6750        Min.   :       0   Min.   :1993   Length:6750       \n",
       " Class :character   1st Qu.:       0   1st Qu.:2008   Class :character  \n",
       " Mode  :character   Median :       0   Median :2010   Mode  :character  \n",
       "                    Mean   :  281823   Mean   :2009                     \n",
       "                    3rd Qu.:       0   3rd Qu.:2012                     \n",
       "                    Max.   :35206209   Max.   :2013                     \n",
       "  Carroceria        Referencia1        Referencia2        CLASE_FASECOLDA   \n",
       " Length:6750        Length:6750        Length:6750        Length:6750       \n",
       " Class :character   Class :character   Class :character   Class :character  \n",
       " Mode  :character   Mode  :character   Mode  :character   Mode  :character  \n",
       "                                                                            \n",
       "                                                                            \n",
       "                                                                            \n",
       " TIPO_VEHICULO        SERVICIO          Sexo_Aseg          Vr_Comercial      \n",
       " Length:6750        Length:6750        Length:6750        Min.   :  6234589  \n",
       " Class :character   Class :character   Class :character   1st Qu.: 17435716  \n",
       " Mode  :character   Mode  :character   Mode  :character   Median : 24393997  \n",
       "                                                          Mean   : 29510042  \n",
       "                                                          3rd Qu.: 36913037  \n",
       "                                                          Max.   :128492010  \n",
       "     Pago            Accidentado       exposicion       mes        \n",
       " Length:6750        Min.   :0.0000   Min.   :  1   Min.   : 1.000  \n",
       " Class :character   1st Qu.:0.0000   1st Qu.: 92   1st Qu.: 7.000  \n",
       " Mode  :character   Median :0.0000   Median :180   Median :12.000  \n",
       "                    Mean   :0.1012   Mean   :181   Mean   : 9.212  \n",
       "                    3rd Qu.:0.0000   3rd Qu.:269   3rd Qu.:12.000  \n",
       "                    Max.   :1.0000   Max.   :366   Max.   :12.000  \n",
       "   Edad_19_41       Edad_41_63       Edad_63_85     \n",
       " Min.   :0.0000   Min.   :0.0000   Min.   :0.00000  \n",
       " 1st Qu.:0.0000   1st Qu.:0.0000   1st Qu.:0.00000  \n",
       " Median :0.0000   Median :1.0000   Median :0.00000  \n",
       " Mean   :0.4041   Mean   :0.5108   Mean   :0.08504  \n",
       " 3rd Qu.:1.0000   3rd Qu.:1.0000   3rd Qu.:0.00000  \n",
       " Max.   :1.0000   Max.   :1.0000   Max.   :1.00000  "
      ]
     },
     "metadata": {},
     "output_type": "display_data"
    }
   ],
   "source": [
    "summary(df_input)"
   ]
  },
  {
   "cell_type": "markdown",
   "metadata": {},
   "source": [
    "Exportando los resultados"
   ]
  },
  {
   "cell_type": "code",
   "execution_count": 328,
   "metadata": {
    "vscode": {
     "languageId": "r"
    }
   },
   "outputs": [],
   "source": [
    "write.csv(df_input, \"../data/processed/datos_limpios.csv\", row.names = FALSE)"
   ]
  }
 ],
 "metadata": {
  "kernelspec": {
   "display_name": "R",
   "language": "R",
   "name": "ir"
  },
  "language_info": {
   "codemirror_mode": "r",
   "file_extension": ".r",
   "mimetype": "text/x-r-source",
   "name": "R",
   "pygments_lexer": "r",
   "version": "4.2.3"
  }
 },
 "nbformat": 4,
 "nbformat_minor": 2
}
