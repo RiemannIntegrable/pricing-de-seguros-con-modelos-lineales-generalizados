{
 "cells": [
  {
   "cell_type": "markdown",
   "metadata": {},
   "source": [
    "<div align=\"center\">\n",
    "\n",
    "# **Limpieza**\n",
    "\n",
    "</div>"
   ]
  },
  {
   "cell_type": "markdown",
   "metadata": {},
   "source": [
    "## Librerias"
   ]
  },
  {
   "cell_type": "code",
   "execution_count": 58,
   "metadata": {
    "vscode": {
     "languageId": "r"
    }
   },
   "outputs": [],
   "source": [
    "library(dplyr)\n",
    "library(tidyr)\n",
    "source(\"../src/data/dividir_polizas_por_anio.R\")\n",
    "source(\"../src/data/ajustar_inflacion.R\")"
   ]
  },
  {
   "cell_type": "markdown",
   "metadata": {},
   "source": [
    "## Data"
   ]
  },
  {
   "cell_type": "code",
   "execution_count": 59,
   "metadata": {
    "vscode": {
     "languageId": "r"
    }
   },
   "outputs": [
    {
     "data": {
      "text/html": [
       "<style>\n",
       ".list-inline {list-style: none; margin:0; padding: 0}\n",
       ".list-inline>li {display: inline-block}\n",
       ".list-inline>li:not(:last-child)::after {content: \"\\00b7\"; padding: 0 .5ex}\n",
       "</style>\n",
       "<ol class=list-inline><li>5000</li><li>18</li></ol>\n"
      ],
      "text/latex": [
       "\\begin{enumerate*}\n",
       "\\item 5000\n",
       "\\item 18\n",
       "\\end{enumerate*}\n"
      ],
      "text/markdown": [
       "1. 5000\n",
       "2. 18\n",
       "\n",
       "\n"
      ],
      "text/plain": [
       "[1] 5000   18"
      ]
     },
     "metadata": {},
     "output_type": "display_data"
    },
    {
     "name": "stdout",
     "output_type": "stream",
     "text": [
      "Rows: 5,000\n",
      "Columns: 18\n",
      "$ Amparo          \u001b[3m\u001b[90m<chr>\u001b[39m\u001b[23m NA, NA, NA, NA, NA, NA, NA, NA, NA, NA, NA, NA, \"PERDI…\n",
      "$ Amp             \u001b[3m\u001b[90m<chr>\u001b[39m\u001b[23m NA, NA, NA, NA, NA, NA, NA, NA, NA, NA, NA, NA, \"PPD\",…\n",
      "$ SumaDePagos     \u001b[3m\u001b[90m<dbl>\u001b[39m\u001b[23m NA, NA, NA, NA, NA, NA, NA, NA, NA, NA, NA, NA, 263295…\n",
      "$ Modelo          \u001b[3m\u001b[90m<int>\u001b[39m\u001b[23m 2013, 2010, 2012, 2008, 2008, 2007, 2012, 2007, 2010, …\n",
      "$ Color           \u001b[3m\u001b[90m<chr>\u001b[39m\u001b[23m \"ROJO\", \"PLATA\", \"PLATA\", \"BLANCO\", \"VINO TINTO\", \"PLA…\n",
      "$ Carroceria      \u001b[3m\u001b[90m<chr>\u001b[39m\u001b[23m \"SEDAN\", \"HATCHBACK\", \"SEDAN\", \"SEDAN\", \"SEDAN\", \"HATC…\n",
      "$ MARCA           \u001b[3m\u001b[90m<chr>\u001b[39m\u001b[23m \"HYUNDAI\", \"HYUNDAI\", \"HYUNDAI\", \"HYUNDAI\", \"HYUNDAI\",…\n",
      "$ Referencia1     \u001b[3m\u001b[90m<chr>\u001b[39m\u001b[23m \"VELOSTER\", \"ATOS [2]\", \"ACCENT i25\", \"ATOS [2]\", \"ACC…\n",
      "$ Referencia2     \u001b[3m\u001b[90m<chr>\u001b[39m\u001b[23m \"COUPE\", \"PRIME\", \"1.4L\", \"PRIME\", \"GLS\", \"SANTRO\", \"G…\n",
      "$ CLASE_FASECOLDA \u001b[3m\u001b[90m<chr>\u001b[39m\u001b[23m \"AUTOMOVIL\", \"AUTOMOVIL\", \"AUTOMOVIL\", \"AUTOMOVIL TAXI…\n",
      "$ TIPO_VEHICULO   \u001b[3m\u001b[90m<chr>\u001b[39m\u001b[23m \"Livianos\", \"Livianos\", \"Livianos\", \"Livianos\", \"Livia…\n",
      "$ SERVICIO        \u001b[3m\u001b[90m<chr>\u001b[39m\u001b[23m \"Particular\", \"Particular\", \"Particular\", \"Particular\"…\n",
      "$ Sexo_Aseg       \u001b[3m\u001b[90m<chr>\u001b[39m\u001b[23m \"F\", \"M\", \"F\", \"M\", \"F\", \"F\", \"F\", NA, \"F\", \"F\", \"M\", …\n",
      "$ Edad            \u001b[3m\u001b[90m<int>\u001b[39m\u001b[23m 34, 67, 32, 0, 53, 35, 65, 0, 44, 0, 50, 50, 36, 0, 35…\n",
      "$ Desde           \u001b[3m\u001b[90m<chr>\u001b[39m\u001b[23m \"2011-09-29\", \"2011-10-01\", \"2012-02-14\", \"2012-05-30\"…\n",
      "$ Hasta           \u001b[3m\u001b[90m<chr>\u001b[39m\u001b[23m \"2012-11-14\", \"2012-10-01\", \"2013-02-14\", \"2013-05-30\"…\n",
      "$ Vr_Comercial    \u001b[3m\u001b[90m<dbl>\u001b[39m\u001b[23m 56490000, 16400000, 34700000, 12300000, 23400000, 1600…\n",
      "$ Pago            \u001b[3m\u001b[90m<chr>\u001b[39m\u001b[23m \"No\", \"No\", \"No\", \"No\", \"No\", \"No\", \"No\", \"No\", \"No\", …\n"
     ]
    }
   ],
   "source": [
    "df_input <- read.csv(\"../data/input/Muestra_Siniestros_4.csv\")\n",
    "dim(df_input)\n",
    "glimpse(df_input)"
   ]
  },
  {
   "cell_type": "code",
   "execution_count": 60,
   "metadata": {
    "vscode": {
     "languageId": "r"
    }
   },
   "outputs": [
    {
     "data": {
      "text/html": [
       "'HYUNDAI'"
      ],
      "text/latex": [
       "'HYUNDAI'"
      ],
      "text/markdown": [
       "'HYUNDAI'"
      ],
      "text/plain": [
       "[1] \"HYUNDAI\""
      ]
     },
     "metadata": {},
     "output_type": "display_data"
    }
   ],
   "source": [
    "unique(df_input$MARCA)"
   ]
  },
  {
   "cell_type": "code",
   "execution_count": 61,
   "metadata": {
    "vscode": {
     "languageId": "r"
    }
   },
   "outputs": [
    {
     "data": {
      "text/html": [
       "<style>\n",
       ".dl-inline {width: auto; margin:0; padding: 0}\n",
       ".dl-inline>dt, .dl-inline>dd {float: none; width: auto; display: inline-block}\n",
       ".dl-inline>dt::after {content: \":\\0020\"; padding-right: .5ex}\n",
       ".dl-inline>dt:not(:first-of-type) {padding-left: .5ex}\n",
       "</style><dl class=dl-inline><dt>Amparo</dt><dd>4320</dd><dt>Amp</dt><dd>4320</dd><dt>SumaDePagos</dt><dd>4320</dd><dt>Modelo</dt><dd>0</dd><dt>Color</dt><dd>0</dd><dt>Carroceria</dt><dd>0</dd><dt>MARCA</dt><dd>0</dd><dt>Referencia1</dt><dd>0</dd><dt>Referencia2</dt><dd>0</dd><dt>CLASE_FASECOLDA</dt><dd>0</dd><dt>TIPO_VEHICULO</dt><dd>0</dd><dt>SERVICIO</dt><dd>0</dd><dt>Sexo_Aseg</dt><dd>625</dd><dt>Edad</dt><dd>0</dd><dt>Desde</dt><dd>0</dd><dt>Hasta</dt><dd>0</dd><dt>Vr_Comercial</dt><dd>0</dd><dt>Pago</dt><dd>0</dd></dl>\n"
      ],
      "text/latex": [
       "\\begin{description*}\n",
       "\\item[Amparo] 4320\n",
       "\\item[Amp] 4320\n",
       "\\item[SumaDePagos] 4320\n",
       "\\item[Modelo] 0\n",
       "\\item[Color] 0\n",
       "\\item[Carroceria] 0\n",
       "\\item[MARCA] 0\n",
       "\\item[Referencia1] 0\n",
       "\\item[Referencia2] 0\n",
       "\\item[CLASE\\textbackslash{}\\_FASECOLDA] 0\n",
       "\\item[TIPO\\textbackslash{}\\_VEHICULO] 0\n",
       "\\item[SERVICIO] 0\n",
       "\\item[Sexo\\textbackslash{}\\_Aseg] 625\n",
       "\\item[Edad] 0\n",
       "\\item[Desde] 0\n",
       "\\item[Hasta] 0\n",
       "\\item[Vr\\textbackslash{}\\_Comercial] 0\n",
       "\\item[Pago] 0\n",
       "\\end{description*}\n"
      ],
      "text/markdown": [
       "Amparo\n",
       ":   4320Amp\n",
       ":   4320SumaDePagos\n",
       ":   4320Modelo\n",
       ":   0Color\n",
       ":   0Carroceria\n",
       ":   0MARCA\n",
       ":   0Referencia1\n",
       ":   0Referencia2\n",
       ":   0CLASE_FASECOLDA\n",
       ":   0TIPO_VEHICULO\n",
       ":   0SERVICIO\n",
       ":   0Sexo_Aseg\n",
       ":   625Edad\n",
       ":   0Desde\n",
       ":   0Hasta\n",
       ":   0Vr_Comercial\n",
       ":   0Pago\n",
       ":   0\n",
       "\n"
      ],
      "text/plain": [
       "         Amparo             Amp     SumaDePagos          Modelo           Color \n",
       "           4320            4320            4320               0               0 \n",
       "     Carroceria           MARCA     Referencia1     Referencia2 CLASE_FASECOLDA \n",
       "              0               0               0               0               0 \n",
       "  TIPO_VEHICULO        SERVICIO       Sexo_Aseg            Edad           Desde \n",
       "              0               0             625               0               0 \n",
       "          Hasta    Vr_Comercial            Pago \n",
       "              0               0               0 "
      ]
     },
     "metadata": {},
     "output_type": "display_data"
    }
   ],
   "source": [
    "colSums(is.na(df_input))"
   ]
  },
  {
   "cell_type": "markdown",
   "metadata": {},
   "source": [
    "## Preparacion de los datos"
   ]
  },
  {
   "cell_type": "markdown",
   "metadata": {},
   "source": [
    "Nombres de variables"
   ]
  },
  {
   "cell_type": "code",
   "execution_count": 62,
   "metadata": {
    "vscode": {
     "languageId": "r"
    }
   },
   "outputs": [],
   "source": [
    "df_input$Color <- gsub(\"CHAMPA�A\", \"CHAMPAÑA\", df_input$Color)\n",
    "df_input$Amparo <- gsub(\"DA�OS\", \"DAÑOS\", df_input$Amparo)"
   ]
  },
  {
   "cell_type": "markdown",
   "metadata": {},
   "source": [
    "Nulos en Amp"
   ]
  },
  {
   "cell_type": "code",
   "execution_count": 63,
   "metadata": {
    "vscode": {
     "languageId": "r"
    }
   },
   "outputs": [],
   "source": [
    "df_input <- df_input %>%\n",
    "  mutate(\n",
    "    # Convertir NA a \"No aplica\"\n",
    "    Amparo = ifelse(is.na(Amparo), \"No aplica\", Amparo),\n",
    "    Amp = ifelse(is.na(Amp), \"No aplica\", Amp)\n",
    "    )"
   ]
  },
  {
   "cell_type": "markdown",
   "metadata": {},
   "source": [
    "Nulos en SumaDePagos"
   ]
  },
  {
   "cell_type": "code",
   "execution_count": 64,
   "metadata": {
    "vscode": {
     "languageId": "r"
    }
   },
   "outputs": [],
   "source": [
    "pago_minimo <- 100000\n",
    "df_input <- df_input %>% mutate(\n",
    "    SumaDePagos = case_when(\n",
    "      is.na(SumaDePagos) ~ 0,\n",
    "      SumaDePagos < pago_minimo ~ 0,\n",
    "      TRUE ~ SumaDePagos)\n",
    ")\n",
    "\n",
    "df_input <- df_input %>% mutate(\n",
    "  Accidentado = ifelse(SumaDePagos >= pago_minimo, 1, 0)\n",
    ")"
   ]
  },
  {
   "cell_type": "markdown",
   "metadata": {},
   "source": [
    "Nulos en genero"
   ]
  },
  {
   "cell_type": "code",
   "execution_count": 65,
   "metadata": {
    "vscode": {
     "languageId": "r"
    }
   },
   "outputs": [],
   "source": [
    "df_input <- df_input %>% mutate(\n",
    "    Sexo_Aseg = ifelse(is.na(Sexo_Aseg), \"No aplica\", Sexo_Aseg)\n",
    ")"
   ]
  },
  {
   "cell_type": "markdown",
   "metadata": {},
   "source": [
    "Segmentando por año"
   ]
  },
  {
   "cell_type": "code",
   "execution_count": 66,
   "metadata": {
    "vscode": {
     "languageId": "r"
    }
   },
   "outputs": [],
   "source": [
    "df_input <- dividir_polizas_por_anio(df_input)"
   ]
  },
  {
   "cell_type": "markdown",
   "metadata": {},
   "source": [
    "Calculo de exposicion"
   ]
  },
  {
   "cell_type": "code",
   "execution_count": 67,
   "metadata": {
    "vscode": {
     "languageId": "r"
    }
   },
   "outputs": [],
   "source": [
    "df_input$exposicion <- as.numeric(df_input$Hasta - df_input$Desde)"
   ]
  },
  {
   "cell_type": "markdown",
   "metadata": {},
   "source": [
    "Ajustando a inflacion de 2015"
   ]
  },
  {
   "cell_type": "code",
   "execution_count": 68,
   "metadata": {
    "vscode": {
     "languageId": "r"
    }
   },
   "outputs": [],
   "source": [
    "df_input <- ajustar_inflacion_2015(df_input)"
   ]
  },
  {
   "cell_type": "markdown",
   "metadata": {},
   "source": [
    "Variables que sobran"
   ]
  },
  {
   "cell_type": "code",
   "execution_count": 69,
   "metadata": {
    "vscode": {
     "languageId": "r"
    }
   },
   "outputs": [],
   "source": [
    "df_input[c(\"Amp\", \"MARCA\", \"Pago\", \"Desde\", \"Hasta\")] <- NULL"
   ]
  },
  {
   "cell_type": "markdown",
   "metadata": {},
   "source": [
    "Ajustando valor comercial"
   ]
  },
  {
   "cell_type": "code",
   "execution_count": 70,
   "metadata": {
    "vscode": {
     "languageId": "r"
    }
   },
   "outputs": [],
   "source": [
    "vr_minimo <- 4000000\n",
    "df_input <- df_input %>% mutate(\n",
    "    Vr_Comercial = case_when(\n",
    "      is.na(Vr_Comercial) ~ 0,\n",
    "      Vr_Comercial < vr_minimo ~ 0,\n",
    "      TRUE ~ Vr_Comercial)\n",
    ")"
   ]
  },
  {
   "cell_type": "markdown",
   "metadata": {
    "vscode": {
     "languageId": "r"
    }
   },
   "source": [
    "Ajustando edad"
   ]
  },
  {
   "cell_type": "code",
   "execution_count": 71,
   "metadata": {
    "vscode": {
     "languageId": "r"
    }
   },
   "outputs": [],
   "source": [
    "edad_minima <- 18\n",
    "edad_maxima <- 90\n",
    "\n",
    "condicion_edad <- df_input$Edad >= edad_minima & df_input$Edad <= edad_maxima\n",
    "\n",
    "df_no_edades <- df_input[!condicion_edad, ]\n",
    "df_no_edades$Edad <- NULL\n",
    "\n",
    "df_input <- df_input[condicion_edad, ]"
   ]
  },
  {
   "cell_type": "markdown",
   "metadata": {},
   "source": [
    "Partir el dataframe en las 3 partes"
   ]
  },
  {
   "cell_type": "code",
   "execution_count": 72,
   "metadata": {
    "vscode": {
     "languageId": "r"
    }
   },
   "outputs": [],
   "source": [
    "df_completo <- df_input[!(df_input$Vr_Comercial == 0 | df_input$Sexo_Aseg == \"No aplica\"),]\n",
    "\n",
    "df_no_vr <- df_input[(df_input$Vr_Comercial == 0), ]\n",
    "df_no_vr$Vr_Comercial <- NULL"
   ]
  },
  {
   "cell_type": "markdown",
   "metadata": {},
   "source": [
    "Resultados"
   ]
  },
  {
   "cell_type": "code",
   "execution_count": 73,
   "metadata": {
    "vscode": {
     "languageId": "r"
    }
   },
   "outputs": [
    {
     "data": {
      "text/html": [
       "<style>\n",
       ".dl-inline {width: auto; margin:0; padding: 0}\n",
       ".dl-inline>dt, .dl-inline>dd {float: none; width: auto; display: inline-block}\n",
       ".dl-inline>dt::after {content: \":\\0020\"; padding-right: .5ex}\n",
       ".dl-inline>dt:not(:first-of-type) {padding-left: .5ex}\n",
       "</style><dl class=dl-inline><dt>Amparo</dt><dd>0</dd><dt>SumaDePagos</dt><dd>0</dd><dt>Modelo</dt><dd>0</dd><dt>Color</dt><dd>0</dd><dt>Carroceria</dt><dd>0</dd><dt>Referencia1</dt><dd>0</dd><dt>Referencia2</dt><dd>0</dd><dt>CLASE_FASECOLDA</dt><dd>0</dd><dt>TIPO_VEHICULO</dt><dd>0</dd><dt>SERVICIO</dt><dd>0</dd><dt>Sexo_Aseg</dt><dd>0</dd><dt>Edad</dt><dd>0</dd><dt>Vr_Comercial</dt><dd>0</dd><dt>Accidentado</dt><dd>0</dd><dt>exposicion</dt><dd>0</dd></dl>\n"
      ],
      "text/latex": [
       "\\begin{description*}\n",
       "\\item[Amparo] 0\n",
       "\\item[SumaDePagos] 0\n",
       "\\item[Modelo] 0\n",
       "\\item[Color] 0\n",
       "\\item[Carroceria] 0\n",
       "\\item[Referencia1] 0\n",
       "\\item[Referencia2] 0\n",
       "\\item[CLASE\\textbackslash{}\\_FASECOLDA] 0\n",
       "\\item[TIPO\\textbackslash{}\\_VEHICULO] 0\n",
       "\\item[SERVICIO] 0\n",
       "\\item[Sexo\\textbackslash{}\\_Aseg] 0\n",
       "\\item[Edad] 0\n",
       "\\item[Vr\\textbackslash{}\\_Comercial] 0\n",
       "\\item[Accidentado] 0\n",
       "\\item[exposicion] 0\n",
       "\\end{description*}\n"
      ],
      "text/markdown": [
       "Amparo\n",
       ":   0SumaDePagos\n",
       ":   0Modelo\n",
       ":   0Color\n",
       ":   0Carroceria\n",
       ":   0Referencia1\n",
       ":   0Referencia2\n",
       ":   0CLASE_FASECOLDA\n",
       ":   0TIPO_VEHICULO\n",
       ":   0SERVICIO\n",
       ":   0Sexo_Aseg\n",
       ":   0Edad\n",
       ":   0Vr_Comercial\n",
       ":   0Accidentado\n",
       ":   0exposicion\n",
       ":   0\n",
       "\n"
      ],
      "text/plain": [
       "         Amparo     SumaDePagos          Modelo           Color      Carroceria \n",
       "              0               0               0               0               0 \n",
       "    Referencia1     Referencia2 CLASE_FASECOLDA   TIPO_VEHICULO        SERVICIO \n",
       "              0               0               0               0               0 \n",
       "      Sexo_Aseg            Edad    Vr_Comercial     Accidentado      exposicion \n",
       "              0               0               0               0               0 "
      ]
     },
     "metadata": {},
     "output_type": "display_data"
    }
   ],
   "source": [
    "colSums(is.na(df_input))"
   ]
  },
  {
   "cell_type": "code",
   "execution_count": 74,
   "metadata": {
    "vscode": {
     "languageId": "r"
    }
   },
   "outputs": [
    {
     "data": {
      "text/plain": [
       "    Amparo           SumaDePagos           Modelo        Color          \n",
       " Length:7245        Min.   :       0   Min.   :1993   Length:7245       \n",
       " Class :character   1st Qu.:       0   1st Qu.:2008   Class :character  \n",
       " Mode  :character   Median :       0   Median :2010   Mode  :character  \n",
       "                    Mean   :  283070   Mean   :2009                     \n",
       "                    3rd Qu.:       0   3rd Qu.:2012                     \n",
       "                    Max.   :35206209   Max.   :2013                     \n",
       "  Carroceria        Referencia1        Referencia2        CLASE_FASECOLDA   \n",
       " Length:7245        Length:7245        Length:7245        Length:7245       \n",
       " Class :character   Class :character   Class :character   Class :character  \n",
       " Mode  :character   Mode  :character   Mode  :character   Mode  :character  \n",
       "                                                                            \n",
       "                                                                            \n",
       "                                                                            \n",
       " TIPO_VEHICULO        SERVICIO          Sexo_Aseg              Edad      \n",
       " Length:7245        Length:7245        Length:7245        Min.   :19.00  \n",
       " Class :character   Class :character   Class :character   1st Qu.:36.00  \n",
       " Mode  :character   Mode  :character   Mode  :character   Median :45.00  \n",
       "                                                          Mean   :45.49  \n",
       "                                                          3rd Qu.:53.00  \n",
       "                                                          Max.   :85.00  \n",
       "  Vr_Comercial        Accidentado      exposicion   \n",
       " Min.   :        0   Min.   :0.000   Min.   :  0.0  \n",
       " 1st Qu.: 16345656   1st Qu.:0.000   1st Qu.: 91.0  \n",
       " Median : 23467999   Median :0.000   Median :179.0  \n",
       " Mean   : 27660832   Mean   :0.101   Mean   :179.9  \n",
       " 3rd Qu.: 36155292   3rd Qu.:0.000   3rd Qu.:269.0  \n",
       " Max.   :128492010   Max.   :1.000   Max.   :365.0  "
      ]
     },
     "metadata": {},
     "output_type": "display_data"
    }
   ],
   "source": [
    "summary(df_input)"
   ]
  },
  {
   "cell_type": "markdown",
   "metadata": {},
   "source": [
    "Exportando los resultados"
   ]
  },
  {
   "cell_type": "code",
   "execution_count": 75,
   "metadata": {
    "vscode": {
     "languageId": "r"
    }
   },
   "outputs": [],
   "source": [
    "write.csv(df_input, \"../data/processed/datos_limpios.csv\", row.names = FALSE)\n",
    "write.csv(df_no_edades, \"../data/processed/datos_no_edades.csv\", row.names = FALSE)\n",
    "write.csv(df_no_vr, \"../data/processed/datos_no_vr.csv\", row.names = FALSE)"
   ]
  }
 ],
 "metadata": {
  "kernelspec": {
   "display_name": "R",
   "language": "R",
   "name": "ir"
  },
  "language_info": {
   "codemirror_mode": "r",
   "file_extension": ".r",
   "mimetype": "text/x-r-source",
   "name": "R",
   "pygments_lexer": "r",
   "version": "4.2.3"
  }
 },
 "nbformat": 4,
 "nbformat_minor": 2
}
