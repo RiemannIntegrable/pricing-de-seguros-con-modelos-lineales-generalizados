{
 "cells": [
  {
   "cell_type": "markdown",
   "metadata": {},
   "source": [
    "<div align=\"center\">\n",
    "\n",
    "# **Limpieza**\n",
    "\n",
    "</div>"
   ]
  },
  {
   "cell_type": "markdown",
   "metadata": {},
   "source": [
    "## Librerias"
   ]
  },
  {
   "cell_type": "code",
   "execution_count": 163,
   "metadata": {
    "vscode": {
     "languageId": "r"
    }
   },
   "outputs": [],
   "source": [
    "library(dplyr)\n",
    "library(tidyr)\n",
    "source(\"../src/data/dividir_polizas_por_anio.R\")\n",
    "source(\"../src/data/ajustar_inflacion.R\")\n",
    "source(\"../src/data/Freedman_Diaconis.R\")"
   ]
  },
  {
   "cell_type": "markdown",
   "metadata": {},
   "source": [
    "## Data"
   ]
  },
  {
   "cell_type": "code",
   "execution_count": 164,
   "metadata": {
    "vscode": {
     "languageId": "r"
    }
   },
   "outputs": [
    {
     "name": "stdout",
     "output_type": "stream",
     "text": [
      "Rows: 5,000\n",
      "Columns: 16\n",
      "$ Amparo          \u001b[3m\u001b[90m<chr>\u001b[39m\u001b[23m NA, NA, NA, NA, NA, NA, NA, NA, NA, NA, NA, NA, \"PERDI…\n",
      "$ SumaDePagos     \u001b[3m\u001b[90m<dbl>\u001b[39m\u001b[23m NA, NA, NA, NA, NA, NA, NA, NA, NA, NA, NA, NA, 263295…\n",
      "$ Modelo          \u001b[3m\u001b[90m<chr>\u001b[39m\u001b[23m \"2007_2013\", \"2007_2013\", \"2007_2013\", \"2007_2013\", \"2…\n",
      "$ Color           \u001b[3m\u001b[90m<chr>\u001b[39m\u001b[23m \"Otros\", \"PLATA\", \"PLATA\", \"BLANCO\", \"Otros\", \"PLATA\",…\n",
      "$ Carroceria      \u001b[3m\u001b[90m<chr>\u001b[39m\u001b[23m \"SEDAN\", \"HATCHBACK\", \"SEDAN\", \"SEDAN\", \"SEDAN\", \"HATC…\n",
      "$ Referencia1     \u001b[3m\u001b[90m<chr>\u001b[39m\u001b[23m \"Otros\", \"ATOS [2]\", \"Otros\", \"ATOS [2]\", \"ACCENT VISI…\n",
      "$ Referencia2     \u001b[3m\u001b[90m<chr>\u001b[39m\u001b[23m \"Otros\", \"PRIME\", \"Otros\", \"PRIME\", \"GLS\", \"Otros\", \"G…\n",
      "$ CLASE_FASECOLDA \u001b[3m\u001b[90m<chr>\u001b[39m\u001b[23m \"AUTOMOVIL\", \"AUTOMOVIL\", \"AUTOMOVIL\", \"AUTOMOVIL TAXI…\n",
      "$ TIPO_VEHICULO   \u001b[3m\u001b[90m<chr>\u001b[39m\u001b[23m \"Livianos\", \"Livianos\", \"Livianos\", \"Livianos\", \"Livia…\n",
      "$ SERVICIO        \u001b[3m\u001b[90m<chr>\u001b[39m\u001b[23m \"Particular\", \"Particular\", \"Particular\", \"Particular\"…\n",
      "$ Sexo_Aseg       \u001b[3m\u001b[90m<chr>\u001b[39m\u001b[23m \"F\", \"M\", \"F\", \"M\", \"F\", \"F\", \"F\", NA, \"F\", \"F\", \"M\", …\n",
      "$ Edad            \u001b[3m\u001b[90m<chr>\u001b[39m\u001b[23m \"19_41\", \"63_85\", \"19_41\", \"Otros\", \"41_63\", \"19_41\", …\n",
      "$ Desde           \u001b[3m\u001b[90m<chr>\u001b[39m\u001b[23m \"2011-09-29\", \"2011-10-01\", \"2012-02-14\", \"2012-05-30\"…\n",
      "$ Hasta           \u001b[3m\u001b[90m<chr>\u001b[39m\u001b[23m \"2012-11-14\", \"2012-10-01\", \"2013-02-14\", \"2013-05-30\"…\n",
      "$ Vr_Comercial    \u001b[3m\u001b[90m<dbl>\u001b[39m\u001b[23m 56490000, 16400000, 34700000, 12300000, 23400000, 1600…\n",
      "$ Pago            \u001b[3m\u001b[90m<chr>\u001b[39m\u001b[23m \"No\", \"No\", \"No\", \"No\", \"No\", \"No\", \"No\", \"No\", \"No\", …\n"
     ]
    }
   ],
   "source": [
    "df_input <- read.csv(\"../data/processed/datos_agrupados.csv\")\n",
    "df_input$X <- NULL\n",
    "df_input$MARCA <- NULL\n",
    "glimpse(df_input)"
   ]
  },
  {
   "cell_type": "code",
   "execution_count": 165,
   "metadata": {
    "vscode": {
     "languageId": "r"
    }
   },
   "outputs": [
    {
     "data": {
      "text/html": [
       "<style>\n",
       ".dl-inline {width: auto; margin:0; padding: 0}\n",
       ".dl-inline>dt, .dl-inline>dd {float: none; width: auto; display: inline-block}\n",
       ".dl-inline>dt::after {content: \":\\0020\"; padding-right: .5ex}\n",
       ".dl-inline>dt:not(:first-of-type) {padding-left: .5ex}\n",
       "</style><dl class=dl-inline><dt>Amparo</dt><dd>4320</dd><dt>SumaDePagos</dt><dd>4320</dd><dt>Modelo</dt><dd>0</dd><dt>Color</dt><dd>0</dd><dt>Carroceria</dt><dd>0</dd><dt>Referencia1</dt><dd>0</dd><dt>Referencia2</dt><dd>0</dd><dt>CLASE_FASECOLDA</dt><dd>0</dd><dt>TIPO_VEHICULO</dt><dd>0</dd><dt>SERVICIO</dt><dd>0</dd><dt>Sexo_Aseg</dt><dd>625</dd><dt>Edad</dt><dd>0</dd><dt>Desde</dt><dd>0</dd><dt>Hasta</dt><dd>0</dd><dt>Vr_Comercial</dt><dd>0</dd><dt>Pago</dt><dd>0</dd></dl>\n"
      ],
      "text/latex": [
       "\\begin{description*}\n",
       "\\item[Amparo] 4320\n",
       "\\item[SumaDePagos] 4320\n",
       "\\item[Modelo] 0\n",
       "\\item[Color] 0\n",
       "\\item[Carroceria] 0\n",
       "\\item[Referencia1] 0\n",
       "\\item[Referencia2] 0\n",
       "\\item[CLASE\\textbackslash{}\\_FASECOLDA] 0\n",
       "\\item[TIPO\\textbackslash{}\\_VEHICULO] 0\n",
       "\\item[SERVICIO] 0\n",
       "\\item[Sexo\\textbackslash{}\\_Aseg] 625\n",
       "\\item[Edad] 0\n",
       "\\item[Desde] 0\n",
       "\\item[Hasta] 0\n",
       "\\item[Vr\\textbackslash{}\\_Comercial] 0\n",
       "\\item[Pago] 0\n",
       "\\end{description*}\n"
      ],
      "text/markdown": [
       "Amparo\n",
       ":   4320SumaDePagos\n",
       ":   4320Modelo\n",
       ":   0Color\n",
       ":   0Carroceria\n",
       ":   0Referencia1\n",
       ":   0Referencia2\n",
       ":   0CLASE_FASECOLDA\n",
       ":   0TIPO_VEHICULO\n",
       ":   0SERVICIO\n",
       ":   0Sexo_Aseg\n",
       ":   625Edad\n",
       ":   0Desde\n",
       ":   0Hasta\n",
       ":   0Vr_Comercial\n",
       ":   0Pago\n",
       ":   0\n",
       "\n"
      ],
      "text/plain": [
       "         Amparo     SumaDePagos          Modelo           Color      Carroceria \n",
       "           4320            4320               0               0               0 \n",
       "    Referencia1     Referencia2 CLASE_FASECOLDA   TIPO_VEHICULO        SERVICIO \n",
       "              0               0               0               0               0 \n",
       "      Sexo_Aseg            Edad           Desde           Hasta    Vr_Comercial \n",
       "            625               0               0               0               0 \n",
       "           Pago \n",
       "              0 "
      ]
     },
     "metadata": {},
     "output_type": "display_data"
    }
   ],
   "source": [
    "colSums(is.na(df_input))"
   ]
  },
  {
   "cell_type": "markdown",
   "metadata": {},
   "source": [
    "## Preparacion de los datos"
   ]
  },
  {
   "cell_type": "markdown",
   "metadata": {},
   "source": [
    "Nombres de variables"
   ]
  },
  {
   "cell_type": "code",
   "execution_count": 166,
   "metadata": {
    "vscode": {
     "languageId": "r"
    }
   },
   "outputs": [],
   "source": [
    "df_input$Amparo <- gsub(\"DA�OS\", \"DAÑOS\", df_input$Amparo)"
   ]
  },
  {
   "cell_type": "markdown",
   "metadata": {},
   "source": [
    "Nulos en Amp"
   ]
  },
  {
   "cell_type": "code",
   "execution_count": 167,
   "metadata": {
    "vscode": {
     "languageId": "r"
    }
   },
   "outputs": [],
   "source": [
    "df_input <- df_input %>%\n",
    "  mutate(\n",
    "    # Convertir NA a \"No aplica\"\n",
    "    Amparo = ifelse(is.na(Amparo), \"No aplica\", Amparo)\n",
    "    )"
   ]
  },
  {
   "cell_type": "markdown",
   "metadata": {},
   "source": [
    "Nulos en SumaDePagos"
   ]
  },
  {
   "cell_type": "code",
   "execution_count": 168,
   "metadata": {
    "vscode": {
     "languageId": "r"
    }
   },
   "outputs": [
    {
     "data": {
      "text/html": [
       "<style>\n",
       ".list-inline {list-style: none; margin:0; padding: 0}\n",
       ".list-inline>li {display: inline-block}\n",
       ".list-inline>li:not(:last-child)::after {content: \"\\00b7\"; padding: 0 .5ex}\n",
       "</style>\n",
       "<ol class=list-inline><li>0</li><li>26248</li><li>60000</li><li>69257</li><li>70000</li><li>80000</li></ol>\n"
      ],
      "text/latex": [
       "\\begin{enumerate*}\n",
       "\\item 0\n",
       "\\item 26248\n",
       "\\item 60000\n",
       "\\item 69257\n",
       "\\item 70000\n",
       "\\item 80000\n",
       "\\end{enumerate*}\n"
      ],
      "text/markdown": [
       "1. 0\n",
       "2. 26248\n",
       "3. 60000\n",
       "4. 69257\n",
       "5. 70000\n",
       "6. 80000\n",
       "\n",
       "\n"
      ],
      "text/plain": [
       "[1]     0 26248 60000 69257 70000 80000"
      ]
     },
     "metadata": {},
     "output_type": "display_data"
    }
   ],
   "source": [
    "head(sort(unique(df_input$SumaDePagos)))"
   ]
  },
  {
   "cell_type": "code",
   "execution_count": 169,
   "metadata": {
    "vscode": {
     "languageId": "r"
    }
   },
   "outputs": [],
   "source": [
    "  pago_minimo <- 100000\n",
    "  df_input <- df_input %>% mutate(\n",
    "      SumaDePagos = case_when(\n",
    "        is.na(SumaDePagos) ~ 0,\n",
    "        SumaDePagos < pago_minimo ~ 0,\n",
    "        TRUE ~ SumaDePagos),\n",
    "      # Agregar esta línea para recrear Accidentado\n",
    "      Accidentado = ifelse(SumaDePagos > 0, 1, 0)\n",
    "  )"
   ]
  },
  {
   "cell_type": "markdown",
   "metadata": {},
   "source": [
    "El pago minimo se escogio como el valor de un espejo en 2015"
   ]
  },
  {
   "cell_type": "markdown",
   "metadata": {},
   "source": [
    "Nulos en genero"
   ]
  },
  {
   "cell_type": "code",
   "execution_count": 170,
   "metadata": {
    "vscode": {
     "languageId": "r"
    }
   },
   "outputs": [],
   "source": [
    "df_input <- df_input %>% mutate(\n",
    "    Sexo_Aseg = ifelse(is.na(Sexo_Aseg), \"No Binarie\", Sexo_Aseg)\n",
    ")"
   ]
  },
  {
   "cell_type": "code",
   "execution_count": 171,
   "metadata": {
    "vscode": {
     "languageId": "r"
    }
   },
   "outputs": [
    {
     "data": {
      "text/html": [
       "0.125"
      ],
      "text/latex": [
       "0.125"
      ],
      "text/markdown": [
       "0.125"
      ],
      "text/plain": [
       "[1] 0.125"
      ]
     },
     "metadata": {},
     "output_type": "display_data"
    }
   ],
   "source": [
    "nrow(df_input[(df_input$Sexo_Aseg == \"No Binarie\"), ])/nrow(df_input)"
   ]
  },
  {
   "cell_type": "markdown",
   "metadata": {},
   "source": [
    "Segmentando por año"
   ]
  },
  {
   "cell_type": "code",
   "execution_count": 172,
   "metadata": {
    "vscode": {
     "languageId": "r"
    }
   },
   "outputs": [],
   "source": [
    "df_input <- dividir_polizas_por_anio(df_input)"
   ]
  },
  {
   "cell_type": "markdown",
   "metadata": {},
   "source": [
    "Calculo de exposicion"
   ]
  },
  {
   "cell_type": "code",
   "execution_count": 173,
   "metadata": {
    "vscode": {
     "languageId": "r"
    }
   },
   "outputs": [],
   "source": [
    "df_input$exposicion <- as.numeric(df_input$Hasta - df_input$Desde) + 1"
   ]
  },
  {
   "cell_type": "markdown",
   "metadata": {},
   "source": [
    "Ajustando a inflacion de 2015"
   ]
  },
  {
   "cell_type": "code",
   "execution_count": 174,
   "metadata": {
    "vscode": {
     "languageId": "r"
    }
   },
   "outputs": [
    {
     "data": {
      "text/html": [
       "<time datetime=\"2015-02-21\">2015-02-21</time>"
      ],
      "text/latex": [
       "2015-02-21"
      ],
      "text/markdown": [
       "2015-02-21"
      ],
      "text/plain": [
       "[1] \"2015-02-21\""
      ]
     },
     "metadata": {},
     "output_type": "display_data"
    }
   ],
   "source": [
    "max(df_input$Hasta)"
   ]
  },
  {
   "cell_type": "code",
   "execution_count": 175,
   "metadata": {
    "vscode": {
     "languageId": "r"
    }
   },
   "outputs": [],
   "source": [
    "df_input <- ajustar_inflacion_2015(df_input)"
   ]
  },
  {
   "cell_type": "markdown",
   "metadata": {},
   "source": [
    "Llevamos todo a los mismo valores presentes ajustando la inflacion."
   ]
  },
  {
   "cell_type": "markdown",
   "metadata": {},
   "source": [
    "Ajustando valor comercial"
   ]
  },
  {
   "cell_type": "code",
   "execution_count": 176,
   "metadata": {
    "vscode": {
     "languageId": "r"
    }
   },
   "outputs": [
    {
     "data": {
      "text/html": [
       "93.5273763484633"
      ],
      "text/latex": [
       "93.5273763484633"
      ],
      "text/markdown": [
       "93.5273763484633"
      ],
      "text/plain": [
       "[1] 93.52738"
      ]
     },
     "metadata": {},
     "output_type": "display_data"
    }
   ],
   "source": [
    "vr_minimo <- 4000000\n",
    "nrow(df_input[(df_input$Vr_Comercial > vr_minimo), ])*100/nrow(df_input)\n",
    "df_input <- df_input[(df_input$Vr_Comercial > vr_minimo), ]"
   ]
  },
  {
   "cell_type": "markdown",
   "metadata": {},
   "source": [
    "El valor comercial minimo se escogio como el valor de un carro hyundai Excel en 2015"
   ]
  },
  {
   "cell_type": "markdown",
   "metadata": {},
   "source": [
    "Resultados"
   ]
  },
  {
   "cell_type": "code",
   "execution_count": 177,
   "metadata": {
    "vscode": {
     "languageId": "r"
    }
   },
   "outputs": [
    {
     "data": {
      "text/html": [
       "<style>\n",
       ".dl-inline {width: auto; margin:0; padding: 0}\n",
       ".dl-inline>dt, .dl-inline>dd {float: none; width: auto; display: inline-block}\n",
       ".dl-inline>dt::after {content: \":\\0020\"; padding-right: .5ex}\n",
       ".dl-inline>dt:not(:first-of-type) {padding-left: .5ex}\n",
       "</style><dl class=dl-inline><dt>Amparo</dt><dd>0</dd><dt>SumaDePagos</dt><dd>0</dd><dt>Modelo</dt><dd>0</dd><dt>Color</dt><dd>0</dd><dt>Carroceria</dt><dd>0</dd><dt>Referencia1</dt><dd>0</dd><dt>Referencia2</dt><dd>0</dd><dt>CLASE_FASECOLDA</dt><dd>0</dd><dt>TIPO_VEHICULO</dt><dd>0</dd><dt>SERVICIO</dt><dd>0</dd><dt>Sexo_Aseg</dt><dd>0</dd><dt>Edad</dt><dd>0</dd><dt>Desde</dt><dd>0</dd><dt>Hasta</dt><dd>0</dd><dt>Vr_Comercial</dt><dd>0</dd><dt>Pago</dt><dd>0</dd><dt>Accidentado</dt><dd>0</dd><dt>exposicion</dt><dd>0</dd></dl>\n"
      ],
      "text/latex": [
       "\\begin{description*}\n",
       "\\item[Amparo] 0\n",
       "\\item[SumaDePagos] 0\n",
       "\\item[Modelo] 0\n",
       "\\item[Color] 0\n",
       "\\item[Carroceria] 0\n",
       "\\item[Referencia1] 0\n",
       "\\item[Referencia2] 0\n",
       "\\item[CLASE\\textbackslash{}\\_FASECOLDA] 0\n",
       "\\item[TIPO\\textbackslash{}\\_VEHICULO] 0\n",
       "\\item[SERVICIO] 0\n",
       "\\item[Sexo\\textbackslash{}\\_Aseg] 0\n",
       "\\item[Edad] 0\n",
       "\\item[Desde] 0\n",
       "\\item[Hasta] 0\n",
       "\\item[Vr\\textbackslash{}\\_Comercial] 0\n",
       "\\item[Pago] 0\n",
       "\\item[Accidentado] 0\n",
       "\\item[exposicion] 0\n",
       "\\end{description*}\n"
      ],
      "text/markdown": [
       "Amparo\n",
       ":   0SumaDePagos\n",
       ":   0Modelo\n",
       ":   0Color\n",
       ":   0Carroceria\n",
       ":   0Referencia1\n",
       ":   0Referencia2\n",
       ":   0CLASE_FASECOLDA\n",
       ":   0TIPO_VEHICULO\n",
       ":   0SERVICIO\n",
       ":   0Sexo_Aseg\n",
       ":   0Edad\n",
       ":   0Desde\n",
       ":   0Hasta\n",
       ":   0Vr_Comercial\n",
       ":   0Pago\n",
       ":   0Accidentado\n",
       ":   0exposicion\n",
       ":   0\n",
       "\n"
      ],
      "text/plain": [
       "         Amparo     SumaDePagos          Modelo           Color      Carroceria \n",
       "              0               0               0               0               0 \n",
       "    Referencia1     Referencia2 CLASE_FASECOLDA   TIPO_VEHICULO        SERVICIO \n",
       "              0               0               0               0               0 \n",
       "      Sexo_Aseg            Edad           Desde           Hasta    Vr_Comercial \n",
       "              0               0               0               0               0 \n",
       "           Pago     Accidentado      exposicion \n",
       "              0               0               0 "
      ]
     },
     "metadata": {},
     "output_type": "display_data"
    }
   ],
   "source": [
    "colSums(is.na(df_input))"
   ]
  },
  {
   "cell_type": "code",
   "execution_count": 178,
   "metadata": {
    "vscode": {
     "languageId": "r"
    }
   },
   "outputs": [
    {
     "data": {
      "text/plain": [
       "    Amparo           SumaDePagos          Modelo             Color          \n",
       " Length:9190        Min.   :       0   Length:9190        Length:9190       \n",
       " Class :character   1st Qu.:       0   Class :character   Class :character  \n",
       " Mode  :character   Median :       0   Mode  :character   Mode  :character  \n",
       "                    Mean   :  272939                                        \n",
       "                    3rd Qu.:       0                                        \n",
       "                    Max.   :35206209                                        \n",
       "  Carroceria        Referencia1        Referencia2        CLASE_FASECOLDA   \n",
       " Length:9190        Length:9190        Length:9190        Length:9190       \n",
       " Class :character   Class :character   Class :character   Class :character  \n",
       " Mode  :character   Mode  :character   Mode  :character   Mode  :character  \n",
       "                                                                            \n",
       "                                                                            \n",
       "                                                                            \n",
       " TIPO_VEHICULO        SERVICIO          Sexo_Aseg             Edad          \n",
       " Length:9190        Length:9190        Length:9190        Length:9190       \n",
       " Class :character   Class :character   Class :character   Class :character  \n",
       " Mode  :character   Mode  :character   Mode  :character   Mode  :character  \n",
       "                                                                            \n",
       "                                                                            \n",
       "                                                                            \n",
       "     Desde                Hasta             Vr_Comercial      \n",
       " Min.   :2011-01-01   Min.   :2011-04-01   Min.   :  4379006  \n",
       " 1st Qu.:2011-12-30   1st Qu.:2011-12-31   1st Qu.: 17853645  \n",
       " Median :2012-01-06   Median :2012-12-31   Median : 24886532  \n",
       " Mean   :2012-04-08   Mean   :2012-10-05   Mean   : 30697491  \n",
       " 3rd Qu.:2013-01-01   3rd Qu.:2013-01-10   3rd Qu.: 39933195  \n",
       " Max.   :2015-01-01   Max.   :2015-02-21   Max.   :128492010  \n",
       "     Pago            Accidentado       exposicion   \n",
       " Length:9190        Min.   :0.0000   Min.   :  1.0  \n",
       " Class :character   1st Qu.:0.0000   1st Qu.: 92.0  \n",
       " Mode  :character   Median :0.0000   Median :180.0  \n",
       "                    Mean   :0.1016   Mean   :180.6  \n",
       "                    3rd Qu.:0.0000   3rd Qu.:269.0  \n",
       "                    Max.   :1.0000   Max.   :366.0  "
      ]
     },
     "metadata": {},
     "output_type": "display_data"
    }
   ],
   "source": [
    "summary(df_input)"
   ]
  },
  {
   "cell_type": "markdown",
   "metadata": {},
   "source": [
    "## Exportando los resultados"
   ]
  },
  {
   "cell_type": "code",
   "execution_count": 179,
   "metadata": {
    "vscode": {
     "languageId": "r"
    }
   },
   "outputs": [],
   "source": [
    "write.csv(df_input, \"../data/processed/datos_limpios.csv\", row.names = FALSE)"
   ]
  }
 ],
 "metadata": {
  "kernelspec": {
   "display_name": "R",
   "language": "R",
   "name": "ir"
  },
  "language_info": {
   "codemirror_mode": "r",
   "file_extension": ".r",
   "mimetype": "text/x-r-source",
   "name": "R",
   "pygments_lexer": "r",
   "version": "4.2.3"
  }
 },
 "nbformat": 4,
 "nbformat_minor": 2
}
