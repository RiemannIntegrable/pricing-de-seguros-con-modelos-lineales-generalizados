{
 "cells": [
  {
   "cell_type": "markdown",
   "metadata": {},
   "source": [
    "# **Limpieza**"
   ]
  },
  {
   "cell_type": "markdown",
   "metadata": {},
   "source": [
    "## Librerias"
   ]
  },
  {
   "cell_type": "code",
<<<<<<< HEAD
   "execution_count": 18,
=======
   "execution_count": 218,
>>>>>>> 4669d88f9706549ed2d2df0aade81afc6c41f85d
   "metadata": {
    "vscode": {
     "languageId": "r"
    }
   },
   "outputs": [],
   "source": [
    "library(dplyr)\n",
    "library(tidyr)\n",
    "source(\"../src/data/dividir_polizas_por_anio.R\")\n",
    "source(\"../src/data/ajustar_inflacion.R\")\n",
    "source(\"../src/data/Freedman_Diaconis.R\")"
   ]
  },
  {
   "cell_type": "markdown",
   "metadata": {},
   "source": [
    "## Data"
   ]
  },
  {
   "cell_type": "code",
<<<<<<< HEAD
   "execution_count": 19,
=======
   "execution_count": 219,
>>>>>>> 4669d88f9706549ed2d2df0aade81afc6c41f85d
   "metadata": {
    "vscode": {
     "languageId": "r"
    }
   },
   "outputs": [],
   "source": [
    "df_input <- read.csv(\"../data/processed/datos_agrupados.csv\")"
   ]
  },
  {
   "cell_type": "code",
<<<<<<< HEAD
   "execution_count": 20,
=======
   "execution_count": 220,
>>>>>>> 4669d88f9706549ed2d2df0aade81afc6c41f85d
   "metadata": {
    "vscode": {
     "languageId": "r"
    }
   },
   "outputs": [
    {
     "data": {
      "text/html": [
       "<style>\n",
       ".dl-inline {width: auto; margin:0; padding: 0}\n",
       ".dl-inline>dt, .dl-inline>dd {float: none; width: auto; display: inline-block}\n",
       ".dl-inline>dt::after {content: \":\\0020\"; padding-right: .5ex}\n",
       ".dl-inline>dt:not(:first-of-type) {padding-left: .5ex}\n",
<<<<<<< HEAD
       "</style><dl class=dl-inline><dt>X</dt><dd>0</dd><dt>Amparo</dt><dd>4039</dd><dt>SumaDePagos</dt><dd>4039</dd><dt>Modelo</dt><dd>0</dd><dt>Color</dt><dd>0</dd><dt>Carroceria</dt><dd>0</dd><dt>MARCA</dt><dd>0</dd><dt>Referencia1</dt><dd>0</dd><dt>Referencia2</dt><dd>0</dd><dt>CLASE_FASECOLDA</dt><dd>0</dd><dt>TIPO_VEHICULO</dt><dd>0</dd><dt>SERVICIO</dt><dd>0</dd><dt>Sexo_Aseg</dt><dd>575</dd><dt>Edad</dt><dd>0</dd><dt>Desde</dt><dd>0</dd><dt>Hasta</dt><dd>0</dd><dt>Pago</dt><dd>0</dd><dt>Gama</dt><dd>0</dd></dl>\n"
=======
       "</style><dl class=dl-inline><dt>X</dt><dd>0</dd><dt>Amparo</dt><dd>4320</dd><dt>SumaDePagos</dt><dd>4320</dd><dt>Modelo</dt><dd>0</dd><dt>Color</dt><dd>0</dd><dt>Carroceria</dt><dd>0</dd><dt>MARCA</dt><dd>0</dd><dt>Referencia1</dt><dd>0</dd><dt>Referencia2</dt><dd>0</dd><dt>CLASE_FASECOLDA</dt><dd>0</dd><dt>TIPO_VEHICULO</dt><dd>0</dd><dt>SERVICIO</dt><dd>0</dd><dt>Sexo_Aseg</dt><dd>625</dd><dt>Edad</dt><dd>0</dd><dt>Desde</dt><dd>0</dd><dt>Hasta</dt><dd>0</dd><dt>Vr_Comercial</dt><dd>0</dd><dt>Pago</dt><dd>0</dd></dl>\n"
>>>>>>> 4669d88f9706549ed2d2df0aade81afc6c41f85d
      ],
      "text/latex": [
       "\\begin{description*}\n",
       "\\item[X] 0\n",
<<<<<<< HEAD
       "\\item[Amparo] 4039\n",
       "\\item[SumaDePagos] 4039\n",
=======
       "\\item[Amparo] 4320\n",
       "\\item[SumaDePagos] 4320\n",
>>>>>>> 4669d88f9706549ed2d2df0aade81afc6c41f85d
       "\\item[Modelo] 0\n",
       "\\item[Color] 0\n",
       "\\item[Carroceria] 0\n",
       "\\item[MARCA] 0\n",
       "\\item[Referencia1] 0\n",
       "\\item[Referencia2] 0\n",
       "\\item[CLASE\\textbackslash{}\\_FASECOLDA] 0\n",
       "\\item[TIPO\\textbackslash{}\\_VEHICULO] 0\n",
       "\\item[SERVICIO] 0\n",
       "\\item[Sexo\\textbackslash{}\\_Aseg] 575\n",
       "\\item[Edad] 0\n",
       "\\item[Desde] 0\n",
       "\\item[Hasta] 0\n",
       "\\item[Pago] 0\n",
       "\\item[Gama] 0\n",
       "\\end{description*}\n"
      ],
      "text/markdown": [
       "X\n",
       ":   0Amparo\n",
<<<<<<< HEAD
       ":   4039SumaDePagos\n",
       ":   4039Modelo\n",
=======
       ":   4320SumaDePagos\n",
       ":   4320Modelo\n",
>>>>>>> 4669d88f9706549ed2d2df0aade81afc6c41f85d
       ":   0Color\n",
       ":   0Carroceria\n",
       ":   0MARCA\n",
       ":   0Referencia1\n",
       ":   0Referencia2\n",
       ":   0CLASE_FASECOLDA\n",
       ":   0TIPO_VEHICULO\n",
       ":   0SERVICIO\n",
       ":   0Sexo_Aseg\n",
       ":   575Edad\n",
       ":   0Desde\n",
       ":   0Hasta\n",
       ":   0Pago\n",
       ":   0Gama\n",
       ":   0\n",
       "\n"
      ],
      "text/plain": [
       "              X          Amparo     SumaDePagos          Modelo           Color \n",
<<<<<<< HEAD
       "              0            4039            4039               0               0 \n",
       "     Carroceria           MARCA     Referencia1     Referencia2 CLASE_FASECOLDA \n",
       "              0               0               0               0               0 \n",
       "  TIPO_VEHICULO        SERVICIO       Sexo_Aseg            Edad           Desde \n",
       "              0               0             575               0               0 \n",
       "          Hasta            Pago            Gama \n",
=======
       "              0            4320            4320               0               0 \n",
       "     Carroceria           MARCA     Referencia1     Referencia2 CLASE_FASECOLDA \n",
       "              0               0               0               0               0 \n",
       "  TIPO_VEHICULO        SERVICIO       Sexo_Aseg            Edad           Desde \n",
       "              0               0             625               0               0 \n",
       "          Hasta    Vr_Comercial            Pago \n",
>>>>>>> 4669d88f9706549ed2d2df0aade81afc6c41f85d
       "              0               0               0 "
      ]
     },
     "metadata": {},
     "output_type": "display_data"
    }
   ],
   "source": [
    "colSums(is.na(df_input))"
   ]
  },
  {
   "cell_type": "markdown",
   "metadata": {},
   "source": [
    "## Preparacion de los datos"
   ]
  },
  {
   "cell_type": "markdown",
   "metadata": {},
   "source": [
    "### Nombres de variables"
   ]
  },
  {
   "cell_type": "code",
<<<<<<< HEAD
   "execution_count": 21,
=======
   "execution_count": 221,
>>>>>>> 4669d88f9706549ed2d2df0aade81afc6c41f85d
   "metadata": {
    "vscode": {
     "languageId": "r"
    }
   },
   "outputs": [],
   "source": [
    "df_input$Amparo <- gsub(\"DA�OS\", \"DAÑOS\", df_input$Amparo)"
   ]
  },
  {
   "cell_type": "markdown",
   "metadata": {},
   "source": [
    "### Amparo"
   ]
  },
  {
   "cell_type": "code",
<<<<<<< HEAD
   "execution_count": 22,
=======
   "execution_count": 222,
>>>>>>> 4669d88f9706549ed2d2df0aade81afc6c41f85d
   "metadata": {
    "vscode": {
     "languageId": "r"
    }
   },
   "outputs": [],
   "source": [
    "df_input <- df_input %>%\n",
    "  mutate(\n",
    "    # Convertir NA a \"No aplica\"\n",
    "    Amparo = ifelse(is.na(Amparo), \"No aplica\", Amparo)\n",
    "    )"
   ]
  },
  {
   "cell_type": "markdown",
   "metadata": {},
   "source": [
    "### SumaDePagos"
   ]
  },
  {
   "cell_type": "code",
<<<<<<< HEAD
   "execution_count": 23,
=======
   "execution_count": 223,
>>>>>>> 4669d88f9706549ed2d2df0aade81afc6c41f85d
   "metadata": {
    "vscode": {
     "languageId": "r"
    }
   },
   "outputs": [
    {
     "data": {
      "text/html": [
       "<style>\n",
       ".list-inline {list-style: none; margin:0; padding: 0}\n",
       ".list-inline>li {display: inline-block}\n",
       ".list-inline>li:not(:last-child)::after {content: \"\\00b7\"; padding: 0 .5ex}\n",
       "</style>\n",
       "<ol class=list-inline><li>0</li><li>26248</li><li>60000</li><li>69257</li><li>70000</li><li>80000</li></ol>\n"
      ],
      "text/latex": [
       "\\begin{enumerate*}\n",
       "\\item 0\n",
       "\\item 26248\n",
       "\\item 60000\n",
       "\\item 69257\n",
       "\\item 70000\n",
       "\\item 80000\n",
       "\\end{enumerate*}\n"
      ],
      "text/markdown": [
       "1. 0\n",
       "2. 26248\n",
       "3. 60000\n",
       "4. 69257\n",
       "5. 70000\n",
       "6. 80000\n",
       "\n",
       "\n"
      ],
      "text/plain": [
       "[1]     0 26248 60000 69257 70000 80000"
      ]
     },
     "metadata": {},
     "output_type": "display_data"
    }
   ],
   "source": [
    "head(sort(unique(df_input$SumaDePagos)))"
   ]
  },
  {
   "cell_type": "code",
<<<<<<< HEAD
   "execution_count": 24,
=======
   "execution_count": 224,
>>>>>>> 4669d88f9706549ed2d2df0aade81afc6c41f85d
   "metadata": {
    "vscode": {
     "languageId": "r"
    }
   },
   "outputs": [],
   "source": [
    "pago_minimo <- 100000\n",
    "df_input <- df_input %>% mutate(\n",
    "    SumaDePagos = case_when(\n",
    "      is.na(SumaDePagos) ~ 0,\n",
    "      SumaDePagos < pago_minimo ~ 0,\n",
    "      TRUE ~ SumaDePagos)\n",
    ")\n",
    "\n",
    "df_input <- df_input %>% mutate(\n",
    "  Accidentado = ifelse(SumaDePagos >= pago_minimo, 1, 0)\n",
    ")"
   ]
  },
  {
   "cell_type": "markdown",
   "metadata": {},
   "source": []
  },
  {
   "cell_type": "markdown",
   "metadata": {},
   "source": [
    "### Sexo_Aseg"
   ]
  },
  {
   "cell_type": "code",
<<<<<<< HEAD
   "execution_count": 25,
=======
   "execution_count": 225,
>>>>>>> 4669d88f9706549ed2d2df0aade81afc6c41f85d
   "metadata": {
    "vscode": {
     "languageId": "r"
    }
   },
   "outputs": [],
   "source": [
    "df_input <- df_input %>% mutate(\n",
    "    Sexo_Aseg = ifelse(is.na(Sexo_Aseg), \"No_Binarie\", Sexo_Aseg)\n",
    ")"
   ]
  },
  {
   "cell_type": "code",
<<<<<<< HEAD
   "execution_count": 26,
=======
   "execution_count": 226,
>>>>>>> 4669d88f9706549ed2d2df0aade81afc6c41f85d
   "metadata": {
    "vscode": {
     "languageId": "r"
    }
   },
   "outputs": [
    {
     "data": {
      "text/html": [
       "0.122942056874065"
      ],
      "text/latex": [
       "0.122942056874065"
      ],
      "text/markdown": [
       "0.122942056874065"
      ],
      "text/plain": [
       "[1] 0.1229421"
      ]
     },
     "metadata": {},
     "output_type": "display_data"
    }
   ],
   "source": [
    "nrow(df_input[(df_input$Sexo_Aseg == \"No_Binarie\"), ])/nrow(df_input)"
   ]
  },
  {
   "cell_type": "markdown",
   "metadata": {},
   "source": [
    "### Segmentación por año"
   ]
  },
  {
   "cell_type": "code",
<<<<<<< HEAD
   "execution_count": 27,
=======
   "execution_count": 227,
>>>>>>> 4669d88f9706549ed2d2df0aade81afc6c41f85d
   "metadata": {
    "vscode": {
     "languageId": "r"
    }
   },
   "outputs": [],
   "source": [
    "df_input <- dividir_polizas_por_anio(df_input)"
   ]
  },
  {
   "cell_type": "markdown",
   "metadata": {},
   "source": [
    "### Exposición"
   ]
  },
  {
   "cell_type": "code",
<<<<<<< HEAD
   "execution_count": 28,
=======
   "execution_count": 228,
>>>>>>> 4669d88f9706549ed2d2df0aade81afc6c41f85d
   "metadata": {
    "vscode": {
     "languageId": "r"
    }
   },
   "outputs": [],
   "source": [
    "df_input$exposicion <- as.numeric(df_input$Hasta - df_input$Desde) + 1"
   ]
  },
  {
   "cell_type": "markdown",
   "metadata": {},
   "source": [
    "### Ajuste por inflación"
   ]
  },
  {
   "cell_type": "code",
<<<<<<< HEAD
   "execution_count": 29,
=======
   "execution_count": 229,
>>>>>>> 4669d88f9706549ed2d2df0aade81afc6c41f85d
   "metadata": {
    "vscode": {
     "languageId": "r"
    }
   },
   "outputs": [
    {
     "data": {
      "text/html": [
       "<time datetime=\"2015-02-21\">2015-02-21</time>"
      ],
      "text/latex": [
       "2015-02-21"
      ],
      "text/markdown": [
       "2015-02-21"
      ],
      "text/plain": [
       "[1] \"2015-02-21\""
      ]
     },
     "metadata": {},
     "output_type": "display_data"
    }
   ],
   "source": [
    "max(df_input$Hasta)"
   ]
  },
  {
   "cell_type": "code",
<<<<<<< HEAD
   "execution_count": 30,
=======
   "execution_count": 230,
>>>>>>> 4669d88f9706549ed2d2df0aade81afc6c41f85d
   "metadata": {
    "vscode": {
     "languageId": "r"
    }
   },
   "outputs": [],
   "source": [
    "df_input <- ajustar_inflacion_2015(df_input)"
   ]
  },
  {
   "cell_type": "markdown",
   "metadata": {},
   "source": []
  },
  {
   "cell_type": "markdown",
   "metadata": {},
   "source": [
    "## Valor comercial"
   ]
  },
  {
   "cell_type": "code",
<<<<<<< HEAD
   "execution_count": 31,
=======
   "execution_count": 231,
>>>>>>> 4669d88f9706549ed2d2df0aade81afc6c41f85d
   "metadata": {
    "vscode": {
     "languageId": "r"
    }
   },
<<<<<<< HEAD
   "outputs": [
    {
     "name": "stdout",
     "output_type": "stream",
     "text": [
      "Filtro de Vr_Comercial eliminado de limpieza.\n",
      "Ahora se realiza en la función agrupaciones() del archivo agrupaciones.R\n"
     ]
    }
   ],
   "source": [
    "# Eliminar la línea que filtraba Vr_Comercial ya que ahora se hace en agrupaciones()\n",
    "# vr_minimo <- 4000000\n",
    "# df_input <- df_input[(df_input$Vr_Comercial > vr_minimo), ]\n",
    "\n",
    "cat(\"Filtro de Vr_Comercial eliminado de limpieza.\\n\")\n",
    "cat(\"Ahora se realiza en la función agrupaciones() del archivo agrupaciones.R\\n\")"
=======
   "outputs": [],
   "source": [
    "vr_minimo <- 4000000\n",
    "df_input <- df_input[(df_input$Vr_Comercial > vr_minimo), ]"
>>>>>>> 4669d88f9706549ed2d2df0aade81afc6c41f85d
   ]
  },
  {
   "cell_type": "markdown",
   "metadata": {},
<<<<<<< HEAD
   "source": []
  },
  {
   "cell_type": "code",
   "execution_count": 32,
=======
   "source": [
    "El valor comercial minimo se escogio como el valor de un carro hyundai Excel en 2015"
   ]
  },
  {
   "cell_type": "code",
   "execution_count": 232,
>>>>>>> 4669d88f9706549ed2d2df0aade81afc6c41f85d
   "metadata": {
    "vscode": {
     "languageId": "r"
    }
   },
   "outputs": [
    {
     "data": {
      "text/html": [
       "<style>\n",
       ".dl-inline {width: auto; margin:0; padding: 0}\n",
       ".dl-inline>dt, .dl-inline>dd {float: none; width: auto; display: inline-block}\n",
       ".dl-inline>dt::after {content: \":\\0020\"; padding-right: .5ex}\n",
       ".dl-inline>dt:not(:first-of-type) {padding-left: .5ex}\n",
<<<<<<< HEAD
       "</style><dl class=dl-inline><dt>X</dt><dd>0</dd><dt>Amparo</dt><dd>0</dd><dt>SumaDePagos</dt><dd>0</dd><dt>Modelo</dt><dd>0</dd><dt>Color</dt><dd>0</dd><dt>Carroceria</dt><dd>0</dd><dt>MARCA</dt><dd>0</dd><dt>Referencia1</dt><dd>0</dd><dt>Referencia2</dt><dd>0</dd><dt>CLASE_FASECOLDA</dt><dd>0</dd><dt>TIPO_VEHICULO</dt><dd>0</dd><dt>SERVICIO</dt><dd>0</dd><dt>Sexo_Aseg</dt><dd>0</dd><dt>Edad</dt><dd>0</dd><dt>Desde</dt><dd>0</dd><dt>Hasta</dt><dd>0</dd><dt>Pago</dt><dd>0</dd><dt>Gama</dt><dd>0</dd><dt>Accidentado</dt><dd>0</dd><dt>exposicion</dt><dd>0</dd></dl>\n"
=======
       "</style><dl class=dl-inline><dt>X</dt><dd>0</dd><dt>Amparo</dt><dd>0</dd><dt>SumaDePagos</dt><dd>0</dd><dt>Modelo</dt><dd>0</dd><dt>Color</dt><dd>0</dd><dt>Carroceria</dt><dd>0</dd><dt>MARCA</dt><dd>0</dd><dt>Referencia1</dt><dd>0</dd><dt>Referencia2</dt><dd>0</dd><dt>CLASE_FASECOLDA</dt><dd>0</dd><dt>TIPO_VEHICULO</dt><dd>0</dd><dt>SERVICIO</dt><dd>0</dd><dt>Sexo_Aseg</dt><dd>0</dd><dt>Edad</dt><dd>0</dd><dt>Desde</dt><dd>0</dd><dt>Hasta</dt><dd>0</dd><dt>Vr_Comercial</dt><dd>0</dd><dt>Pago</dt><dd>0</dd><dt>Accidentado</dt><dd>0</dd><dt>exposicion</dt><dd>0</dd></dl>\n"
>>>>>>> 4669d88f9706549ed2d2df0aade81afc6c41f85d
      ],
      "text/latex": [
       "\\begin{description*}\n",
       "\\item[X] 0\n",
       "\\item[Amparo] 0\n",
       "\\item[SumaDePagos] 0\n",
       "\\item[Modelo] 0\n",
       "\\item[Color] 0\n",
       "\\item[Carroceria] 0\n",
       "\\item[MARCA] 0\n",
       "\\item[Referencia1] 0\n",
       "\\item[Referencia2] 0\n",
       "\\item[CLASE\\textbackslash{}\\_FASECOLDA] 0\n",
       "\\item[TIPO\\textbackslash{}\\_VEHICULO] 0\n",
       "\\item[SERVICIO] 0\n",
       "\\item[Sexo\\textbackslash{}\\_Aseg] 0\n",
       "\\item[Edad] 0\n",
       "\\item[Desde] 0\n",
       "\\item[Hasta] 0\n",
       "\\item[Pago] 0\n",
       "\\item[Gama] 0\n",
       "\\item[Accidentado] 0\n",
       "\\item[exposicion] 0\n",
       "\\end{description*}\n"
      ],
      "text/markdown": [
       "X\n",
       ":   0Amparo\n",
       ":   0SumaDePagos\n",
       ":   0Modelo\n",
       ":   0Color\n",
       ":   0Carroceria\n",
       ":   0MARCA\n",
       ":   0Referencia1\n",
       ":   0Referencia2\n",
       ":   0CLASE_FASECOLDA\n",
       ":   0TIPO_VEHICULO\n",
       ":   0SERVICIO\n",
       ":   0Sexo_Aseg\n",
       ":   0Edad\n",
       ":   0Desde\n",
       ":   0Hasta\n",
       ":   0Pago\n",
       ":   0Gama\n",
       ":   0Accidentado\n",
       ":   0exposicion\n",
       ":   0\n",
       "\n"
      ],
      "text/plain": [
       "              X          Amparo     SumaDePagos          Modelo           Color \n",
       "              0               0               0               0               0 \n",
       "     Carroceria           MARCA     Referencia1     Referencia2 CLASE_FASECOLDA \n",
       "              0               0               0               0               0 \n",
       "  TIPO_VEHICULO        SERVICIO       Sexo_Aseg            Edad           Desde \n",
       "              0               0               0               0               0 \n",
<<<<<<< HEAD
       "          Hasta            Pago            Gama     Accidentado      exposicion \n",
=======
       "          Hasta    Vr_Comercial            Pago     Accidentado      exposicion \n",
>>>>>>> 4669d88f9706549ed2d2df0aade81afc6c41f85d
       "              0               0               0               0               0 "
      ]
     },
     "metadata": {},
     "output_type": "display_data"
    }
   ],
   "source": [
    "colSums(is.na(df_input))"
   ]
  },
  {
   "cell_type": "code",
<<<<<<< HEAD
   "execution_count": 33,
=======
   "execution_count": 233,
>>>>>>> 4669d88f9706549ed2d2df0aade81afc6c41f85d
   "metadata": {
    "vscode": {
     "languageId": "r"
    }
   },
   "outputs": [
    {
     "data": {
      "text/plain": [
       "       X           Amparo           SumaDePagos          Modelo         \n",
       " Min.   :   1   Length:9190        Min.   :       0   Length:9190       \n",
       " 1st Qu.:1244   Class :character   1st Qu.:       0   Class :character  \n",
       " Median :2491   Mode  :character   Median :       0   Mode  :character  \n",
       " Mean   :2494                      Mean   :  272939                     \n",
       " 3rd Qu.:3732                      3rd Qu.:       0                     \n",
       " Max.   :5000                      Max.   :35206209                     \n",
       "    Color            Carroceria           MARCA           Referencia1       \n",
       " Length:9190        Length:9190        Length:9190        Length:9190       \n",
       " Class :character   Class :character   Class :character   Class :character  \n",
       " Mode  :character   Mode  :character   Mode  :character   Mode  :character  \n",
       "                                                                            \n",
       "                                                                            \n",
       "                                                                            \n",
       " Referencia2        CLASE_FASECOLDA    TIPO_VEHICULO        SERVICIO        \n",
       " Length:9190        Length:9190        Length:9190        Length:9190       \n",
       " Class :character   Class :character   Class :character   Class :character  \n",
       " Mode  :character   Mode  :character   Mode  :character   Mode  :character  \n",
       "                                                                            \n",
       "                                                                            \n",
       "                                                                            \n",
       "  Sexo_Aseg             Edad               Desde           \n",
       " Length:9190        Length:9190        Min.   :2011-01-01  \n",
       " Class :character   Class :character   1st Qu.:2011-12-30  \n",
       " Mode  :character   Mode  :character   Median :2012-01-06  \n",
       "                                       Mean   :2012-04-08  \n",
       "                                       3rd Qu.:2013-01-01  \n",
       "                                       Max.   :2015-01-01  \n",
<<<<<<< HEAD
       "     Hasta                Pago               Gama            Accidentado    \n",
       " Min.   :2011-04-01   Length:9190        Length:9190        Min.   :0.0000  \n",
       " 1st Qu.:2011-12-31   Class :character   Class :character   1st Qu.:0.0000  \n",
       " Median :2012-12-31   Mode  :character   Mode  :character   Median :0.0000  \n",
       " Mean   :2012-10-05                                         Mean   :0.1016  \n",
       " 3rd Qu.:2013-01-10                                         3rd Qu.:0.0000  \n",
       " Max.   :2015-02-21                                         Max.   :1.0000  \n",
=======
       "     Hasta             Vr_Comercial           Pago            Accidentado    \n",
       " Min.   :2011-04-01   Min.   :  4379006   Length:9190        Min.   :0.0000  \n",
       " 1st Qu.:2011-12-31   1st Qu.: 17853645   Class :character   1st Qu.:0.0000  \n",
       " Median :2012-12-31   Median : 24886532   Mode  :character   Median :0.0000  \n",
       " Mean   :2012-10-05   Mean   : 30697491                      Mean   :0.1016  \n",
       " 3rd Qu.:2013-01-10   3rd Qu.: 39933195                      3rd Qu.:0.0000  \n",
       " Max.   :2015-02-21   Max.   :128492010                      Max.   :1.0000  \n",
>>>>>>> 4669d88f9706549ed2d2df0aade81afc6c41f85d
       "   exposicion   \n",
       " Min.   :  1.0  \n",
       " 1st Qu.: 92.0  \n",
       " Median :180.0  \n",
       " Mean   :180.6  \n",
       " 3rd Qu.:269.0  \n",
       " Max.   :366.0  "
      ]
     },
     "metadata": {},
     "output_type": "display_data"
    }
   ],
   "source": [
    "summary(df_input)"
   ]
  },
  {
   "cell_type": "markdown",
   "metadata": {},
   "source": [
<<<<<<< HEAD
    "## Exportar"
=======
    "## Creación de grupos de edad"
>>>>>>> 4669d88f9706549ed2d2df0aade81afc6c41f85d
   ]
  },
  {
   "cell_type": "markdown",
   "metadata": {},
   "source": [
    "Exportando los resultados"
   ]
  },
  {
   "cell_type": "code",
<<<<<<< HEAD
   "execution_count": 34,
=======
   "execution_count": 234,
>>>>>>> 4669d88f9706549ed2d2df0aade81afc6c41f85d
   "metadata": {
    "vscode": {
     "languageId": "r"
    }
   },
   "outputs": [],
   "source": [
    "write.csv(df_input, \"../data/processed/datos_limpios.csv\", row.names = FALSE)"
   ]
  }
 ],
 "metadata": {
  "kernelspec": {
   "display_name": "R",
   "language": "R",
   "name": "ir"
  },
  "language_info": {
   "codemirror_mode": "r",
   "file_extension": ".r",
   "mimetype": "text/x-r-source",
   "name": "R",
   "pygments_lexer": "r",
   "version": "4.2.3"
  }
 },
 "nbformat": 4,
 "nbformat_minor": 2
}
