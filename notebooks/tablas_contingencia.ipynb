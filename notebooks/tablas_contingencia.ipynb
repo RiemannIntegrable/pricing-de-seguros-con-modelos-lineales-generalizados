{
 "cells": [
  {
   "cell_type": "markdown",
   "id": "aceb72ec",
   "metadata": {},
   "source": [
    "<div align = \"center\">\n",
    "\n",
    "# **Tablas de contingencia**\n",
    "\n",
    "</div>"
   ]
  },
  {
   "cell_type": "markdown",
   "id": "457c23e7",
   "metadata": {},
   "source": [
    "## Modelos"
   ]
  },
  {
   "cell_type": "code",
   "execution_count": null,
   "id": "cb9a0ca7",
   "metadata": {
    "vscode": {
     "languageId": "plaintext"
    }
   },
   "outputs": [],
   "source": [
    "severidad <- \n",
    "frecuencia <- "
   ]
  },
  {
   "cell_type": "markdown",
   "id": "64da91a9",
   "metadata": {},
   "source": []
  }
 ],
 "metadata": {
  "language_info": {
   "name": "python"
  }
 },
 "nbformat": 4,
 "nbformat_minor": 5
}
